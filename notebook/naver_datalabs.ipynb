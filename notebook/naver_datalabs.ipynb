{
 "cells": [
  {
   "cell_type": "code",
   "execution_count": 27,
   "metadata": {},
   "outputs": [],
   "source": [
    "from dotenv import load_dotenv\n",
    "import os\n",
    "import requests\n",
    "\n",
    "# import urllib.request\n",
    "import json\n",
    "\n",
    "load_dotenv()\n",
    "\n",
    "client_id = os.getenv(\"LABS_CLIENT_ID\")\n",
    "client_secret = os.getenv(\"LABS_CLIENT_SECRET\")"
   ]
  },
  {
   "cell_type": "code",
   "execution_count": 2,
   "metadata": {},
   "outputs": [],
   "source": [
    "request_url = \"https://openapi.naver.com/v1/datalab/search\""
   ]
  },
  {
   "cell_type": "code",
   "execution_count": 51,
   "metadata": {},
   "outputs": [],
   "source": [
    "request_body = {\n",
    "    \"startDate\": \"2024-01-01\",  # 조회 시간 시작 날짜\n",
    "    \"endDate\": \"2024-05-31\",  # 조회 시간 종료 날짜\n",
    "    \"timeUnit\": \"month\",  # date: 일간, week: 주간, month: 월간\n",
    "    \"keywordGroups\": [  # 주제어와 주제어에 해당하는 검색어 묶음 쌍의 배열, 최대 5개의 쌍을 배열로 설정할 수 있다.\n",
    "        {\n",
    "            \"groupName\": \"\",  # 주제어 검색어 묶음을 대표하는 이름\n",
    "            \"keywords\": [\n",
    "                \"커피\",\n",
    "                \"디저트\",\n",
    "                \"베이커리\",\n",
    "                \"카페\",\n",
    "            ],  # 주제어에 해당하는 검색어. 최대 20개의 검색어를 배열로\n",
    "        },\n",
    "        {\n",
    "            \"groupName\": \"부산\",\n",
    "            \"keywords\": [\n",
    "                \"돼지국밥\",\n",
    "                \"소고기국밥\",\n",
    "                \"해장국\",\n",
    "            ],\n",
    "        },\n",
    "        {\n",
    "            \"groupName\": \"부산\",\n",
    "            \"keywords\": [\n",
    "                \"밀면\",\n",
    "                \"가야밀면\",\n",
    "            ],\n",
    "        },\n",
    "    ],\n",
    "    # \"gender\": \"f\", # 성별 조회 옵션, m: 남성, f: 여성, None: 전체\n",
    "    \"ages\": [\n",
    "        \"1\",\n",
    "        \"2\",\n",
    "        \"3\",\n",
    "    ],  # None : 전체, 1: 0 ~ 12, 2: 13 ~ 18, 3: 19 ~ 24, 4: 25 ~ 29, 5: 30 ~ 34, 6: 35 ~ 39, 7: 40 ~ 44, 8: 45 ~ 49, 9: 50 ~ 54, 10: 55 ~ 59, 11: 60 ~\n",
    "}"
   ]
  },
  {
   "cell_type": "code",
   "execution_count": 52,
   "metadata": {},
   "outputs": [],
   "source": [
    "request_headers = {\n",
    "    \"X-Naver-Client-Id\": client_id,\n",
    "    \"X-Naver-Client-Secret\": client_secret,\n",
    "    \"Content-Type\": \"application/json\",\n",
    "}\n",
    "\n",
    "response = requests.post(request_url, headers=request_headers, json=request_body)"
   ]
  },
  {
   "cell_type": "code",
   "execution_count": 53,
   "metadata": {},
   "outputs": [
    {
     "name": "stdout",
     "output_type": "stream",
     "text": [
      "{'endDate': '2024-05-31',\n",
      " 'results': [{'data': [{'period': '2024-01-01', 'ratio': 43.75821},\n",
      "                       {'period': '2024-02-01', 'ratio': 50.21916},\n",
      "                       {'period': '2024-03-01', 'ratio': 44.46392},\n",
      "                       {'period': '2024-04-01', 'ratio': 67.26571},\n",
      "                       {'period': '2024-05-01', 'ratio': 100}],\n",
      "              'keywords': ['커피', '디저트', '베이커리', '카페'],\n",
      "              'title': '부산'},\n",
      "             {'data': [{'period': '2024-01-01', 'ratio': 43.75821},\n",
      "                       {'period': '2024-02-01', 'ratio': 50.21916},\n",
      "                       {'period': '2024-03-01', 'ratio': 44.46392},\n",
      "                       {'period': '2024-04-01', 'ratio': 67.26571},\n",
      "                       {'period': '2024-05-01', 'ratio': 100}],\n",
      "              'keywords': ['돼지국밥', '소고기국밥', '해장국'],\n",
      "              'title': '부산'},\n",
      "             {'data': [{'period': '2024-01-01', 'ratio': 43.75821},\n",
      "                       {'period': '2024-02-01', 'ratio': 50.21916},\n",
      "                       {'period': '2024-03-01', 'ratio': 44.46392},\n",
      "                       {'period': '2024-04-01', 'ratio': 67.26571},\n",
      "                       {'period': '2024-05-01', 'ratio': 100}],\n",
      "              'keywords': ['밀면', '가야밀면'],\n",
      "              'title': '부산'}],\n",
      " 'startDate': '2024-01-01',\n",
      " 'timeUnit': 'month'}\n"
     ]
    }
   ],
   "source": [
    "pprint(response.json())"
   ]
  },
  {
   "cell_type": "code",
   "execution_count": 22,
   "metadata": {},
   "outputs": [],
   "source": [
    "request = urllib.request.Request(request_url)\n",
    "request.add_header(\"X-Naver-Client-Id\", client_id)\n",
    "request.add_header(\"X-Naver-Client-Secret\", client_secret)\n",
    "request.add_header(\"Content-Type\", \"application/json\")\n",
    "\n",
    "response = urllib.request.urlopen(\n",
    "    request, data=json.dumps(request_body).encode(\"utf-8\")\n",
    ")"
   ]
  },
  {
   "cell_type": "code",
   "execution_count": 23,
   "metadata": {},
   "outputs": [
    {
     "name": "stdout",
     "output_type": "stream",
     "text": [
      "{\"startDate\":\"2024-01-01\",\"endDate\":\"2024-05-31\",\"timeUnit\":\"month\",\"results\":[{\"title\":\"부산광역시\",\"keywords\":[\"카페\",\"한라산\",\"해운대\",\"광안리\"],\"data\":[{\"period\":\"2024-01-01\",\"ratio\":99.28008},{\"period\":\"2024-02-01\",\"ratio\":100},{\"period\":\"2024-03-01\",\"ratio\":91.29846},{\"period\":\"2024-04-01\",\"ratio\":89.36118},{\"period\":\"2024-05-01\",\"ratio\":94.03479}]}]}\n"
     ]
    }
   ],
   "source": [
    "rescode = response.getcode()\n",
    "\n",
    "if rescode == 200:\n",
    "    response_body = response.read()\n",
    "    print(response_body.decode(\"utf-8\"))\n",
    "else:\n",
    "    print(\"Error Code:\" + rescode)"
   ]
  },
  {
   "cell_type": "code",
   "execution_count": 25,
   "metadata": {},
   "outputs": [
    {
     "name": "stdout",
     "output_type": "stream",
     "text": [
      "{'endDate': '2024-05-31',\n",
      " 'results': [{'data': [{'period': '2024-01-01', 'ratio': 99.28008},\n",
      "                       {'period': '2024-02-01', 'ratio': 100},\n",
      "                       {'period': '2024-03-01', 'ratio': 91.29846},\n",
      "                       {'period': '2024-04-01', 'ratio': 89.36118},\n",
      "                       {'period': '2024-05-01', 'ratio': 94.03479}],\n",
      "              'keywords': ['카페', '한라산', '해운대', '광안리'],\n",
      "              'title': '부산광역시'}],\n",
      " 'startDate': '2024-01-01',\n",
      " 'timeUnit': 'month'}\n"
     ]
    }
   ],
   "source": [
    "pprint(json.loads(response_body.decode(\"utf-8\")))"
   ]
  },
  {
   "cell_type": "code",
   "execution_count": 10,
   "metadata": {},
   "outputs": [],
   "source": [
    "from pprint import pprint"
   ]
  },
  {
   "cell_type": "code",
   "execution_count": 17,
   "metadata": {},
   "outputs": [
    {
     "name": "stdout",
     "output_type": "stream",
     "text": [
      "{'endDate': '2024-05-31',\n",
      " 'results': [{'data': [{'period': '2024-01-01', 'ratio': 99.28008},\n",
      "                       {'period': '2024-02-01', 'ratio': 100},\n",
      "                       {'period': '2024-03-01', 'ratio': 91.29846},\n",
      "                       {'period': '2024-04-01', 'ratio': 89.36118},\n",
      "                       {'period': '2024-05-01', 'ratio': 94.03479}],\n",
      "              'keywords': ['카페', '한라산', '해운대', '광안리'],\n",
      "              'title': '부산광역시'}],\n",
      " 'startDate': '2024-01-01',\n",
      " 'timeUnit': 'month'}\n"
     ]
    }
   ],
   "source": [
    "pprint(response.json())"
   ]
  },
  {
   "cell_type": "code",
   "execution_count": 14,
   "metadata": {},
   "outputs": [
    {
     "name": "stdout",
     "output_type": "stream",
     "text": [
      "{'endDate': '2024-05-31',\n",
      " 'results': [{'data': [{'period': '2024-01-01', 'ratio': 97.5775},\n",
      "                       {'period': '2024-02-01', 'ratio': 100},\n",
      "                       {'period': '2024-03-01', 'ratio': 93.50061},\n",
      "                       {'period': '2024-04-01', 'ratio': 92.16109},\n",
      "                       {'period': '2024-05-01', 'ratio': 93.84777}],\n",
      "              'keywords': ['카페', '커피', '빵', '부산'],\n",
      "              'title': '카페'}],\n",
      " 'startDate': '2024-01-01',\n",
      " 'timeUnit': 'month'}\n"
     ]
    }
   ],
   "source": [
    "pprint(response.json())"
   ]
  },
  {
   "cell_type": "code",
   "execution_count": 11,
   "metadata": {},
   "outputs": [
    {
     "name": "stdout",
     "output_type": "stream",
     "text": [
      "{'endDate': '2024-05-31',\n",
      " 'results': [{'data': [{'period': '2024-01-01', 'ratio': 91.94332},\n",
      "                       {'period': '2024-02-01', 'ratio': 92.73484},\n",
      "                       {'period': '2024-03-01', 'ratio': 94.5119},\n",
      "                       {'period': '2024-04-01', 'ratio': 95.28181},\n",
      "                       {'period': '2024-05-01', 'ratio': 100}],\n",
      "              'keywords': ['카페', '커피', '빵', '부산'],\n",
      "              'title': '카페'}],\n",
      " 'startDate': '2024-01-01',\n",
      " 'timeUnit': 'month'}\n"
     ]
    }
   ],
   "source": [
    "pprint(response.json())"
   ]
  },
  {
   "cell_type": "code",
   "execution_count": null,
   "metadata": {},
   "outputs": [],
   "source": []
  }
 ],
 "metadata": {
  "kernelspec": {
   "display_name": ".myenv",
   "language": "python",
   "name": "python3"
  },
  "language_info": {
   "codemirror_mode": {
    "name": "ipython",
    "version": 3
   },
   "file_extension": ".py",
   "mimetype": "text/x-python",
   "name": "python",
   "nbconvert_exporter": "python",
   "pygments_lexer": "ipython3",
   "version": "3.10.13"
  }
 },
 "nbformat": 4,
 "nbformat_minor": 2
}
