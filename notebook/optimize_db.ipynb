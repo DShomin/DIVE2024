{
 "cells": [
  {
   "cell_type": "code",
   "execution_count": 4,
   "metadata": {},
   "outputs": [],
   "source": [
    "import pandas as pd\n",
    "import numpy as np\n",
    "\n",
    "\n",
    "import os\n",
    "\n",
    "from sqlalchemy import create_engine, Integer, Float, String, Date\n",
    "from sqlalchemy.types import TypeEngine"
   ]
  },
  {
   "cell_type": "code",
   "execution_count": 6,
   "metadata": {},
   "outputs": [
    {
     "name": "stdout",
     "output_type": "stream",
     "text": [
      "<class 'pandas.core.frame.DataFrame'>\n",
      "RangeIndex: 17237620 entries, 0 to 17237619\n",
      "Data columns (total 10 columns):\n",
      " #   Column         Dtype  \n",
      "---  ------         -----  \n",
      " 0   CRI_YM         int64  \n",
      " 1   MRC_ADR        object \n",
      " 2   GENDER         int64  \n",
      " 3   AGE_GR         object \n",
      " 4   JOB_GR         object \n",
      " 5   CATEGORY_L_NM  object \n",
      " 6   CATEGORY_M_NM  object \n",
      " 7   MAIN_CSM_AREA  object \n",
      " 8   SUM_CNT        float64\n",
      " 9   SUM_AMT        float64\n",
      "dtypes: float64(2), int64(2), object(6)\n",
      "memory usage: 1.3+ GB\n"
     ]
    }
   ],
   "source": [
    "sscard_df = pd.read_csv(\"../data/DB/samsung/DIVE_FINAL_F.csv\")\n",
    "\n",
    "sscard_df.info()"
   ]
  },
  {
   "cell_type": "code",
   "execution_count": 7,
   "metadata": {},
   "outputs": [
    {
     "data": {
      "text/html": [
       "<div>\n",
       "<style scoped>\n",
       "    .dataframe tbody tr th:only-of-type {\n",
       "        vertical-align: middle;\n",
       "    }\n",
       "\n",
       "    .dataframe tbody tr th {\n",
       "        vertical-align: top;\n",
       "    }\n",
       "\n",
       "    .dataframe thead th {\n",
       "        text-align: right;\n",
       "    }\n",
       "</style>\n",
       "<table border=\"1\" class=\"dataframe\">\n",
       "  <thead>\n",
       "    <tr style=\"text-align: right;\">\n",
       "      <th></th>\n",
       "      <th>CRI_YM</th>\n",
       "      <th>MRC_ADR</th>\n",
       "      <th>GENDER</th>\n",
       "      <th>AGE_GR</th>\n",
       "      <th>JOB_GR</th>\n",
       "      <th>CATEGORY_L_NM</th>\n",
       "      <th>CATEGORY_M_NM</th>\n",
       "      <th>MAIN_CSM_AREA</th>\n",
       "      <th>SUM_CNT</th>\n",
       "      <th>SUM_AMT</th>\n",
       "    </tr>\n",
       "  </thead>\n",
       "  <tbody>\n",
       "    <tr>\n",
       "      <th>0</th>\n",
       "      <td>202201</td>\n",
       "      <td>경상남도창원시</td>\n",
       "      <td>1</td>\n",
       "      <td>C</td>\n",
       "      <td>02.회사원</td>\n",
       "      <td>생활</td>\n",
       "      <td>가례</td>\n",
       "      <td>경상북도남부</td>\n",
       "      <td>3.0</td>\n",
       "      <td>6106000.0</td>\n",
       "    </tr>\n",
       "    <tr>\n",
       "      <th>1</th>\n",
       "      <td>202201</td>\n",
       "      <td>충청남도남부</td>\n",
       "      <td>2</td>\n",
       "      <td>E</td>\n",
       "      <td>05.기타</td>\n",
       "      <td>생활</td>\n",
       "      <td>가례</td>\n",
       "      <td>충청남도남부</td>\n",
       "      <td>3.0</td>\n",
       "      <td>115000.0</td>\n",
       "    </tr>\n",
       "    <tr>\n",
       "      <th>2</th>\n",
       "      <td>202201</td>\n",
       "      <td>울산광역시남구</td>\n",
       "      <td>2</td>\n",
       "      <td>E</td>\n",
       "      <td>04.자영업자</td>\n",
       "      <td>생활</td>\n",
       "      <td>가례</td>\n",
       "      <td>울산광역시남구</td>\n",
       "      <td>3.0</td>\n",
       "      <td>99000.0</td>\n",
       "    </tr>\n",
       "    <tr>\n",
       "      <th>3</th>\n",
       "      <td>202201</td>\n",
       "      <td>대구광역시기타</td>\n",
       "      <td>2</td>\n",
       "      <td>C</td>\n",
       "      <td>05.기타</td>\n",
       "      <td>생활</td>\n",
       "      <td>가례</td>\n",
       "      <td>인천광역시기타</td>\n",
       "      <td>3.0</td>\n",
       "      <td>43000.0</td>\n",
       "    </tr>\n",
       "    <tr>\n",
       "      <th>4</th>\n",
       "      <td>202201</td>\n",
       "      <td>울산광역시남구</td>\n",
       "      <td>2</td>\n",
       "      <td>B</td>\n",
       "      <td>04.자영업자</td>\n",
       "      <td>생활</td>\n",
       "      <td>가례</td>\n",
       "      <td>인천광역시기타</td>\n",
       "      <td>3.0</td>\n",
       "      <td>1365000.0</td>\n",
       "    </tr>\n",
       "  </tbody>\n",
       "</table>\n",
       "</div>"
      ],
      "text/plain": [
       "   CRI_YM  MRC_ADR  GENDER AGE_GR   JOB_GR CATEGORY_L_NM CATEGORY_M_NM  \\\n",
       "0  202201  경상남도창원시       1      C   02.회사원            생활            가례   \n",
       "1  202201   충청남도남부       2      E    05.기타            생활            가례   \n",
       "2  202201  울산광역시남구       2      E  04.자영업자            생활            가례   \n",
       "3  202201  대구광역시기타       2      C    05.기타            생활            가례   \n",
       "4  202201  울산광역시남구       2      B  04.자영업자            생활            가례   \n",
       "\n",
       "  MAIN_CSM_AREA  SUM_CNT    SUM_AMT  \n",
       "0        경상북도남부      3.0  6106000.0  \n",
       "1        충청남도남부      3.0   115000.0  \n",
       "2       울산광역시남구      3.0    99000.0  \n",
       "3       인천광역시기타      3.0    43000.0  \n",
       "4       인천광역시기타      3.0  1365000.0  "
      ]
     },
     "execution_count": 7,
     "metadata": {},
     "output_type": "execute_result"
    }
   ],
   "source": [
    "sscard_df.head()"
   ]
  },
  {
   "cell_type": "code",
   "execution_count": 8,
   "metadata": {},
   "outputs": [],
   "source": [
    "def type_update_df(table_name: str, df: pd.DataFrame) -> pd.DataFrame:\n",
    "    \"\"\"Date column type change\"\"\"\n",
    "    if table_name == \"lotte_mart\" or table_name == \"lotte_cs\":\n",
    "        df[\"stdt\"] = pd.to_datetime(df[\"stdt\"], format=\"%Y%m\")\n",
    "        df[\"bcode1\"] = df[\"bcode1\"].astype(\"category\")\n",
    "    elif table_name == \"samsung\":\n",
    "        df[\"CRI_YM\"] = pd.to_datetime(df[\"CRI_YM\"], format=\"%Y%m\")\n",
    "        df[\"GENDER\"] = df[\"GENDER\"].astype(\"category\")\n",
    "\n",
    "    return df\n",
    "\n",
    "\n",
    "def optimize_df(table_name: str, df: pd.DataFrame) -> pd.DataFrame:\n",
    "    \"\"\"Optimize the dataframe for the database\"\"\"\n",
    "    df = df.dropna()\n",
    "\n",
    "    df = type_update_df(table_name, df)\n",
    "\n",
    "    # 문자열 컬럼 최적화\n",
    "    for col in df.select_dtypes(include=[\"object\"]).columns:\n",
    "        df[col] = df[col].astype(\"category\")\n",
    "\n",
    "    # 숫자형 컬럼 최적화\n",
    "    for col in df.select_dtypes(include=[\"int64\", \"float64\"]).columns:\n",
    "        df[col] = pd.to_numeric(df[col], downcast=\"integer\")\n",
    "\n",
    "    return df"
   ]
  },
  {
   "cell_type": "code",
   "execution_count": 9,
   "metadata": {},
   "outputs": [
    {
     "name": "stderr",
     "output_type": "stream",
     "text": [
      "/Users/ihomin/Documents/DIVE2024/.myenv/lib/python3.10/site-packages/pandas/core/dtypes/cast.py:377: RuntimeWarning: invalid value encountered in cast\n",
      "  new_result = trans(result).astype(dtype)\n"
     ]
    }
   ],
   "source": [
    "sscard_df = optimize_df(\"samsung\", sscard_df)"
   ]
  },
  {
   "cell_type": "code",
   "execution_count": 10,
   "metadata": {},
   "outputs": [
    {
     "name": "stdout",
     "output_type": "stream",
     "text": [
      "<class 'pandas.core.frame.DataFrame'>\n",
      "RangeIndex: 17237620 entries, 0 to 17237619\n",
      "Data columns (total 10 columns):\n",
      " #   Column         Dtype         \n",
      "---  ------         -----         \n",
      " 0   CRI_YM         datetime64[ns]\n",
      " 1   MRC_ADR        category      \n",
      " 2   GENDER         category      \n",
      " 3   AGE_GR         category      \n",
      " 4   JOB_GR         category      \n",
      " 5   CATEGORY_L_NM  category      \n",
      " 6   CATEGORY_M_NM  category      \n",
      " 7   MAIN_CSM_AREA  category      \n",
      " 8   SUM_CNT        int32         \n",
      " 9   SUM_AMT        int64         \n",
      "dtypes: category(7), datetime64[ns](1), int32(1), int64(1)\n",
      "memory usage: 443.9 MB\n"
     ]
    }
   ],
   "source": [
    "sscard_df.info()"
   ]
  },
  {
   "cell_type": "code",
   "execution_count": 16,
   "metadata": {},
   "outputs": [
    {
     "name": "stdout",
     "output_type": "stream",
     "text": [
      "<class 'pandas.core.frame.DataFrame'>\n",
      "RangeIndex: 4998619 entries, 0 to 4998618\n",
      "Data columns (total 11 columns):\n",
      " #   Column     Dtype \n",
      "---  ------     ----- \n",
      " 0   stdt       int64 \n",
      " 1   channel    object\n",
      " 2   ch_region  object\n",
      " 3   bcode1     int64 \n",
      " 4   bname1     object\n",
      " 5   count      int64 \n",
      " 6   money      int64 \n",
      " 7   ppl        int64 \n",
      " 8   gender     object\n",
      " 9   age        int64 \n",
      " 10  region     object\n",
      "dtypes: int64(6), object(5)\n",
      "memory usage: 419.5+ MB\n"
     ]
    }
   ],
   "source": [
    "lotte_cs_df = pd.read_csv(\"../data/DB/lotte/002_ltmb_k7_data.csv\")\n",
    "lotte_cs_df.info()"
   ]
  },
  {
   "cell_type": "code",
   "execution_count": 17,
   "metadata": {},
   "outputs": [
    {
     "name": "stdout",
     "output_type": "stream",
     "text": [
      "<class 'pandas.core.frame.DataFrame'>\n",
      "RangeIndex: 4998619 entries, 0 to 4998618\n",
      "Data columns (total 11 columns):\n",
      " #   Column     Dtype         \n",
      "---  ------     -----         \n",
      " 0   stdt       datetime64[ns]\n",
      " 1   channel    category      \n",
      " 2   ch_region  category      \n",
      " 3   bcode1     category      \n",
      " 4   bname1     category      \n",
      " 5   count      int32         \n",
      " 6   money      int32         \n",
      " 7   ppl        int16         \n",
      " 8   gender     category      \n",
      " 9   age        int8          \n",
      " 10  region     category      \n",
      "dtypes: category(6), datetime64[ns](1), int16(1), int32(2), int8(1)\n",
      "memory usage: 119.2 MB\n"
     ]
    }
   ],
   "source": [
    "lotte_cs_df = optimize_df(\"lotte_cs\", lotte_cs_df)\n",
    "lotte_cs_df.info()"
   ]
  },
  {
   "cell_type": "code",
   "execution_count": 22,
   "metadata": {},
   "outputs": [
    {
     "name": "stdout",
     "output_type": "stream",
     "text": [
      "<class 'pandas.core.frame.DataFrame'>\n",
      "RangeIndex: 10171784 entries, 0 to 10171783\n",
      "Data columns (total 11 columns):\n",
      " #   Column     Dtype \n",
      "---  ------     ----- \n",
      " 0   stdt       int64 \n",
      " 1   channel    object\n",
      " 2   ch_region  object\n",
      " 3   bcode1     int64 \n",
      " 4   bname1     object\n",
      " 5   count      int64 \n",
      " 6   money      int64 \n",
      " 7   ppl        int64 \n",
      " 8   gender     object\n",
      " 9   age        int64 \n",
      " 10  region     object\n",
      "dtypes: int64(6), object(5)\n",
      "memory usage: 853.7+ MB\n"
     ]
    }
   ],
   "source": [
    "lotte_mart_cf = pd.read_csv(\"../data/DB/lotte/003_ltmb_mart_data.csv\")\n",
    "lotte_mart_cf.info()"
   ]
  },
  {
   "cell_type": "code",
   "execution_count": 23,
   "metadata": {},
   "outputs": [
    {
     "name": "stdout",
     "output_type": "stream",
     "text": [
      "<class 'pandas.core.frame.DataFrame'>\n",
      "RangeIndex: 10171784 entries, 0 to 10171783\n",
      "Data columns (total 11 columns):\n",
      " #   Column     Dtype         \n",
      "---  ------     -----         \n",
      " 0   stdt       datetime64[ns]\n",
      " 1   channel    category      \n",
      " 2   ch_region  category      \n",
      " 3   bcode1     category      \n",
      " 4   bname1     category      \n",
      " 5   count      int32         \n",
      " 6   money      int32         \n",
      " 7   ppl        int16         \n",
      " 8   gender     category      \n",
      " 9   age        int8          \n",
      " 10  region     category      \n",
      "dtypes: category(6), datetime64[ns](1), int16(1), int32(2), int8(1)\n",
      "memory usage: 242.5 MB\n"
     ]
    }
   ],
   "source": [
    "lotte_mart_cf = optimize_df(\"lotte_mart\", lotte_mart_cf)\n",
    "lotte_mart_cf.info()"
   ]
  },
  {
   "cell_type": "code",
   "execution_count": null,
   "metadata": {},
   "outputs": [],
   "source": []
  }
 ],
 "metadata": {
  "kernelspec": {
   "display_name": ".myenv",
   "language": "python",
   "name": "python3"
  },
  "language_info": {
   "codemirror_mode": {
    "name": "ipython",
    "version": 3
   },
   "file_extension": ".py",
   "mimetype": "text/x-python",
   "name": "python",
   "nbconvert_exporter": "python",
   "pygments_lexer": "ipython3",
   "version": "3.10.13"
  }
 },
 "nbformat": 4,
 "nbformat_minor": 2
}
