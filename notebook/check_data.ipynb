{
 "cells": [
  {
   "cell_type": "code",
   "execution_count": 2,
   "metadata": {},
   "outputs": [],
   "source": [
    "import pandas as pd\n",
    "import numpy as np\n",
    "\n",
    "import matplotlib.pyplot as plt\n",
    "import seaborn as sns\n",
    "\n",
    "import os\n",
    "\n",
    "from sqlalchemy import create_engine, Integer, Float, String, Date\n",
    "from sqlalchemy.types import TypeEngine"
   ]
  },
  {
   "cell_type": "code",
   "execution_count": 3,
   "metadata": {},
   "outputs": [],
   "source": [
    "sscard_df = pd.read_csv(\"../data/DB/lotte/002_ltmb_k7_data.csv\")"
   ]
  },
  {
   "cell_type": "code",
   "execution_count": 4,
   "metadata": {},
   "outputs": [
    {
     "data": {
      "text/plain": [
       "(4998619, 11)"
      ]
     },
     "execution_count": 4,
     "metadata": {},
     "output_type": "execute_result"
    }
   ],
   "source": [
    "sscard_df.shape"
   ]
  },
  {
   "cell_type": "code",
   "execution_count": 7,
   "metadata": {},
   "outputs": [
    {
     "data": {
      "text/plain": [
       "3.448330028753942"
      ]
     },
     "execution_count": 7,
     "metadata": {},
     "output_type": "execute_result"
    }
   ],
   "source": [
    "17236888 / 4998619"
   ]
  },
  {
   "cell_type": "code",
   "execution_count": 5,
   "metadata": {},
   "outputs": [
    {
     "data": {
      "text/plain": [
       "54984809"
      ]
     },
     "execution_count": 5,
     "metadata": {},
     "output_type": "execute_result"
    }
   ],
   "source": [
    "4998619 * 11"
   ]
  },
  {
   "cell_type": "code",
   "execution_count": 8,
   "metadata": {},
   "outputs": [],
   "source": [
    "sscard_df[\"stdt\"] = pd.to_datetime(sscard_df[\"stdt\"], format=\"%Y%m\")"
   ]
  },
  {
   "cell_type": "code",
   "execution_count": 13,
   "metadata": {},
   "outputs": [],
   "source": [
    "def get_column_type(col_name: str, dtype: str) -> TypeEngine:\n",
    "    \"\"\"컬럼 이름과 데이터 타입에 따라 적절한 SQLAlchemy 타입 반환\"\"\"\n",
    "    if \"int\" in str(dtype):\n",
    "        if col_name in [\"stdt\", \"CRI_YM\"]:  # 날짜 컬럼\n",
    "            return Date\n",
    "        elif df[col_name].max() < 2147483647 and df[col_name].min() > -2147483648:\n",
    "            return Integer\n",
    "        else:\n",
    "            return Float  # bigint 대신 Float 사용\n",
    "    elif \"float\" in str(dtype):\n",
    "        return Float\n",
    "    else:\n",
    "        return String(length=255)  # 문자열 길이 제한"
   ]
  },
  {
   "cell_type": "code",
   "execution_count": 10,
   "metadata": {},
   "outputs": [
    {
     "name": "stdout",
     "output_type": "stream",
     "text": [
      "<class 'pandas.core.frame.DataFrame'>\n",
      "RangeIndex: 4998619 entries, 0 to 4998618\n",
      "Data columns (total 11 columns):\n",
      " #   Column     Dtype         \n",
      "---  ------     -----         \n",
      " 0   stdt       datetime64[ns]\n",
      " 1   channel    object        \n",
      " 2   ch_region  object        \n",
      " 3   bcode1     int64         \n",
      " 4   bname1     object        \n",
      " 5   count      int64         \n",
      " 6   money      int64         \n",
      " 7   ppl        int64         \n",
      " 8   gender     object        \n",
      " 9   age        int64         \n",
      " 10  region     object        \n",
      "dtypes: datetime64[ns](1), int64(5), object(5)\n",
      "memory usage: 419.5+ MB\n"
     ]
    }
   ],
   "source": [
    "sscard_df.info()"
   ]
  },
  {
   "cell_type": "code",
   "execution_count": 14,
   "metadata": {},
   "outputs": [],
   "source": [
    "for col in sscard_df.select_dtypes(include=[\"int64\", \"float64\"]).columns:\n",
    "    sscard_df[col] = pd.to_numeric(sscard_df[col], downcast=\"integer\")"
   ]
  },
  {
   "cell_type": "code",
   "execution_count": 15,
   "metadata": {},
   "outputs": [
    {
     "name": "stdout",
     "output_type": "stream",
     "text": [
      "<class 'pandas.core.frame.DataFrame'>\n",
      "RangeIndex: 4998619 entries, 0 to 4998618\n",
      "Data columns (total 11 columns):\n",
      " #   Column     Dtype         \n",
      "---  ------     -----         \n",
      " 0   stdt       datetime64[ns]\n",
      " 1   channel    object        \n",
      " 2   ch_region  object        \n",
      " 3   bcode1     int8          \n",
      " 4   bname1     object        \n",
      " 5   count      int32         \n",
      " 6   money      int32         \n",
      " 7   ppl        int16         \n",
      " 8   gender     object        \n",
      " 9   age        int8          \n",
      " 10  region     object        \n",
      "dtypes: datetime64[ns](1), int16(1), int32(2), int8(2), object(5)\n",
      "memory usage: 286.0+ MB\n"
     ]
    }
   ],
   "source": [
    "sscard_df.info()"
   ]
  },
  {
   "cell_type": "code",
   "execution_count": 16,
   "metadata": {},
   "outputs": [
    {
     "data": {
      "text/plain": [
       "0           1\n",
       "1           1\n",
       "2           3\n",
       "3           3\n",
       "4           3\n",
       "           ..\n",
       "4998614    37\n",
       "4998615    50\n",
       "4998616    51\n",
       "4998617    52\n",
       "4998618    59\n",
       "Name: bcode1, Length: 4998619, dtype: int8"
      ]
     },
     "execution_count": 16,
     "metadata": {},
     "output_type": "execute_result"
    }
   ],
   "source": [
    "sscard_df[\"bcode1\"]"
   ]
  },
  {
   "cell_type": "code",
   "execution_count": 4,
   "metadata": {},
   "outputs": [
    {
     "data": {
      "text/html": [
       "<div>\n",
       "<style scoped>\n",
       "    .dataframe tbody tr th:only-of-type {\n",
       "        vertical-align: middle;\n",
       "    }\n",
       "\n",
       "    .dataframe tbody tr th {\n",
       "        vertical-align: top;\n",
       "    }\n",
       "\n",
       "    .dataframe thead th {\n",
       "        text-align: right;\n",
       "    }\n",
       "</style>\n",
       "<table border=\"1\" class=\"dataframe\">\n",
       "  <thead>\n",
       "    <tr style=\"text-align: right;\">\n",
       "      <th></th>\n",
       "      <th>stdt</th>\n",
       "      <th>channel</th>\n",
       "      <th>ch_region</th>\n",
       "      <th>bcode1</th>\n",
       "      <th>bname1</th>\n",
       "      <th>count</th>\n",
       "      <th>money</th>\n",
       "      <th>ppl</th>\n",
       "      <th>gender</th>\n",
       "      <th>age</th>\n",
       "      <th>region</th>\n",
       "    </tr>\n",
       "  </thead>\n",
       "  <tbody>\n",
       "    <tr>\n",
       "      <th>0</th>\n",
       "      <td>202201</td>\n",
       "      <td>마트</td>\n",
       "      <td>강원도원주시</td>\n",
       "      <td>1</td>\n",
       "      <td>양곡</td>\n",
       "      <td>1</td>\n",
       "      <td>6990</td>\n",
       "      <td>1</td>\n",
       "      <td>m</td>\n",
       "      <td>40</td>\n",
       "      <td>충청북도충주시</td>\n",
       "    </tr>\n",
       "    <tr>\n",
       "      <th>1</th>\n",
       "      <td>202201</td>\n",
       "      <td>마트</td>\n",
       "      <td>강원도원주시</td>\n",
       "      <td>3</td>\n",
       "      <td>과일</td>\n",
       "      <td>6</td>\n",
       "      <td>66850</td>\n",
       "      <td>3</td>\n",
       "      <td>m</td>\n",
       "      <td>40</td>\n",
       "      <td>경기도안양시</td>\n",
       "    </tr>\n",
       "    <tr>\n",
       "      <th>2</th>\n",
       "      <td>202201</td>\n",
       "      <td>마트</td>\n",
       "      <td>강원도원주시</td>\n",
       "      <td>6</td>\n",
       "      <td>축산물</td>\n",
       "      <td>16</td>\n",
       "      <td>263108</td>\n",
       "      <td>7</td>\n",
       "      <td>w</td>\n",
       "      <td>30</td>\n",
       "      <td>경기도남양주시</td>\n",
       "    </tr>\n",
       "    <tr>\n",
       "      <th>3</th>\n",
       "      <td>202201</td>\n",
       "      <td>마트</td>\n",
       "      <td>강원도원주시</td>\n",
       "      <td>6</td>\n",
       "      <td>축산물</td>\n",
       "      <td>2</td>\n",
       "      <td>16390</td>\n",
       "      <td>2</td>\n",
       "      <td>w</td>\n",
       "      <td>30</td>\n",
       "      <td>울산광역시기타</td>\n",
       "    </tr>\n",
       "    <tr>\n",
       "      <th>4</th>\n",
       "      <td>202201</td>\n",
       "      <td>마트</td>\n",
       "      <td>강원도원주시</td>\n",
       "      <td>7</td>\n",
       "      <td>대용식</td>\n",
       "      <td>5</td>\n",
       "      <td>27430</td>\n",
       "      <td>3</td>\n",
       "      <td>m</td>\n",
       "      <td>20</td>\n",
       "      <td>서울특별시북서부</td>\n",
       "    </tr>\n",
       "  </tbody>\n",
       "</table>\n",
       "</div>"
      ],
      "text/plain": [
       "     stdt channel ch_region  bcode1 bname1  count   money  ppl gender  age  \\\n",
       "0  202201      마트    강원도원주시       1     양곡      1    6990    1      m   40   \n",
       "1  202201      마트    강원도원주시       3     과일      6   66850    3      m   40   \n",
       "2  202201      마트    강원도원주시       6    축산물     16  263108    7      w   30   \n",
       "3  202201      마트    강원도원주시       6    축산물      2   16390    2      w   30   \n",
       "4  202201      마트    강원도원주시       7    대용식      5   27430    3      m   20   \n",
       "\n",
       "     region  \n",
       "0   충청북도충주시  \n",
       "1    경기도안양시  \n",
       "2   경기도남양주시  \n",
       "3   울산광역시기타  \n",
       "4  서울특별시북서부  "
      ]
     },
     "execution_count": 4,
     "metadata": {},
     "output_type": "execute_result"
    }
   ],
   "source": [
    "# concat data ltmb [0, 3]\n",
    "lotte_df = pd.concat(\n",
    "    [pd.read_csv(data_dict[\"ltmb\"][0]), pd.read_csv(data_dict[\"ltmb\"][3])]\n",
    ")\n",
    "lotte_df.head()\n",
    "\"\"\"\n",
    "dataframe description\n",
    "stdt : 구매 년월 <거래 발생 년월>\n",
    "channel : 구매 채널 <마트, 편의점 2개 채널 존재>\n",
    "ch_region : 점포 위치 <소비자의 거래 발생 지역>\n",
    "bcode1 : 구매 상품 대분류코드 <>\n",
    "bname1 : 구매 상품 대분류명 <소비자의 구매 상품 대분류> (bcode1와 bname1 1:1 매칭)\n",
    "count : 구매 건수 <몇개 구매했는지 의미하는 것으로 추정>\n",
    "money : 구매 금액 <몇원 구매했는지 의미하는 것으로 추정>\n",
    "ppl : 구매자 수 <몇명 구매했는지 의미하는 것으로 추정>\n",
    "age : 구매자 연령대 <1대 이하 : 10, 20대 이하 : 20 ... 60 : 60대 이상>\n",
    "region : 거주지 지역 <구매자의 거주지 지역>\n",
    "\"\"\""
   ]
  },
  {
   "cell_type": "code",
   "execution_count": 5,
   "metadata": {},
   "outputs": [
    {
     "data": {
      "text/html": [
       "<div>\n",
       "<style scoped>\n",
       "    .dataframe tbody tr th:only-of-type {\n",
       "        vertical-align: middle;\n",
       "    }\n",
       "\n",
       "    .dataframe tbody tr th {\n",
       "        vertical-align: top;\n",
       "    }\n",
       "\n",
       "    .dataframe thead th {\n",
       "        text-align: right;\n",
       "    }\n",
       "</style>\n",
       "<table border=\"1\" class=\"dataframe\">\n",
       "  <thead>\n",
       "    <tr style=\"text-align: right;\">\n",
       "      <th></th>\n",
       "      <th>CRI_YM</th>\n",
       "      <th>MRC_ADR</th>\n",
       "      <th>GENDER</th>\n",
       "      <th>AGE_GR</th>\n",
       "      <th>JOB_GR</th>\n",
       "      <th>CATEGORY_L_NM</th>\n",
       "      <th>CATEGORY_M_NM</th>\n",
       "      <th>MAIN_CSM_AREA</th>\n",
       "      <th>SUM_CNT</th>\n",
       "      <th>SUM_AMT</th>\n",
       "    </tr>\n",
       "  </thead>\n",
       "  <tbody>\n",
       "    <tr>\n",
       "      <th>0</th>\n",
       "      <td>202201</td>\n",
       "      <td>경상남도창원시</td>\n",
       "      <td>1</td>\n",
       "      <td>C</td>\n",
       "      <td>02.회사원</td>\n",
       "      <td>생활</td>\n",
       "      <td>가례</td>\n",
       "      <td>경상북도남부</td>\n",
       "      <td>3.0</td>\n",
       "      <td>6106000.0</td>\n",
       "    </tr>\n",
       "    <tr>\n",
       "      <th>1</th>\n",
       "      <td>202201</td>\n",
       "      <td>충청남도남부</td>\n",
       "      <td>2</td>\n",
       "      <td>E</td>\n",
       "      <td>05.기타</td>\n",
       "      <td>생활</td>\n",
       "      <td>가례</td>\n",
       "      <td>충청남도남부</td>\n",
       "      <td>3.0</td>\n",
       "      <td>115000.0</td>\n",
       "    </tr>\n",
       "    <tr>\n",
       "      <th>2</th>\n",
       "      <td>202201</td>\n",
       "      <td>울산광역시남구</td>\n",
       "      <td>2</td>\n",
       "      <td>E</td>\n",
       "      <td>04.자영업자</td>\n",
       "      <td>생활</td>\n",
       "      <td>가례</td>\n",
       "      <td>울산광역시남구</td>\n",
       "      <td>3.0</td>\n",
       "      <td>99000.0</td>\n",
       "    </tr>\n",
       "    <tr>\n",
       "      <th>3</th>\n",
       "      <td>202201</td>\n",
       "      <td>대구광역시기타</td>\n",
       "      <td>2</td>\n",
       "      <td>C</td>\n",
       "      <td>05.기타</td>\n",
       "      <td>생활</td>\n",
       "      <td>가례</td>\n",
       "      <td>인천광역시기타</td>\n",
       "      <td>3.0</td>\n",
       "      <td>43000.0</td>\n",
       "    </tr>\n",
       "    <tr>\n",
       "      <th>4</th>\n",
       "      <td>202201</td>\n",
       "      <td>울산광역시남구</td>\n",
       "      <td>2</td>\n",
       "      <td>B</td>\n",
       "      <td>04.자영업자</td>\n",
       "      <td>생활</td>\n",
       "      <td>가례</td>\n",
       "      <td>인천광역시기타</td>\n",
       "      <td>3.0</td>\n",
       "      <td>1365000.0</td>\n",
       "    </tr>\n",
       "  </tbody>\n",
       "</table>\n",
       "</div>"
      ],
      "text/plain": [
       "   CRI_YM  MRC_ADR  GENDER AGE_GR   JOB_GR CATEGORY_L_NM CATEGORY_M_NM  \\\n",
       "0  202201  경상남도창원시       1      C   02.회사원            생활            가례   \n",
       "1  202201   충청남도남부       2      E    05.기타            생활            가례   \n",
       "2  202201  울산광역시남구       2      E  04.자영업자            생활            가례   \n",
       "3  202201  대구광역시기타       2      C    05.기타            생활            가례   \n",
       "4  202201  울산광역시남구       2      B  04.자영업자            생활            가례   \n",
       "\n",
       "  MAIN_CSM_AREA  SUM_CNT    SUM_AMT  \n",
       "0        경상북도남부      3.0  6106000.0  \n",
       "1        충청남도남부      3.0   115000.0  \n",
       "2       울산광역시남구      3.0    99000.0  \n",
       "3       인천광역시기타      3.0    43000.0  \n",
       "4       인천광역시기타      3.0  1365000.0  "
      ]
     },
     "execution_count": 5,
     "metadata": {},
     "output_type": "execute_result"
    }
   ],
   "source": [
    "sscard_df.head()\n",
    "\"\"\"\n",
    "dataframe description\n",
    "Dataframe의 줄은 1건의 거래가 발생할 때 마다 추가되는 것이다.\n",
    "CRI_YM : 기준연월 <거래 발생 년월>\n",
    "MRC_ADR : 가맹점소재지 <거래 발생 지역>\n",
    "GENDER : 성별\n",
    "AGE_GR : 연령대 <각 코드가 어디 연령대를 의미하는지 문의 필요함>\n",
    "JOB_GR : 직업군 <소비자의 직업군>\n",
    "CATEGORY_M_NM : 중분류 업종명 <가맹점 거래 발생 업종>\n",
    "CATEGORY_L_NM : 대분류 업종명 <가맹점 거래 발생 업종>\n",
    "MAIN_CSM_AREA : 소비자 주요 카드 사용 지역 <소비자 여행인지 아닌지 판단 가능할 것으로 보임>\n",
    "\"\"\""
   ]
  },
  {
   "cell_type": "code",
   "execution_count": 10,
   "metadata": {},
   "outputs": [
    {
     "data": {
      "text/plain": [
       "array(['가례', '가전', '관람', '교통', '병원', '보험', '뷰티', '서적', '숙박', '유흥', '의류',\n",
       "       '주유', '주차', '취미', '학교', '학원', '골프장', '공과금', '면세점', '백화점', '아울렛',\n",
       "       '음식점', '제과점', '편의점', '화장품', '건강보조', '교육기타', '놀이공원', '대중교통', '동물병원',\n",
       "       '여행상품', '유아교육', '인테리어', '정기결제', '차량관리', '차량구매', '패션잡화', '커피/음료',\n",
       "       '스포츠시설', '온라인쇼핑', '주류판매점', '주생활관리', '마트/할인점', '문구사무용품', '스포츠의류용품',\n",
       "       '쇼핑기타', '상품권'], dtype=object)"
      ]
     },
     "execution_count": 10,
     "metadata": {},
     "output_type": "execute_result"
    }
   ],
   "source": [
    "sscard_df[\"CATEGORY_M_NM\"].unique()"
   ]
  },
  {
   "cell_type": "code",
   "execution_count": 11,
   "metadata": {},
   "outputs": [
    {
     "data": {
      "text/plain": [
       "array(['생활', '쇼핑', '여가', '여행', '건강', '교육', '유흥', '자동차', '요식'],\n",
       "      dtype=object)"
      ]
     },
     "execution_count": 11,
     "metadata": {},
     "output_type": "execute_result"
    }
   ],
   "source": [
    "sscard_df[\"CATEGORY_L_NM\"].unique()"
   ]
  },
  {
   "cell_type": "code",
   "execution_count": 12,
   "metadata": {},
   "outputs": [
    {
     "data": {
      "text/plain": [
       "array(['02.회사원', '05.기타', '04.자영업자', '03.공무원_교육인', '01.전문직'], dtype=object)"
      ]
     },
     "execution_count": 12,
     "metadata": {},
     "output_type": "execute_result"
    }
   ],
   "source": [
    "sscard_df[\"JOB_GR\"].unique()"
   ]
  },
  {
   "cell_type": "code",
   "execution_count": 13,
   "metadata": {},
   "outputs": [
    {
     "data": {
      "text/plain": [
       "array(['경상남도창원시', '충청남도남부', '울산광역시남구', '대구광역시기타', '충청남도천안시', '광주광역시기타',\n",
       "       '경상북도포항시', '인천광역시기타', '충청북도청주시', '인천광역시남동구', '충청남도아산시', '경상북도남부',\n",
       "       '전라남도여수시', '경상남도진주시', '부산광역시서부', '대구광역시수성구', '대구광역시동구', '대전광역시서구',\n",
       "       '부산광역시사하구', '대구광역시달서구', '대전광역시기타', '세종특별자치시', '인천광역시서구', '광주광역시북구',\n",
       "       '경상남도서부', '경상남도동부', '경상북도북부', '부산광역시동부', '대구광역시북구', '광주광역시광산구',\n",
       "       '충청남도북부', '충청북도북부', '경상북도구미시', '경상남도김해시', '인천광역시부평구', '충청북도충주시',\n",
       "       '전라남도동부', '전라남도순천시', '대전광역시유성구', '전라남도서부', '경상남도양산시', '울산광역시기타',\n",
       "       '충청북도남부', '부산광역시부산진구', '부산광역시해운대구', '제주특별자치도제주시', '제주특별자치도서귀포시',\n",
       "       '강원도영서', '강원도원주시', '강원도춘천시', '강원도영동'], dtype=object)"
      ]
     },
     "execution_count": 13,
     "metadata": {},
     "output_type": "execute_result"
    }
   ],
   "source": [
    "sscard_df[\"MRC_ADR\"].unique()"
   ]
  },
  {
   "cell_type": "code",
   "execution_count": 15,
   "metadata": {},
   "outputs": [
    {
     "data": {
      "text/plain": [
       "array(['경상북도남부', '충청남도남부', '울산광역시남구', '인천광역시기타', '충청남도천안시', '서울특별시북서부',\n",
       "       '경상북도포항시', '대구광역시달서구', '대구광역시수성구', '충청북도청주시', '경기도남부', '경기도성남시',\n",
       "       '경기도평택시', '전라남도동부', '전라남도서부', '경상남도진주시', '경상남도창원시', '광주광역시기타',\n",
       "       '광주광역시북구', '대구광역시동구', '대구광역시북구', '대전광역시기타', '부산광역시동부', '서울특별시남부',\n",
       "       '전라남도여수시', '광주광역시광산구', '대전광역시유성구', '서울특별시강남구', '서울특별시양천구',\n",
       "       '제주특별자치도제주시', '제주특별자치도서귀포시', '경기도고양시', '경상북도북부', '경상북도구미시',\n",
       "       '경기도화성시', '경상남도김해시', '부산광역시서부', '충청남도아산시', '서울특별시송파구', '부산광역시부산진구',\n",
       "       '부산광역시해운대구', '세종특별자치시', '울산광역시기타', '인천광역시부평구', '충청남도북부', '대전광역시서구',\n",
       "       '경상남도서부', '대구광역시기타', '충청북도충주시', '충청북도북부', '전라남도순천시', '서울특별시강동구',\n",
       "       '경기도안양시', '인천광역시서구', '서울특별시강서구', '경기도용인시', '서울특별시북동부', '경상남도양산시',\n",
       "       '서울특별시노원구', '경기도수원시', '경상남도동부', '부산광역시사하구', '경기도북부', '경기도안산시',\n",
       "       '서울특별시관악구', '경기도남양주시', '인천광역시남동구', '충청북도남부', '서울특별시은평구', '강원도영서',\n",
       "       '강원도원주시', '강원도춘천시', '강원도영동'], dtype=object)"
      ]
     },
     "execution_count": 15,
     "metadata": {},
     "output_type": "execute_result"
    }
   ],
   "source": [
    "sscard_df[\"MAIN_CSM_AREA\"].unique()"
   ]
  },
  {
   "cell_type": "code",
   "execution_count": 22,
   "metadata": {},
   "outputs": [],
   "source": [
    "# convert to datetime\n",
    "sscard_df[\"CRI_YM\"] = pd.to_datetime(sscard_df[\"CRI_YM\"], format=\"%Y%m\")"
   ]
  },
  {
   "cell_type": "code",
   "execution_count": 25,
   "metadata": {},
   "outputs": [
    {
     "name": "stdout",
     "output_type": "stream",
     "text": [
      "Time range of CRI_YM:  2022-01-01 00:00:00  ~  2023-12-01 00:00:00\n"
     ]
    }
   ],
   "source": [
    "print(\n",
    "    \"Time range of CRI_YM: \",\n",
    "    sscard_df[\"CRI_YM\"].min(),\n",
    "    \" ~ \",\n",
    "    sscard_df[\"CRI_YM\"].max(),\n",
    ")"
   ]
  },
  {
   "cell_type": "code",
   "execution_count": null,
   "metadata": {},
   "outputs": [],
   "source": []
  }
 ],
 "metadata": {
  "kernelspec": {
   "display_name": "base",
   "language": "python",
   "name": "python3"
  },
  "language_info": {
   "codemirror_mode": {
    "name": "ipython",
    "version": 3
   },
   "file_extension": ".py",
   "mimetype": "text/x-python",
   "name": "python",
   "nbconvert_exporter": "python",
   "pygments_lexer": "ipython3",
   "version": "3.10.13"
  }
 },
 "nbformat": 4,
 "nbformat_minor": 2
}
