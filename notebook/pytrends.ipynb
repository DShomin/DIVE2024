{
 "cells": [
  {
   "cell_type": "code",
   "execution_count": 246,
   "metadata": {},
   "outputs": [],
   "source": [
    "from pytrends.request import TrendReq\n",
    "import pandas as pd\n",
    "\n",
    "\n",
    "pytrends = TrendReq(hl=\"ko\", tz=360)\n",
    "# requests_args = {\n",
    "#     \"headers\": {\n",
    "#         \"Cookie\": \"NID \" +pytrends.GetGoogleCookie()[\"NID\"],\n",
    "#     }\n",
    "# }\n",
    "# pytrends = TrendReq(hl=\"ko\", tz=360, requests_args=requests_args)"
   ]
  },
  {
   "cell_type": "code",
   "execution_count": 293,
   "metadata": {},
   "outputs": [
    {
     "name": "stdout",
     "output_type": "stream",
     "text": [
      "            광안리  해운대  isPartial\n",
      "date                           \n",
      "2023-05-28   19   52      False\n",
      "2023-06-04   22   58      False\n",
      "2023-06-11   19   49      False\n",
      "2023-06-18   20   63      False\n",
      "2023-06-25   14   46      False\n",
      "2023-07-02   13   59      False\n",
      "2023-07-09   18   54      False\n",
      "2023-07-16   10   47      False\n",
      "2023-07-23   27   70      False\n",
      "2023-07-30   21   69      False\n",
      "2023-08-06   23   60      False\n",
      "2023-08-13   22   56      False\n",
      "2023-08-20   16   46      False\n",
      "2023-08-27   11   39      False\n",
      "2023-09-03   12   39      False\n",
      "2023-09-10   12   39      False\n",
      "2023-09-17   17   47      False\n",
      "2023-09-24   20   53      False\n",
      "2023-10-01   20   46      False\n",
      "2023-10-08   27   61      False\n",
      "2023-10-15   20   42      False\n",
      "2023-10-22   21   55      False\n",
      "2023-10-29  100   49      False\n",
      "2023-11-05   20   41      False\n",
      "2023-11-12   11   49      False\n",
      "2023-11-19   11   50      False\n",
      "2023-11-26   13   43      False\n",
      "2023-12-03   12   42      False\n",
      "2023-12-10   12   41      False\n",
      "2023-12-17   12   48      False\n",
      "2023-12-24   17   57      False\n",
      "2023-12-31   87   58      False\n",
      "2024-01-07   11   51      False\n",
      "2024-01-14   11   41      False\n",
      "2024-01-21   12   31      False\n",
      "2024-01-28   18   39      False\n",
      "2024-02-04   17   33      False\n",
      "2024-02-11   14   37      False\n",
      "2024-02-18   13   40      False\n",
      "2024-02-25   14   43      False\n",
      "2024-03-03    9   30      False\n",
      "2024-03-10   11   33      False\n",
      "2024-03-17   13   26      False\n",
      "2024-03-24    9   39      False\n",
      "2024-03-31   10   36      False\n",
      "2024-04-07    7   30      False\n",
      "2024-04-14   12   33      False\n",
      "2024-04-21   16   40      False\n",
      "2024-04-28   16   51      False\n",
      "2024-05-05   30   46      False\n",
      "2024-05-12   20   51      False\n",
      "2024-05-19   15   60      False\n",
      "2024-05-26   15   55      False\n"
     ]
    }
   ],
   "source": [
    "keyword_list = [\n",
    "    # \"전포\",\n",
    "    \"광안리\",\n",
    "    \"해운대\",\n",
    "]\n",
    "pytrends.build_payload(\n",
    "    keyword_list,\n",
    "    cat=67,\n",
    "    timeframe=\"2023-06-01 2024-05-31\",\n",
    "    geo=\"KR\",\n",
    ")\n",
    "\n",
    "# [Will use it] 검색 트렌드 데이터 가져오기\n",
    "interest_over_time_df = pytrends.interest_over_time()\n",
    "\n",
    "# 결과 출력\n",
    "print(interest_over_time_df)"
   ]
  },
  {
   "cell_type": "code",
   "execution_count": 294,
   "metadata": {},
   "outputs": [
    {
     "data": {
      "application/vnd.plotly.v1+json": {
       "config": {
        "plotlyServerURL": "https://plot.ly"
       },
       "data": [
        {
         "hovertemplate": "variable=광안리<br>date=%{x}<br>value=%{y}<extra></extra>",
         "legendgroup": "광안리",
         "line": {
          "color": "#636efa",
          "dash": "solid"
         },
         "marker": {
          "symbol": "circle"
         },
         "mode": "lines",
         "name": "광안리",
         "orientation": "v",
         "showlegend": true,
         "type": "scatter",
         "x": [
          "2023-05-28T00:00:00",
          "2023-06-04T00:00:00",
          "2023-06-11T00:00:00",
          "2023-06-18T00:00:00",
          "2023-06-25T00:00:00",
          "2023-07-02T00:00:00",
          "2023-07-09T00:00:00",
          "2023-07-16T00:00:00",
          "2023-07-23T00:00:00",
          "2023-07-30T00:00:00",
          "2023-08-06T00:00:00",
          "2023-08-13T00:00:00",
          "2023-08-20T00:00:00",
          "2023-08-27T00:00:00",
          "2023-09-03T00:00:00",
          "2023-09-10T00:00:00",
          "2023-09-17T00:00:00",
          "2023-09-24T00:00:00",
          "2023-10-01T00:00:00",
          "2023-10-08T00:00:00",
          "2023-10-15T00:00:00",
          "2023-10-22T00:00:00",
          "2023-10-29T00:00:00",
          "2023-11-05T00:00:00",
          "2023-11-12T00:00:00",
          "2023-11-19T00:00:00",
          "2023-11-26T00:00:00",
          "2023-12-03T00:00:00",
          "2023-12-10T00:00:00",
          "2023-12-17T00:00:00",
          "2023-12-24T00:00:00",
          "2023-12-31T00:00:00",
          "2024-01-07T00:00:00",
          "2024-01-14T00:00:00",
          "2024-01-21T00:00:00",
          "2024-01-28T00:00:00",
          "2024-02-04T00:00:00",
          "2024-02-11T00:00:00",
          "2024-02-18T00:00:00",
          "2024-02-25T00:00:00",
          "2024-03-03T00:00:00",
          "2024-03-10T00:00:00",
          "2024-03-17T00:00:00",
          "2024-03-24T00:00:00",
          "2024-03-31T00:00:00",
          "2024-04-07T00:00:00",
          "2024-04-14T00:00:00",
          "2024-04-21T00:00:00",
          "2024-04-28T00:00:00",
          "2024-05-05T00:00:00",
          "2024-05-12T00:00:00",
          "2024-05-19T00:00:00",
          "2024-05-26T00:00:00"
         ],
         "xaxis": "x",
         "y": [
          19,
          22,
          19,
          20,
          14,
          13,
          18,
          10,
          27,
          21,
          23,
          22,
          16,
          11,
          12,
          12,
          17,
          20,
          20,
          27,
          20,
          21,
          100,
          20,
          11,
          11,
          13,
          12,
          12,
          12,
          17,
          87,
          11,
          11,
          12,
          18,
          17,
          14,
          13,
          14,
          9,
          11,
          13,
          9,
          10,
          7,
          12,
          16,
          16,
          30,
          20,
          15,
          15
         ],
         "yaxis": "y"
        },
        {
         "hovertemplate": "variable=해운대<br>date=%{x}<br>value=%{y}<extra></extra>",
         "legendgroup": "해운대",
         "line": {
          "color": "#EF553B",
          "dash": "solid"
         },
         "marker": {
          "symbol": "circle"
         },
         "mode": "lines",
         "name": "해운대",
         "orientation": "v",
         "showlegend": true,
         "type": "scatter",
         "x": [
          "2023-05-28T00:00:00",
          "2023-06-04T00:00:00",
          "2023-06-11T00:00:00",
          "2023-06-18T00:00:00",
          "2023-06-25T00:00:00",
          "2023-07-02T00:00:00",
          "2023-07-09T00:00:00",
          "2023-07-16T00:00:00",
          "2023-07-23T00:00:00",
          "2023-07-30T00:00:00",
          "2023-08-06T00:00:00",
          "2023-08-13T00:00:00",
          "2023-08-20T00:00:00",
          "2023-08-27T00:00:00",
          "2023-09-03T00:00:00",
          "2023-09-10T00:00:00",
          "2023-09-17T00:00:00",
          "2023-09-24T00:00:00",
          "2023-10-01T00:00:00",
          "2023-10-08T00:00:00",
          "2023-10-15T00:00:00",
          "2023-10-22T00:00:00",
          "2023-10-29T00:00:00",
          "2023-11-05T00:00:00",
          "2023-11-12T00:00:00",
          "2023-11-19T00:00:00",
          "2023-11-26T00:00:00",
          "2023-12-03T00:00:00",
          "2023-12-10T00:00:00",
          "2023-12-17T00:00:00",
          "2023-12-24T00:00:00",
          "2023-12-31T00:00:00",
          "2024-01-07T00:00:00",
          "2024-01-14T00:00:00",
          "2024-01-21T00:00:00",
          "2024-01-28T00:00:00",
          "2024-02-04T00:00:00",
          "2024-02-11T00:00:00",
          "2024-02-18T00:00:00",
          "2024-02-25T00:00:00",
          "2024-03-03T00:00:00",
          "2024-03-10T00:00:00",
          "2024-03-17T00:00:00",
          "2024-03-24T00:00:00",
          "2024-03-31T00:00:00",
          "2024-04-07T00:00:00",
          "2024-04-14T00:00:00",
          "2024-04-21T00:00:00",
          "2024-04-28T00:00:00",
          "2024-05-05T00:00:00",
          "2024-05-12T00:00:00",
          "2024-05-19T00:00:00",
          "2024-05-26T00:00:00"
         ],
         "xaxis": "x",
         "y": [
          52,
          58,
          49,
          63,
          46,
          59,
          54,
          47,
          70,
          69,
          60,
          56,
          46,
          39,
          39,
          39,
          47,
          53,
          46,
          61,
          42,
          55,
          49,
          41,
          49,
          50,
          43,
          42,
          41,
          48,
          57,
          58,
          51,
          41,
          31,
          39,
          33,
          37,
          40,
          43,
          30,
          33,
          26,
          39,
          36,
          30,
          33,
          40,
          51,
          46,
          51,
          60,
          55
         ],
         "yaxis": "y"
        }
       ],
       "layout": {
        "hovermode": "x unified",
        "legend": {
         "title": {
          "text": "variable"
         },
         "tracegroupgap": 0
        },
        "template": {
         "data": {
          "bar": [
           {
            "error_x": {
             "color": "#2a3f5f"
            },
            "error_y": {
             "color": "#2a3f5f"
            },
            "marker": {
             "line": {
              "color": "#E5ECF6",
              "width": 0.5
             },
             "pattern": {
              "fillmode": "overlay",
              "size": 10,
              "solidity": 0.2
             }
            },
            "type": "bar"
           }
          ],
          "barpolar": [
           {
            "marker": {
             "line": {
              "color": "#E5ECF6",
              "width": 0.5
             },
             "pattern": {
              "fillmode": "overlay",
              "size": 10,
              "solidity": 0.2
             }
            },
            "type": "barpolar"
           }
          ],
          "carpet": [
           {
            "aaxis": {
             "endlinecolor": "#2a3f5f",
             "gridcolor": "white",
             "linecolor": "white",
             "minorgridcolor": "white",
             "startlinecolor": "#2a3f5f"
            },
            "baxis": {
             "endlinecolor": "#2a3f5f",
             "gridcolor": "white",
             "linecolor": "white",
             "minorgridcolor": "white",
             "startlinecolor": "#2a3f5f"
            },
            "type": "carpet"
           }
          ],
          "choropleth": [
           {
            "colorbar": {
             "outlinewidth": 0,
             "ticks": ""
            },
            "type": "choropleth"
           }
          ],
          "contour": [
           {
            "colorbar": {
             "outlinewidth": 0,
             "ticks": ""
            },
            "colorscale": [
             [
              0,
              "#0d0887"
             ],
             [
              0.1111111111111111,
              "#46039f"
             ],
             [
              0.2222222222222222,
              "#7201a8"
             ],
             [
              0.3333333333333333,
              "#9c179e"
             ],
             [
              0.4444444444444444,
              "#bd3786"
             ],
             [
              0.5555555555555556,
              "#d8576b"
             ],
             [
              0.6666666666666666,
              "#ed7953"
             ],
             [
              0.7777777777777778,
              "#fb9f3a"
             ],
             [
              0.8888888888888888,
              "#fdca26"
             ],
             [
              1,
              "#f0f921"
             ]
            ],
            "type": "contour"
           }
          ],
          "contourcarpet": [
           {
            "colorbar": {
             "outlinewidth": 0,
             "ticks": ""
            },
            "type": "contourcarpet"
           }
          ],
          "heatmap": [
           {
            "colorbar": {
             "outlinewidth": 0,
             "ticks": ""
            },
            "colorscale": [
             [
              0,
              "#0d0887"
             ],
             [
              0.1111111111111111,
              "#46039f"
             ],
             [
              0.2222222222222222,
              "#7201a8"
             ],
             [
              0.3333333333333333,
              "#9c179e"
             ],
             [
              0.4444444444444444,
              "#bd3786"
             ],
             [
              0.5555555555555556,
              "#d8576b"
             ],
             [
              0.6666666666666666,
              "#ed7953"
             ],
             [
              0.7777777777777778,
              "#fb9f3a"
             ],
             [
              0.8888888888888888,
              "#fdca26"
             ],
             [
              1,
              "#f0f921"
             ]
            ],
            "type": "heatmap"
           }
          ],
          "heatmapgl": [
           {
            "colorbar": {
             "outlinewidth": 0,
             "ticks": ""
            },
            "colorscale": [
             [
              0,
              "#0d0887"
             ],
             [
              0.1111111111111111,
              "#46039f"
             ],
             [
              0.2222222222222222,
              "#7201a8"
             ],
             [
              0.3333333333333333,
              "#9c179e"
             ],
             [
              0.4444444444444444,
              "#bd3786"
             ],
             [
              0.5555555555555556,
              "#d8576b"
             ],
             [
              0.6666666666666666,
              "#ed7953"
             ],
             [
              0.7777777777777778,
              "#fb9f3a"
             ],
             [
              0.8888888888888888,
              "#fdca26"
             ],
             [
              1,
              "#f0f921"
             ]
            ],
            "type": "heatmapgl"
           }
          ],
          "histogram": [
           {
            "marker": {
             "pattern": {
              "fillmode": "overlay",
              "size": 10,
              "solidity": 0.2
             }
            },
            "type": "histogram"
           }
          ],
          "histogram2d": [
           {
            "colorbar": {
             "outlinewidth": 0,
             "ticks": ""
            },
            "colorscale": [
             [
              0,
              "#0d0887"
             ],
             [
              0.1111111111111111,
              "#46039f"
             ],
             [
              0.2222222222222222,
              "#7201a8"
             ],
             [
              0.3333333333333333,
              "#9c179e"
             ],
             [
              0.4444444444444444,
              "#bd3786"
             ],
             [
              0.5555555555555556,
              "#d8576b"
             ],
             [
              0.6666666666666666,
              "#ed7953"
             ],
             [
              0.7777777777777778,
              "#fb9f3a"
             ],
             [
              0.8888888888888888,
              "#fdca26"
             ],
             [
              1,
              "#f0f921"
             ]
            ],
            "type": "histogram2d"
           }
          ],
          "histogram2dcontour": [
           {
            "colorbar": {
             "outlinewidth": 0,
             "ticks": ""
            },
            "colorscale": [
             [
              0,
              "#0d0887"
             ],
             [
              0.1111111111111111,
              "#46039f"
             ],
             [
              0.2222222222222222,
              "#7201a8"
             ],
             [
              0.3333333333333333,
              "#9c179e"
             ],
             [
              0.4444444444444444,
              "#bd3786"
             ],
             [
              0.5555555555555556,
              "#d8576b"
             ],
             [
              0.6666666666666666,
              "#ed7953"
             ],
             [
              0.7777777777777778,
              "#fb9f3a"
             ],
             [
              0.8888888888888888,
              "#fdca26"
             ],
             [
              1,
              "#f0f921"
             ]
            ],
            "type": "histogram2dcontour"
           }
          ],
          "mesh3d": [
           {
            "colorbar": {
             "outlinewidth": 0,
             "ticks": ""
            },
            "type": "mesh3d"
           }
          ],
          "parcoords": [
           {
            "line": {
             "colorbar": {
              "outlinewidth": 0,
              "ticks": ""
             }
            },
            "type": "parcoords"
           }
          ],
          "pie": [
           {
            "automargin": true,
            "type": "pie"
           }
          ],
          "scatter": [
           {
            "fillpattern": {
             "fillmode": "overlay",
             "size": 10,
             "solidity": 0.2
            },
            "type": "scatter"
           }
          ],
          "scatter3d": [
           {
            "line": {
             "colorbar": {
              "outlinewidth": 0,
              "ticks": ""
             }
            },
            "marker": {
             "colorbar": {
              "outlinewidth": 0,
              "ticks": ""
             }
            },
            "type": "scatter3d"
           }
          ],
          "scattercarpet": [
           {
            "marker": {
             "colorbar": {
              "outlinewidth": 0,
              "ticks": ""
             }
            },
            "type": "scattercarpet"
           }
          ],
          "scattergeo": [
           {
            "marker": {
             "colorbar": {
              "outlinewidth": 0,
              "ticks": ""
             }
            },
            "type": "scattergeo"
           }
          ],
          "scattergl": [
           {
            "marker": {
             "colorbar": {
              "outlinewidth": 0,
              "ticks": ""
             }
            },
            "type": "scattergl"
           }
          ],
          "scattermapbox": [
           {
            "marker": {
             "colorbar": {
              "outlinewidth": 0,
              "ticks": ""
             }
            },
            "type": "scattermapbox"
           }
          ],
          "scatterpolar": [
           {
            "marker": {
             "colorbar": {
              "outlinewidth": 0,
              "ticks": ""
             }
            },
            "type": "scatterpolar"
           }
          ],
          "scatterpolargl": [
           {
            "marker": {
             "colorbar": {
              "outlinewidth": 0,
              "ticks": ""
             }
            },
            "type": "scatterpolargl"
           }
          ],
          "scatterternary": [
           {
            "marker": {
             "colorbar": {
              "outlinewidth": 0,
              "ticks": ""
             }
            },
            "type": "scatterternary"
           }
          ],
          "surface": [
           {
            "colorbar": {
             "outlinewidth": 0,
             "ticks": ""
            },
            "colorscale": [
             [
              0,
              "#0d0887"
             ],
             [
              0.1111111111111111,
              "#46039f"
             ],
             [
              0.2222222222222222,
              "#7201a8"
             ],
             [
              0.3333333333333333,
              "#9c179e"
             ],
             [
              0.4444444444444444,
              "#bd3786"
             ],
             [
              0.5555555555555556,
              "#d8576b"
             ],
             [
              0.6666666666666666,
              "#ed7953"
             ],
             [
              0.7777777777777778,
              "#fb9f3a"
             ],
             [
              0.8888888888888888,
              "#fdca26"
             ],
             [
              1,
              "#f0f921"
             ]
            ],
            "type": "surface"
           }
          ],
          "table": [
           {
            "cells": {
             "fill": {
              "color": "#EBF0F8"
             },
             "line": {
              "color": "white"
             }
            },
            "header": {
             "fill": {
              "color": "#C8D4E3"
             },
             "line": {
              "color": "white"
             }
            },
            "type": "table"
           }
          ]
         },
         "layout": {
          "annotationdefaults": {
           "arrowcolor": "#2a3f5f",
           "arrowhead": 0,
           "arrowwidth": 1
          },
          "autotypenumbers": "strict",
          "coloraxis": {
           "colorbar": {
            "outlinewidth": 0,
            "ticks": ""
           }
          },
          "colorscale": {
           "diverging": [
            [
             0,
             "#8e0152"
            ],
            [
             0.1,
             "#c51b7d"
            ],
            [
             0.2,
             "#de77ae"
            ],
            [
             0.3,
             "#f1b6da"
            ],
            [
             0.4,
             "#fde0ef"
            ],
            [
             0.5,
             "#f7f7f7"
            ],
            [
             0.6,
             "#e6f5d0"
            ],
            [
             0.7,
             "#b8e186"
            ],
            [
             0.8,
             "#7fbc41"
            ],
            [
             0.9,
             "#4d9221"
            ],
            [
             1,
             "#276419"
            ]
           ],
           "sequential": [
            [
             0,
             "#0d0887"
            ],
            [
             0.1111111111111111,
             "#46039f"
            ],
            [
             0.2222222222222222,
             "#7201a8"
            ],
            [
             0.3333333333333333,
             "#9c179e"
            ],
            [
             0.4444444444444444,
             "#bd3786"
            ],
            [
             0.5555555555555556,
             "#d8576b"
            ],
            [
             0.6666666666666666,
             "#ed7953"
            ],
            [
             0.7777777777777778,
             "#fb9f3a"
            ],
            [
             0.8888888888888888,
             "#fdca26"
            ],
            [
             1,
             "#f0f921"
            ]
           ],
           "sequentialminus": [
            [
             0,
             "#0d0887"
            ],
            [
             0.1111111111111111,
             "#46039f"
            ],
            [
             0.2222222222222222,
             "#7201a8"
            ],
            [
             0.3333333333333333,
             "#9c179e"
            ],
            [
             0.4444444444444444,
             "#bd3786"
            ],
            [
             0.5555555555555556,
             "#d8576b"
            ],
            [
             0.6666666666666666,
             "#ed7953"
            ],
            [
             0.7777777777777778,
             "#fb9f3a"
            ],
            [
             0.8888888888888888,
             "#fdca26"
            ],
            [
             1,
             "#f0f921"
            ]
           ]
          },
          "colorway": [
           "#636efa",
           "#EF553B",
           "#00cc96",
           "#ab63fa",
           "#FFA15A",
           "#19d3f3",
           "#FF6692",
           "#B6E880",
           "#FF97FF",
           "#FECB52"
          ],
          "font": {
           "color": "#2a3f5f"
          },
          "geo": {
           "bgcolor": "white",
           "lakecolor": "white",
           "landcolor": "#E5ECF6",
           "showlakes": true,
           "showland": true,
           "subunitcolor": "white"
          },
          "hoverlabel": {
           "align": "left"
          },
          "hovermode": "closest",
          "mapbox": {
           "style": "light"
          },
          "paper_bgcolor": "white",
          "plot_bgcolor": "#E5ECF6",
          "polar": {
           "angularaxis": {
            "gridcolor": "white",
            "linecolor": "white",
            "ticks": ""
           },
           "bgcolor": "#E5ECF6",
           "radialaxis": {
            "gridcolor": "white",
            "linecolor": "white",
            "ticks": ""
           }
          },
          "scene": {
           "xaxis": {
            "backgroundcolor": "#E5ECF6",
            "gridcolor": "white",
            "gridwidth": 2,
            "linecolor": "white",
            "showbackground": true,
            "ticks": "",
            "zerolinecolor": "white"
           },
           "yaxis": {
            "backgroundcolor": "#E5ECF6",
            "gridcolor": "white",
            "gridwidth": 2,
            "linecolor": "white",
            "showbackground": true,
            "ticks": "",
            "zerolinecolor": "white"
           },
           "zaxis": {
            "backgroundcolor": "#E5ECF6",
            "gridcolor": "white",
            "gridwidth": 2,
            "linecolor": "white",
            "showbackground": true,
            "ticks": "",
            "zerolinecolor": "white"
           }
          },
          "shapedefaults": {
           "line": {
            "color": "#2a3f5f"
           }
          },
          "ternary": {
           "aaxis": {
            "gridcolor": "white",
            "linecolor": "white",
            "ticks": ""
           },
           "baxis": {
            "gridcolor": "white",
            "linecolor": "white",
            "ticks": ""
           },
           "bgcolor": "#E5ECF6",
           "caxis": {
            "gridcolor": "white",
            "linecolor": "white",
            "ticks": ""
           }
          },
          "title": {
           "x": 0.05
          },
          "xaxis": {
           "automargin": true,
           "gridcolor": "white",
           "linecolor": "white",
           "ticks": "",
           "title": {
            "standoff": 15
           },
           "zerolinecolor": "white",
           "zerolinewidth": 2
          },
          "yaxis": {
           "automargin": true,
           "gridcolor": "white",
           "linecolor": "white",
           "ticks": "",
           "title": {
            "standoff": 15
           },
           "zerolinecolor": "white",
           "zerolinewidth": 2
          }
         }
        },
        "title": {
         "text": "Search Trend"
        },
        "xaxis": {
         "anchor": "y",
         "domain": [
          0,
          1
         ],
         "title": {
          "text": "date"
         }
        },
        "yaxis": {
         "anchor": "x",
         "domain": [
          0,
          1
         ],
         "title": {
          "text": "value"
         }
        }
       }
      }
     },
     "metadata": {},
     "output_type": "display_data"
    }
   ],
   "source": [
    "import plotly.express as px\n",
    "\n",
    "#\n",
    "fig = px.line(interest_over_time_df, y=keyword_list, title=\"Search Trend\")\n",
    "fig.update_layout(hovermode=\"x unified\")\n",
    "fig.show()"
   ]
  },
  {
   "cell_type": "code",
   "execution_count": 295,
   "metadata": {},
   "outputs": [],
   "source": [
    "from urllib.request import urlopen\n",
    "import json"
   ]
  },
  {
   "cell_type": "code",
   "execution_count": 296,
   "metadata": {},
   "outputs": [],
   "source": [
    "region_json = json.load(\n",
    "    open(\"/Users/ihomin/Documents/DIVE2024/langgraph_front/app/SIDO_MAP_2022.json\")\n",
    ")"
   ]
  },
  {
   "cell_type": "code",
   "execution_count": 297,
   "metadata": {},
   "outputs": [],
   "source": [
    "map_df = pytrends.interest_by_region(\n",
    "    resolution=\"ko\", inc_low_vol=True, inc_geo_code=False\n",
    ")"
   ]
  },
  {
   "cell_type": "code",
   "execution_count": 298,
   "metadata": {},
   "outputs": [
    {
     "data": {
      "text/html": [
       "<div>\n",
       "<style scoped>\n",
       "    .dataframe tbody tr th:only-of-type {\n",
       "        vertical-align: middle;\n",
       "    }\n",
       "\n",
       "    .dataframe tbody tr th {\n",
       "        vertical-align: top;\n",
       "    }\n",
       "\n",
       "    .dataframe thead th {\n",
       "        text-align: right;\n",
       "    }\n",
       "</style>\n",
       "<table border=\"1\" class=\"dataframe\">\n",
       "  <thead>\n",
       "    <tr style=\"text-align: right;\">\n",
       "      <th></th>\n",
       "      <th>geoName</th>\n",
       "      <th>광안리</th>\n",
       "      <th>해운대</th>\n",
       "    </tr>\n",
       "  </thead>\n",
       "  <tbody>\n",
       "    <tr>\n",
       "      <th>0</th>\n",
       "      <td>강원도</td>\n",
       "      <td>0</td>\n",
       "      <td>100</td>\n",
       "    </tr>\n",
       "    <tr>\n",
       "      <th>1</th>\n",
       "      <td>경기도</td>\n",
       "      <td>28</td>\n",
       "      <td>72</td>\n",
       "    </tr>\n",
       "    <tr>\n",
       "      <th>2</th>\n",
       "      <td>경상남도</td>\n",
       "      <td>26</td>\n",
       "      <td>74</td>\n",
       "    </tr>\n",
       "    <tr>\n",
       "      <th>3</th>\n",
       "      <td>경상북도</td>\n",
       "      <td>28</td>\n",
       "      <td>72</td>\n",
       "    </tr>\n",
       "    <tr>\n",
       "      <th>4</th>\n",
       "      <td>광주광역시</td>\n",
       "      <td>37</td>\n",
       "      <td>63</td>\n",
       "    </tr>\n",
       "  </tbody>\n",
       "</table>\n",
       "</div>"
      ],
      "text/plain": [
       "  geoName  광안리  해운대\n",
       "0     강원도    0  100\n",
       "1     경기도   28   72\n",
       "2    경상남도   26   74\n",
       "3    경상북도   28   72\n",
       "4   광주광역시   37   63"
      ]
     },
     "execution_count": 298,
     "metadata": {},
     "output_type": "execute_result"
    }
   ],
   "source": [
    "map_df.index.set_names(\"geoName\", inplace=True)\n",
    "map_df.reset_index(inplace=True)"
   ]
  },
  {
   "cell_type": "code",
   "execution_count": 299,
   "metadata": {},
   "outputs": [
    {
     "data": {
      "text/html": [
       "<div>\n",
       "<style scoped>\n",
       "    .dataframe tbody tr th:only-of-type {\n",
       "        vertical-align: middle;\n",
       "    }\n",
       "\n",
       "    .dataframe tbody tr th {\n",
       "        vertical-align: top;\n",
       "    }\n",
       "\n",
       "    .dataframe thead th {\n",
       "        text-align: right;\n",
       "    }\n",
       "</style>\n",
       "<table border=\"1\" class=\"dataframe\">\n",
       "  <thead>\n",
       "    <tr style=\"text-align: right;\">\n",
       "      <th></th>\n",
       "      <th>geoName</th>\n",
       "      <th>광안리</th>\n",
       "      <th>해운대</th>\n",
       "    </tr>\n",
       "  </thead>\n",
       "  <tbody>\n",
       "    <tr>\n",
       "      <th>0</th>\n",
       "      <td>강원도</td>\n",
       "      <td>0</td>\n",
       "      <td>100</td>\n",
       "    </tr>\n",
       "    <tr>\n",
       "      <th>1</th>\n",
       "      <td>경기도</td>\n",
       "      <td>28</td>\n",
       "      <td>72</td>\n",
       "    </tr>\n",
       "    <tr>\n",
       "      <th>2</th>\n",
       "      <td>경상남도</td>\n",
       "      <td>26</td>\n",
       "      <td>74</td>\n",
       "    </tr>\n",
       "    <tr>\n",
       "      <th>3</th>\n",
       "      <td>경상북도</td>\n",
       "      <td>28</td>\n",
       "      <td>72</td>\n",
       "    </tr>\n",
       "    <tr>\n",
       "      <th>4</th>\n",
       "      <td>광주광역시</td>\n",
       "      <td>37</td>\n",
       "      <td>63</td>\n",
       "    </tr>\n",
       "    <tr>\n",
       "      <th>5</th>\n",
       "      <td>대구광역시</td>\n",
       "      <td>33</td>\n",
       "      <td>67</td>\n",
       "    </tr>\n",
       "    <tr>\n",
       "      <th>6</th>\n",
       "      <td>대전광역시</td>\n",
       "      <td>28</td>\n",
       "      <td>72</td>\n",
       "    </tr>\n",
       "    <tr>\n",
       "      <th>7</th>\n",
       "      <td>부산광역시</td>\n",
       "      <td>32</td>\n",
       "      <td>68</td>\n",
       "    </tr>\n",
       "    <tr>\n",
       "      <th>8</th>\n",
       "      <td>서울특별시</td>\n",
       "      <td>25</td>\n",
       "      <td>75</td>\n",
       "    </tr>\n",
       "    <tr>\n",
       "      <th>9</th>\n",
       "      <td>울산광역시</td>\n",
       "      <td>24</td>\n",
       "      <td>76</td>\n",
       "    </tr>\n",
       "    <tr>\n",
       "      <th>10</th>\n",
       "      <td>인천광역시</td>\n",
       "      <td>32</td>\n",
       "      <td>68</td>\n",
       "    </tr>\n",
       "    <tr>\n",
       "      <th>11</th>\n",
       "      <td>전라남도</td>\n",
       "      <td>25</td>\n",
       "      <td>75</td>\n",
       "    </tr>\n",
       "    <tr>\n",
       "      <th>12</th>\n",
       "      <td>전라북도</td>\n",
       "      <td>28</td>\n",
       "      <td>72</td>\n",
       "    </tr>\n",
       "    <tr>\n",
       "      <th>13</th>\n",
       "      <td>제주특별자치도</td>\n",
       "      <td>0</td>\n",
       "      <td>100</td>\n",
       "    </tr>\n",
       "    <tr>\n",
       "      <th>14</th>\n",
       "      <td>충청남도</td>\n",
       "      <td>28</td>\n",
       "      <td>72</td>\n",
       "    </tr>\n",
       "    <tr>\n",
       "      <th>15</th>\n",
       "      <td>충청북도</td>\n",
       "      <td>24</td>\n",
       "      <td>76</td>\n",
       "    </tr>\n",
       "  </tbody>\n",
       "</table>\n",
       "</div>"
      ],
      "text/plain": [
       "    geoName  광안리  해운대\n",
       "0       강원도    0  100\n",
       "1       경기도   28   72\n",
       "2      경상남도   26   74\n",
       "3      경상북도   28   72\n",
       "4     광주광역시   37   63\n",
       "5     대구광역시   33   67\n",
       "6     대전광역시   28   72\n",
       "7     부산광역시   32   68\n",
       "8     서울특별시   25   75\n",
       "9     울산광역시   24   76\n",
       "10    인천광역시   32   68\n",
       "11     전라남도   25   75\n",
       "12     전라북도   28   72\n",
       "13  제주특별자치도    0  100\n",
       "14     충청남도   28   72\n",
       "15     충청북도   24   76"
      ]
     },
     "execution_count": 299,
     "metadata": {},
     "output_type": "execute_result"
    }
   ],
   "source": [
    "map_df"
   ]
  },
  {
   "cell_type": "code",
   "execution_count": 281,
   "metadata": {},
   "outputs": [],
   "source": [
    "import plotly.express as px"
   ]
  },
  {
   "cell_type": "code",
   "execution_count": 301,
   "metadata": {},
   "outputs": [
    {
     "data": {
      "application/vnd.plotly.v1+json": {
       "config": {
        "plotlyServerURL": "https://plot.ly"
       },
       "data": [
        {
         "coloraxis": "coloraxis",
         "featureidkey": "properties.CTP_KOR_NM",
         "geojson": {
          "features": [
           {
            "geometry": {
             "coordinates": [
              [
               [
                126.984,
                37.636
               ],
               [
                126.948,
                37.657
               ],
               [
                126.912,
                37.644
               ],
               [
                126.897,
                37.589
               ],
               [
                126.854,
                37.574
               ],
               [
                126.801,
                37.59
               ],
               [
                126.772,
                37.548
               ],
               [
                126.821,
                37.541
               ],
               [
                126.819,
                37.479
               ],
               [
                126.872,
                37.485
               ],
               [
                126.903,
                37.434
               ],
               [
                126.959,
                37.439
               ],
               [
                127.003,
                37.467
               ],
               [
                127.071,
                37.432
               ],
               [
                127.127,
                37.469
               ],
               [
                127.131,
                37.468
               ],
               [
                127.132,
                37.468
               ],
               [
                127.132,
                37.469
               ],
               [
                127.132,
                37.47
               ],
               [
                127.133,
                37.471
               ],
               [
                127.133,
                37.472
               ],
               [
                127.133,
                37.474
               ],
               [
                127.133,
                37.475
               ],
               [
                127.134,
                37.475
               ],
               [
                127.135,
                37.474
               ],
               [
                127.136,
                37.474
               ],
               [
                127.144,
                37.474
               ],
               [
                127.144,
                37.475
               ],
               [
                127.144,
                37.476
               ],
               [
                127.147,
                37.477
               ],
               [
                127.148,
                37.482
               ],
               [
                127.156,
                37.488
               ],
               [
                127.155,
                37.488
               ],
               [
                127.156,
                37.489
               ],
               [
                127.158,
                37.489
               ],
               [
                127.159,
                37.49
               ],
               [
                127.157,
                37.49
               ],
               [
                127.142,
                37.516
               ],
               [
                127.176,
                37.575
               ],
               [
                127.129,
                37.566
               ],
               [
                127.096,
                37.689
               ],
               [
                127.015,
                37.701
               ],
               [
                126.98,
                37.656
               ],
               [
                126.984,
                37.636
               ]
              ]
             ],
             "type": "Polygon"
            },
            "properties": {
             "CTPRVN_CD": "11",
             "CTP_ENG_NM": "Seoul",
             "CTP_KOR_NM": "서울특별시"
            },
            "type": "Feature"
           },
           {
            "geometry": {
             "coordinates": [
              [
               [
                129.288,
                35.321
               ],
               [
                129.263,
                35.386
               ],
               [
                129.219,
                35.379
               ],
               [
                129.178,
                35.352
               ],
               [
                129.149,
                35.364
               ],
               [
                129.112,
                35.31
               ],
               [
                129.045,
                35.275
               ],
               [
                129.017,
                35.275
               ],
               [
                128.999,
                35.238
               ],
               [
                128.886,
                35.214
               ],
               [
                128.881,
                35.183
               ],
               [
                128.843,
                35.158
               ],
               [
                128.838,
                35.083
               ],
               [
                128.895,
                35.079
               ],
               [
                128.933,
                35.095
               ],
               [
                128.958,
                35.051
               ],
               [
                129.022,
                35.062
               ],
               [
                129.025,
                35.094
               ],
               [
                129.067,
                35.108
               ],
               [
                129.113,
                35.103
               ],
               [
                129.12,
                35.154
               ],
               [
                129.181,
                35.155
               ],
               [
                129.224,
                35.186
               ],
               [
                129.222,
                35.213
               ],
               [
                129.253,
                35.247
               ],
               [
                129.268,
                35.322
               ],
               [
                129.288,
                35.321
               ]
              ]
             ],
             "type": "Polygon"
            },
            "properties": {
             "CTPRVN_CD": "26",
             "CTP_ENG_NM": "Busan",
             "CTP_KOR_NM": "부산광역시"
            },
            "type": "Feature"
           },
           {
            "geometry": {
             "coordinates": [
              [
               [
                128.473,
                35.833
               ],
               [
                128.47,
                35.806
               ],
               [
                128.421,
                35.809
               ],
               [
                128.383,
                35.759
               ],
               [
                128.432,
                35.726
               ],
               [
                128.412,
                35.696
               ],
               [
                128.357,
                35.682
               ],
               [
                128.4,
                35.646
               ],
               [
                128.506,
                35.64
               ],
               [
                128.528,
                35.713
               ],
               [
                128.581,
                35.739
               ],
               [
                128.624,
                35.703
               ],
               [
                128.683,
                35.721
               ],
               [
                128.695,
                35.756
               ],
               [
                128.683,
                35.79
               ],
               [
                128.709,
                35.827
               ],
               [
                128.76,
                35.866
               ],
               [
                128.738,
                35.928
               ],
               [
                128.746,
                35.973
               ],
               [
                128.696,
                36.016
               ],
               [
                128.617,
                36.007
               ],
               [
                128.546,
                35.966
               ],
               [
                128.529,
                35.924
               ],
               [
                128.475,
                35.894
               ],
               [
                128.476,
                35.934
               ],
               [
                128.431,
                35.931
               ],
               [
                128.398,
                35.893
               ],
               [
                128.384,
                35.853
               ],
               [
                128.436,
                35.848
               ],
               [
                128.473,
                35.834
               ],
               [
                128.473,
                35.833
               ]
              ]
             ],
             "type": "Polygon"
            },
            "properties": {
             "CTPRVN_CD": "27",
             "CTP_ENG_NM": "Daegu",
             "CTP_KOR_NM": "대구광역시"
            },
            "type": "Feature"
           },
           {
            "geometry": {
             "coordinates": [
              [
               [
                [
                 126.343,
                 37.644
                ],
                [
                 126.375,
                 37.669
                ],
                [
                 126.363,
                 37.696
                ],
                [
                 126.316,
                 37.685
                ],
                [
                 126.343,
                 37.644
                ]
               ]
              ],
              [
               [
                [
                 126.601,
                 37.416
                ],
                [
                 126.61,
                 37.387
                ],
                [
                 126.663,
                 37.351
                ],
                [
                 126.721,
                 37.383
                ],
                [
                 126.769,
                 37.428
                ],
                [
                 126.777,
                 37.472
                ],
                [
                 126.745,
                 37.514
                ],
                [
                 126.787,
                 37.586
                ],
                [
                 126.726,
                 37.592
                ],
                [
                 126.672,
                 37.634
                ],
                [
                 126.626,
                 37.603
                ],
                [
                 126.64,
                 37.585
                ],
                [
                 126.597,
                 37.549
                ],
                [
                 126.608,
                 37.487
                ],
                [
                 126.601,
                 37.416
                ]
               ]
              ],
              [
               [
                [
                 126.541,
                 37.521
                ],
                [
                 126.512,
                 37.534
                ],
                [
                 126.471,
                 37.498
                ],
                [
                 126.417,
                 37.496
                ],
                [
                 126.356,
                 37.468
                ],
                [
                 126.38,
                 37.44
                ],
                [
                 126.443,
                 37.422
                ],
                [
                 126.508,
                 37.466
                ],
                [
                 126.583,
                 37.491
                ],
                [
                 126.541,
                 37.521
                ]
               ]
              ],
              [
               [
                [
                 126.439,
                 37.231
                ],
                [
                 126.496,
                 37.256
                ],
                [
                 126.471,
                 37.285
                ],
                [
                 126.435,
                 37.273
                ],
                [
                 126.439,
                 37.231
                ]
               ]
              ],
              [
               [
                [
                 126.265,
                 37.818
                ],
                [
                 126.223,
                 37.805
                ],
                [
                 126.216,
                 37.778
                ],
                [
                 126.291,
                 37.763
                ],
                [
                 126.298,
                 37.802
                ],
                [
                 126.265,
                 37.818
                ]
               ]
              ],
              [
               [
                [
                 126.431,
                 37.83
                ],
                [
                 126.351,
                 37.79
                ],
                [
                 126.356,
                 37.707
                ],
                [
                 126.392,
                 37.694
                ],
                [
                 126.413,
                 37.656
                ],
                [
                 126.377,
                 37.636
                ],
                [
                 126.403,
                 37.594
                ],
                [
                 126.511,
                 37.597
                ],
                [
                 126.543,
                 37.618
                ],
                [
                 126.523,
                 37.652
                ],
                [
                 126.514,
                 37.725
                ],
                [
                 126.526,
                 37.747
                ],
                [
                 126.507,
                 37.782
                ],
                [
                 126.431,
                 37.83
                ]
               ]
              ],
              [
               [
                [
                 124.687,
                 37.98
                ],
                [
                 124.623,
                 37.957
                ],
                [
                 124.637,
                 37.924
                ],
                [
                 124.696,
                 37.917
                ],
                [
                 124.73,
                 37.978
                ],
                [
                 124.687,
                 37.98
                ]
               ]
              ]
             ],
             "type": "MultiPolygon"
            },
            "properties": {
             "CTPRVN_CD": "28",
             "CTP_ENG_NM": "Incheon",
             "CTP_KOR_NM": "인천광역시"
            },
            "type": "Feature"
           },
           {
            "geometry": {
             "coordinates": [
              [
               [
                126.76,
                35.259
               ],
               [
                126.736,
                35.251
               ],
               [
                126.657,
                35.167
               ],
               [
                126.652,
                35.12
               ],
               [
                126.736,
                35.108
               ],
               [
                126.776,
                35.053
               ],
               [
                126.804,
                35.052
               ],
               [
                126.921,
                35.092
               ],
               [
                126.936,
                35.074
               ],
               [
                126.989,
                35.095
               ],
               [
                127.012,
                35.128
               ],
               [
                127,
                35.189
               ],
               [
                126.972,
                35.185
               ],
               [
                126.931,
                35.251
               ],
               [
                126.905,
                35.258
               ],
               [
                126.806,
                35.219
               ],
               [
                126.754,
                35.237
               ],
               [
                126.76,
                35.259
               ]
              ]
             ],
             "type": "Polygon"
            },
            "properties": {
             "CTPRVN_CD": "29",
             "CTP_ENG_NM": "Gwangju",
             "CTP_KOR_NM": "광주광역시"
            },
            "type": "Feature"
           },
           {
            "geometry": {
             "coordinates": [
              [
               [
                127.402,
                36.486
               ],
               [
                127.398,
                36.49
               ],
               [
                127.397,
                36.491
               ],
               [
                127.396,
                36.492
               ],
               [
                127.358,
                36.483
               ],
               [
                127.356,
                36.45
               ],
               [
                127.326,
                36.422
               ],
               [
                127.282,
                36.415
               ],
               [
                127.279,
                36.345
               ],
               [
                127.26,
                36.327
               ],
               [
                127.259,
                36.276
               ],
               [
                127.283,
                36.235
               ],
               [
                127.324,
                36.203
               ],
               [
                127.39,
                36.24
               ],
               [
                127.449,
                36.197
               ],
               [
                127.493,
                36.238
               ],
               [
                127.493,
                36.239
               ],
               [
                127.492,
                36.242
               ],
               [
                127.493,
                36.243
               ],
               [
                127.49,
                36.245
               ],
               [
                127.489,
                36.246
               ],
               [
                127.489,
                36.247
               ],
               [
                127.488,
                36.25
               ],
               [
                127.488,
                36.251
               ],
               [
                127.488,
                36.252
               ],
               [
                127.489,
                36.253
               ],
               [
                127.49,
                36.254
               ],
               [
                127.49,
                36.256
               ],
               [
                127.49,
                36.258
               ],
               [
                127.487,
                36.259
               ],
               [
                127.486,
                36.259
               ],
               [
                127.487,
                36.262
               ],
               [
                127.488,
                36.265
               ],
               [
                127.488,
                36.267
               ],
               [
                127.489,
                36.267
               ],
               [
                127.49,
                36.268
               ],
               [
                127.49,
                36.269
               ],
               [
                127.49,
                36.27
               ],
               [
                127.489,
                36.27
               ],
               [
                127.489,
                36.271
               ],
               [
                127.489,
                36.272
               ],
               [
                127.489,
                36.273
               ],
               [
                127.49,
                36.273
               ],
               [
                127.49,
                36.274
               ],
               [
                127.491,
                36.274
               ],
               [
                127.493,
                36.275
               ],
               [
                127.493,
                36.276
               ],
               [
                127.494,
                36.277
               ],
               [
                127.495,
                36.278
               ],
               [
                127.497,
                36.28
               ],
               [
                127.499,
                36.283
               ],
               [
                127.498,
                36.285
               ],
               [
                127.498,
                36.286
               ],
               [
                127.496,
                36.288
               ],
               [
                127.495,
                36.29
               ],
               [
                127.496,
                36.29
               ],
               [
                127.495,
                36.291
               ],
               [
                127.494,
                36.292
               ],
               [
                127.494,
                36.293
               ],
               [
                127.493,
                36.295
               ],
               [
                127.492,
                36.296
               ],
               [
                127.491,
                36.297
               ],
               [
                127.491,
                36.298
               ],
               [
                127.492,
                36.299
               ],
               [
                127.492,
                36.3
               ],
               [
                127.493,
                36.301
               ],
               [
                127.495,
                36.301
               ],
               [
                127.496,
                36.299
               ],
               [
                127.497,
                36.301
               ],
               [
                127.497,
                36.302
               ],
               [
                127.499,
                36.305
               ],
               [
                127.499,
                36.306
               ],
               [
                127.499,
                36.307
               ],
               [
                127.496,
                36.311
               ],
               [
                127.495,
                36.312
               ],
               [
                127.496,
                36.314
               ],
               [
                127.497,
                36.314
               ],
               [
                127.497,
                36.315
               ],
               [
                127.498,
                36.316
               ],
               [
                127.497,
                36.317
               ],
               [
                127.497,
                36.318
               ],
               [
                127.497,
                36.319
               ],
               [
                127.499,
                36.321
               ],
               [
                127.5,
                36.321
               ],
               [
                127.5,
                36.322
               ],
               [
                127.501,
                36.322
               ],
               [
                127.501,
                36.323
               ],
               [
                127.502,
                36.323
               ],
               [
                127.502,
                36.324
               ],
               [
                127.502,
                36.325
               ],
               [
                127.503,
                36.325
               ],
               [
                127.503,
                36.326
               ],
               [
                127.502,
                36.328
               ],
               [
                127.502,
                36.33
               ],
               [
                127.502,
                36.331
               ],
               [
                127.502,
                36.332
               ],
               [
                127.501,
                36.333
               ],
               [
                127.501,
                36.334
               ],
               [
                127.501,
                36.335
               ],
               [
                127.502,
                36.336
               ],
               [
                127.501,
                36.337
               ],
               [
                127.501,
                36.339
               ],
               [
                127.501,
                36.34
               ],
               [
                127.502,
                36.34
               ],
               [
                127.504,
                36.341
               ],
               [
                127.505,
                36.341
               ],
               [
                127.504,
                36.342
               ],
               [
                127.505,
                36.342
               ],
               [
                127.507,
                36.343
               ],
               [
                127.508,
                36.344
               ],
               [
                127.508,
                36.345
               ],
               [
                127.507,
                36.346
               ],
               [
                127.51,
                36.347
               ],
               [
                127.51,
                36.346
               ],
               [
                127.512,
                36.346
               ],
               [
                127.513,
                36.347
               ],
               [
                127.517,
                36.348
               ],
               [
                127.517,
                36.349
               ],
               [
                127.517,
                36.35
               ],
               [
                127.519,
                36.35
               ],
               [
                127.52,
                36.351
               ],
               [
                127.522,
                36.353
               ],
               [
                127.522,
                36.354
               ],
               [
                127.523,
                36.355
               ],
               [
                127.523,
                36.356
               ],
               [
                127.523,
                36.357
               ],
               [
                127.522,
                36.358
               ],
               [
                127.523,
                36.359
               ],
               [
                127.524,
                36.36
               ],
               [
                127.524,
                36.361
               ],
               [
                127.524,
                36.362
               ],
               [
                127.525,
                36.363
               ],
               [
                127.525,
                36.364
               ],
               [
                127.524,
                36.365
               ],
               [
                127.524,
                36.366
               ],
               [
                127.525,
                36.366
               ],
               [
                127.526,
                36.368
               ],
               [
                127.526,
                36.372
               ],
               [
                127.525,
                36.376
               ],
               [
                127.525,
                36.377
               ],
               [
                127.526,
                36.379
               ],
               [
                127.525,
                36.38
               ],
               [
                127.525,
                36.382
               ],
               [
                127.525,
                36.384
               ],
               [
                127.525,
                36.386
               ],
               [
                127.525,
                36.388
               ],
               [
                127.526,
                36.387
               ],
               [
                127.527,
                36.388
               ],
               [
                127.528,
                36.389
               ],
               [
                127.529,
                36.389
               ],
               [
                127.529,
                36.39
               ],
               [
                127.53,
                36.391
               ],
               [
                127.531,
                36.391
               ],
               [
                127.532,
                36.391
               ],
               [
                127.533,
                36.392
               ],
               [
                127.534,
                36.393
               ],
               [
                127.533,
                36.393
               ],
               [
                127.533,
                36.394
               ],
               [
                127.535,
                36.394
               ],
               [
                127.536,
                36.395
               ],
               [
                127.537,
                36.395
               ],
               [
                127.545,
                36.396
               ],
               [
                127.55,
                36.397
               ],
               [
                127.551,
                36.396
               ],
               [
                127.551,
                36.395
               ],
               [
                127.554,
                36.395
               ],
               [
                127.557,
                36.397
               ],
               [
                127.559,
                36.398
               ],
               [
                127.56,
                36.398
               ],
               [
                127.559,
                36.399
               ],
               [
                127.559,
                36.4
               ],
               [
                127.558,
                36.4
               ],
               [
                127.557,
                36.4
               ],
               [
                127.555,
                36.4
               ],
               [
                127.554,
                36.401
               ],
               [
                127.552,
                36.405
               ],
               [
                127.551,
                36.406
               ],
               [
                127.55,
                36.407
               ],
               [
                127.548,
                36.408
               ],
               [
                127.547,
                36.408
               ],
               [
                127.546,
                36.409
               ],
               [
                127.542,
                36.416
               ],
               [
                127.542,
                36.419
               ],
               [
                127.539,
                36.42
               ],
               [
                127.538,
                36.42
               ],
               [
                127.537,
                36.42
               ],
               [
                127.535,
                36.419
               ],
               [
                127.534,
                36.419
               ],
               [
                127.533,
                36.419
               ],
               [
                127.529,
                36.42
               ],
               [
                127.528,
                36.421
               ],
               [
                127.527,
                36.421
               ],
               [
                127.526,
                36.421
               ],
               [
                127.526,
                36.422
               ],
               [
                127.524,
                36.423
               ],
               [
                127.523,
                36.423
               ],
               [
                127.521,
                36.421
               ],
               [
                127.52,
                36.42
               ],
               [
                127.519,
                36.42
               ],
               [
                127.518,
                36.421
               ],
               [
                127.517,
                36.421
               ],
               [
                127.517,
                36.422
               ],
               [
                127.516,
                36.422
               ],
               [
                127.515,
                36.422
               ],
               [
                127.514,
                36.419
               ],
               [
                127.513,
                36.418
               ],
               [
                127.513,
                36.416
               ],
               [
                127.511,
                36.411
               ],
               [
                127.511,
                36.41
               ],
               [
                127.51,
                36.409
               ],
               [
                127.509,
                36.409
               ],
               [
                127.506,
                36.408
               ],
               [
                127.502,
                36.409
               ],
               [
                127.5,
                36.412
               ],
               [
                127.5,
                36.413
               ],
               [
                127.499,
                36.413
               ],
               [
                127.498,
                36.415
               ],
               [
                127.497,
                36.416
               ],
               [
                127.497,
                36.419
               ],
               [
                127.497,
                36.42
               ],
               [
                127.496,
                36.421
               ],
               [
                127.495,
                36.424
               ],
               [
                127.494,
                36.425
               ],
               [
                127.493,
                36.426
               ],
               [
                127.493,
                36.427
               ],
               [
                127.492,
                36.428
               ],
               [
                127.492,
                36.429
               ],
               [
                127.491,
                36.43
               ],
               [
                127.49,
                36.432
               ],
               [
                127.49,
                36.434
               ],
               [
                127.491,
                36.436
               ],
               [
                127.492,
                36.439
               ],
               [
                127.493,
                36.44
               ],
               [
                127.494,
                36.441
               ],
               [
                127.496,
                36.444
               ],
               [
                127.497,
                36.445
               ],
               [
                127.499,
                36.446
               ],
               [
                127.5,
                36.447
               ],
               [
                127.501,
                36.447
               ],
               [
                127.501,
                36.448
               ],
               [
                127.502,
                36.449
               ],
               [
                127.503,
                36.449
               ],
               [
                127.504,
                36.45
               ],
               [
                127.504,
                36.452
               ],
               [
                127.503,
                36.455
               ],
               [
                127.503,
                36.456
               ],
               [
                127.501,
                36.456
               ],
               [
                127.499,
                36.456
               ],
               [
                127.498,
                36.455
               ],
               [
                127.497,
                36.455
               ],
               [
                127.496,
                36.455
               ],
               [
                127.494,
                36.454
               ],
               [
                127.493,
                36.454
               ],
               [
                127.491,
                36.453
               ],
               [
                127.485,
                36.453
               ],
               [
                127.483,
                36.453
               ],
               [
                127.482,
                36.454
               ],
               [
                127.48,
                36.456
               ],
               [
                127.478,
                36.457
               ],
               [
                127.478,
                36.458
               ],
               [
                127.477,
                36.459
               ],
               [
                127.478,
                36.46
               ],
               [
                127.478,
                36.461
               ],
               [
                127.478,
                36.462
               ],
               [
                127.479,
                36.463
               ],
               [
                127.479,
                36.464
               ],
               [
                127.48,
                36.465
               ],
               [
                127.481,
                36.465
               ],
               [
                127.481,
                36.466
               ],
               [
                127.482,
                36.467
               ],
               [
                127.482,
                36.468
               ],
               [
                127.483,
                36.468
               ],
               [
                127.483,
                36.469
               ],
               [
                127.483,
                36.47
               ],
               [
                127.484,
                36.471
               ],
               [
                127.484,
                36.472
               ],
               [
                127.484,
                36.474
               ],
               [
                127.485,
                36.475
               ],
               [
                127.484,
                36.476
               ],
               [
                127.484,
                36.477
               ],
               [
                127.481,
                36.477
               ],
               [
                127.476,
                36.476
               ],
               [
                127.474,
                36.476
               ],
               [
                127.472,
                36.475
               ],
               [
                127.47,
                36.474
               ],
               [
                127.47,
                36.473
               ],
               [
                127.466,
                36.47
               ],
               [
                127.466,
                36.469
               ],
               [
                127.466,
                36.468
               ],
               [
                127.465,
                36.468
               ],
               [
                127.465,
                36.467
               ],
               [
                127.464,
                36.465
               ],
               [
                127.464,
                36.464
               ],
               [
                127.464,
                36.463
               ],
               [
                127.464,
                36.46
               ],
               [
                127.463,
                36.46
               ],
               [
                127.463,
                36.456
               ],
               [
                127.462,
                36.456
               ],
               [
                127.462,
                36.455
               ],
               [
                127.461,
                36.454
               ],
               [
                127.459,
                36.452
               ],
               [
                127.458,
                36.452
               ],
               [
                127.457,
                36.452
               ],
               [
                127.457,
                36.451
               ],
               [
                127.456,
                36.451
               ],
               [
                127.454,
                36.45
               ],
               [
                127.453,
                36.45
               ],
               [
                127.452,
                36.449
               ],
               [
                127.45,
                36.449
               ],
               [
                127.447,
                36.449
               ],
               [
                127.446,
                36.45
               ],
               [
                127.445,
                36.45
               ],
               [
                127.444,
                36.45
               ],
               [
                127.443,
                36.451
               ],
               [
                127.442,
                36.451
               ],
               [
                127.442,
                36.452
               ],
               [
                127.441,
                36.452
               ],
               [
                127.441,
                36.453
               ],
               [
                127.44,
                36.453
               ],
               [
                127.44,
                36.454
               ],
               [
                127.439,
                36.454
               ],
               [
                127.439,
                36.455
               ],
               [
                127.438,
                36.455
               ],
               [
                127.438,
                36.456
               ],
               [
                127.434,
                36.456
               ],
               [
                127.435,
                36.456
               ],
               [
                127.436,
                36.456
               ],
               [
                127.437,
                36.456
               ],
               [
                127.436,
                36.456
               ],
               [
                127.435,
                36.456
               ],
               [
                127.434,
                36.457
               ],
               [
                127.432,
                36.457
               ],
               [
                127.431,
                36.457
               ],
               [
                127.43,
                36.457
               ],
               [
                127.428,
                36.457
               ],
               [
                127.425,
                36.456
               ],
               [
                127.424,
                36.456
               ],
               [
                127.42,
                36.455
               ],
               [
                127.419,
                36.455
               ],
               [
                127.418,
                36.455
               ],
               [
                127.417,
                36.455
               ],
               [
                127.416,
                36.455
               ],
               [
                127.414,
                36.455
               ],
               [
                127.413,
                36.455
               ],
               [
                127.412,
                36.455
               ],
               [
                127.409,
                36.455
               ],
               [
                127.408,
                36.455
               ],
               [
                127.407,
                36.455
               ],
               [
                127.406,
                36.455
               ],
               [
                127.403,
                36.455
               ],
               [
                127.403,
                36.456
               ],
               [
                127.4,
                36.455
               ],
               [
                127.4,
                36.456
               ],
               [
                127.399,
                36.456
               ],
               [
                127.399,
                36.457
               ],
               [
                127.4,
                36.458
               ],
               [
                127.4,
                36.462
               ],
               [
                127.399,
                36.462
               ],
               [
                127.399,
                36.463
               ],
               [
                127.399,
                36.464
               ],
               [
                127.4,
                36.465
               ],
               [
                127.399,
                36.466
               ],
               [
                127.399,
                36.467
               ],
               [
                127.398,
                36.468
               ],
               [
                127.398,
                36.469
               ],
               [
                127.398,
                36.47
               ],
               [
                127.398,
                36.471
               ],
               [
                127.398,
                36.472
               ],
               [
                127.399,
                36.472
               ],
               [
                127.399,
                36.473
               ],
               [
                127.402,
                36.473
               ],
               [
                127.403,
                36.474
               ],
               [
                127.404,
                36.477
               ],
               [
                127.404,
                36.478
               ],
               [
                127.403,
                36.484
               ],
               [
                127.402,
                36.486
               ]
              ]
             ],
             "type": "Polygon"
            },
            "properties": {
             "CTPRVN_CD": "30",
             "CTP_ENG_NM": "Daejeon",
             "CTP_KOR_NM": "대전광역시"
            },
            "type": "Feature"
           },
           {
            "geometry": {
             "coordinates": [
              [
               [
                129.346,
                35.465
               ],
               [
                129.408,
                35.493
               ],
               [
                129.439,
                35.487
               ],
               [
                129.464,
                35.586
               ],
               [
                129.441,
                35.644
               ],
               [
                129.354,
                35.679
               ],
               [
                129.296,
                35.645
               ],
               [
                129.26,
                35.655
               ],
               [
                129.262,
                35.693
               ],
               [
                129.205,
                35.721
               ],
               [
                129.102,
                35.706
               ],
               [
                129.07,
                35.682
               ],
               [
                129.022,
                35.614
               ],
               [
                129.019,
                35.584
               ],
               [
                128.978,
                35.563
               ],
               [
                129.011,
                35.523
               ],
               [
                129.107,
                35.495
               ],
               [
                129.14,
                35.449
               ],
               [
                129.197,
                35.438
               ],
               [
                129.219,
                35.379
               ],
               [
                129.263,
                35.386
               ],
               [
                129.28,
                35.341
               ],
               [
                129.312,
                35.33
               ],
               [
                129.354,
                35.393
               ],
               [
                129.346,
                35.465
               ]
              ]
             ],
             "type": "Polygon"
            },
            "properties": {
             "CTPRVN_CD": "31",
             "CTP_ENG_NM": "Ulsan",
             "CTP_KOR_NM": "울산광역시"
            },
            "type": "Feature"
           },
           {
            "geometry": {
             "coordinates": [
              [
               [
                127.178,
                36.597
               ],
               [
                127.194,
                36.565
               ],
               [
                127.173,
                36.536
               ],
               [
                127.173,
                36.499
               ],
               [
                127.226,
                36.422
               ],
               [
                127.326,
                36.422
               ],
               [
                127.356,
                36.45
               ],
               [
                127.358,
                36.483
               ],
               [
                127.41,
                36.495
               ],
               [
                127.402,
                36.541
               ],
               [
                127.337,
                36.57
               ],
               [
                127.306,
                36.602
               ],
               [
                127.289,
                36.659
               ],
               [
                127.197,
                36.728
               ],
               [
                127.16,
                36.733
               ],
               [
                127.134,
                36.707
               ],
               [
                127.155,
                36.664
               ],
               [
                127.155,
                36.607
               ],
               [
                127.178,
                36.597
               ]
              ]
             ],
             "type": "Polygon"
            },
            "properties": {
             "CTPRVN_CD": "36",
             "CTP_ENG_NM": "Sejong-si",
             "CTP_KOR_NM": "세종특별자치시"
            },
            "type": "Feature"
           },
           {
            "geometry": {
             "coordinates": [
              [
               [
                127.127,
                37.469
               ],
               [
                127.071,
                37.432
               ],
               [
                127.003,
                37.467
               ],
               [
                126.959,
                37.439
               ],
               [
                126.903,
                37.434
               ],
               [
                126.872,
                37.485
               ],
               [
                126.819,
                37.479
               ],
               [
                126.821,
                37.541
               ],
               [
                126.763,
                37.547
               ],
               [
                126.742,
                37.487
               ],
               [
                126.777,
                37.472
               ],
               [
                126.769,
                37.428
               ],
               [
                126.69,
                37.335
               ],
               [
                126.718,
                37.308
               ],
               [
                126.821,
                37.292
               ],
               [
                126.79,
                37.244
               ],
               [
                126.687,
                37.262
               ],
               [
                126.65,
                37.225
               ],
               [
                126.618,
                37.256
               ],
               [
                126.557,
                37.277
               ],
               [
                126.561,
                37.237
               ],
               [
                126.623,
                37.234
               ],
               [
                126.67,
                37.156
               ],
               [
                126.684,
                37.112
               ],
               [
                126.789,
                37.03
               ],
               [
                126.789,
                36.995
               ],
               [
                126.825,
                36.982
               ],
               [
                126.839,
                36.918
               ],
               [
                126.857,
                36.908
               ],
               [
                126.94,
                36.917
               ],
               [
                126.986,
                36.932
               ],
               [
                127.075,
                36.94
               ],
               [
                127.112,
                36.972
               ],
               [
                127.201,
                36.952
               ],
               [
                127.219,
                36.93
               ],
               [
                127.303,
                36.916
               ],
               [
                127.35,
                36.953
               ],
               [
                127.375,
                36.949
               ],
               [
                127.394,
                36.998
               ],
               [
                127.429,
                37.002
               ],
               [
                127.46,
                37.046
               ],
               [
                127.533,
                37.055
               ],
               [
                127.632,
                37.096
               ],
               [
                127.638,
                37.141
               ],
               [
                127.689,
                37.136
               ],
               [
                127.749,
                37.222
               ],
               [
                127.768,
                37.31
               ],
               [
                127.763,
                37.37
               ],
               [
                127.804,
                37.432
               ],
               [
                127.796,
                37.463
               ],
               [
                127.76,
                37.503
               ],
               [
                127.848,
                37.552
               ],
               [
                127.755,
                37.592
               ],
               [
                127.708,
                37.586
               ],
               [
                127.662,
                37.624
               ],
               [
                127.609,
                37.65
               ],
               [
                127.559,
                37.628
               ],
               [
                127.562,
                37.72
               ],
               [
                127.522,
                37.789
               ],
               [
                127.529,
                37.84
               ],
               [
                127.617,
                37.906
               ],
               [
                127.602,
                37.955
               ],
               [
                127.547,
                37.966
               ],
               [
                127.54,
                38.001
               ],
               [
                127.458,
                38.017
               ],
               [
                127.44,
                38.109
               ],
               [
                127.379,
                38.118
               ],
               [
                127.321,
                38.095
               ],
               [
                127.276,
                38.125
               ],
               [
                127.284,
                38.183
               ],
               [
                127.221,
                38.138
               ],
               [
                127.189,
                38.162
               ],
               [
                127.175,
                38.205
               ],
               [
                127.111,
                38.241
               ],
               [
                127.063,
                38.241
               ],
               [
                127.048,
                38.218
               ],
               [
                126.986,
                38.2
               ],
               [
                126.952,
                38.158
               ],
               [
                126.905,
                38.138
               ],
               [
                126.856,
                38.097
               ],
               [
                126.852,
                38.035
               ],
               [
                126.818,
                37.998
               ],
               [
                126.719,
                37.965
               ],
               [
                126.672,
                37.958
               ],
               [
                126.666,
                37.919
               ],
               [
                126.686,
                37.858
               ],
               [
                126.67,
                37.846
               ],
               [
                126.663,
                37.781
               ],
               [
                126.531,
                37.75
               ],
               [
                126.528,
                37.673
               ],
               [
                126.572,
                37.599
               ],
               [
                126.626,
                37.603
               ],
               [
                126.672,
                37.634
               ],
               [
                126.726,
                37.592
               ],
               [
                126.819,
                37.593
               ],
               [
                126.854,
                37.574
               ],
               [
                126.897,
                37.589
               ],
               [
                126.912,
                37.644
               ],
               [
                126.964,
                37.63
               ],
               [
                127.015,
                37.701
               ],
               [
                127.096,
                37.689
               ],
               [
                127.129,
                37.566
               ],
               [
                127.176,
                37.575
               ],
               [
                127.142,
                37.516
               ],
               [
                127.157,
                37.49
               ],
               [
                127.159,
                37.49
               ],
               [
                127.158,
                37.489
               ],
               [
                127.156,
                37.489
               ],
               [
                127.155,
                37.488
               ],
               [
                127.156,
                37.488
               ],
               [
                127.148,
                37.482
               ],
               [
                127.147,
                37.477
               ],
               [
                127.144,
                37.476
               ],
               [
                127.144,
                37.475
               ],
               [
                127.144,
                37.474
               ],
               [
                127.136,
                37.474
               ],
               [
                127.135,
                37.474
               ],
               [
                127.134,
                37.475
               ],
               [
                127.133,
                37.475
               ],
               [
                127.133,
                37.474
               ],
               [
                127.133,
                37.472
               ],
               [
                127.133,
                37.471
               ],
               [
                127.132,
                37.47
               ],
               [
                127.132,
                37.469
               ],
               [
                127.132,
                37.468
               ],
               [
                127.131,
                37.468
               ],
               [
                127.127,
                37.469
               ]
              ],
              [
               [
                126.789,
                37.174
               ],
               [
                126.756,
                37.056
               ],
               [
                126.686,
                37.112
               ],
               [
                126.75,
                37.168
               ],
               [
                126.789,
                37.174
               ]
              ]
             ],
             "type": "Polygon"
            },
            "properties": {
             "CTPRVN_CD": "41",
             "CTP_ENG_NM": "Gyeonggi-do",
             "CTP_KOR_NM": "경기도"
            },
            "type": "Feature"
           },
           {
            "geometry": {
             "coordinates": [
              [
               [
                128.549,
                38.302
               ],
               [
                128.513,
                38.346
               ],
               [
                128.509,
                38.373
               ],
               [
                128.456,
                38.433
               ],
               [
                128.41,
                38.553
               ],
               [
                128.372,
                38.591
               ],
               [
                128.335,
                38.526
               ],
               [
                128.346,
                38.501
               ],
               [
                128.31,
                38.42
               ],
               [
                128.269,
                38.416
               ],
               [
                128.267,
                38.377
               ],
               [
                128.214,
                38.37
               ],
               [
                128.198,
                38.333
               ],
               [
                128.113,
                38.328
               ],
               [
                128.08,
                38.288
               ],
               [
                127.982,
                38.281
               ],
               [
                127.942,
                38.306
               ],
               [
                127.895,
                38.313
               ],
               [
                127.861,
                38.283
               ],
               [
                127.811,
                38.288
               ],
               [
                127.759,
                38.319
               ],
               [
                127.703,
                38.309
               ],
               [
                127.682,
                38.326
               ],
               [
                127.577,
                38.336
               ],
               [
                127.498,
                38.3
               ],
               [
                127.465,
                38.319
               ],
               [
                127.384,
                38.334
               ],
               [
                127.353,
                38.304
               ],
               [
                127.291,
                38.301
               ],
               [
                127.242,
                38.333
               ],
               [
                127.131,
                38.301
               ],
               [
                127.102,
                38.273
               ],
               [
                127.114,
                38.237
               ],
               [
                127.163,
                38.238
               ],
               [
                127.189,
                38.162
               ],
               [
                127.221,
                38.138
               ],
               [
                127.284,
                38.183
               ],
               [
                127.276,
                38.125
               ],
               [
                127.321,
                38.095
               ],
               [
                127.379,
                38.118
               ],
               [
                127.44,
                38.109
               ],
               [
                127.458,
                38.017
               ],
               [
                127.54,
                38.001
               ],
               [
                127.547,
                37.966
               ],
               [
                127.602,
                37.955
               ],
               [
                127.617,
                37.906
               ],
               [
                127.529,
                37.84
               ],
               [
                127.522,
                37.789
               ],
               [
                127.562,
                37.72
               ],
               [
                127.559,
                37.628
               ],
               [
                127.609,
                37.65
               ],
               [
                127.662,
                37.624
               ],
               [
                127.708,
                37.586
               ],
               [
                127.755,
                37.592
               ],
               [
                127.848,
                37.552
               ],
               [
                127.76,
                37.503
               ],
               [
                127.796,
                37.463
               ],
               [
                127.804,
                37.432
               ],
               [
                127.763,
                37.37
               ],
               [
                127.768,
                37.31
               ],
               [
                127.744,
                37.211
               ],
               [
                127.756,
                37.171
               ],
               [
                127.79,
                37.143
               ],
               [
                127.872,
                37.164
               ],
               [
                127.902,
                37.152
               ],
               [
                127.934,
                37.176
               ],
               [
                127.922,
                37.225
               ],
               [
                127.98,
                37.258
               ],
               [
                128.019,
                37.244
               ],
               [
                128.037,
                37.189
               ],
               [
                128.164,
                37.213
               ],
               [
                128.208,
                37.249
               ],
               [
                128.268,
                37.208
               ],
               [
                128.314,
                37.223
               ],
               [
                128.326,
                37.197
               ],
               [
                128.27,
                37.162
               ],
               [
                128.298,
                37.134
               ],
               [
                128.335,
                37.157
               ],
               [
                128.384,
                37.158
               ],
               [
                128.423,
                37.103
               ],
               [
                128.478,
                37.11
               ],
               [
                128.549,
                37.087
               ],
               [
                128.628,
                37.075
               ],
               [
                128.7,
                37.041
               ],
               [
                128.753,
                37.054
               ],
               [
                128.774,
                37.088
               ],
               [
                128.829,
                37.078
               ],
               [
                128.847,
                37.052
               ],
               [
                128.91,
                37.066
               ],
               [
                128.923,
                37.092
               ],
               [
                129.064,
                37.068
               ],
               [
                129.096,
                37.1
               ],
               [
                129.162,
                37.069
               ],
               [
                129.195,
                37.041
               ],
               [
                129.271,
                37.116
               ],
               [
                129.325,
                37.142
               ],
               [
                129.355,
                37.235
               ],
               [
                129.267,
                37.323
               ],
               [
                129.251,
                37.38
               ],
               [
                129.198,
                37.415
               ],
               [
                129.189,
                37.452
               ],
               [
                129.122,
                37.521
               ],
               [
                129.116,
                37.579
               ],
               [
                129.054,
                37.621
               ],
               [
                129.055,
                37.675
               ],
               [
                128.879,
                37.829
               ],
               [
                128.795,
                37.928
               ],
               [
                128.733,
                38.018
               ],
               [
                128.695,
                38.045
               ],
               [
                128.669,
                38.086
               ],
               [
                128.608,
                38.152
               ],
               [
                128.598,
                38.215
               ],
               [
                128.56,
                38.257
               ],
               [
                128.549,
                38.302
               ]
              ]
             ],
             "type": "Polygon"
            },
            "properties": {
             "CTPRVN_CD": "42",
             "CTP_ENG_NM": "Gangwon-do",
             "CTP_KOR_NM": "강원도"
            },
            "type": "Feature"
           },
           {
            "geometry": {
             "coordinates": [
              [
               [
                127.493,
                36.238
               ],
               [
                127.533,
                36.251
               ],
               [
                127.598,
                36.217
               ],
               [
                127.589,
                36.134
               ],
               [
                127.653,
                36.057
               ],
               [
                127.766,
                36.012
               ],
               [
                127.853,
                36.039
               ],
               [
                127.868,
                36.024
               ],
               [
                127.961,
                36.07
               ],
               [
                127.965,
                36.113
               ],
               [
                127.989,
                36.133
               ],
               [
                127.975,
                36.188
               ],
               [
                128.01,
                36.209
               ],
               [
                128.056,
                36.202
               ],
               [
                128.011,
                36.272
               ],
               [
                127.968,
                36.25
               ],
               [
                127.892,
                36.292
               ],
               [
                127.852,
                36.274
               ],
               [
                127.842,
                36.308
               ],
               [
                127.883,
                36.346
               ],
               [
                127.864,
                36.403
               ],
               [
                127.88,
                36.493
               ],
               [
                127.896,
                36.531
               ],
               [
                127.87,
                36.559
               ],
               [
                127.798,
                36.586
               ],
               [
                127.848,
                36.625
               ],
               [
                127.931,
                36.624
               ],
               [
                127.929,
                36.691
               ],
               [
                127.957,
                36.736
               ],
               [
                128.05,
                36.708
               ],
               [
                128.032,
                36.748
               ],
               [
                128.06,
                36.817
               ],
               [
                128.093,
                36.803
               ],
               [
                128.151,
                36.823
               ],
               [
                128.216,
                36.812
               ],
               [
                128.242,
                36.872
               ],
               [
                128.282,
                36.856
               ],
               [
                128.321,
                36.816
               ],
               [
                128.42,
                36.812
               ],
               [
                128.449,
                36.848
               ],
               [
                128.424,
                36.877
               ],
               [
                128.442,
                36.927
               ],
               [
                128.515,
                36.987
               ],
               [
                128.57,
                37.014
               ],
               [
                128.582,
                37.043
               ],
               [
                128.633,
                37.041
               ],
               [
                128.651,
                37.066
               ],
               [
                128.549,
                37.087
               ],
               [
                128.478,
                37.11
               ],
               [
                128.423,
                37.103
               ],
               [
                128.384,
                37.158
               ],
               [
                128.335,
                37.157
               ],
               [
                128.298,
                37.134
               ],
               [
                128.27,
                37.162
               ],
               [
                128.326,
                37.197
               ],
               [
                128.314,
                37.223
               ],
               [
                128.268,
                37.208
               ],
               [
                128.208,
                37.249
               ],
               [
                128.164,
                37.213
               ],
               [
                128.037,
                37.189
               ],
               [
                128.019,
                37.244
               ],
               [
                127.98,
                37.258
               ],
               [
                127.922,
                37.225
               ],
               [
                127.934,
                37.176
               ],
               [
                127.902,
                37.152
               ],
               [
                127.872,
                37.164
               ],
               [
                127.79,
                37.143
               ],
               [
                127.718,
                37.184
               ],
               [
                127.689,
                37.136
               ],
               [
                127.638,
                37.141
               ],
               [
                127.632,
                37.096
               ],
               [
                127.533,
                37.055
               ],
               [
                127.46,
                37.046
               ],
               [
                127.429,
                37.002
               ],
               [
                127.394,
                36.998
               ],
               [
                127.375,
                36.949
               ],
               [
                127.35,
                36.953
               ],
               [
                127.29,
                36.892
               ],
               [
                127.402,
                36.795
               ],
               [
                127.42,
                36.758
               ],
               [
                127.365,
                36.762
               ],
               [
                127.309,
                36.722
               ],
               [
                127.289,
                36.659
               ],
               [
                127.306,
                36.602
               ],
               [
                127.337,
                36.57
               ],
               [
                127.402,
                36.541
               ],
               [
                127.396,
                36.492
               ],
               [
                127.397,
                36.491
               ],
               [
                127.398,
                36.49
               ],
               [
                127.402,
                36.486
               ],
               [
                127.403,
                36.484
               ],
               [
                127.404,
                36.478
               ],
               [
                127.404,
                36.477
               ],
               [
                127.403,
                36.474
               ],
               [
                127.402,
                36.473
               ],
               [
                127.399,
                36.473
               ],
               [
                127.399,
                36.472
               ],
               [
                127.398,
                36.472
               ],
               [
                127.398,
                36.471
               ],
               [
                127.398,
                36.47
               ],
               [
                127.398,
                36.469
               ],
               [
                127.398,
                36.468
               ],
               [
                127.399,
                36.467
               ],
               [
                127.399,
                36.466
               ],
               [
                127.4,
                36.465
               ],
               [
                127.399,
                36.464
               ],
               [
                127.399,
                36.463
               ],
               [
                127.399,
                36.462
               ],
               [
                127.4,
                36.462
               ],
               [
                127.4,
                36.458
               ],
               [
                127.399,
                36.457
               ],
               [
                127.399,
                36.456
               ],
               [
                127.4,
                36.456
               ],
               [
                127.4,
                36.455
               ],
               [
                127.403,
                36.456
               ],
               [
                127.403,
                36.455
               ],
               [
                127.406,
                36.455
               ],
               [
                127.407,
                36.455
               ],
               [
                127.408,
                36.455
               ],
               [
                127.409,
                36.455
               ],
               [
                127.412,
                36.455
               ],
               [
                127.413,
                36.455
               ],
               [
                127.414,
                36.455
               ],
               [
                127.416,
                36.455
               ],
               [
                127.417,
                36.455
               ],
               [
                127.418,
                36.455
               ],
               [
                127.419,
                36.455
               ],
               [
                127.42,
                36.455
               ],
               [
                127.424,
                36.456
               ],
               [
                127.425,
                36.456
               ],
               [
                127.428,
                36.457
               ],
               [
                127.43,
                36.457
               ],
               [
                127.431,
                36.457
               ],
               [
                127.432,
                36.457
               ],
               [
                127.434,
                36.457
               ],
               [
                127.435,
                36.456
               ],
               [
                127.436,
                36.456
               ],
               [
                127.437,
                36.456
               ],
               [
                127.436,
                36.456
               ],
               [
                127.435,
                36.456
               ],
               [
                127.434,
                36.456
               ],
               [
                127.438,
                36.456
               ],
               [
                127.438,
                36.455
               ],
               [
                127.439,
                36.455
               ],
               [
                127.439,
                36.454
               ],
               [
                127.44,
                36.454
               ],
               [
                127.44,
                36.453
               ],
               [
                127.441,
                36.453
               ],
               [
                127.441,
                36.452
               ],
               [
                127.442,
                36.452
               ],
               [
                127.442,
                36.451
               ],
               [
                127.443,
                36.451
               ],
               [
                127.444,
                36.45
               ],
               [
                127.445,
                36.45
               ],
               [
                127.446,
                36.45
               ],
               [
                127.447,
                36.449
               ],
               [
                127.45,
                36.449
               ],
               [
                127.452,
                36.449
               ],
               [
                127.453,
                36.45
               ],
               [
                127.454,
                36.45
               ],
               [
                127.456,
                36.451
               ],
               [
                127.457,
                36.451
               ],
               [
                127.457,
                36.452
               ],
               [
                127.458,
                36.452
               ],
               [
                127.459,
                36.452
               ],
               [
                127.461,
                36.454
               ],
               [
                127.462,
                36.455
               ],
               [
                127.462,
                36.456
               ],
               [
                127.463,
                36.456
               ],
               [
                127.463,
                36.46
               ],
               [
                127.464,
                36.46
               ],
               [
                127.464,
                36.463
               ],
               [
                127.464,
                36.464
               ],
               [
                127.464,
                36.465
               ],
               [
                127.465,
                36.467
               ],
               [
                127.465,
                36.468
               ],
               [
                127.466,
                36.468
               ],
               [
                127.466,
                36.469
               ],
               [
                127.466,
                36.47
               ],
               [
                127.47,
                36.473
               ],
               [
                127.47,
                36.474
               ],
               [
                127.472,
                36.475
               ],
               [
                127.474,
                36.476
               ],
               [
                127.476,
                36.476
               ],
               [
                127.481,
                36.477
               ],
               [
                127.484,
                36.477
               ],
               [
                127.484,
                36.476
               ],
               [
                127.485,
                36.475
               ],
               [
                127.484,
                36.474
               ],
               [
                127.484,
                36.472
               ],
               [
                127.484,
                36.471
               ],
               [
                127.483,
                36.47
               ],
               [
                127.483,
                36.469
               ],
               [
                127.483,
                36.468
               ],
               [
                127.482,
                36.468
               ],
               [
                127.482,
                36.467
               ],
               [
                127.481,
                36.466
               ],
               [
                127.481,
                36.465
               ],
               [
                127.48,
                36.465
               ],
               [
                127.479,
                36.464
               ],
               [
                127.479,
                36.463
               ],
               [
                127.478,
                36.462
               ],
               [
                127.478,
                36.461
               ],
               [
                127.478,
                36.46
               ],
               [
                127.477,
                36.459
               ],
               [
                127.478,
                36.458
               ],
               [
                127.478,
                36.457
               ],
               [
                127.48,
                36.456
               ],
               [
                127.482,
                36.454
               ],
               [
                127.483,
                36.453
               ],
               [
                127.485,
                36.453
               ],
               [
                127.491,
                36.453
               ],
               [
                127.493,
                36.454
               ],
               [
                127.494,
                36.454
               ],
               [
                127.496,
                36.455
               ],
               [
                127.497,
                36.455
               ],
               [
                127.498,
                36.455
               ],
               [
                127.499,
                36.456
               ],
               [
                127.501,
                36.456
               ],
               [
                127.503,
                36.456
               ],
               [
                127.503,
                36.455
               ],
               [
                127.504,
                36.452
               ],
               [
                127.504,
                36.45
               ],
               [
                127.503,
                36.449
               ],
               [
                127.502,
                36.449
               ],
               [
                127.501,
                36.448
               ],
               [
                127.501,
                36.447
               ],
               [
                127.5,
                36.447
               ],
               [
                127.499,
                36.446
               ],
               [
                127.497,
                36.445
               ],
               [
                127.496,
                36.444
               ],
               [
                127.494,
                36.441
               ],
               [
                127.493,
                36.44
               ],
               [
                127.492,
                36.439
               ],
               [
                127.491,
                36.436
               ],
               [
                127.49,
                36.434
               ],
               [
                127.49,
                36.432
               ],
               [
                127.491,
                36.43
               ],
               [
                127.492,
                36.429
               ],
               [
                127.492,
                36.428
               ],
               [
                127.493,
                36.427
               ],
               [
                127.493,
                36.426
               ],
               [
                127.494,
                36.425
               ],
               [
                127.495,
                36.424
               ],
               [
                127.496,
                36.421
               ],
               [
                127.497,
                36.42
               ],
               [
                127.497,
                36.419
               ],
               [
                127.497,
                36.416
               ],
               [
                127.498,
                36.415
               ],
               [
                127.499,
                36.413
               ],
               [
                127.5,
                36.413
               ],
               [
                127.5,
                36.412
               ],
               [
                127.502,
                36.409
               ],
               [
                127.506,
                36.408
               ],
               [
                127.509,
                36.409
               ],
               [
                127.51,
                36.409
               ],
               [
                127.511,
                36.41
               ],
               [
                127.511,
                36.411
               ],
               [
                127.513,
                36.416
               ],
               [
                127.513,
                36.418
               ],
               [
                127.514,
                36.419
               ],
               [
                127.515,
                36.422
               ],
               [
                127.516,
                36.422
               ],
               [
                127.517,
                36.422
               ],
               [
                127.517,
                36.421
               ],
               [
                127.518,
                36.421
               ],
               [
                127.519,
                36.42
               ],
               [
                127.52,
                36.42
               ],
               [
                127.521,
                36.421
               ],
               [
                127.523,
                36.423
               ],
               [
                127.524,
                36.423
               ],
               [
                127.526,
                36.422
               ],
               [
                127.526,
                36.421
               ],
               [
                127.527,
                36.421
               ],
               [
                127.528,
                36.421
               ],
               [
                127.529,
                36.42
               ],
               [
                127.533,
                36.419
               ],
               [
                127.534,
                36.419
               ],
               [
                127.535,
                36.419
               ],
               [
                127.537,
                36.42
               ],
               [
                127.538,
                36.42
               ],
               [
                127.539,
                36.42
               ],
               [
                127.542,
                36.419
               ],
               [
                127.542,
                36.416
               ],
               [
                127.546,
                36.409
               ],
               [
                127.547,
                36.408
               ],
               [
                127.548,
                36.408
               ],
               [
                127.55,
                36.407
               ],
               [
                127.551,
                36.406
               ],
               [
                127.552,
                36.405
               ],
               [
                127.554,
                36.401
               ],
               [
                127.555,
                36.4
               ],
               [
                127.557,
                36.4
               ],
               [
                127.558,
                36.4
               ],
               [
                127.559,
                36.4
               ],
               [
                127.559,
                36.399
               ],
               [
                127.56,
                36.398
               ],
               [
                127.559,
                36.398
               ],
               [
                127.557,
                36.397
               ],
               [
                127.554,
                36.395
               ],
               [
                127.551,
                36.395
               ],
               [
                127.551,
                36.396
               ],
               [
                127.55,
                36.397
               ],
               [
                127.545,
                36.396
               ],
               [
                127.537,
                36.395
               ],
               [
                127.536,
                36.395
               ],
               [
                127.535,
                36.394
               ],
               [
                127.533,
                36.394
               ],
               [
                127.533,
                36.393
               ],
               [
                127.534,
                36.393
               ],
               [
                127.533,
                36.392
               ],
               [
                127.532,
                36.391
               ],
               [
                127.531,
                36.391
               ],
               [
                127.53,
                36.391
               ],
               [
                127.529,
                36.39
               ],
               [
                127.529,
                36.389
               ],
               [
                127.528,
                36.389
               ],
               [
                127.527,
                36.388
               ],
               [
                127.526,
                36.387
               ],
               [
                127.525,
                36.388
               ],
               [
                127.525,
                36.386
               ],
               [
                127.525,
                36.384
               ],
               [
                127.525,
                36.382
               ],
               [
                127.525,
                36.38
               ],
               [
                127.526,
                36.379
               ],
               [
                127.525,
                36.377
               ],
               [
                127.525,
                36.376
               ],
               [
                127.526,
                36.372
               ],
               [
                127.526,
                36.368
               ],
               [
                127.525,
                36.366
               ],
               [
                127.524,
                36.366
               ],
               [
                127.524,
                36.365
               ],
               [
                127.525,
                36.364
               ],
               [
                127.525,
                36.363
               ],
               [
                127.524,
                36.362
               ],
               [
                127.524,
                36.361
               ],
               [
                127.524,
                36.36
               ],
               [
                127.523,
                36.359
               ],
               [
                127.522,
                36.358
               ],
               [
                127.523,
                36.357
               ],
               [
                127.523,
                36.356
               ],
               [
                127.523,
                36.355
               ],
               [
                127.522,
                36.354
               ],
               [
                127.522,
                36.353
               ],
               [
                127.52,
                36.351
               ],
               [
                127.519,
                36.35
               ],
               [
                127.517,
                36.35
               ],
               [
                127.517,
                36.349
               ],
               [
                127.517,
                36.348
               ],
               [
                127.513,
                36.347
               ],
               [
                127.512,
                36.346
               ],
               [
                127.51,
                36.346
               ],
               [
                127.51,
                36.347
               ],
               [
                127.507,
                36.346
               ],
               [
                127.508,
                36.345
               ],
               [
                127.508,
                36.344
               ],
               [
                127.507,
                36.343
               ],
               [
                127.505,
                36.342
               ],
               [
                127.504,
                36.342
               ],
               [
                127.505,
                36.341
               ],
               [
                127.504,
                36.341
               ],
               [
                127.502,
                36.34
               ],
               [
                127.501,
                36.34
               ],
               [
                127.501,
                36.339
               ],
               [
                127.501,
                36.337
               ],
               [
                127.502,
                36.336
               ],
               [
                127.501,
                36.335
               ],
               [
                127.501,
                36.334
               ],
               [
                127.501,
                36.333
               ],
               [
                127.502,
                36.332
               ],
               [
                127.502,
                36.331
               ],
               [
                127.502,
                36.33
               ],
               [
                127.502,
                36.328
               ],
               [
                127.503,
                36.326
               ],
               [
                127.503,
                36.325
               ],
               [
                127.502,
                36.325
               ],
               [
                127.502,
                36.324
               ],
               [
                127.502,
                36.323
               ],
               [
                127.501,
                36.323
               ],
               [
                127.501,
                36.322
               ],
               [
                127.5,
                36.322
               ],
               [
                127.5,
                36.321
               ],
               [
                127.499,
                36.321
               ],
               [
                127.497,
                36.319
               ],
               [
                127.497,
                36.318
               ],
               [
                127.497,
                36.317
               ],
               [
                127.498,
                36.316
               ],
               [
                127.497,
                36.315
               ],
               [
                127.497,
                36.314
               ],
               [
                127.496,
                36.314
               ],
               [
                127.495,
                36.312
               ],
               [
                127.496,
                36.311
               ],
               [
                127.499,
                36.307
               ],
               [
                127.499,
                36.306
               ],
               [
                127.499,
                36.305
               ],
               [
                127.497,
                36.302
               ],
               [
                127.497,
                36.301
               ],
               [
                127.496,
                36.299
               ],
               [
                127.495,
                36.301
               ],
               [
                127.493,
                36.301
               ],
               [
                127.492,
                36.3
               ],
               [
                127.492,
                36.299
               ],
               [
                127.491,
                36.298
               ],
               [
                127.491,
                36.297
               ],
               [
                127.492,
                36.296
               ],
               [
                127.493,
                36.295
               ],
               [
                127.494,
                36.293
               ],
               [
                127.494,
                36.292
               ],
               [
                127.495,
                36.291
               ],
               [
                127.496,
                36.29
               ],
               [
                127.495,
                36.29
               ],
               [
                127.496,
                36.288
               ],
               [
                127.498,
                36.286
               ],
               [
                127.498,
                36.285
               ],
               [
                127.499,
                36.283
               ],
               [
                127.497,
                36.28
               ],
               [
                127.495,
                36.278
               ],
               [
                127.494,
                36.277
               ],
               [
                127.493,
                36.276
               ],
               [
                127.493,
                36.275
               ],
               [
                127.491,
                36.274
               ],
               [
                127.49,
                36.274
               ],
               [
                127.49,
                36.273
               ],
               [
                127.489,
                36.273
               ],
               [
                127.489,
                36.272
               ],
               [
                127.489,
                36.271
               ],
               [
                127.489,
                36.27
               ],
               [
                127.49,
                36.27
               ],
               [
                127.49,
                36.269
               ],
               [
                127.49,
                36.268
               ],
               [
                127.489,
                36.267
               ],
               [
                127.488,
                36.267
               ],
               [
                127.488,
                36.265
               ],
               [
                127.487,
                36.262
               ],
               [
                127.486,
                36.259
               ],
               [
                127.487,
                36.259
               ],
               [
                127.49,
                36.258
               ],
               [
                127.49,
                36.256
               ],
               [
                127.49,
                36.254
               ],
               [
                127.489,
                36.253
               ],
               [
                127.488,
                36.252
               ],
               [
                127.488,
                36.251
               ],
               [
                127.488,
                36.25
               ],
               [
                127.489,
                36.247
               ],
               [
                127.489,
                36.246
               ],
               [
                127.49,
                36.245
               ],
               [
                127.493,
                36.243
               ],
               [
                127.492,
                36.242
               ],
               [
                127.493,
                36.239
               ],
               [
                127.493,
                36.238
               ]
              ]
             ],
             "type": "Polygon"
            },
            "properties": {
             "CTPRVN_CD": "43",
             "CTP_ENG_NM": "Chungcheongbuk-do",
             "CTP_KOR_NM": "충청북도"
            },
            "type": "Feature"
           },
           {
            "geometry": {
             "coordinates": [
              [
               [
                [
                 126.236,
                 36.866
                ],
                [
                 126.205,
                 36.9
                ],
                [
                 126.184,
                 36.81
                ],
                [
                 126.16,
                 36.829
                ],
                [
                 126.124,
                 36.757
                ],
                [
                 126.166,
                 36.759
                ],
                [
                 126.156,
                 36.677
                ],
                [
                 126.193,
                 36.677
                ],
                [
                 126.274,
                 36.72
                ],
                [
                 126.264,
                 36.678
                ],
                [
                 126.291,
                 36.665
                ],
                [
                 126.301,
                 36.626
                ],
                [
                 126.399,
                 36.619
                ],
                [
                 126.456,
                 36.595
                ],
                [
                 126.488,
                 36.527
                ],
                [
                 126.48,
                 36.488
                ],
                [
                 126.506,
                 36.427
                ],
                [
                 126.51,
                 36.381
                ],
                [
                 126.546,
                 36.355
                ],
                [
                 126.504,
                 36.323
                ],
                [
                 126.547,
                 36.268
                ],
                [
                 126.538,
                 36.212
                ],
                [
                 126.509,
                 36.151
                ],
                [
                 126.591,
                 36.129
                ],
                [
                 126.633,
                 36.082
                ],
                [
                 126.676,
                 36.009
                ],
                [
                 126.736,
                 36
                ],
                [
                 126.748,
                 36.026
                ],
                [
                 126.803,
                 36.034
                ],
                [
                 126.871,
                 36.067
                ],
                [
                 126.882,
                 36.131
                ],
                [
                 126.939,
                 36.151
                ],
                [
                 127.04,
                 36.139
                ],
                [
                 127.06,
                 36.094
                ],
                [
                 127.123,
                 36.064
                ],
                [
                 127.206,
                 36.101
                ],
                [
                 127.273,
                 36.107
                ],
                [
                 127.34,
                 36.129
                ],
                [
                 127.376,
                 36.023
                ],
                [
                 127.437,
                 36.009
                ],
                [
                 127.457,
                 35.983
                ],
                [
                 127.52,
                 35.983
                ],
                [
                 127.538,
                 36.032
                ],
                [
                 127.616,
                 36.019
                ],
                [
                 127.613,
                 36.112
                ],
                [
                 127.589,
                 36.134
                ],
                [
                 127.598,
                 36.217
                ],
                [
                 127.518,
                 36.241
                ],
                [
                 127.467,
                 36.222
                ],
                [
                 127.449,
                 36.197
                ],
                [
                 127.39,
                 36.24
                ],
                [
                 127.324,
                 36.203
                ],
                [
                 127.283,
                 36.235
                ],
                [
                 127.259,
                 36.276
                ],
                [
                 127.26,
                 36.327
                ],
                [
                 127.279,
                 36.345
                ],
                [
                 127.258,
                 36.408
                ],
                [
                 127.201,
                 36.442
                ],
                [
                 127.173,
                 36.499
                ],
                [
                 127.173,
                 36.536
                ],
                [
                 127.194,
                 36.581
                ],
                [
                 127.155,
                 36.607
                ],
                [
                 127.155,
                 36.664
                ],
                [
                 127.134,
                 36.707
                ],
                [
                 127.16,
                 36.733
                ],
                [
                 127.197,
                 36.728
                ],
                [
                 127.248,
                 36.695
                ],
                [
                 127.285,
                 36.691
                ],
                [
                 127.333,
                 36.748
                ],
                [
                 127.365,
                 36.762
                ],
                [
                 127.42,
                 36.758
                ],
                [
                 127.402,
                 36.795
                ],
                [
                 127.356,
                 36.829
                ],
                [
                 127.273,
                 36.912
                ],
                [
                 127.219,
                 36.93
                ],
                [
                 127.201,
                 36.952
                ],
                [
                 127.112,
                 36.972
                ],
                [
                 127.075,
                 36.94
                ],
                [
                 126.986,
                 36.932
                ],
                [
                 126.863,
                 36.88
                ],
                [
                 126.817,
                 36.896
                ],
                [
                 126.78,
                 36.967
                ],
                [
                 126.695,
                 37
                ],
                [
                 126.628,
                 37.003
                ],
                [
                 126.497,
                 37.053
                ],
                [
                 126.45,
                 37.006
                ],
                [
                 126.353,
                 37.005
                ],
                [
                 126.376,
                 36.981
                ],
                [
                 126.386,
                 36.933
                ],
                [
                 126.421,
                 36.927
                ],
                [
                 126.37,
                 36.857
                ],
                [
                 126.328,
                 36.861
                ],
                [
                 126.33,
                 36.814
                ],
                [
                 126.281,
                 36.818
                ],
                [
                 126.313,
                 36.884
                ],
                [
                 126.3,
                 36.919
                ],
                [
                 126.236,
                 36.866
                ]
               ]
              ],
              [
               [
                [
                 126.371,
                 36.566
                ],
                [
                 126.339,
                 36.606
                ],
                [
                 126.328,
                 36.556
                ],
                [
                 126.336,
                 36.441
                ],
                [
                 126.372,
                 36.412
                ],
                [
                 126.435,
                 36.422
                ],
                [
                 126.371,
                 36.566
                ]
               ]
              ]
             ],
             "type": "MultiPolygon"
            },
            "properties": {
             "CTPRVN_CD": "44",
             "CTP_ENG_NM": "Chungcheongnam-do",
             "CTP_KOR_NM": "충청남도"
            },
            "type": "Feature"
           },
           {
            "geometry": {
             "coordinates": [
              [
               [
                126.628,
                35.978
               ],
               [
                126.523,
                35.968
               ],
               [
                126.532,
                35.933
               ],
               [
                126.497,
                35.848
               ],
               [
                126.477,
                35.824
               ],
               [
                126.519,
                35.736
               ],
               [
                126.556,
                35.698
               ],
               [
                126.468,
                35.642
               ],
               [
                126.462,
                35.61
               ],
               [
                126.503,
                35.583
               ],
               [
                126.593,
                35.59
               ],
               [
                126.651,
                35.581
               ],
               [
                126.594,
                35.535
               ],
               [
                126.567,
                35.543
               ],
               [
                126.484,
                35.519
               ],
               [
                126.442,
                35.452
               ],
               [
                126.45,
                35.428
               ],
               [
                126.493,
                35.409
               ],
               [
                126.483,
                35.381
               ],
               [
                126.52,
                35.35
               ],
               [
                126.532,
                35.307
               ],
               [
                126.604,
                35.336
               ],
               [
                126.644,
                35.32
               ],
               [
                126.731,
                35.377
               ],
               [
                126.765,
                35.467
               ],
               [
                126.84,
                35.469
               ],
               [
                126.897,
                35.448
               ],
               [
                126.934,
                35.395
               ],
               [
                127.035,
                35.467
               ],
               [
                127.052,
                35.427
               ],
               [
                127.039,
                35.38
               ],
               [
                127.071,
                35.366
               ],
               [
                127.046,
                35.319
               ],
               [
                127.114,
                35.3
               ],
               [
                127.168,
                35.332
               ],
               [
                127.213,
                35.317
               ],
               [
                127.31,
                35.305
               ],
               [
                127.354,
                35.322
               ],
               [
                127.393,
                35.307
               ],
               [
                127.43,
                35.358
               ],
               [
                127.498,
                35.36
               ],
               [
                127.577,
                35.309
               ],
               [
                127.621,
                35.332
               ],
               [
                127.61,
                35.366
               ],
               [
                127.66,
                35.414
               ],
               [
                127.674,
                35.446
               ],
               [
                127.625,
                35.531
               ],
               [
                127.587,
                35.557
               ],
               [
                127.61,
                35.583
               ],
               [
                127.62,
                35.643
               ],
               [
                127.661,
                35.71
               ],
               [
                127.662,
                35.761
               ],
               [
                127.719,
                35.797
               ],
               [
                127.739,
                35.83
               ],
               [
                127.854,
                35.881
               ],
               [
                127.86,
                35.906
               ],
               [
                127.909,
                35.942
               ],
               [
                127.877,
                36.023
               ],
               [
                127.853,
                36.039
               ],
               [
                127.766,
                36.012
               ],
               [
                127.64,
                36.068
               ],
               [
                127.616,
                36.019
               ],
               [
                127.538,
                36.032
               ],
               [
                127.52,
                35.983
               ],
               [
                127.457,
                35.983
               ],
               [
                127.437,
                36.009
               ],
               [
                127.376,
                36.023
               ],
               [
                127.34,
                36.129
               ],
               [
                127.273,
                36.107
               ],
               [
                127.206,
                36.101
               ],
               [
                127.123,
                36.064
               ],
               [
                127.06,
                36.094
               ],
               [
                127.04,
                36.139
               ],
               [
                126.939,
                36.151
               ],
               [
                126.882,
                36.131
               ],
               [
                126.871,
                36.067
               ],
               [
                126.821,
                36.05
               ],
               [
                126.729,
                35.985
               ],
               [
                126.628,
                35.978
               ]
              ],
              [
               [
                126.642,
                35.795
               ],
               [
                126.628,
                35.749
               ],
               [
                126.569,
                35.693
               ],
               [
                126.52,
                35.738
               ],
               [
                126.481,
                35.819
               ],
               [
                126.541,
                35.943
               ],
               [
                126.616,
                35.942
               ],
               [
                126.619,
                35.888
               ],
               [
                126.668,
                35.884
               ],
               [
                126.707,
                35.797
               ],
               [
                126.642,
                35.795
               ]
              ]
             ],
             "type": "Polygon"
            },
            "properties": {
             "CTPRVN_CD": "45",
             "CTP_ENG_NM": "Jeollabuk-do",
             "CTP_KOR_NM": "전라북도"
            },
            "type": "Feature"
           },
           {
            "geometry": {
             "coordinates": [
              [
               [
                [
                 126.593,
                 34.162
                ],
                [
                 126.54,
                 34.182
                ],
                [
                 126.506,
                 34.139
                ],
                [
                 126.547,
                 34.127
                ],
                [
                 126.593,
                 34.162
                ]
               ]
              ],
              [
               [
                [
                 126.892,
                 34.217
                ],
                [
                 126.853,
                 34.186
                ],
                [
                 126.881,
                 34.156
                ],
                [
                 126.922,
                 34.184
                ],
                [
                 126.892,
                 34.217
                ]
               ]
              ],
              [
               [
                [
                 126.565,
                 34.235
                ],
                [
                 126.561,
                 34.179
                ],
                [
                 126.622,
                 34.2
                ],
                [
                 126.565,
                 34.235
                ]
               ]
              ],
              [
               [
                [
                 126.835,
                 34.357
                ],
                [
                 126.841,
                 34.299
                ],
                [
                 126.879,
                 34.326
                ],
                [
                 126.835,
                 34.357
                ]
               ]
              ],
              [
               [
                [
                 126.307,
                 34.748
                ],
                [
                 126.258,
                 34.694
                ],
                [
                 126.281,
                 34.6
                ],
                [
                 126.334,
                 34.573
                ],
                [
                 126.417,
                 34.554
                ],
                [
                 126.461,
                 34.532
                ],
                [
                 126.472,
                 34.469
                ],
                [
                 126.459,
                 34.449
                ],
                [
                 126.494,
                 34.408
                ],
                [
                 126.475,
                 34.378
                ],
                [
                 126.527,
                 34.335
                ],
                [
                 126.601,
                 34.319
                ],
                [
                 126.62,
                 34.359
                ],
                [
                 126.617,
                 34.403
                ],
                [
                 126.727,
                 34.446
                ],
                [
                 126.796,
                 34.567
                ],
                [
                 126.791,
                 34.467
                ],
                [
                 126.818,
                 34.449
                ],
                [
                 126.925,
                 34.453
                ],
                [
                 126.979,
                 34.478
                ],
                [
                 126.961,
                 34.531
                ],
                [
                 126.989,
                 34.562
                ],
                [
                 127.013,
                 34.625
                ],
                [
                 127.068,
                 34.664
                ],
                [
                 127.143,
                 34.693
                ],
                [
                 127.177,
                 34.692
                ],
                [
                 127.241,
                 34.765
                ],
                [
                 127.26,
                 34.733
                ],
                [
                 127.327,
                 34.752
                ],
                [
                 127.333,
                 34.715
                ],
                [
                 127.315,
                 34.664
                ],
                [
                 127.265,
                 34.713
                ],
                [
                 127.24,
                 34.697
                ],
                [
                 127.228,
                 34.655
                ],
                [
                 127.173,
                 34.627
                ],
                [
                 127.171,
                 34.594
                ],
                [
                 127.124,
                 34.57
                ],
                [
                 127.137,
                 34.524
                ],
                [
                 127.221,
                 34.535
                ],
                [
                 127.274,
                 34.503
                ],
                [
                 127.268,
                 34.482
                ],
                [
                 127.328,
                 34.466
                ],
                [
                 127.378,
                 34.504
                ],
                [
                 127.404,
                 34.505
                ],
                [
                 127.437,
                 34.55
                ],
                [
                 127.506,
                 34.604
                ],
                [
                 127.475,
                 34.658
                ],
                [
                 127.407,
                 34.696
                ],
                [
                 127.373,
                 34.742
                ],
                [
                 127.398,
                 34.817
                ],
                [
                 127.417,
                 34.833
                ],
                [
                 127.492,
                 34.847
                ],
                [
                 127.524,
                 34.815
                ],
                [
                 127.557,
                 34.807
                ],
                [
                 127.593,
                 34.744
                ],
                [
                 127.549,
                 34.713
                ],
                [
                 127.552,
                 34.663
                ],
                [
                 127.638,
                 34.636
                ],
                [
                 127.625,
                 34.699
                ],
                [
                 127.655,
                 34.746
                ],
                [
                 127.705,
                 34.72
                ],
                [
                 127.751,
                 34.736
                ],
                [
                 127.745,
                 34.775
                ],
                [
                 127.776,
                 34.856
                ],
                [
                 127.698,
                 34.859
                ],
                [
                 127.638,
                 34.827
                ],
                [
                 127.59,
                 34.877
                ],
                [
                 127.671,
                 34.931
                ],
                [
                 127.701,
                 34.931
                ],
                [
                 127.754,
                 34.962
                ],
                [
                 127.785,
                 35.021
                ],
                [
                 127.695,
                 35.106
                ],
                [
                 127.694,
                 35.128
                ],
                [
                 127.648,
                 35.16
                ],
                [
                 127.618,
                 35.2
                ],
                [
                 127.619,
                 35.236
                ],
                [
                 127.568,
                 35.319
                ],
                [
                 127.498,
                 35.36
                ],
                [
                 127.43,
                 35.358
                ],
                [
                 127.393,
                 35.307
                ],
                [
                 127.354,
                 35.322
                ],
                [
                 127.31,
                 35.305
                ],
                [
                 127.213,
                 35.317
                ],
                [
                 127.168,
                 35.332
                ],
                [
                 127.114,
                 35.3
                ],
                [
                 127.046,
                 35.319
                ],
                [
                 127.071,
                 35.366
                ],
                [
                 127.039,
                 35.38
                ],
                [
                 127.052,
                 35.427
                ],
                [
                 127.035,
                 35.467
                ],
                [
                 126.934,
                 35.395
                ],
                [
                 126.897,
                 35.448
                ],
                [
                 126.84,
                 35.469
                ],
                [
                 126.765,
                 35.467
                ],
                [
                 126.731,
                 35.377
                ],
                [
                 126.644,
                 35.32
                ],
                [
                 126.604,
                 35.336
                ],
                [
                 126.532,
                 35.307
                ],
                [
                 126.52,
                 35.35
                ],
                [
                 126.483,
                 35.381
                ],
                [
                 126.493,
                 35.409
                ],
                [
                 126.439,
                 35.43
                ],
                [
                 126.406,
                 35.387
                ],
                [
                 126.37,
                 35.284
                ],
                [
                 126.334,
                 35.283
                ],
                [
                 126.3,
                 35.211
                ],
                [
                 126.355,
                 35.184
                ],
                [
                 126.419,
                 35.11
                ],
                [
                 126.462,
                 35.102
                ],
                [
                 126.445,
                 35.058
                ],
                [
                 126.404,
                 35.026
                ],
                [
                 126.392,
                 35.066
                ],
                [
                 126.353,
                 35.078
                ],
                [
                 126.33,
                 35.108
                ],
                [
                 126.333,
                 35.149
                ],
                [
                 126.16,
                 35.099
                ],
                [
                 126.163,
                 35.068
                ],
                [
                 126.231,
                 35.024
                ],
                [
                 126.275,
                 35.034
                ],
                [
                 126.345,
                 35.071
                ],
                [
                 126.349,
                 34.977
                ],
                [
                 126.295,
                 34.965
                ],
                [
                 126.333,
                 34.917
                ],
                [
                 126.374,
                 34.941
                ],
                [
                 126.407,
                 34.852
                ],
                [
                 126.351,
                 34.797
                ],
                [
                 126.389,
                 34.781
                ],
                [
                 126.386,
                 34.732
                ],
                [
                 126.355,
                 34.693
                ],
                [
                 126.307,
                 34.748
                ]
               ],
               [
                [
                 126.809,
                 35.052
                ],
                [
                 126.776,
                 35.053
                ],
                [
                 126.736,
                 35.108
                ],
                [
                 126.652,
                 35.12
                ],
                [
                 126.657,
                 35.167
                ],
                [
                 126.736,
                 35.251
                ],
                [
                 126.806,
                 35.219
                ],
                [
                 126.905,
                 35.258
                ],
                [
                 126.931,
                 35.251
                ],
                [
                 126.972,
                 35.185
                ],
                [
                 127,
                 35.189
                ],
                [
                 127.012,
                 35.128
                ],
                [
                 126.989,
                 35.095
                ],
                [
                 126.936,
                 35.074
                ],
                [
                 126.921,
                 35.092
                ],
                [
                 126.809,
                 35.052
                ]
               ]
              ],
              [
               [
                [
                 126.654,
                 34.328
                ],
                [
                 126.689,
                 34.297
                ],
                [
                 126.752,
                 34.291
                ],
                [
                 126.756,
                 34.315
                ],
                [
                 126.726,
                 34.383
                ],
                [
                 126.685,
                 34.402
                ],
                [
                 126.639,
                 34.383
                ],
                [
                 126.655,
                 34.329
                ],
                [
                 126.654,
                 34.328
                ]
               ]
              ],
              [
               [
                [
                 126.944,
                 34.413
                ],
                [
                 126.931,
                 34.391
                ],
                [
                 126.885,
                 34.404
                ],
                [
                 126.864,
                 34.373
                ],
                [
                 126.918,
                 34.356
                ],
                [
                 126.944,
                 34.413
                ]
               ]
              ],
              [
               [
                [
                 126.834,
                 34.443
                ],
                [
                 126.787,
                 34.432
                ],
                [
                 126.764,
                 34.407
                ],
                [
                 126.772,
                 34.375
                ],
                [
                 126.854,
                 34.392
                ],
                [
                 126.834,
                 34.443
                ]
               ]
              ],
              [
               [
                [
                 127.457,
                 34.476
                ],
                [
                 127.494,
                 34.431
                ],
                [
                 127.536,
                 34.449
                ],
                [
                 127.457,
                 34.476
                ]
               ]
              ],
              [
               [
                [
                 127.217,
                 34.495
                ],
                [
                 127.098,
                 34.466
                ],
                [
                 127.124,
                 34.432
                ],
                [
                 127.217,
                 34.436
                ],
                [
                 127.234,
                 34.483
                ],
                [
                 127.217,
                 34.495
                ]
               ]
              ],
              [
               [
                [
                 127.46,
                 34.545
                ],
                [
                 127.451,
                 34.483
                ],
                [
                 127.493,
                 34.484
                ],
                [
                 127.479,
                 34.537
                ],
                [
                 127.46,
                 34.545
                ]
               ]
              ],
              [
               [
                [
                 127.741,
                 34.553
                ],
                [
                 127.712,
                 34.538
                ],
                [
                 127.739,
                 34.503
                ],
                [
                 127.792,
                 34.501
                ],
                [
                 127.741,
                 34.553
                ]
               ]
              ],
              [
               [
                [
                 126.25,
                 34.588
                ],
                [
                 126.251,
                 34.561
                ],
                [
                 126.173,
                 34.485
                ],
                [
                 126.119,
                 34.459
                ],
                [
                 126.093,
                 34.428
                ],
                [
                 126.117,
                 34.38
                ],
                [
                 126.143,
                 34.385
                ],
                [
                 126.174,
                 34.352
                ],
                [
                 126.263,
                 34.379
                ],
                [
                 126.265,
                 34.397
                ],
                [
                 126.325,
                 34.408
                ],
                [
                 126.365,
                 34.443
                ],
                [
                 126.369,
                 34.515
                ],
                [
                 126.304,
                 34.571
                ],
                [
                 126.25,
                 34.588
                ]
               ]
              ],
              [
               [
                [
                 126.017,
                 34.635
                ],
                [
                 126.011,
                 34.606
                ],
                [
                 126.029,
                 34.566
                ],
                [
                 126.062,
                 34.591
                ],
                [
                 126.017,
                 34.635
                ]
               ]
              ],
              [
               [
                [
                 126.154,
                 34.672
                ],
                [
                 126.116,
                 34.653
                ],
                [
                 126.143,
                 34.619
                ],
                [
                 126.187,
                 34.65
                ],
                [
                 126.154,
                 34.672
                ]
               ]
              ],
              [
               [
                [
                 127.74,
                 34.734
                ],
                [
                 127.762,
                 34.685
                ],
                [
                 127.71,
                 34.623
                ],
                [
                 127.75,
                 34.593
                ],
                [
                 127.79,
                 34.585
                ],
                [
                 127.795,
                 34.667
                ],
                [
                 127.74,
                 34.734
                ]
               ]
              ],
              [
               [
                [
                 125.963,
                 34.737
                ],
                [
                 125.916,
                 34.711
                ],
                [
                 125.94,
                 34.665
                ],
                [
                 126.01,
                 34.688
                ],
                [
                 125.963,
                 34.737
                ]
               ]
              ],
              [
               [
                [
                 126.09,
                 34.774
                ],
                [
                 126.082,
                 34.72
                ],
                [
                 126.137,
                 34.729
                ],
                [
                 126.171,
                 34.749
                ],
                [
                 126.09,
                 34.774
                ]
               ]
              ],
              [
               [
                [
                 125.994,
                 34.805
                ],
                [
                 125.9,
                 34.769
                ],
                [
                 125.887,
                 34.739
                ],
                [
                 125.998,
                 34.762
                ],
                [
                 125.994,
                 34.805
                ]
               ]
              ],
              [
               [
                [
                 126.116,
                 34.882
                ],
                [
                 126.061,
                 34.844
                ],
                [
                 126.097,
                 34.806
                ],
                [
                 126.149,
                 34.84
                ],
                [
                 126.148,
                 34.873
                ],
                [
                 126.116,
                 34.882
                ]
               ]
              ],
              [
               [
                [
                 126.09,
                 34.903
                ],
                [
                 126.017,
                 34.91
                ],
                [
                 125.988,
                 34.875
                ],
                [
                 126.04,
                 34.847
                ],
                [
                 126.083,
                 34.866
                ],
                [
                 126.09,
                 34.903
                ]
               ]
              ],
              [
               [
                [
                 127.731,
                 34.952
                ],
                [
                 127.705,
                 34.913
                ],
                [
                 127.761,
                 34.909
                ],
                [
                 127.731,
                 34.952
                ]
               ]
              ],
              [
               [
                [
                 126.136,
                 35.025
                ],
                [
                 126.144,
                 34.969
                ],
                [
                 126.18,
                 34.994
                ],
                [
                 126.136,
                 35.025
                ]
               ]
              ],
              [
               [
                [
                 126.151,
                 35.146
                ],
                [
                 126.118,
                 35.14
                ],
                [
                 126.048,
                 35.081
                ],
                [
                 126.095,
                 35.052
                ],
                [
                 126.114,
                 35.064
                ],
                [
                 126.122,
                 35.131
                ],
                [
                 126.151,
                 35.146
                ]
               ]
              ]
             ],
             "type": "MultiPolygon"
            },
            "properties": {
             "CTPRVN_CD": "46",
             "CTP_ENG_NM": "Jellanam-do",
             "CTP_KOR_NM": "전라남도"
            },
            "type": "Feature"
           },
           {
            "geometry": {
             "coordinates": [
              [
               [
                [
                 129.579,
                 36.052
                ],
                [
                 129.54,
                 36.066
                ],
                [
                 129.45,
                 35.991
                ],
                [
                 129.396,
                 36.018
                ],
                [
                 129.377,
                 36.047
                ],
                [
                 129.432,
                 36.111
                ],
                [
                 129.395,
                 36.14
                ],
                [
                 129.374,
                 36.25
                ],
                [
                 129.379,
                 36.333
                ],
                [
                 129.429,
                 36.409
                ],
                [
                 129.446,
                 36.503
                ],
                [
                 129.44,
                 36.552
                ],
                [
                 129.41,
                 36.593
                ],
                [
                 129.438,
                 36.671
                ],
                [
                 129.476,
                 36.699
                ],
                [
                 129.477,
                 36.766
                ],
                [
                 129.421,
                 36.863
                ],
                [
                 129.41,
                 37.023
                ],
                [
                 129.427,
                 37.064
                ],
                [
                 129.376,
                 37.102
                ],
                [
                 129.364,
                 37.146
                ],
                [
                 129.325,
                 37.142
                ],
                [
                 129.271,
                 37.116
                ],
                [
                 129.195,
                 37.041
                ],
                [
                 129.096,
                 37.1
                ],
                [
                 129.064,
                 37.068
                ],
                [
                 128.923,
                 37.092
                ],
                [
                 128.91,
                 37.066
                ],
                [
                 128.847,
                 37.052
                ],
                [
                 128.829,
                 37.078
                ],
                [
                 128.774,
                 37.088
                ],
                [
                 128.753,
                 37.054
                ],
                [
                 128.7,
                 37.041
                ],
                [
                 128.646,
                 37.061
                ],
                [
                 128.633,
                 37.041
                ],
                [
                 128.582,
                 37.043
                ],
                [
                 128.57,
                 37.014
                ],
                [
                 128.515,
                 36.987
                ],
                [
                 128.442,
                 36.927
                ],
                [
                 128.424,
                 36.877
                ],
                [
                 128.449,
                 36.848
                ],
                [
                 128.42,
                 36.812
                ],
                [
                 128.321,
                 36.816
                ],
                [
                 128.282,
                 36.856
                ],
                [
                 128.242,
                 36.872
                ],
                [
                 128.216,
                 36.812
                ],
                [
                 128.151,
                 36.823
                ],
                [
                 128.093,
                 36.803
                ],
                [
                 128.06,
                 36.817
                ],
                [
                 128.032,
                 36.748
                ],
                [
                 128.05,
                 36.708
                ],
                [
                 127.957,
                 36.736
                ],
                [
                 127.929,
                 36.691
                ],
                [
                 127.931,
                 36.624
                ],
                [
                 127.848,
                 36.625
                ],
                [
                 127.798,
                 36.586
                ],
                [
                 127.87,
                 36.559
                ],
                [
                 127.896,
                 36.531
                ],
                [
                 127.88,
                 36.493
                ],
                [
                 127.864,
                 36.403
                ],
                [
                 127.883,
                 36.346
                ],
                [
                 127.842,
                 36.308
                ],
                [
                 127.852,
                 36.274
                ],
                [
                 127.892,
                 36.292
                ],
                [
                 127.968,
                 36.25
                ],
                [
                 128.011,
                 36.272
                ],
                [
                 128.056,
                 36.202
                ],
                [
                 128.01,
                 36.209
                ],
                [
                 127.975,
                 36.188
                ],
                [
                 127.989,
                 36.133
                ],
                [
                 127.965,
                 36.113
                ],
                [
                 127.961,
                 36.07
                ],
                [
                 127.883,
                 36.032
                ],
                [
                 127.909,
                 35.942
                ],
                [
                 127.883,
                 35.93
                ],
                [
                 127.893,
                 35.887
                ],
                [
                 128.012,
                 35.829
                ],
                [
                 128.07,
                 35.841
                ],
                [
                 128.124,
                 35.82
                ],
                [
                 128.136,
                 35.785
                ],
                [
                 128.189,
                 35.752
                ],
                [
                 128.205,
                 35.684
                ],
                [
                 128.201,
                 35.644
                ],
                [
                 128.262,
                 35.643
                ],
                [
                 128.306,
                 35.655
                ],
                [
                 128.4,
                 35.646
                ],
                [
                 128.357,
                 35.682
                ],
                [
                 128.412,
                 35.696
                ],
                [
                 128.432,
                 35.726
                ],
                [
                 128.383,
                 35.759
                ],
                [
                 128.421,
                 35.809
                ],
                [
                 128.47,
                 35.806
                ],
                [
                 128.473,
                 35.833
                ],
                [
                 128.473,
                 35.834
                ],
                [
                 128.436,
                 35.848
                ],
                [
                 128.384,
                 35.853
                ],
                [
                 128.398,
                 35.893
                ],
                [
                 128.431,
                 35.931
                ],
                [
                 128.476,
                 35.934
                ],
                [
                 128.475,
                 35.894
                ],
                [
                 128.529,
                 35.924
                ],
                [
                 128.546,
                 35.966
                ],
                [
                 128.617,
                 36.007
                ],
                [
                 128.696,
                 36.016
                ],
                [
                 128.746,
                 35.973
                ],
                [
                 128.738,
                 35.928
                ],
                [
                 128.76,
                 35.866
                ],
                [
                 128.709,
                 35.827
                ],
                [
                 128.683,
                 35.79
                ],
                [
                 128.695,
                 35.756
                ],
                [
                 128.683,
                 35.721
                ],
                [
                 128.624,
                 35.703
                ],
                [
                 128.581,
                 35.739
                ],
                [
                 128.528,
                 35.713
                ],
                [
                 128.537,
                 35.624
                ],
                [
                 128.6,
                 35.58
                ],
                [
                 128.658,
                 35.598
                ],
                [
                 128.758,
                 35.567
                ],
                [
                 128.854,
                 35.597
                ],
                [
                 128.915,
                 35.641
                ],
                [
                 128.983,
                 35.609
                ],
                [
                 129.047,
                 35.651
                ],
                [
                 129.102,
                 35.706
                ],
                [
                 129.205,
                 35.721
                ],
                [
                 129.262,
                 35.693
                ],
                [
                 129.26,
                 35.655
                ],
                [
                 129.296,
                 35.645
                ],
                [
                 129.354,
                 35.679
                ],
                [
                 129.45,
                 35.651
                ],
                [
                 129.465,
                 35.667
                ],
                [
                 129.496,
                 35.772
                ],
                [
                 129.491,
                 35.784
                ],
                [
                 129.532,
                 35.871
                ],
                [
                 129.518,
                 35.92
                ],
                [
                 129.575,
                 36.004
                ],
                [
                 129.579,
                 36.052
                ]
               ]
              ],
              [
               [
                [
                 130.906,
                 37.549
                ],
                [
                 130.794,
                 37.513
                ],
                [
                 130.812,
                 37.473
                ],
                [
                 130.875,
                 37.458
                ],
                [
                 130.914,
                 37.487
                ],
                [
                 130.906,
                 37.549
                ]
               ]
              ]
             ],
             "type": "MultiPolygon"
            },
            "properties": {
             "CTPRVN_CD": "47",
             "CTP_ENG_NM": "Gyeongsangbuk-do",
             "CTP_KOR_NM": "경상북도"
            },
            "type": "Feature"
           },
           {
            "geometry": {
             "coordinates": [
              [
               [
                [
                 128.351,
                 34.841
                ],
                [
                 128.407,
                 34.762
                ],
                [
                 128.44,
                 34.795
                ],
                [
                 128.44,
                 34.823
                ],
                [
                 128.351,
                 34.841
                ]
               ]
              ],
              [
               [
                [
                 128.031,
                 34.922
                ],
                [
                 127.996,
                 34.91
                ],
                [
                 127.962,
                 34.869
                ],
                [
                 127.971,
                 34.842
                ],
                [
                 128.045,
                 34.836
                ],
                [
                 128.061,
                 34.879
                ],
                [
                 128.031,
                 34.922
                ]
               ]
              ],
              [
               [
                [
                 127.891,
                 34.947
                ],
                [
                 127.81,
                 34.859
                ],
                [
                 127.813,
                 34.835
                ],
                [
                 127.852,
                 34.769
                ],
                [
                 127.853,
                 34.739
                ],
                [
                 127.885,
                 34.723
                ],
                [
                 127.903,
                 34.763
                ],
                [
                 127.949,
                 34.778
                ],
                [
                 127.959,
                 34.71
                ],
                [
                 128.027,
                 34.718
                ],
                [
                 128.056,
                 34.746
                ],
                [
                 128.049,
                 34.782
                ],
                [
                 128.064,
                 34.817
                ],
                [
                 127.991,
                 34.833
                ],
                [
                 127.944,
                 34.809
                ],
                [
                 127.897,
                 34.874
                ],
                [
                 127.929,
                 34.916
                ],
                [
                 127.891,
                 34.947
                ]
               ]
              ],
              [
               [
                [
                 128.467,
                 34.882
                ],
                [
                 128.429,
                 34.918
                ],
                [
                 128.42,
                 34.954
                ],
                [
                 128.501,
                 35.015
                ],
                [
                 128.46,
                 35.063
                ],
                [
                 128.374,
                 35.03
                ],
                [
                 128.373,
                 35.05
                ],
                [
                 128.471,
                 35.081
                ],
                [
                 128.539,
                 35.114
                ],
                [
                 128.607,
                 35.058
                ],
                [
                 128.597,
                 35.143
                ],
                [
                 128.564,
                 35.187
                ],
                [
                 128.632,
                 35.221
                ],
                [
                 128.589,
                 35.199
                ],
                [
                 128.61,
                 35.144
                ],
                [
                 128.696,
                 35.139
                ],
                [
                 128.695,
                 35.097
                ],
                [
                 128.812,
                 35.078
                ],
                [
                 128.842,
                 35.106
                ],
                [
                 128.843,
                 35.158
                ],
                [
                 128.881,
                 35.183
                ],
                [
                 128.886,
                 35.214
                ],
                [
                 128.999,
                 35.238
                ],
                [
                 129.017,
                 35.275
                ],
                [
                 129.045,
                 35.275
                ],
                [
                 129.112,
                 35.31
                ],
                [
                 129.149,
                 35.364
                ],
                [
                 129.178,
                 35.352
                ],
                [
                 129.219,
                 35.407
                ],
                [
                 129.197,
                 35.438
                ],
                [
                 129.14,
                 35.449
                ],
                [
                 129.107,
                 35.495
                ],
                [
                 129.011,
                 35.523
                ],
                [
                 128.978,
                 35.563
                ],
                [
                 129.019,
                 35.584
                ],
                [
                 128.915,
                 35.641
                ],
                [
                 128.854,
                 35.597
                ],
                [
                 128.758,
                 35.567
                ],
                [
                 128.658,
                 35.598
                ],
                [
                 128.6,
                 35.58
                ],
                [
                 128.506,
                 35.64
                ],
                [
                 128.446,
                 35.638
                ],
                [
                 128.431,
                 35.622
                ],
                [
                 128.365,
                 35.613
                ],
                [
                 128.349,
                 35.646
                ],
                [
                 128.306,
                 35.655
                ],
                [
                 128.262,
                 35.643
                ],
                [
                 128.201,
                 35.644
                ],
                [
                 128.205,
                 35.684
                ],
                [
                 128.189,
                 35.752
                ],
                [
                 128.136,
                 35.785
                ],
                [
                 128.124,
                 35.82
                ],
                [
                 128.07,
                 35.841
                ],
                [
                 128.012,
                 35.829
                ],
                [
                 127.933,
                 35.864
                ],
                [
                 127.919,
                 35.89
                ],
                [
                 127.854,
                 35.881
                ],
                [
                 127.739,
                 35.83
                ],
                [
                 127.719,
                 35.797
                ],
                [
                 127.662,
                 35.761
                ],
                [
                 127.661,
                 35.71
                ],
                [
                 127.62,
                 35.643
                ],
                [
                 127.61,
                 35.583
                ],
                [
                 127.587,
                 35.557
                ],
                [
                 127.625,
                 35.531
                ],
                [
                 127.674,
                 35.446
                ],
                [
                 127.66,
                 35.414
                ],
                [
                 127.61,
                 35.366
                ],
                [
                 127.621,
                 35.332
                ],
                [
                 127.576,
                 35.306
                ],
                [
                 127.619,
                 35.236
                ],
                [
                 127.618,
                 35.2
                ],
                [
                 127.648,
                 35.16
                ],
                [
                 127.694,
                 35.128
                ],
                [
                 127.695,
                 35.106
                ],
                [
                 127.785,
                 35.021
                ],
                [
                 127.763,
                 34.976
                ],
                [
                 127.782,
                 34.944
                ],
                [
                 127.872,
                 34.946
                ],
                [
                 127.91,
                 34.975
                ],
                [
                 127.927,
                 35.013
                ],
                [
                 127.968,
                 34.992
                ],
                [
                 128.02,
                 35.005
                ],
                [
                 128.05,
                 34.969
                ],
                [
                 128.055,
                 34.929
                ],
                [
                 128.2,
                 34.894
                ],
                [
                 128.199,
                 34.933
                ],
                [
                 128.256,
                 34.937
                ],
                [
                 128.28,
                 34.908
                ],
                [
                 128.329,
                 34.955
                ],
                [
                 128.356,
                 34.909
                ],
                [
                 128.311,
                 34.886
                ],
                [
                 128.387,
                 34.867
                ],
                [
                 128.397,
                 34.833
                ],
                [
                 128.452,
                 34.847
                ],
                [
                 128.467,
                 34.882
                ]
               ]
              ],
              [
               [
                [
                 128.659,
                 34.981
                ],
                [
                 128.587,
                 34.945
                ],
                [
                 128.608,
                 34.917
                ],
                [
                 128.565,
                 34.899
                ],
                [
                 128.535,
                 34.922
                ],
                [
                 128.473,
                 34.877
                ],
                [
                 128.482,
                 34.84
                ],
                [
                 128.519,
                 34.822
                ],
                [
                 128.589,
                 34.846
                ],
                [
                 128.587,
                 34.716
                ],
                [
                 128.656,
                 34.742
                ],
                [
                 128.672,
                 34.815
                ],
                [
                 128.743,
                 34.868
                ],
                [
                 128.715,
                 34.958
                ],
                [
                 128.697,
                 34.973
                ],
                [
                 128.712,
                 35.031
                ],
                [
                 128.677,
                 35.033
                ],
                [
                 128.659,
                 34.981
                ]
               ]
              ]
             ],
             "type": "MultiPolygon"
            },
            "properties": {
             "CTPRVN_CD": "48",
             "CTP_ENG_NM": "Gyeongsangnam-do",
             "CTP_KOR_NM": "경상남도"
            },
            "type": "Feature"
           },
           {
            "geometry": {
             "coordinates": [
              [
               [
                126.768,
                33.564
               ],
               [
                126.73,
                33.56
               ],
               [
                126.586,
                33.526
               ],
               [
                126.511,
                33.516
               ],
               [
                126.386,
                33.489
               ],
               [
                126.263,
                33.436
               ],
               [
                126.263,
                33.417
               ],
               [
                126.164,
                33.337
               ],
               [
                126.162,
                33.292
               ],
               [
                126.184,
                33.259
               ],
               [
                126.235,
                33.236
               ],
               [
                126.27,
                33.196
               ],
               [
                126.327,
                33.241
               ],
               [
                126.37,
                33.232
               ],
               [
                126.41,
                33.246
               ],
               [
                126.471,
                33.227
               ],
               [
                126.52,
                33.241
               ],
               [
                126.599,
                33.236
               ],
               [
                126.653,
                33.27
               ],
               [
                126.743,
                33.279
               ],
               [
                126.776,
                33.307
               ],
               [
                126.829,
                33.307
               ],
               [
                126.88,
                33.382
               ],
               [
                126.906,
                33.392
               ],
               [
                126.924,
                33.453
               ],
               [
                126.902,
                33.481
               ],
               [
                126.893,
                33.526
               ],
               [
                126.861,
                33.525
               ],
               [
                126.808,
                33.556
               ],
               [
                126.768,
                33.564
               ]
              ]
             ],
             "type": "Polygon"
            },
            "properties": {
             "CTPRVN_CD": "50",
             "CTP_ENG_NM": "Jeju-do",
             "CTP_KOR_NM": "제주특별자치도"
            },
            "type": "Feature"
           }
          ],
          "type": "FeatureCollection"
         },
         "hovertemplate": "geoName=%{location}<br>광안리=%{z}<extra></extra>",
         "locations": [
          "강원도",
          "경기도",
          "경상남도",
          "경상북도",
          "광주광역시",
          "대구광역시",
          "대전광역시",
          "부산광역시",
          "서울특별시",
          "울산광역시",
          "인천광역시",
          "전라남도",
          "전라북도",
          "제주특별자치도",
          "충청남도",
          "충청북도"
         ],
         "marker": {
          "opacity": 0.5
         },
         "name": "",
         "subplot": "mapbox",
         "type": "choroplethmapbox",
         "z": [
          0,
          28,
          26,
          28,
          37,
          33,
          28,
          32,
          25,
          24,
          32,
          25,
          28,
          0,
          28,
          24
         ]
        }
       ],
       "layout": {
        "coloraxis": {
         "cmax": 100,
         "cmin": 0,
         "colorbar": {
          "title": {
           "text": "광안리"
          }
         },
         "colorscale": [
          [
           0,
           "rgb(253, 237, 176)"
          ],
          [
           0.09090909090909091,
           "rgb(250, 205, 145)"
          ],
          [
           0.18181818181818182,
           "rgb(246, 173, 119)"
          ],
          [
           0.2727272727272727,
           "rgb(240, 142, 98)"
          ],
          [
           0.36363636363636365,
           "rgb(231, 109, 84)"
          ],
          [
           0.45454545454545453,
           "rgb(216, 80, 83)"
          ],
          [
           0.5454545454545454,
           "rgb(195, 56, 90)"
          ],
          [
           0.6363636363636364,
           "rgb(168, 40, 96)"
          ],
          [
           0.7272727272727273,
           "rgb(138, 29, 99)"
          ],
          [
           0.8181818181818182,
           "rgb(107, 24, 93)"
          ],
          [
           0.9090909090909091,
           "rgb(76, 21, 80)"
          ],
          [
           1,
           "rgb(47, 15, 61)"
          ]
         ]
        },
        "legend": {
         "tracegroupgap": 0
        },
        "mapbox": {
         "center": {
          "lat": 37.565,
          "lon": 126.986
         },
         "domain": {
          "x": [
           0,
           1
          ],
          "y": [
           0,
           1
          ]
         },
         "style": "carto-positron",
         "zoom": 5
        },
        "margin": {
         "b": 0,
         "l": 0,
         "r": 0,
         "t": 0
        },
        "template": {
         "data": {
          "bar": [
           {
            "error_x": {
             "color": "#2a3f5f"
            },
            "error_y": {
             "color": "#2a3f5f"
            },
            "marker": {
             "line": {
              "color": "#E5ECF6",
              "width": 0.5
             },
             "pattern": {
              "fillmode": "overlay",
              "size": 10,
              "solidity": 0.2
             }
            },
            "type": "bar"
           }
          ],
          "barpolar": [
           {
            "marker": {
             "line": {
              "color": "#E5ECF6",
              "width": 0.5
             },
             "pattern": {
              "fillmode": "overlay",
              "size": 10,
              "solidity": 0.2
             }
            },
            "type": "barpolar"
           }
          ],
          "carpet": [
           {
            "aaxis": {
             "endlinecolor": "#2a3f5f",
             "gridcolor": "white",
             "linecolor": "white",
             "minorgridcolor": "white",
             "startlinecolor": "#2a3f5f"
            },
            "baxis": {
             "endlinecolor": "#2a3f5f",
             "gridcolor": "white",
             "linecolor": "white",
             "minorgridcolor": "white",
             "startlinecolor": "#2a3f5f"
            },
            "type": "carpet"
           }
          ],
          "choropleth": [
           {
            "colorbar": {
             "outlinewidth": 0,
             "ticks": ""
            },
            "type": "choropleth"
           }
          ],
          "contour": [
           {
            "colorbar": {
             "outlinewidth": 0,
             "ticks": ""
            },
            "colorscale": [
             [
              0,
              "#0d0887"
             ],
             [
              0.1111111111111111,
              "#46039f"
             ],
             [
              0.2222222222222222,
              "#7201a8"
             ],
             [
              0.3333333333333333,
              "#9c179e"
             ],
             [
              0.4444444444444444,
              "#bd3786"
             ],
             [
              0.5555555555555556,
              "#d8576b"
             ],
             [
              0.6666666666666666,
              "#ed7953"
             ],
             [
              0.7777777777777778,
              "#fb9f3a"
             ],
             [
              0.8888888888888888,
              "#fdca26"
             ],
             [
              1,
              "#f0f921"
             ]
            ],
            "type": "contour"
           }
          ],
          "contourcarpet": [
           {
            "colorbar": {
             "outlinewidth": 0,
             "ticks": ""
            },
            "type": "contourcarpet"
           }
          ],
          "heatmap": [
           {
            "colorbar": {
             "outlinewidth": 0,
             "ticks": ""
            },
            "colorscale": [
             [
              0,
              "#0d0887"
             ],
             [
              0.1111111111111111,
              "#46039f"
             ],
             [
              0.2222222222222222,
              "#7201a8"
             ],
             [
              0.3333333333333333,
              "#9c179e"
             ],
             [
              0.4444444444444444,
              "#bd3786"
             ],
             [
              0.5555555555555556,
              "#d8576b"
             ],
             [
              0.6666666666666666,
              "#ed7953"
             ],
             [
              0.7777777777777778,
              "#fb9f3a"
             ],
             [
              0.8888888888888888,
              "#fdca26"
             ],
             [
              1,
              "#f0f921"
             ]
            ],
            "type": "heatmap"
           }
          ],
          "heatmapgl": [
           {
            "colorbar": {
             "outlinewidth": 0,
             "ticks": ""
            },
            "colorscale": [
             [
              0,
              "#0d0887"
             ],
             [
              0.1111111111111111,
              "#46039f"
             ],
             [
              0.2222222222222222,
              "#7201a8"
             ],
             [
              0.3333333333333333,
              "#9c179e"
             ],
             [
              0.4444444444444444,
              "#bd3786"
             ],
             [
              0.5555555555555556,
              "#d8576b"
             ],
             [
              0.6666666666666666,
              "#ed7953"
             ],
             [
              0.7777777777777778,
              "#fb9f3a"
             ],
             [
              0.8888888888888888,
              "#fdca26"
             ],
             [
              1,
              "#f0f921"
             ]
            ],
            "type": "heatmapgl"
           }
          ],
          "histogram": [
           {
            "marker": {
             "pattern": {
              "fillmode": "overlay",
              "size": 10,
              "solidity": 0.2
             }
            },
            "type": "histogram"
           }
          ],
          "histogram2d": [
           {
            "colorbar": {
             "outlinewidth": 0,
             "ticks": ""
            },
            "colorscale": [
             [
              0,
              "#0d0887"
             ],
             [
              0.1111111111111111,
              "#46039f"
             ],
             [
              0.2222222222222222,
              "#7201a8"
             ],
             [
              0.3333333333333333,
              "#9c179e"
             ],
             [
              0.4444444444444444,
              "#bd3786"
             ],
             [
              0.5555555555555556,
              "#d8576b"
             ],
             [
              0.6666666666666666,
              "#ed7953"
             ],
             [
              0.7777777777777778,
              "#fb9f3a"
             ],
             [
              0.8888888888888888,
              "#fdca26"
             ],
             [
              1,
              "#f0f921"
             ]
            ],
            "type": "histogram2d"
           }
          ],
          "histogram2dcontour": [
           {
            "colorbar": {
             "outlinewidth": 0,
             "ticks": ""
            },
            "colorscale": [
             [
              0,
              "#0d0887"
             ],
             [
              0.1111111111111111,
              "#46039f"
             ],
             [
              0.2222222222222222,
              "#7201a8"
             ],
             [
              0.3333333333333333,
              "#9c179e"
             ],
             [
              0.4444444444444444,
              "#bd3786"
             ],
             [
              0.5555555555555556,
              "#d8576b"
             ],
             [
              0.6666666666666666,
              "#ed7953"
             ],
             [
              0.7777777777777778,
              "#fb9f3a"
             ],
             [
              0.8888888888888888,
              "#fdca26"
             ],
             [
              1,
              "#f0f921"
             ]
            ],
            "type": "histogram2dcontour"
           }
          ],
          "mesh3d": [
           {
            "colorbar": {
             "outlinewidth": 0,
             "ticks": ""
            },
            "type": "mesh3d"
           }
          ],
          "parcoords": [
           {
            "line": {
             "colorbar": {
              "outlinewidth": 0,
              "ticks": ""
             }
            },
            "type": "parcoords"
           }
          ],
          "pie": [
           {
            "automargin": true,
            "type": "pie"
           }
          ],
          "scatter": [
           {
            "fillpattern": {
             "fillmode": "overlay",
             "size": 10,
             "solidity": 0.2
            },
            "type": "scatter"
           }
          ],
          "scatter3d": [
           {
            "line": {
             "colorbar": {
              "outlinewidth": 0,
              "ticks": ""
             }
            },
            "marker": {
             "colorbar": {
              "outlinewidth": 0,
              "ticks": ""
             }
            },
            "type": "scatter3d"
           }
          ],
          "scattercarpet": [
           {
            "marker": {
             "colorbar": {
              "outlinewidth": 0,
              "ticks": ""
             }
            },
            "type": "scattercarpet"
           }
          ],
          "scattergeo": [
           {
            "marker": {
             "colorbar": {
              "outlinewidth": 0,
              "ticks": ""
             }
            },
            "type": "scattergeo"
           }
          ],
          "scattergl": [
           {
            "marker": {
             "colorbar": {
              "outlinewidth": 0,
              "ticks": ""
             }
            },
            "type": "scattergl"
           }
          ],
          "scattermapbox": [
           {
            "marker": {
             "colorbar": {
              "outlinewidth": 0,
              "ticks": ""
             }
            },
            "type": "scattermapbox"
           }
          ],
          "scatterpolar": [
           {
            "marker": {
             "colorbar": {
              "outlinewidth": 0,
              "ticks": ""
             }
            },
            "type": "scatterpolar"
           }
          ],
          "scatterpolargl": [
           {
            "marker": {
             "colorbar": {
              "outlinewidth": 0,
              "ticks": ""
             }
            },
            "type": "scatterpolargl"
           }
          ],
          "scatterternary": [
           {
            "marker": {
             "colorbar": {
              "outlinewidth": 0,
              "ticks": ""
             }
            },
            "type": "scatterternary"
           }
          ],
          "surface": [
           {
            "colorbar": {
             "outlinewidth": 0,
             "ticks": ""
            },
            "colorscale": [
             [
              0,
              "#0d0887"
             ],
             [
              0.1111111111111111,
              "#46039f"
             ],
             [
              0.2222222222222222,
              "#7201a8"
             ],
             [
              0.3333333333333333,
              "#9c179e"
             ],
             [
              0.4444444444444444,
              "#bd3786"
             ],
             [
              0.5555555555555556,
              "#d8576b"
             ],
             [
              0.6666666666666666,
              "#ed7953"
             ],
             [
              0.7777777777777778,
              "#fb9f3a"
             ],
             [
              0.8888888888888888,
              "#fdca26"
             ],
             [
              1,
              "#f0f921"
             ]
            ],
            "type": "surface"
           }
          ],
          "table": [
           {
            "cells": {
             "fill": {
              "color": "#EBF0F8"
             },
             "line": {
              "color": "white"
             }
            },
            "header": {
             "fill": {
              "color": "#C8D4E3"
             },
             "line": {
              "color": "white"
             }
            },
            "type": "table"
           }
          ]
         },
         "layout": {
          "annotationdefaults": {
           "arrowcolor": "#2a3f5f",
           "arrowhead": 0,
           "arrowwidth": 1
          },
          "autotypenumbers": "strict",
          "coloraxis": {
           "colorbar": {
            "outlinewidth": 0,
            "ticks": ""
           }
          },
          "colorscale": {
           "diverging": [
            [
             0,
             "#8e0152"
            ],
            [
             0.1,
             "#c51b7d"
            ],
            [
             0.2,
             "#de77ae"
            ],
            [
             0.3,
             "#f1b6da"
            ],
            [
             0.4,
             "#fde0ef"
            ],
            [
             0.5,
             "#f7f7f7"
            ],
            [
             0.6,
             "#e6f5d0"
            ],
            [
             0.7,
             "#b8e186"
            ],
            [
             0.8,
             "#7fbc41"
            ],
            [
             0.9,
             "#4d9221"
            ],
            [
             1,
             "#276419"
            ]
           ],
           "sequential": [
            [
             0,
             "#0d0887"
            ],
            [
             0.1111111111111111,
             "#46039f"
            ],
            [
             0.2222222222222222,
             "#7201a8"
            ],
            [
             0.3333333333333333,
             "#9c179e"
            ],
            [
             0.4444444444444444,
             "#bd3786"
            ],
            [
             0.5555555555555556,
             "#d8576b"
            ],
            [
             0.6666666666666666,
             "#ed7953"
            ],
            [
             0.7777777777777778,
             "#fb9f3a"
            ],
            [
             0.8888888888888888,
             "#fdca26"
            ],
            [
             1,
             "#f0f921"
            ]
           ],
           "sequentialminus": [
            [
             0,
             "#0d0887"
            ],
            [
             0.1111111111111111,
             "#46039f"
            ],
            [
             0.2222222222222222,
             "#7201a8"
            ],
            [
             0.3333333333333333,
             "#9c179e"
            ],
            [
             0.4444444444444444,
             "#bd3786"
            ],
            [
             0.5555555555555556,
             "#d8576b"
            ],
            [
             0.6666666666666666,
             "#ed7953"
            ],
            [
             0.7777777777777778,
             "#fb9f3a"
            ],
            [
             0.8888888888888888,
             "#fdca26"
            ],
            [
             1,
             "#f0f921"
            ]
           ]
          },
          "colorway": [
           "#636efa",
           "#EF553B",
           "#00cc96",
           "#ab63fa",
           "#FFA15A",
           "#19d3f3",
           "#FF6692",
           "#B6E880",
           "#FF97FF",
           "#FECB52"
          ],
          "font": {
           "color": "#2a3f5f"
          },
          "geo": {
           "bgcolor": "white",
           "lakecolor": "white",
           "landcolor": "#E5ECF6",
           "showlakes": true,
           "showland": true,
           "subunitcolor": "white"
          },
          "hoverlabel": {
           "align": "left"
          },
          "hovermode": "closest",
          "mapbox": {
           "style": "light"
          },
          "paper_bgcolor": "white",
          "plot_bgcolor": "#E5ECF6",
          "polar": {
           "angularaxis": {
            "gridcolor": "white",
            "linecolor": "white",
            "ticks": ""
           },
           "bgcolor": "#E5ECF6",
           "radialaxis": {
            "gridcolor": "white",
            "linecolor": "white",
            "ticks": ""
           }
          },
          "scene": {
           "xaxis": {
            "backgroundcolor": "#E5ECF6",
            "gridcolor": "white",
            "gridwidth": 2,
            "linecolor": "white",
            "showbackground": true,
            "ticks": "",
            "zerolinecolor": "white"
           },
           "yaxis": {
            "backgroundcolor": "#E5ECF6",
            "gridcolor": "white",
            "gridwidth": 2,
            "linecolor": "white",
            "showbackground": true,
            "ticks": "",
            "zerolinecolor": "white"
           },
           "zaxis": {
            "backgroundcolor": "#E5ECF6",
            "gridcolor": "white",
            "gridwidth": 2,
            "linecolor": "white",
            "showbackground": true,
            "ticks": "",
            "zerolinecolor": "white"
           }
          },
          "shapedefaults": {
           "line": {
            "color": "#2a3f5f"
           }
          },
          "ternary": {
           "aaxis": {
            "gridcolor": "white",
            "linecolor": "white",
            "ticks": ""
           },
           "baxis": {
            "gridcolor": "white",
            "linecolor": "white",
            "ticks": ""
           },
           "bgcolor": "#E5ECF6",
           "caxis": {
            "gridcolor": "white",
            "linecolor": "white",
            "ticks": ""
           }
          },
          "title": {
           "x": 0.05
          },
          "xaxis": {
           "automargin": true,
           "gridcolor": "white",
           "linecolor": "white",
           "ticks": "",
           "title": {
            "standoff": 15
           },
           "zerolinecolor": "white",
           "zerolinewidth": 2
          },
          "yaxis": {
           "automargin": true,
           "gridcolor": "white",
           "linecolor": "white",
           "ticks": "",
           "title": {
            "standoff": 15
           },
           "zerolinecolor": "white",
           "zerolinewidth": 2
          }
         }
        }
       }
      }
     },
     "metadata": {},
     "output_type": "display_data"
    }
   ],
   "source": [
    "fig = px.choropleth_mapbox(\n",
    "    map_df,\n",
    "    geojson=region_json,\n",
    "    locations=\"geoName\",\n",
    "    color=keyword_list[0],\n",
    "    color_continuous_scale=\"matter\",\n",
    "    range_color=(0, 100),\n",
    "    mapbox_style=\"carto-positron\",\n",
    "    featureidkey=\"properties.CTP_KOR_NM\",\n",
    "    zoom=5,\n",
    "    center={\"lat\": 37.565, \"lon\": 126.986},\n",
    "    opacity=0.5,\n",
    "    # labels={\"소멸위험지수\": \"지자체별 소멸위험지수\"},\n",
    ")\n",
    "fig.update_layout(margin={\"r\": 0, \"t\": 0, \"l\": 0, \"b\": 0})\n",
    "fig.show()"
   ]
  },
  {
   "cell_type": "code",
   "execution_count": 302,
   "metadata": {},
   "outputs": [
    {
     "data": {
      "application/vnd.plotly.v1+json": {
       "config": {
        "plotlyServerURL": "https://plot.ly"
       },
       "data": [
        {
         "coloraxis": "coloraxis",
         "featureidkey": "properties.CTP_KOR_NM",
         "geojson": {
          "features": [
           {
            "geometry": {
             "coordinates": [
              [
               [
                126.984,
                37.636
               ],
               [
                126.948,
                37.657
               ],
               [
                126.912,
                37.644
               ],
               [
                126.897,
                37.589
               ],
               [
                126.854,
                37.574
               ],
               [
                126.801,
                37.59
               ],
               [
                126.772,
                37.548
               ],
               [
                126.821,
                37.541
               ],
               [
                126.819,
                37.479
               ],
               [
                126.872,
                37.485
               ],
               [
                126.903,
                37.434
               ],
               [
                126.959,
                37.439
               ],
               [
                127.003,
                37.467
               ],
               [
                127.071,
                37.432
               ],
               [
                127.127,
                37.469
               ],
               [
                127.131,
                37.468
               ],
               [
                127.132,
                37.468
               ],
               [
                127.132,
                37.469
               ],
               [
                127.132,
                37.47
               ],
               [
                127.133,
                37.471
               ],
               [
                127.133,
                37.472
               ],
               [
                127.133,
                37.474
               ],
               [
                127.133,
                37.475
               ],
               [
                127.134,
                37.475
               ],
               [
                127.135,
                37.474
               ],
               [
                127.136,
                37.474
               ],
               [
                127.144,
                37.474
               ],
               [
                127.144,
                37.475
               ],
               [
                127.144,
                37.476
               ],
               [
                127.147,
                37.477
               ],
               [
                127.148,
                37.482
               ],
               [
                127.156,
                37.488
               ],
               [
                127.155,
                37.488
               ],
               [
                127.156,
                37.489
               ],
               [
                127.158,
                37.489
               ],
               [
                127.159,
                37.49
               ],
               [
                127.157,
                37.49
               ],
               [
                127.142,
                37.516
               ],
               [
                127.176,
                37.575
               ],
               [
                127.129,
                37.566
               ],
               [
                127.096,
                37.689
               ],
               [
                127.015,
                37.701
               ],
               [
                126.98,
                37.656
               ],
               [
                126.984,
                37.636
               ]
              ]
             ],
             "type": "Polygon"
            },
            "properties": {
             "CTPRVN_CD": "11",
             "CTP_ENG_NM": "Seoul",
             "CTP_KOR_NM": "서울특별시"
            },
            "type": "Feature"
           },
           {
            "geometry": {
             "coordinates": [
              [
               [
                129.288,
                35.321
               ],
               [
                129.263,
                35.386
               ],
               [
                129.219,
                35.379
               ],
               [
                129.178,
                35.352
               ],
               [
                129.149,
                35.364
               ],
               [
                129.112,
                35.31
               ],
               [
                129.045,
                35.275
               ],
               [
                129.017,
                35.275
               ],
               [
                128.999,
                35.238
               ],
               [
                128.886,
                35.214
               ],
               [
                128.881,
                35.183
               ],
               [
                128.843,
                35.158
               ],
               [
                128.838,
                35.083
               ],
               [
                128.895,
                35.079
               ],
               [
                128.933,
                35.095
               ],
               [
                128.958,
                35.051
               ],
               [
                129.022,
                35.062
               ],
               [
                129.025,
                35.094
               ],
               [
                129.067,
                35.108
               ],
               [
                129.113,
                35.103
               ],
               [
                129.12,
                35.154
               ],
               [
                129.181,
                35.155
               ],
               [
                129.224,
                35.186
               ],
               [
                129.222,
                35.213
               ],
               [
                129.253,
                35.247
               ],
               [
                129.268,
                35.322
               ],
               [
                129.288,
                35.321
               ]
              ]
             ],
             "type": "Polygon"
            },
            "properties": {
             "CTPRVN_CD": "26",
             "CTP_ENG_NM": "Busan",
             "CTP_KOR_NM": "부산광역시"
            },
            "type": "Feature"
           },
           {
            "geometry": {
             "coordinates": [
              [
               [
                128.473,
                35.833
               ],
               [
                128.47,
                35.806
               ],
               [
                128.421,
                35.809
               ],
               [
                128.383,
                35.759
               ],
               [
                128.432,
                35.726
               ],
               [
                128.412,
                35.696
               ],
               [
                128.357,
                35.682
               ],
               [
                128.4,
                35.646
               ],
               [
                128.506,
                35.64
               ],
               [
                128.528,
                35.713
               ],
               [
                128.581,
                35.739
               ],
               [
                128.624,
                35.703
               ],
               [
                128.683,
                35.721
               ],
               [
                128.695,
                35.756
               ],
               [
                128.683,
                35.79
               ],
               [
                128.709,
                35.827
               ],
               [
                128.76,
                35.866
               ],
               [
                128.738,
                35.928
               ],
               [
                128.746,
                35.973
               ],
               [
                128.696,
                36.016
               ],
               [
                128.617,
                36.007
               ],
               [
                128.546,
                35.966
               ],
               [
                128.529,
                35.924
               ],
               [
                128.475,
                35.894
               ],
               [
                128.476,
                35.934
               ],
               [
                128.431,
                35.931
               ],
               [
                128.398,
                35.893
               ],
               [
                128.384,
                35.853
               ],
               [
                128.436,
                35.848
               ],
               [
                128.473,
                35.834
               ],
               [
                128.473,
                35.833
               ]
              ]
             ],
             "type": "Polygon"
            },
            "properties": {
             "CTPRVN_CD": "27",
             "CTP_ENG_NM": "Daegu",
             "CTP_KOR_NM": "대구광역시"
            },
            "type": "Feature"
           },
           {
            "geometry": {
             "coordinates": [
              [
               [
                [
                 126.343,
                 37.644
                ],
                [
                 126.375,
                 37.669
                ],
                [
                 126.363,
                 37.696
                ],
                [
                 126.316,
                 37.685
                ],
                [
                 126.343,
                 37.644
                ]
               ]
              ],
              [
               [
                [
                 126.601,
                 37.416
                ],
                [
                 126.61,
                 37.387
                ],
                [
                 126.663,
                 37.351
                ],
                [
                 126.721,
                 37.383
                ],
                [
                 126.769,
                 37.428
                ],
                [
                 126.777,
                 37.472
                ],
                [
                 126.745,
                 37.514
                ],
                [
                 126.787,
                 37.586
                ],
                [
                 126.726,
                 37.592
                ],
                [
                 126.672,
                 37.634
                ],
                [
                 126.626,
                 37.603
                ],
                [
                 126.64,
                 37.585
                ],
                [
                 126.597,
                 37.549
                ],
                [
                 126.608,
                 37.487
                ],
                [
                 126.601,
                 37.416
                ]
               ]
              ],
              [
               [
                [
                 126.541,
                 37.521
                ],
                [
                 126.512,
                 37.534
                ],
                [
                 126.471,
                 37.498
                ],
                [
                 126.417,
                 37.496
                ],
                [
                 126.356,
                 37.468
                ],
                [
                 126.38,
                 37.44
                ],
                [
                 126.443,
                 37.422
                ],
                [
                 126.508,
                 37.466
                ],
                [
                 126.583,
                 37.491
                ],
                [
                 126.541,
                 37.521
                ]
               ]
              ],
              [
               [
                [
                 126.439,
                 37.231
                ],
                [
                 126.496,
                 37.256
                ],
                [
                 126.471,
                 37.285
                ],
                [
                 126.435,
                 37.273
                ],
                [
                 126.439,
                 37.231
                ]
               ]
              ],
              [
               [
                [
                 126.265,
                 37.818
                ],
                [
                 126.223,
                 37.805
                ],
                [
                 126.216,
                 37.778
                ],
                [
                 126.291,
                 37.763
                ],
                [
                 126.298,
                 37.802
                ],
                [
                 126.265,
                 37.818
                ]
               ]
              ],
              [
               [
                [
                 126.431,
                 37.83
                ],
                [
                 126.351,
                 37.79
                ],
                [
                 126.356,
                 37.707
                ],
                [
                 126.392,
                 37.694
                ],
                [
                 126.413,
                 37.656
                ],
                [
                 126.377,
                 37.636
                ],
                [
                 126.403,
                 37.594
                ],
                [
                 126.511,
                 37.597
                ],
                [
                 126.543,
                 37.618
                ],
                [
                 126.523,
                 37.652
                ],
                [
                 126.514,
                 37.725
                ],
                [
                 126.526,
                 37.747
                ],
                [
                 126.507,
                 37.782
                ],
                [
                 126.431,
                 37.83
                ]
               ]
              ],
              [
               [
                [
                 124.687,
                 37.98
                ],
                [
                 124.623,
                 37.957
                ],
                [
                 124.637,
                 37.924
                ],
                [
                 124.696,
                 37.917
                ],
                [
                 124.73,
                 37.978
                ],
                [
                 124.687,
                 37.98
                ]
               ]
              ]
             ],
             "type": "MultiPolygon"
            },
            "properties": {
             "CTPRVN_CD": "28",
             "CTP_ENG_NM": "Incheon",
             "CTP_KOR_NM": "인천광역시"
            },
            "type": "Feature"
           },
           {
            "geometry": {
             "coordinates": [
              [
               [
                126.76,
                35.259
               ],
               [
                126.736,
                35.251
               ],
               [
                126.657,
                35.167
               ],
               [
                126.652,
                35.12
               ],
               [
                126.736,
                35.108
               ],
               [
                126.776,
                35.053
               ],
               [
                126.804,
                35.052
               ],
               [
                126.921,
                35.092
               ],
               [
                126.936,
                35.074
               ],
               [
                126.989,
                35.095
               ],
               [
                127.012,
                35.128
               ],
               [
                127,
                35.189
               ],
               [
                126.972,
                35.185
               ],
               [
                126.931,
                35.251
               ],
               [
                126.905,
                35.258
               ],
               [
                126.806,
                35.219
               ],
               [
                126.754,
                35.237
               ],
               [
                126.76,
                35.259
               ]
              ]
             ],
             "type": "Polygon"
            },
            "properties": {
             "CTPRVN_CD": "29",
             "CTP_ENG_NM": "Gwangju",
             "CTP_KOR_NM": "광주광역시"
            },
            "type": "Feature"
           },
           {
            "geometry": {
             "coordinates": [
              [
               [
                127.402,
                36.486
               ],
               [
                127.398,
                36.49
               ],
               [
                127.397,
                36.491
               ],
               [
                127.396,
                36.492
               ],
               [
                127.358,
                36.483
               ],
               [
                127.356,
                36.45
               ],
               [
                127.326,
                36.422
               ],
               [
                127.282,
                36.415
               ],
               [
                127.279,
                36.345
               ],
               [
                127.26,
                36.327
               ],
               [
                127.259,
                36.276
               ],
               [
                127.283,
                36.235
               ],
               [
                127.324,
                36.203
               ],
               [
                127.39,
                36.24
               ],
               [
                127.449,
                36.197
               ],
               [
                127.493,
                36.238
               ],
               [
                127.493,
                36.239
               ],
               [
                127.492,
                36.242
               ],
               [
                127.493,
                36.243
               ],
               [
                127.49,
                36.245
               ],
               [
                127.489,
                36.246
               ],
               [
                127.489,
                36.247
               ],
               [
                127.488,
                36.25
               ],
               [
                127.488,
                36.251
               ],
               [
                127.488,
                36.252
               ],
               [
                127.489,
                36.253
               ],
               [
                127.49,
                36.254
               ],
               [
                127.49,
                36.256
               ],
               [
                127.49,
                36.258
               ],
               [
                127.487,
                36.259
               ],
               [
                127.486,
                36.259
               ],
               [
                127.487,
                36.262
               ],
               [
                127.488,
                36.265
               ],
               [
                127.488,
                36.267
               ],
               [
                127.489,
                36.267
               ],
               [
                127.49,
                36.268
               ],
               [
                127.49,
                36.269
               ],
               [
                127.49,
                36.27
               ],
               [
                127.489,
                36.27
               ],
               [
                127.489,
                36.271
               ],
               [
                127.489,
                36.272
               ],
               [
                127.489,
                36.273
               ],
               [
                127.49,
                36.273
               ],
               [
                127.49,
                36.274
               ],
               [
                127.491,
                36.274
               ],
               [
                127.493,
                36.275
               ],
               [
                127.493,
                36.276
               ],
               [
                127.494,
                36.277
               ],
               [
                127.495,
                36.278
               ],
               [
                127.497,
                36.28
               ],
               [
                127.499,
                36.283
               ],
               [
                127.498,
                36.285
               ],
               [
                127.498,
                36.286
               ],
               [
                127.496,
                36.288
               ],
               [
                127.495,
                36.29
               ],
               [
                127.496,
                36.29
               ],
               [
                127.495,
                36.291
               ],
               [
                127.494,
                36.292
               ],
               [
                127.494,
                36.293
               ],
               [
                127.493,
                36.295
               ],
               [
                127.492,
                36.296
               ],
               [
                127.491,
                36.297
               ],
               [
                127.491,
                36.298
               ],
               [
                127.492,
                36.299
               ],
               [
                127.492,
                36.3
               ],
               [
                127.493,
                36.301
               ],
               [
                127.495,
                36.301
               ],
               [
                127.496,
                36.299
               ],
               [
                127.497,
                36.301
               ],
               [
                127.497,
                36.302
               ],
               [
                127.499,
                36.305
               ],
               [
                127.499,
                36.306
               ],
               [
                127.499,
                36.307
               ],
               [
                127.496,
                36.311
               ],
               [
                127.495,
                36.312
               ],
               [
                127.496,
                36.314
               ],
               [
                127.497,
                36.314
               ],
               [
                127.497,
                36.315
               ],
               [
                127.498,
                36.316
               ],
               [
                127.497,
                36.317
               ],
               [
                127.497,
                36.318
               ],
               [
                127.497,
                36.319
               ],
               [
                127.499,
                36.321
               ],
               [
                127.5,
                36.321
               ],
               [
                127.5,
                36.322
               ],
               [
                127.501,
                36.322
               ],
               [
                127.501,
                36.323
               ],
               [
                127.502,
                36.323
               ],
               [
                127.502,
                36.324
               ],
               [
                127.502,
                36.325
               ],
               [
                127.503,
                36.325
               ],
               [
                127.503,
                36.326
               ],
               [
                127.502,
                36.328
               ],
               [
                127.502,
                36.33
               ],
               [
                127.502,
                36.331
               ],
               [
                127.502,
                36.332
               ],
               [
                127.501,
                36.333
               ],
               [
                127.501,
                36.334
               ],
               [
                127.501,
                36.335
               ],
               [
                127.502,
                36.336
               ],
               [
                127.501,
                36.337
               ],
               [
                127.501,
                36.339
               ],
               [
                127.501,
                36.34
               ],
               [
                127.502,
                36.34
               ],
               [
                127.504,
                36.341
               ],
               [
                127.505,
                36.341
               ],
               [
                127.504,
                36.342
               ],
               [
                127.505,
                36.342
               ],
               [
                127.507,
                36.343
               ],
               [
                127.508,
                36.344
               ],
               [
                127.508,
                36.345
               ],
               [
                127.507,
                36.346
               ],
               [
                127.51,
                36.347
               ],
               [
                127.51,
                36.346
               ],
               [
                127.512,
                36.346
               ],
               [
                127.513,
                36.347
               ],
               [
                127.517,
                36.348
               ],
               [
                127.517,
                36.349
               ],
               [
                127.517,
                36.35
               ],
               [
                127.519,
                36.35
               ],
               [
                127.52,
                36.351
               ],
               [
                127.522,
                36.353
               ],
               [
                127.522,
                36.354
               ],
               [
                127.523,
                36.355
               ],
               [
                127.523,
                36.356
               ],
               [
                127.523,
                36.357
               ],
               [
                127.522,
                36.358
               ],
               [
                127.523,
                36.359
               ],
               [
                127.524,
                36.36
               ],
               [
                127.524,
                36.361
               ],
               [
                127.524,
                36.362
               ],
               [
                127.525,
                36.363
               ],
               [
                127.525,
                36.364
               ],
               [
                127.524,
                36.365
               ],
               [
                127.524,
                36.366
               ],
               [
                127.525,
                36.366
               ],
               [
                127.526,
                36.368
               ],
               [
                127.526,
                36.372
               ],
               [
                127.525,
                36.376
               ],
               [
                127.525,
                36.377
               ],
               [
                127.526,
                36.379
               ],
               [
                127.525,
                36.38
               ],
               [
                127.525,
                36.382
               ],
               [
                127.525,
                36.384
               ],
               [
                127.525,
                36.386
               ],
               [
                127.525,
                36.388
               ],
               [
                127.526,
                36.387
               ],
               [
                127.527,
                36.388
               ],
               [
                127.528,
                36.389
               ],
               [
                127.529,
                36.389
               ],
               [
                127.529,
                36.39
               ],
               [
                127.53,
                36.391
               ],
               [
                127.531,
                36.391
               ],
               [
                127.532,
                36.391
               ],
               [
                127.533,
                36.392
               ],
               [
                127.534,
                36.393
               ],
               [
                127.533,
                36.393
               ],
               [
                127.533,
                36.394
               ],
               [
                127.535,
                36.394
               ],
               [
                127.536,
                36.395
               ],
               [
                127.537,
                36.395
               ],
               [
                127.545,
                36.396
               ],
               [
                127.55,
                36.397
               ],
               [
                127.551,
                36.396
               ],
               [
                127.551,
                36.395
               ],
               [
                127.554,
                36.395
               ],
               [
                127.557,
                36.397
               ],
               [
                127.559,
                36.398
               ],
               [
                127.56,
                36.398
               ],
               [
                127.559,
                36.399
               ],
               [
                127.559,
                36.4
               ],
               [
                127.558,
                36.4
               ],
               [
                127.557,
                36.4
               ],
               [
                127.555,
                36.4
               ],
               [
                127.554,
                36.401
               ],
               [
                127.552,
                36.405
               ],
               [
                127.551,
                36.406
               ],
               [
                127.55,
                36.407
               ],
               [
                127.548,
                36.408
               ],
               [
                127.547,
                36.408
               ],
               [
                127.546,
                36.409
               ],
               [
                127.542,
                36.416
               ],
               [
                127.542,
                36.419
               ],
               [
                127.539,
                36.42
               ],
               [
                127.538,
                36.42
               ],
               [
                127.537,
                36.42
               ],
               [
                127.535,
                36.419
               ],
               [
                127.534,
                36.419
               ],
               [
                127.533,
                36.419
               ],
               [
                127.529,
                36.42
               ],
               [
                127.528,
                36.421
               ],
               [
                127.527,
                36.421
               ],
               [
                127.526,
                36.421
               ],
               [
                127.526,
                36.422
               ],
               [
                127.524,
                36.423
               ],
               [
                127.523,
                36.423
               ],
               [
                127.521,
                36.421
               ],
               [
                127.52,
                36.42
               ],
               [
                127.519,
                36.42
               ],
               [
                127.518,
                36.421
               ],
               [
                127.517,
                36.421
               ],
               [
                127.517,
                36.422
               ],
               [
                127.516,
                36.422
               ],
               [
                127.515,
                36.422
               ],
               [
                127.514,
                36.419
               ],
               [
                127.513,
                36.418
               ],
               [
                127.513,
                36.416
               ],
               [
                127.511,
                36.411
               ],
               [
                127.511,
                36.41
               ],
               [
                127.51,
                36.409
               ],
               [
                127.509,
                36.409
               ],
               [
                127.506,
                36.408
               ],
               [
                127.502,
                36.409
               ],
               [
                127.5,
                36.412
               ],
               [
                127.5,
                36.413
               ],
               [
                127.499,
                36.413
               ],
               [
                127.498,
                36.415
               ],
               [
                127.497,
                36.416
               ],
               [
                127.497,
                36.419
               ],
               [
                127.497,
                36.42
               ],
               [
                127.496,
                36.421
               ],
               [
                127.495,
                36.424
               ],
               [
                127.494,
                36.425
               ],
               [
                127.493,
                36.426
               ],
               [
                127.493,
                36.427
               ],
               [
                127.492,
                36.428
               ],
               [
                127.492,
                36.429
               ],
               [
                127.491,
                36.43
               ],
               [
                127.49,
                36.432
               ],
               [
                127.49,
                36.434
               ],
               [
                127.491,
                36.436
               ],
               [
                127.492,
                36.439
               ],
               [
                127.493,
                36.44
               ],
               [
                127.494,
                36.441
               ],
               [
                127.496,
                36.444
               ],
               [
                127.497,
                36.445
               ],
               [
                127.499,
                36.446
               ],
               [
                127.5,
                36.447
               ],
               [
                127.501,
                36.447
               ],
               [
                127.501,
                36.448
               ],
               [
                127.502,
                36.449
               ],
               [
                127.503,
                36.449
               ],
               [
                127.504,
                36.45
               ],
               [
                127.504,
                36.452
               ],
               [
                127.503,
                36.455
               ],
               [
                127.503,
                36.456
               ],
               [
                127.501,
                36.456
               ],
               [
                127.499,
                36.456
               ],
               [
                127.498,
                36.455
               ],
               [
                127.497,
                36.455
               ],
               [
                127.496,
                36.455
               ],
               [
                127.494,
                36.454
               ],
               [
                127.493,
                36.454
               ],
               [
                127.491,
                36.453
               ],
               [
                127.485,
                36.453
               ],
               [
                127.483,
                36.453
               ],
               [
                127.482,
                36.454
               ],
               [
                127.48,
                36.456
               ],
               [
                127.478,
                36.457
               ],
               [
                127.478,
                36.458
               ],
               [
                127.477,
                36.459
               ],
               [
                127.478,
                36.46
               ],
               [
                127.478,
                36.461
               ],
               [
                127.478,
                36.462
               ],
               [
                127.479,
                36.463
               ],
               [
                127.479,
                36.464
               ],
               [
                127.48,
                36.465
               ],
               [
                127.481,
                36.465
               ],
               [
                127.481,
                36.466
               ],
               [
                127.482,
                36.467
               ],
               [
                127.482,
                36.468
               ],
               [
                127.483,
                36.468
               ],
               [
                127.483,
                36.469
               ],
               [
                127.483,
                36.47
               ],
               [
                127.484,
                36.471
               ],
               [
                127.484,
                36.472
               ],
               [
                127.484,
                36.474
               ],
               [
                127.485,
                36.475
               ],
               [
                127.484,
                36.476
               ],
               [
                127.484,
                36.477
               ],
               [
                127.481,
                36.477
               ],
               [
                127.476,
                36.476
               ],
               [
                127.474,
                36.476
               ],
               [
                127.472,
                36.475
               ],
               [
                127.47,
                36.474
               ],
               [
                127.47,
                36.473
               ],
               [
                127.466,
                36.47
               ],
               [
                127.466,
                36.469
               ],
               [
                127.466,
                36.468
               ],
               [
                127.465,
                36.468
               ],
               [
                127.465,
                36.467
               ],
               [
                127.464,
                36.465
               ],
               [
                127.464,
                36.464
               ],
               [
                127.464,
                36.463
               ],
               [
                127.464,
                36.46
               ],
               [
                127.463,
                36.46
               ],
               [
                127.463,
                36.456
               ],
               [
                127.462,
                36.456
               ],
               [
                127.462,
                36.455
               ],
               [
                127.461,
                36.454
               ],
               [
                127.459,
                36.452
               ],
               [
                127.458,
                36.452
               ],
               [
                127.457,
                36.452
               ],
               [
                127.457,
                36.451
               ],
               [
                127.456,
                36.451
               ],
               [
                127.454,
                36.45
               ],
               [
                127.453,
                36.45
               ],
               [
                127.452,
                36.449
               ],
               [
                127.45,
                36.449
               ],
               [
                127.447,
                36.449
               ],
               [
                127.446,
                36.45
               ],
               [
                127.445,
                36.45
               ],
               [
                127.444,
                36.45
               ],
               [
                127.443,
                36.451
               ],
               [
                127.442,
                36.451
               ],
               [
                127.442,
                36.452
               ],
               [
                127.441,
                36.452
               ],
               [
                127.441,
                36.453
               ],
               [
                127.44,
                36.453
               ],
               [
                127.44,
                36.454
               ],
               [
                127.439,
                36.454
               ],
               [
                127.439,
                36.455
               ],
               [
                127.438,
                36.455
               ],
               [
                127.438,
                36.456
               ],
               [
                127.434,
                36.456
               ],
               [
                127.435,
                36.456
               ],
               [
                127.436,
                36.456
               ],
               [
                127.437,
                36.456
               ],
               [
                127.436,
                36.456
               ],
               [
                127.435,
                36.456
               ],
               [
                127.434,
                36.457
               ],
               [
                127.432,
                36.457
               ],
               [
                127.431,
                36.457
               ],
               [
                127.43,
                36.457
               ],
               [
                127.428,
                36.457
               ],
               [
                127.425,
                36.456
               ],
               [
                127.424,
                36.456
               ],
               [
                127.42,
                36.455
               ],
               [
                127.419,
                36.455
               ],
               [
                127.418,
                36.455
               ],
               [
                127.417,
                36.455
               ],
               [
                127.416,
                36.455
               ],
               [
                127.414,
                36.455
               ],
               [
                127.413,
                36.455
               ],
               [
                127.412,
                36.455
               ],
               [
                127.409,
                36.455
               ],
               [
                127.408,
                36.455
               ],
               [
                127.407,
                36.455
               ],
               [
                127.406,
                36.455
               ],
               [
                127.403,
                36.455
               ],
               [
                127.403,
                36.456
               ],
               [
                127.4,
                36.455
               ],
               [
                127.4,
                36.456
               ],
               [
                127.399,
                36.456
               ],
               [
                127.399,
                36.457
               ],
               [
                127.4,
                36.458
               ],
               [
                127.4,
                36.462
               ],
               [
                127.399,
                36.462
               ],
               [
                127.399,
                36.463
               ],
               [
                127.399,
                36.464
               ],
               [
                127.4,
                36.465
               ],
               [
                127.399,
                36.466
               ],
               [
                127.399,
                36.467
               ],
               [
                127.398,
                36.468
               ],
               [
                127.398,
                36.469
               ],
               [
                127.398,
                36.47
               ],
               [
                127.398,
                36.471
               ],
               [
                127.398,
                36.472
               ],
               [
                127.399,
                36.472
               ],
               [
                127.399,
                36.473
               ],
               [
                127.402,
                36.473
               ],
               [
                127.403,
                36.474
               ],
               [
                127.404,
                36.477
               ],
               [
                127.404,
                36.478
               ],
               [
                127.403,
                36.484
               ],
               [
                127.402,
                36.486
               ]
              ]
             ],
             "type": "Polygon"
            },
            "properties": {
             "CTPRVN_CD": "30",
             "CTP_ENG_NM": "Daejeon",
             "CTP_KOR_NM": "대전광역시"
            },
            "type": "Feature"
           },
           {
            "geometry": {
             "coordinates": [
              [
               [
                129.346,
                35.465
               ],
               [
                129.408,
                35.493
               ],
               [
                129.439,
                35.487
               ],
               [
                129.464,
                35.586
               ],
               [
                129.441,
                35.644
               ],
               [
                129.354,
                35.679
               ],
               [
                129.296,
                35.645
               ],
               [
                129.26,
                35.655
               ],
               [
                129.262,
                35.693
               ],
               [
                129.205,
                35.721
               ],
               [
                129.102,
                35.706
               ],
               [
                129.07,
                35.682
               ],
               [
                129.022,
                35.614
               ],
               [
                129.019,
                35.584
               ],
               [
                128.978,
                35.563
               ],
               [
                129.011,
                35.523
               ],
               [
                129.107,
                35.495
               ],
               [
                129.14,
                35.449
               ],
               [
                129.197,
                35.438
               ],
               [
                129.219,
                35.379
               ],
               [
                129.263,
                35.386
               ],
               [
                129.28,
                35.341
               ],
               [
                129.312,
                35.33
               ],
               [
                129.354,
                35.393
               ],
               [
                129.346,
                35.465
               ]
              ]
             ],
             "type": "Polygon"
            },
            "properties": {
             "CTPRVN_CD": "31",
             "CTP_ENG_NM": "Ulsan",
             "CTP_KOR_NM": "울산광역시"
            },
            "type": "Feature"
           },
           {
            "geometry": {
             "coordinates": [
              [
               [
                127.178,
                36.597
               ],
               [
                127.194,
                36.565
               ],
               [
                127.173,
                36.536
               ],
               [
                127.173,
                36.499
               ],
               [
                127.226,
                36.422
               ],
               [
                127.326,
                36.422
               ],
               [
                127.356,
                36.45
               ],
               [
                127.358,
                36.483
               ],
               [
                127.41,
                36.495
               ],
               [
                127.402,
                36.541
               ],
               [
                127.337,
                36.57
               ],
               [
                127.306,
                36.602
               ],
               [
                127.289,
                36.659
               ],
               [
                127.197,
                36.728
               ],
               [
                127.16,
                36.733
               ],
               [
                127.134,
                36.707
               ],
               [
                127.155,
                36.664
               ],
               [
                127.155,
                36.607
               ],
               [
                127.178,
                36.597
               ]
              ]
             ],
             "type": "Polygon"
            },
            "properties": {
             "CTPRVN_CD": "36",
             "CTP_ENG_NM": "Sejong-si",
             "CTP_KOR_NM": "세종특별자치시"
            },
            "type": "Feature"
           },
           {
            "geometry": {
             "coordinates": [
              [
               [
                127.127,
                37.469
               ],
               [
                127.071,
                37.432
               ],
               [
                127.003,
                37.467
               ],
               [
                126.959,
                37.439
               ],
               [
                126.903,
                37.434
               ],
               [
                126.872,
                37.485
               ],
               [
                126.819,
                37.479
               ],
               [
                126.821,
                37.541
               ],
               [
                126.763,
                37.547
               ],
               [
                126.742,
                37.487
               ],
               [
                126.777,
                37.472
               ],
               [
                126.769,
                37.428
               ],
               [
                126.69,
                37.335
               ],
               [
                126.718,
                37.308
               ],
               [
                126.821,
                37.292
               ],
               [
                126.79,
                37.244
               ],
               [
                126.687,
                37.262
               ],
               [
                126.65,
                37.225
               ],
               [
                126.618,
                37.256
               ],
               [
                126.557,
                37.277
               ],
               [
                126.561,
                37.237
               ],
               [
                126.623,
                37.234
               ],
               [
                126.67,
                37.156
               ],
               [
                126.684,
                37.112
               ],
               [
                126.789,
                37.03
               ],
               [
                126.789,
                36.995
               ],
               [
                126.825,
                36.982
               ],
               [
                126.839,
                36.918
               ],
               [
                126.857,
                36.908
               ],
               [
                126.94,
                36.917
               ],
               [
                126.986,
                36.932
               ],
               [
                127.075,
                36.94
               ],
               [
                127.112,
                36.972
               ],
               [
                127.201,
                36.952
               ],
               [
                127.219,
                36.93
               ],
               [
                127.303,
                36.916
               ],
               [
                127.35,
                36.953
               ],
               [
                127.375,
                36.949
               ],
               [
                127.394,
                36.998
               ],
               [
                127.429,
                37.002
               ],
               [
                127.46,
                37.046
               ],
               [
                127.533,
                37.055
               ],
               [
                127.632,
                37.096
               ],
               [
                127.638,
                37.141
               ],
               [
                127.689,
                37.136
               ],
               [
                127.749,
                37.222
               ],
               [
                127.768,
                37.31
               ],
               [
                127.763,
                37.37
               ],
               [
                127.804,
                37.432
               ],
               [
                127.796,
                37.463
               ],
               [
                127.76,
                37.503
               ],
               [
                127.848,
                37.552
               ],
               [
                127.755,
                37.592
               ],
               [
                127.708,
                37.586
               ],
               [
                127.662,
                37.624
               ],
               [
                127.609,
                37.65
               ],
               [
                127.559,
                37.628
               ],
               [
                127.562,
                37.72
               ],
               [
                127.522,
                37.789
               ],
               [
                127.529,
                37.84
               ],
               [
                127.617,
                37.906
               ],
               [
                127.602,
                37.955
               ],
               [
                127.547,
                37.966
               ],
               [
                127.54,
                38.001
               ],
               [
                127.458,
                38.017
               ],
               [
                127.44,
                38.109
               ],
               [
                127.379,
                38.118
               ],
               [
                127.321,
                38.095
               ],
               [
                127.276,
                38.125
               ],
               [
                127.284,
                38.183
               ],
               [
                127.221,
                38.138
               ],
               [
                127.189,
                38.162
               ],
               [
                127.175,
                38.205
               ],
               [
                127.111,
                38.241
               ],
               [
                127.063,
                38.241
               ],
               [
                127.048,
                38.218
               ],
               [
                126.986,
                38.2
               ],
               [
                126.952,
                38.158
               ],
               [
                126.905,
                38.138
               ],
               [
                126.856,
                38.097
               ],
               [
                126.852,
                38.035
               ],
               [
                126.818,
                37.998
               ],
               [
                126.719,
                37.965
               ],
               [
                126.672,
                37.958
               ],
               [
                126.666,
                37.919
               ],
               [
                126.686,
                37.858
               ],
               [
                126.67,
                37.846
               ],
               [
                126.663,
                37.781
               ],
               [
                126.531,
                37.75
               ],
               [
                126.528,
                37.673
               ],
               [
                126.572,
                37.599
               ],
               [
                126.626,
                37.603
               ],
               [
                126.672,
                37.634
               ],
               [
                126.726,
                37.592
               ],
               [
                126.819,
                37.593
               ],
               [
                126.854,
                37.574
               ],
               [
                126.897,
                37.589
               ],
               [
                126.912,
                37.644
               ],
               [
                126.964,
                37.63
               ],
               [
                127.015,
                37.701
               ],
               [
                127.096,
                37.689
               ],
               [
                127.129,
                37.566
               ],
               [
                127.176,
                37.575
               ],
               [
                127.142,
                37.516
               ],
               [
                127.157,
                37.49
               ],
               [
                127.159,
                37.49
               ],
               [
                127.158,
                37.489
               ],
               [
                127.156,
                37.489
               ],
               [
                127.155,
                37.488
               ],
               [
                127.156,
                37.488
               ],
               [
                127.148,
                37.482
               ],
               [
                127.147,
                37.477
               ],
               [
                127.144,
                37.476
               ],
               [
                127.144,
                37.475
               ],
               [
                127.144,
                37.474
               ],
               [
                127.136,
                37.474
               ],
               [
                127.135,
                37.474
               ],
               [
                127.134,
                37.475
               ],
               [
                127.133,
                37.475
               ],
               [
                127.133,
                37.474
               ],
               [
                127.133,
                37.472
               ],
               [
                127.133,
                37.471
               ],
               [
                127.132,
                37.47
               ],
               [
                127.132,
                37.469
               ],
               [
                127.132,
                37.468
               ],
               [
                127.131,
                37.468
               ],
               [
                127.127,
                37.469
               ]
              ],
              [
               [
                126.789,
                37.174
               ],
               [
                126.756,
                37.056
               ],
               [
                126.686,
                37.112
               ],
               [
                126.75,
                37.168
               ],
               [
                126.789,
                37.174
               ]
              ]
             ],
             "type": "Polygon"
            },
            "properties": {
             "CTPRVN_CD": "41",
             "CTP_ENG_NM": "Gyeonggi-do",
             "CTP_KOR_NM": "경기도"
            },
            "type": "Feature"
           },
           {
            "geometry": {
             "coordinates": [
              [
               [
                128.549,
                38.302
               ],
               [
                128.513,
                38.346
               ],
               [
                128.509,
                38.373
               ],
               [
                128.456,
                38.433
               ],
               [
                128.41,
                38.553
               ],
               [
                128.372,
                38.591
               ],
               [
                128.335,
                38.526
               ],
               [
                128.346,
                38.501
               ],
               [
                128.31,
                38.42
               ],
               [
                128.269,
                38.416
               ],
               [
                128.267,
                38.377
               ],
               [
                128.214,
                38.37
               ],
               [
                128.198,
                38.333
               ],
               [
                128.113,
                38.328
               ],
               [
                128.08,
                38.288
               ],
               [
                127.982,
                38.281
               ],
               [
                127.942,
                38.306
               ],
               [
                127.895,
                38.313
               ],
               [
                127.861,
                38.283
               ],
               [
                127.811,
                38.288
               ],
               [
                127.759,
                38.319
               ],
               [
                127.703,
                38.309
               ],
               [
                127.682,
                38.326
               ],
               [
                127.577,
                38.336
               ],
               [
                127.498,
                38.3
               ],
               [
                127.465,
                38.319
               ],
               [
                127.384,
                38.334
               ],
               [
                127.353,
                38.304
               ],
               [
                127.291,
                38.301
               ],
               [
                127.242,
                38.333
               ],
               [
                127.131,
                38.301
               ],
               [
                127.102,
                38.273
               ],
               [
                127.114,
                38.237
               ],
               [
                127.163,
                38.238
               ],
               [
                127.189,
                38.162
               ],
               [
                127.221,
                38.138
               ],
               [
                127.284,
                38.183
               ],
               [
                127.276,
                38.125
               ],
               [
                127.321,
                38.095
               ],
               [
                127.379,
                38.118
               ],
               [
                127.44,
                38.109
               ],
               [
                127.458,
                38.017
               ],
               [
                127.54,
                38.001
               ],
               [
                127.547,
                37.966
               ],
               [
                127.602,
                37.955
               ],
               [
                127.617,
                37.906
               ],
               [
                127.529,
                37.84
               ],
               [
                127.522,
                37.789
               ],
               [
                127.562,
                37.72
               ],
               [
                127.559,
                37.628
               ],
               [
                127.609,
                37.65
               ],
               [
                127.662,
                37.624
               ],
               [
                127.708,
                37.586
               ],
               [
                127.755,
                37.592
               ],
               [
                127.848,
                37.552
               ],
               [
                127.76,
                37.503
               ],
               [
                127.796,
                37.463
               ],
               [
                127.804,
                37.432
               ],
               [
                127.763,
                37.37
               ],
               [
                127.768,
                37.31
               ],
               [
                127.744,
                37.211
               ],
               [
                127.756,
                37.171
               ],
               [
                127.79,
                37.143
               ],
               [
                127.872,
                37.164
               ],
               [
                127.902,
                37.152
               ],
               [
                127.934,
                37.176
               ],
               [
                127.922,
                37.225
               ],
               [
                127.98,
                37.258
               ],
               [
                128.019,
                37.244
               ],
               [
                128.037,
                37.189
               ],
               [
                128.164,
                37.213
               ],
               [
                128.208,
                37.249
               ],
               [
                128.268,
                37.208
               ],
               [
                128.314,
                37.223
               ],
               [
                128.326,
                37.197
               ],
               [
                128.27,
                37.162
               ],
               [
                128.298,
                37.134
               ],
               [
                128.335,
                37.157
               ],
               [
                128.384,
                37.158
               ],
               [
                128.423,
                37.103
               ],
               [
                128.478,
                37.11
               ],
               [
                128.549,
                37.087
               ],
               [
                128.628,
                37.075
               ],
               [
                128.7,
                37.041
               ],
               [
                128.753,
                37.054
               ],
               [
                128.774,
                37.088
               ],
               [
                128.829,
                37.078
               ],
               [
                128.847,
                37.052
               ],
               [
                128.91,
                37.066
               ],
               [
                128.923,
                37.092
               ],
               [
                129.064,
                37.068
               ],
               [
                129.096,
                37.1
               ],
               [
                129.162,
                37.069
               ],
               [
                129.195,
                37.041
               ],
               [
                129.271,
                37.116
               ],
               [
                129.325,
                37.142
               ],
               [
                129.355,
                37.235
               ],
               [
                129.267,
                37.323
               ],
               [
                129.251,
                37.38
               ],
               [
                129.198,
                37.415
               ],
               [
                129.189,
                37.452
               ],
               [
                129.122,
                37.521
               ],
               [
                129.116,
                37.579
               ],
               [
                129.054,
                37.621
               ],
               [
                129.055,
                37.675
               ],
               [
                128.879,
                37.829
               ],
               [
                128.795,
                37.928
               ],
               [
                128.733,
                38.018
               ],
               [
                128.695,
                38.045
               ],
               [
                128.669,
                38.086
               ],
               [
                128.608,
                38.152
               ],
               [
                128.598,
                38.215
               ],
               [
                128.56,
                38.257
               ],
               [
                128.549,
                38.302
               ]
              ]
             ],
             "type": "Polygon"
            },
            "properties": {
             "CTPRVN_CD": "42",
             "CTP_ENG_NM": "Gangwon-do",
             "CTP_KOR_NM": "강원도"
            },
            "type": "Feature"
           },
           {
            "geometry": {
             "coordinates": [
              [
               [
                127.493,
                36.238
               ],
               [
                127.533,
                36.251
               ],
               [
                127.598,
                36.217
               ],
               [
                127.589,
                36.134
               ],
               [
                127.653,
                36.057
               ],
               [
                127.766,
                36.012
               ],
               [
                127.853,
                36.039
               ],
               [
                127.868,
                36.024
               ],
               [
                127.961,
                36.07
               ],
               [
                127.965,
                36.113
               ],
               [
                127.989,
                36.133
               ],
               [
                127.975,
                36.188
               ],
               [
                128.01,
                36.209
               ],
               [
                128.056,
                36.202
               ],
               [
                128.011,
                36.272
               ],
               [
                127.968,
                36.25
               ],
               [
                127.892,
                36.292
               ],
               [
                127.852,
                36.274
               ],
               [
                127.842,
                36.308
               ],
               [
                127.883,
                36.346
               ],
               [
                127.864,
                36.403
               ],
               [
                127.88,
                36.493
               ],
               [
                127.896,
                36.531
               ],
               [
                127.87,
                36.559
               ],
               [
                127.798,
                36.586
               ],
               [
                127.848,
                36.625
               ],
               [
                127.931,
                36.624
               ],
               [
                127.929,
                36.691
               ],
               [
                127.957,
                36.736
               ],
               [
                128.05,
                36.708
               ],
               [
                128.032,
                36.748
               ],
               [
                128.06,
                36.817
               ],
               [
                128.093,
                36.803
               ],
               [
                128.151,
                36.823
               ],
               [
                128.216,
                36.812
               ],
               [
                128.242,
                36.872
               ],
               [
                128.282,
                36.856
               ],
               [
                128.321,
                36.816
               ],
               [
                128.42,
                36.812
               ],
               [
                128.449,
                36.848
               ],
               [
                128.424,
                36.877
               ],
               [
                128.442,
                36.927
               ],
               [
                128.515,
                36.987
               ],
               [
                128.57,
                37.014
               ],
               [
                128.582,
                37.043
               ],
               [
                128.633,
                37.041
               ],
               [
                128.651,
                37.066
               ],
               [
                128.549,
                37.087
               ],
               [
                128.478,
                37.11
               ],
               [
                128.423,
                37.103
               ],
               [
                128.384,
                37.158
               ],
               [
                128.335,
                37.157
               ],
               [
                128.298,
                37.134
               ],
               [
                128.27,
                37.162
               ],
               [
                128.326,
                37.197
               ],
               [
                128.314,
                37.223
               ],
               [
                128.268,
                37.208
               ],
               [
                128.208,
                37.249
               ],
               [
                128.164,
                37.213
               ],
               [
                128.037,
                37.189
               ],
               [
                128.019,
                37.244
               ],
               [
                127.98,
                37.258
               ],
               [
                127.922,
                37.225
               ],
               [
                127.934,
                37.176
               ],
               [
                127.902,
                37.152
               ],
               [
                127.872,
                37.164
               ],
               [
                127.79,
                37.143
               ],
               [
                127.718,
                37.184
               ],
               [
                127.689,
                37.136
               ],
               [
                127.638,
                37.141
               ],
               [
                127.632,
                37.096
               ],
               [
                127.533,
                37.055
               ],
               [
                127.46,
                37.046
               ],
               [
                127.429,
                37.002
               ],
               [
                127.394,
                36.998
               ],
               [
                127.375,
                36.949
               ],
               [
                127.35,
                36.953
               ],
               [
                127.29,
                36.892
               ],
               [
                127.402,
                36.795
               ],
               [
                127.42,
                36.758
               ],
               [
                127.365,
                36.762
               ],
               [
                127.309,
                36.722
               ],
               [
                127.289,
                36.659
               ],
               [
                127.306,
                36.602
               ],
               [
                127.337,
                36.57
               ],
               [
                127.402,
                36.541
               ],
               [
                127.396,
                36.492
               ],
               [
                127.397,
                36.491
               ],
               [
                127.398,
                36.49
               ],
               [
                127.402,
                36.486
               ],
               [
                127.403,
                36.484
               ],
               [
                127.404,
                36.478
               ],
               [
                127.404,
                36.477
               ],
               [
                127.403,
                36.474
               ],
               [
                127.402,
                36.473
               ],
               [
                127.399,
                36.473
               ],
               [
                127.399,
                36.472
               ],
               [
                127.398,
                36.472
               ],
               [
                127.398,
                36.471
               ],
               [
                127.398,
                36.47
               ],
               [
                127.398,
                36.469
               ],
               [
                127.398,
                36.468
               ],
               [
                127.399,
                36.467
               ],
               [
                127.399,
                36.466
               ],
               [
                127.4,
                36.465
               ],
               [
                127.399,
                36.464
               ],
               [
                127.399,
                36.463
               ],
               [
                127.399,
                36.462
               ],
               [
                127.4,
                36.462
               ],
               [
                127.4,
                36.458
               ],
               [
                127.399,
                36.457
               ],
               [
                127.399,
                36.456
               ],
               [
                127.4,
                36.456
               ],
               [
                127.4,
                36.455
               ],
               [
                127.403,
                36.456
               ],
               [
                127.403,
                36.455
               ],
               [
                127.406,
                36.455
               ],
               [
                127.407,
                36.455
               ],
               [
                127.408,
                36.455
               ],
               [
                127.409,
                36.455
               ],
               [
                127.412,
                36.455
               ],
               [
                127.413,
                36.455
               ],
               [
                127.414,
                36.455
               ],
               [
                127.416,
                36.455
               ],
               [
                127.417,
                36.455
               ],
               [
                127.418,
                36.455
               ],
               [
                127.419,
                36.455
               ],
               [
                127.42,
                36.455
               ],
               [
                127.424,
                36.456
               ],
               [
                127.425,
                36.456
               ],
               [
                127.428,
                36.457
               ],
               [
                127.43,
                36.457
               ],
               [
                127.431,
                36.457
               ],
               [
                127.432,
                36.457
               ],
               [
                127.434,
                36.457
               ],
               [
                127.435,
                36.456
               ],
               [
                127.436,
                36.456
               ],
               [
                127.437,
                36.456
               ],
               [
                127.436,
                36.456
               ],
               [
                127.435,
                36.456
               ],
               [
                127.434,
                36.456
               ],
               [
                127.438,
                36.456
               ],
               [
                127.438,
                36.455
               ],
               [
                127.439,
                36.455
               ],
               [
                127.439,
                36.454
               ],
               [
                127.44,
                36.454
               ],
               [
                127.44,
                36.453
               ],
               [
                127.441,
                36.453
               ],
               [
                127.441,
                36.452
               ],
               [
                127.442,
                36.452
               ],
               [
                127.442,
                36.451
               ],
               [
                127.443,
                36.451
               ],
               [
                127.444,
                36.45
               ],
               [
                127.445,
                36.45
               ],
               [
                127.446,
                36.45
               ],
               [
                127.447,
                36.449
               ],
               [
                127.45,
                36.449
               ],
               [
                127.452,
                36.449
               ],
               [
                127.453,
                36.45
               ],
               [
                127.454,
                36.45
               ],
               [
                127.456,
                36.451
               ],
               [
                127.457,
                36.451
               ],
               [
                127.457,
                36.452
               ],
               [
                127.458,
                36.452
               ],
               [
                127.459,
                36.452
               ],
               [
                127.461,
                36.454
               ],
               [
                127.462,
                36.455
               ],
               [
                127.462,
                36.456
               ],
               [
                127.463,
                36.456
               ],
               [
                127.463,
                36.46
               ],
               [
                127.464,
                36.46
               ],
               [
                127.464,
                36.463
               ],
               [
                127.464,
                36.464
               ],
               [
                127.464,
                36.465
               ],
               [
                127.465,
                36.467
               ],
               [
                127.465,
                36.468
               ],
               [
                127.466,
                36.468
               ],
               [
                127.466,
                36.469
               ],
               [
                127.466,
                36.47
               ],
               [
                127.47,
                36.473
               ],
               [
                127.47,
                36.474
               ],
               [
                127.472,
                36.475
               ],
               [
                127.474,
                36.476
               ],
               [
                127.476,
                36.476
               ],
               [
                127.481,
                36.477
               ],
               [
                127.484,
                36.477
               ],
               [
                127.484,
                36.476
               ],
               [
                127.485,
                36.475
               ],
               [
                127.484,
                36.474
               ],
               [
                127.484,
                36.472
               ],
               [
                127.484,
                36.471
               ],
               [
                127.483,
                36.47
               ],
               [
                127.483,
                36.469
               ],
               [
                127.483,
                36.468
               ],
               [
                127.482,
                36.468
               ],
               [
                127.482,
                36.467
               ],
               [
                127.481,
                36.466
               ],
               [
                127.481,
                36.465
               ],
               [
                127.48,
                36.465
               ],
               [
                127.479,
                36.464
               ],
               [
                127.479,
                36.463
               ],
               [
                127.478,
                36.462
               ],
               [
                127.478,
                36.461
               ],
               [
                127.478,
                36.46
               ],
               [
                127.477,
                36.459
               ],
               [
                127.478,
                36.458
               ],
               [
                127.478,
                36.457
               ],
               [
                127.48,
                36.456
               ],
               [
                127.482,
                36.454
               ],
               [
                127.483,
                36.453
               ],
               [
                127.485,
                36.453
               ],
               [
                127.491,
                36.453
               ],
               [
                127.493,
                36.454
               ],
               [
                127.494,
                36.454
               ],
               [
                127.496,
                36.455
               ],
               [
                127.497,
                36.455
               ],
               [
                127.498,
                36.455
               ],
               [
                127.499,
                36.456
               ],
               [
                127.501,
                36.456
               ],
               [
                127.503,
                36.456
               ],
               [
                127.503,
                36.455
               ],
               [
                127.504,
                36.452
               ],
               [
                127.504,
                36.45
               ],
               [
                127.503,
                36.449
               ],
               [
                127.502,
                36.449
               ],
               [
                127.501,
                36.448
               ],
               [
                127.501,
                36.447
               ],
               [
                127.5,
                36.447
               ],
               [
                127.499,
                36.446
               ],
               [
                127.497,
                36.445
               ],
               [
                127.496,
                36.444
               ],
               [
                127.494,
                36.441
               ],
               [
                127.493,
                36.44
               ],
               [
                127.492,
                36.439
               ],
               [
                127.491,
                36.436
               ],
               [
                127.49,
                36.434
               ],
               [
                127.49,
                36.432
               ],
               [
                127.491,
                36.43
               ],
               [
                127.492,
                36.429
               ],
               [
                127.492,
                36.428
               ],
               [
                127.493,
                36.427
               ],
               [
                127.493,
                36.426
               ],
               [
                127.494,
                36.425
               ],
               [
                127.495,
                36.424
               ],
               [
                127.496,
                36.421
               ],
               [
                127.497,
                36.42
               ],
               [
                127.497,
                36.419
               ],
               [
                127.497,
                36.416
               ],
               [
                127.498,
                36.415
               ],
               [
                127.499,
                36.413
               ],
               [
                127.5,
                36.413
               ],
               [
                127.5,
                36.412
               ],
               [
                127.502,
                36.409
               ],
               [
                127.506,
                36.408
               ],
               [
                127.509,
                36.409
               ],
               [
                127.51,
                36.409
               ],
               [
                127.511,
                36.41
               ],
               [
                127.511,
                36.411
               ],
               [
                127.513,
                36.416
               ],
               [
                127.513,
                36.418
               ],
               [
                127.514,
                36.419
               ],
               [
                127.515,
                36.422
               ],
               [
                127.516,
                36.422
               ],
               [
                127.517,
                36.422
               ],
               [
                127.517,
                36.421
               ],
               [
                127.518,
                36.421
               ],
               [
                127.519,
                36.42
               ],
               [
                127.52,
                36.42
               ],
               [
                127.521,
                36.421
               ],
               [
                127.523,
                36.423
               ],
               [
                127.524,
                36.423
               ],
               [
                127.526,
                36.422
               ],
               [
                127.526,
                36.421
               ],
               [
                127.527,
                36.421
               ],
               [
                127.528,
                36.421
               ],
               [
                127.529,
                36.42
               ],
               [
                127.533,
                36.419
               ],
               [
                127.534,
                36.419
               ],
               [
                127.535,
                36.419
               ],
               [
                127.537,
                36.42
               ],
               [
                127.538,
                36.42
               ],
               [
                127.539,
                36.42
               ],
               [
                127.542,
                36.419
               ],
               [
                127.542,
                36.416
               ],
               [
                127.546,
                36.409
               ],
               [
                127.547,
                36.408
               ],
               [
                127.548,
                36.408
               ],
               [
                127.55,
                36.407
               ],
               [
                127.551,
                36.406
               ],
               [
                127.552,
                36.405
               ],
               [
                127.554,
                36.401
               ],
               [
                127.555,
                36.4
               ],
               [
                127.557,
                36.4
               ],
               [
                127.558,
                36.4
               ],
               [
                127.559,
                36.4
               ],
               [
                127.559,
                36.399
               ],
               [
                127.56,
                36.398
               ],
               [
                127.559,
                36.398
               ],
               [
                127.557,
                36.397
               ],
               [
                127.554,
                36.395
               ],
               [
                127.551,
                36.395
               ],
               [
                127.551,
                36.396
               ],
               [
                127.55,
                36.397
               ],
               [
                127.545,
                36.396
               ],
               [
                127.537,
                36.395
               ],
               [
                127.536,
                36.395
               ],
               [
                127.535,
                36.394
               ],
               [
                127.533,
                36.394
               ],
               [
                127.533,
                36.393
               ],
               [
                127.534,
                36.393
               ],
               [
                127.533,
                36.392
               ],
               [
                127.532,
                36.391
               ],
               [
                127.531,
                36.391
               ],
               [
                127.53,
                36.391
               ],
               [
                127.529,
                36.39
               ],
               [
                127.529,
                36.389
               ],
               [
                127.528,
                36.389
               ],
               [
                127.527,
                36.388
               ],
               [
                127.526,
                36.387
               ],
               [
                127.525,
                36.388
               ],
               [
                127.525,
                36.386
               ],
               [
                127.525,
                36.384
               ],
               [
                127.525,
                36.382
               ],
               [
                127.525,
                36.38
               ],
               [
                127.526,
                36.379
               ],
               [
                127.525,
                36.377
               ],
               [
                127.525,
                36.376
               ],
               [
                127.526,
                36.372
               ],
               [
                127.526,
                36.368
               ],
               [
                127.525,
                36.366
               ],
               [
                127.524,
                36.366
               ],
               [
                127.524,
                36.365
               ],
               [
                127.525,
                36.364
               ],
               [
                127.525,
                36.363
               ],
               [
                127.524,
                36.362
               ],
               [
                127.524,
                36.361
               ],
               [
                127.524,
                36.36
               ],
               [
                127.523,
                36.359
               ],
               [
                127.522,
                36.358
               ],
               [
                127.523,
                36.357
               ],
               [
                127.523,
                36.356
               ],
               [
                127.523,
                36.355
               ],
               [
                127.522,
                36.354
               ],
               [
                127.522,
                36.353
               ],
               [
                127.52,
                36.351
               ],
               [
                127.519,
                36.35
               ],
               [
                127.517,
                36.35
               ],
               [
                127.517,
                36.349
               ],
               [
                127.517,
                36.348
               ],
               [
                127.513,
                36.347
               ],
               [
                127.512,
                36.346
               ],
               [
                127.51,
                36.346
               ],
               [
                127.51,
                36.347
               ],
               [
                127.507,
                36.346
               ],
               [
                127.508,
                36.345
               ],
               [
                127.508,
                36.344
               ],
               [
                127.507,
                36.343
               ],
               [
                127.505,
                36.342
               ],
               [
                127.504,
                36.342
               ],
               [
                127.505,
                36.341
               ],
               [
                127.504,
                36.341
               ],
               [
                127.502,
                36.34
               ],
               [
                127.501,
                36.34
               ],
               [
                127.501,
                36.339
               ],
               [
                127.501,
                36.337
               ],
               [
                127.502,
                36.336
               ],
               [
                127.501,
                36.335
               ],
               [
                127.501,
                36.334
               ],
               [
                127.501,
                36.333
               ],
               [
                127.502,
                36.332
               ],
               [
                127.502,
                36.331
               ],
               [
                127.502,
                36.33
               ],
               [
                127.502,
                36.328
               ],
               [
                127.503,
                36.326
               ],
               [
                127.503,
                36.325
               ],
               [
                127.502,
                36.325
               ],
               [
                127.502,
                36.324
               ],
               [
                127.502,
                36.323
               ],
               [
                127.501,
                36.323
               ],
               [
                127.501,
                36.322
               ],
               [
                127.5,
                36.322
               ],
               [
                127.5,
                36.321
               ],
               [
                127.499,
                36.321
               ],
               [
                127.497,
                36.319
               ],
               [
                127.497,
                36.318
               ],
               [
                127.497,
                36.317
               ],
               [
                127.498,
                36.316
               ],
               [
                127.497,
                36.315
               ],
               [
                127.497,
                36.314
               ],
               [
                127.496,
                36.314
               ],
               [
                127.495,
                36.312
               ],
               [
                127.496,
                36.311
               ],
               [
                127.499,
                36.307
               ],
               [
                127.499,
                36.306
               ],
               [
                127.499,
                36.305
               ],
               [
                127.497,
                36.302
               ],
               [
                127.497,
                36.301
               ],
               [
                127.496,
                36.299
               ],
               [
                127.495,
                36.301
               ],
               [
                127.493,
                36.301
               ],
               [
                127.492,
                36.3
               ],
               [
                127.492,
                36.299
               ],
               [
                127.491,
                36.298
               ],
               [
                127.491,
                36.297
               ],
               [
                127.492,
                36.296
               ],
               [
                127.493,
                36.295
               ],
               [
                127.494,
                36.293
               ],
               [
                127.494,
                36.292
               ],
               [
                127.495,
                36.291
               ],
               [
                127.496,
                36.29
               ],
               [
                127.495,
                36.29
               ],
               [
                127.496,
                36.288
               ],
               [
                127.498,
                36.286
               ],
               [
                127.498,
                36.285
               ],
               [
                127.499,
                36.283
               ],
               [
                127.497,
                36.28
               ],
               [
                127.495,
                36.278
               ],
               [
                127.494,
                36.277
               ],
               [
                127.493,
                36.276
               ],
               [
                127.493,
                36.275
               ],
               [
                127.491,
                36.274
               ],
               [
                127.49,
                36.274
               ],
               [
                127.49,
                36.273
               ],
               [
                127.489,
                36.273
               ],
               [
                127.489,
                36.272
               ],
               [
                127.489,
                36.271
               ],
               [
                127.489,
                36.27
               ],
               [
                127.49,
                36.27
               ],
               [
                127.49,
                36.269
               ],
               [
                127.49,
                36.268
               ],
               [
                127.489,
                36.267
               ],
               [
                127.488,
                36.267
               ],
               [
                127.488,
                36.265
               ],
               [
                127.487,
                36.262
               ],
               [
                127.486,
                36.259
               ],
               [
                127.487,
                36.259
               ],
               [
                127.49,
                36.258
               ],
               [
                127.49,
                36.256
               ],
               [
                127.49,
                36.254
               ],
               [
                127.489,
                36.253
               ],
               [
                127.488,
                36.252
               ],
               [
                127.488,
                36.251
               ],
               [
                127.488,
                36.25
               ],
               [
                127.489,
                36.247
               ],
               [
                127.489,
                36.246
               ],
               [
                127.49,
                36.245
               ],
               [
                127.493,
                36.243
               ],
               [
                127.492,
                36.242
               ],
               [
                127.493,
                36.239
               ],
               [
                127.493,
                36.238
               ]
              ]
             ],
             "type": "Polygon"
            },
            "properties": {
             "CTPRVN_CD": "43",
             "CTP_ENG_NM": "Chungcheongbuk-do",
             "CTP_KOR_NM": "충청북도"
            },
            "type": "Feature"
           },
           {
            "geometry": {
             "coordinates": [
              [
               [
                [
                 126.236,
                 36.866
                ],
                [
                 126.205,
                 36.9
                ],
                [
                 126.184,
                 36.81
                ],
                [
                 126.16,
                 36.829
                ],
                [
                 126.124,
                 36.757
                ],
                [
                 126.166,
                 36.759
                ],
                [
                 126.156,
                 36.677
                ],
                [
                 126.193,
                 36.677
                ],
                [
                 126.274,
                 36.72
                ],
                [
                 126.264,
                 36.678
                ],
                [
                 126.291,
                 36.665
                ],
                [
                 126.301,
                 36.626
                ],
                [
                 126.399,
                 36.619
                ],
                [
                 126.456,
                 36.595
                ],
                [
                 126.488,
                 36.527
                ],
                [
                 126.48,
                 36.488
                ],
                [
                 126.506,
                 36.427
                ],
                [
                 126.51,
                 36.381
                ],
                [
                 126.546,
                 36.355
                ],
                [
                 126.504,
                 36.323
                ],
                [
                 126.547,
                 36.268
                ],
                [
                 126.538,
                 36.212
                ],
                [
                 126.509,
                 36.151
                ],
                [
                 126.591,
                 36.129
                ],
                [
                 126.633,
                 36.082
                ],
                [
                 126.676,
                 36.009
                ],
                [
                 126.736,
                 36
                ],
                [
                 126.748,
                 36.026
                ],
                [
                 126.803,
                 36.034
                ],
                [
                 126.871,
                 36.067
                ],
                [
                 126.882,
                 36.131
                ],
                [
                 126.939,
                 36.151
                ],
                [
                 127.04,
                 36.139
                ],
                [
                 127.06,
                 36.094
                ],
                [
                 127.123,
                 36.064
                ],
                [
                 127.206,
                 36.101
                ],
                [
                 127.273,
                 36.107
                ],
                [
                 127.34,
                 36.129
                ],
                [
                 127.376,
                 36.023
                ],
                [
                 127.437,
                 36.009
                ],
                [
                 127.457,
                 35.983
                ],
                [
                 127.52,
                 35.983
                ],
                [
                 127.538,
                 36.032
                ],
                [
                 127.616,
                 36.019
                ],
                [
                 127.613,
                 36.112
                ],
                [
                 127.589,
                 36.134
                ],
                [
                 127.598,
                 36.217
                ],
                [
                 127.518,
                 36.241
                ],
                [
                 127.467,
                 36.222
                ],
                [
                 127.449,
                 36.197
                ],
                [
                 127.39,
                 36.24
                ],
                [
                 127.324,
                 36.203
                ],
                [
                 127.283,
                 36.235
                ],
                [
                 127.259,
                 36.276
                ],
                [
                 127.26,
                 36.327
                ],
                [
                 127.279,
                 36.345
                ],
                [
                 127.258,
                 36.408
                ],
                [
                 127.201,
                 36.442
                ],
                [
                 127.173,
                 36.499
                ],
                [
                 127.173,
                 36.536
                ],
                [
                 127.194,
                 36.581
                ],
                [
                 127.155,
                 36.607
                ],
                [
                 127.155,
                 36.664
                ],
                [
                 127.134,
                 36.707
                ],
                [
                 127.16,
                 36.733
                ],
                [
                 127.197,
                 36.728
                ],
                [
                 127.248,
                 36.695
                ],
                [
                 127.285,
                 36.691
                ],
                [
                 127.333,
                 36.748
                ],
                [
                 127.365,
                 36.762
                ],
                [
                 127.42,
                 36.758
                ],
                [
                 127.402,
                 36.795
                ],
                [
                 127.356,
                 36.829
                ],
                [
                 127.273,
                 36.912
                ],
                [
                 127.219,
                 36.93
                ],
                [
                 127.201,
                 36.952
                ],
                [
                 127.112,
                 36.972
                ],
                [
                 127.075,
                 36.94
                ],
                [
                 126.986,
                 36.932
                ],
                [
                 126.863,
                 36.88
                ],
                [
                 126.817,
                 36.896
                ],
                [
                 126.78,
                 36.967
                ],
                [
                 126.695,
                 37
                ],
                [
                 126.628,
                 37.003
                ],
                [
                 126.497,
                 37.053
                ],
                [
                 126.45,
                 37.006
                ],
                [
                 126.353,
                 37.005
                ],
                [
                 126.376,
                 36.981
                ],
                [
                 126.386,
                 36.933
                ],
                [
                 126.421,
                 36.927
                ],
                [
                 126.37,
                 36.857
                ],
                [
                 126.328,
                 36.861
                ],
                [
                 126.33,
                 36.814
                ],
                [
                 126.281,
                 36.818
                ],
                [
                 126.313,
                 36.884
                ],
                [
                 126.3,
                 36.919
                ],
                [
                 126.236,
                 36.866
                ]
               ]
              ],
              [
               [
                [
                 126.371,
                 36.566
                ],
                [
                 126.339,
                 36.606
                ],
                [
                 126.328,
                 36.556
                ],
                [
                 126.336,
                 36.441
                ],
                [
                 126.372,
                 36.412
                ],
                [
                 126.435,
                 36.422
                ],
                [
                 126.371,
                 36.566
                ]
               ]
              ]
             ],
             "type": "MultiPolygon"
            },
            "properties": {
             "CTPRVN_CD": "44",
             "CTP_ENG_NM": "Chungcheongnam-do",
             "CTP_KOR_NM": "충청남도"
            },
            "type": "Feature"
           },
           {
            "geometry": {
             "coordinates": [
              [
               [
                126.628,
                35.978
               ],
               [
                126.523,
                35.968
               ],
               [
                126.532,
                35.933
               ],
               [
                126.497,
                35.848
               ],
               [
                126.477,
                35.824
               ],
               [
                126.519,
                35.736
               ],
               [
                126.556,
                35.698
               ],
               [
                126.468,
                35.642
               ],
               [
                126.462,
                35.61
               ],
               [
                126.503,
                35.583
               ],
               [
                126.593,
                35.59
               ],
               [
                126.651,
                35.581
               ],
               [
                126.594,
                35.535
               ],
               [
                126.567,
                35.543
               ],
               [
                126.484,
                35.519
               ],
               [
                126.442,
                35.452
               ],
               [
                126.45,
                35.428
               ],
               [
                126.493,
                35.409
               ],
               [
                126.483,
                35.381
               ],
               [
                126.52,
                35.35
               ],
               [
                126.532,
                35.307
               ],
               [
                126.604,
                35.336
               ],
               [
                126.644,
                35.32
               ],
               [
                126.731,
                35.377
               ],
               [
                126.765,
                35.467
               ],
               [
                126.84,
                35.469
               ],
               [
                126.897,
                35.448
               ],
               [
                126.934,
                35.395
               ],
               [
                127.035,
                35.467
               ],
               [
                127.052,
                35.427
               ],
               [
                127.039,
                35.38
               ],
               [
                127.071,
                35.366
               ],
               [
                127.046,
                35.319
               ],
               [
                127.114,
                35.3
               ],
               [
                127.168,
                35.332
               ],
               [
                127.213,
                35.317
               ],
               [
                127.31,
                35.305
               ],
               [
                127.354,
                35.322
               ],
               [
                127.393,
                35.307
               ],
               [
                127.43,
                35.358
               ],
               [
                127.498,
                35.36
               ],
               [
                127.577,
                35.309
               ],
               [
                127.621,
                35.332
               ],
               [
                127.61,
                35.366
               ],
               [
                127.66,
                35.414
               ],
               [
                127.674,
                35.446
               ],
               [
                127.625,
                35.531
               ],
               [
                127.587,
                35.557
               ],
               [
                127.61,
                35.583
               ],
               [
                127.62,
                35.643
               ],
               [
                127.661,
                35.71
               ],
               [
                127.662,
                35.761
               ],
               [
                127.719,
                35.797
               ],
               [
                127.739,
                35.83
               ],
               [
                127.854,
                35.881
               ],
               [
                127.86,
                35.906
               ],
               [
                127.909,
                35.942
               ],
               [
                127.877,
                36.023
               ],
               [
                127.853,
                36.039
               ],
               [
                127.766,
                36.012
               ],
               [
                127.64,
                36.068
               ],
               [
                127.616,
                36.019
               ],
               [
                127.538,
                36.032
               ],
               [
                127.52,
                35.983
               ],
               [
                127.457,
                35.983
               ],
               [
                127.437,
                36.009
               ],
               [
                127.376,
                36.023
               ],
               [
                127.34,
                36.129
               ],
               [
                127.273,
                36.107
               ],
               [
                127.206,
                36.101
               ],
               [
                127.123,
                36.064
               ],
               [
                127.06,
                36.094
               ],
               [
                127.04,
                36.139
               ],
               [
                126.939,
                36.151
               ],
               [
                126.882,
                36.131
               ],
               [
                126.871,
                36.067
               ],
               [
                126.821,
                36.05
               ],
               [
                126.729,
                35.985
               ],
               [
                126.628,
                35.978
               ]
              ],
              [
               [
                126.642,
                35.795
               ],
               [
                126.628,
                35.749
               ],
               [
                126.569,
                35.693
               ],
               [
                126.52,
                35.738
               ],
               [
                126.481,
                35.819
               ],
               [
                126.541,
                35.943
               ],
               [
                126.616,
                35.942
               ],
               [
                126.619,
                35.888
               ],
               [
                126.668,
                35.884
               ],
               [
                126.707,
                35.797
               ],
               [
                126.642,
                35.795
               ]
              ]
             ],
             "type": "Polygon"
            },
            "properties": {
             "CTPRVN_CD": "45",
             "CTP_ENG_NM": "Jeollabuk-do",
             "CTP_KOR_NM": "전라북도"
            },
            "type": "Feature"
           },
           {
            "geometry": {
             "coordinates": [
              [
               [
                [
                 126.593,
                 34.162
                ],
                [
                 126.54,
                 34.182
                ],
                [
                 126.506,
                 34.139
                ],
                [
                 126.547,
                 34.127
                ],
                [
                 126.593,
                 34.162
                ]
               ]
              ],
              [
               [
                [
                 126.892,
                 34.217
                ],
                [
                 126.853,
                 34.186
                ],
                [
                 126.881,
                 34.156
                ],
                [
                 126.922,
                 34.184
                ],
                [
                 126.892,
                 34.217
                ]
               ]
              ],
              [
               [
                [
                 126.565,
                 34.235
                ],
                [
                 126.561,
                 34.179
                ],
                [
                 126.622,
                 34.2
                ],
                [
                 126.565,
                 34.235
                ]
               ]
              ],
              [
               [
                [
                 126.835,
                 34.357
                ],
                [
                 126.841,
                 34.299
                ],
                [
                 126.879,
                 34.326
                ],
                [
                 126.835,
                 34.357
                ]
               ]
              ],
              [
               [
                [
                 126.307,
                 34.748
                ],
                [
                 126.258,
                 34.694
                ],
                [
                 126.281,
                 34.6
                ],
                [
                 126.334,
                 34.573
                ],
                [
                 126.417,
                 34.554
                ],
                [
                 126.461,
                 34.532
                ],
                [
                 126.472,
                 34.469
                ],
                [
                 126.459,
                 34.449
                ],
                [
                 126.494,
                 34.408
                ],
                [
                 126.475,
                 34.378
                ],
                [
                 126.527,
                 34.335
                ],
                [
                 126.601,
                 34.319
                ],
                [
                 126.62,
                 34.359
                ],
                [
                 126.617,
                 34.403
                ],
                [
                 126.727,
                 34.446
                ],
                [
                 126.796,
                 34.567
                ],
                [
                 126.791,
                 34.467
                ],
                [
                 126.818,
                 34.449
                ],
                [
                 126.925,
                 34.453
                ],
                [
                 126.979,
                 34.478
                ],
                [
                 126.961,
                 34.531
                ],
                [
                 126.989,
                 34.562
                ],
                [
                 127.013,
                 34.625
                ],
                [
                 127.068,
                 34.664
                ],
                [
                 127.143,
                 34.693
                ],
                [
                 127.177,
                 34.692
                ],
                [
                 127.241,
                 34.765
                ],
                [
                 127.26,
                 34.733
                ],
                [
                 127.327,
                 34.752
                ],
                [
                 127.333,
                 34.715
                ],
                [
                 127.315,
                 34.664
                ],
                [
                 127.265,
                 34.713
                ],
                [
                 127.24,
                 34.697
                ],
                [
                 127.228,
                 34.655
                ],
                [
                 127.173,
                 34.627
                ],
                [
                 127.171,
                 34.594
                ],
                [
                 127.124,
                 34.57
                ],
                [
                 127.137,
                 34.524
                ],
                [
                 127.221,
                 34.535
                ],
                [
                 127.274,
                 34.503
                ],
                [
                 127.268,
                 34.482
                ],
                [
                 127.328,
                 34.466
                ],
                [
                 127.378,
                 34.504
                ],
                [
                 127.404,
                 34.505
                ],
                [
                 127.437,
                 34.55
                ],
                [
                 127.506,
                 34.604
                ],
                [
                 127.475,
                 34.658
                ],
                [
                 127.407,
                 34.696
                ],
                [
                 127.373,
                 34.742
                ],
                [
                 127.398,
                 34.817
                ],
                [
                 127.417,
                 34.833
                ],
                [
                 127.492,
                 34.847
                ],
                [
                 127.524,
                 34.815
                ],
                [
                 127.557,
                 34.807
                ],
                [
                 127.593,
                 34.744
                ],
                [
                 127.549,
                 34.713
                ],
                [
                 127.552,
                 34.663
                ],
                [
                 127.638,
                 34.636
                ],
                [
                 127.625,
                 34.699
                ],
                [
                 127.655,
                 34.746
                ],
                [
                 127.705,
                 34.72
                ],
                [
                 127.751,
                 34.736
                ],
                [
                 127.745,
                 34.775
                ],
                [
                 127.776,
                 34.856
                ],
                [
                 127.698,
                 34.859
                ],
                [
                 127.638,
                 34.827
                ],
                [
                 127.59,
                 34.877
                ],
                [
                 127.671,
                 34.931
                ],
                [
                 127.701,
                 34.931
                ],
                [
                 127.754,
                 34.962
                ],
                [
                 127.785,
                 35.021
                ],
                [
                 127.695,
                 35.106
                ],
                [
                 127.694,
                 35.128
                ],
                [
                 127.648,
                 35.16
                ],
                [
                 127.618,
                 35.2
                ],
                [
                 127.619,
                 35.236
                ],
                [
                 127.568,
                 35.319
                ],
                [
                 127.498,
                 35.36
                ],
                [
                 127.43,
                 35.358
                ],
                [
                 127.393,
                 35.307
                ],
                [
                 127.354,
                 35.322
                ],
                [
                 127.31,
                 35.305
                ],
                [
                 127.213,
                 35.317
                ],
                [
                 127.168,
                 35.332
                ],
                [
                 127.114,
                 35.3
                ],
                [
                 127.046,
                 35.319
                ],
                [
                 127.071,
                 35.366
                ],
                [
                 127.039,
                 35.38
                ],
                [
                 127.052,
                 35.427
                ],
                [
                 127.035,
                 35.467
                ],
                [
                 126.934,
                 35.395
                ],
                [
                 126.897,
                 35.448
                ],
                [
                 126.84,
                 35.469
                ],
                [
                 126.765,
                 35.467
                ],
                [
                 126.731,
                 35.377
                ],
                [
                 126.644,
                 35.32
                ],
                [
                 126.604,
                 35.336
                ],
                [
                 126.532,
                 35.307
                ],
                [
                 126.52,
                 35.35
                ],
                [
                 126.483,
                 35.381
                ],
                [
                 126.493,
                 35.409
                ],
                [
                 126.439,
                 35.43
                ],
                [
                 126.406,
                 35.387
                ],
                [
                 126.37,
                 35.284
                ],
                [
                 126.334,
                 35.283
                ],
                [
                 126.3,
                 35.211
                ],
                [
                 126.355,
                 35.184
                ],
                [
                 126.419,
                 35.11
                ],
                [
                 126.462,
                 35.102
                ],
                [
                 126.445,
                 35.058
                ],
                [
                 126.404,
                 35.026
                ],
                [
                 126.392,
                 35.066
                ],
                [
                 126.353,
                 35.078
                ],
                [
                 126.33,
                 35.108
                ],
                [
                 126.333,
                 35.149
                ],
                [
                 126.16,
                 35.099
                ],
                [
                 126.163,
                 35.068
                ],
                [
                 126.231,
                 35.024
                ],
                [
                 126.275,
                 35.034
                ],
                [
                 126.345,
                 35.071
                ],
                [
                 126.349,
                 34.977
                ],
                [
                 126.295,
                 34.965
                ],
                [
                 126.333,
                 34.917
                ],
                [
                 126.374,
                 34.941
                ],
                [
                 126.407,
                 34.852
                ],
                [
                 126.351,
                 34.797
                ],
                [
                 126.389,
                 34.781
                ],
                [
                 126.386,
                 34.732
                ],
                [
                 126.355,
                 34.693
                ],
                [
                 126.307,
                 34.748
                ]
               ],
               [
                [
                 126.809,
                 35.052
                ],
                [
                 126.776,
                 35.053
                ],
                [
                 126.736,
                 35.108
                ],
                [
                 126.652,
                 35.12
                ],
                [
                 126.657,
                 35.167
                ],
                [
                 126.736,
                 35.251
                ],
                [
                 126.806,
                 35.219
                ],
                [
                 126.905,
                 35.258
                ],
                [
                 126.931,
                 35.251
                ],
                [
                 126.972,
                 35.185
                ],
                [
                 127,
                 35.189
                ],
                [
                 127.012,
                 35.128
                ],
                [
                 126.989,
                 35.095
                ],
                [
                 126.936,
                 35.074
                ],
                [
                 126.921,
                 35.092
                ],
                [
                 126.809,
                 35.052
                ]
               ]
              ],
              [
               [
                [
                 126.654,
                 34.328
                ],
                [
                 126.689,
                 34.297
                ],
                [
                 126.752,
                 34.291
                ],
                [
                 126.756,
                 34.315
                ],
                [
                 126.726,
                 34.383
                ],
                [
                 126.685,
                 34.402
                ],
                [
                 126.639,
                 34.383
                ],
                [
                 126.655,
                 34.329
                ],
                [
                 126.654,
                 34.328
                ]
               ]
              ],
              [
               [
                [
                 126.944,
                 34.413
                ],
                [
                 126.931,
                 34.391
                ],
                [
                 126.885,
                 34.404
                ],
                [
                 126.864,
                 34.373
                ],
                [
                 126.918,
                 34.356
                ],
                [
                 126.944,
                 34.413
                ]
               ]
              ],
              [
               [
                [
                 126.834,
                 34.443
                ],
                [
                 126.787,
                 34.432
                ],
                [
                 126.764,
                 34.407
                ],
                [
                 126.772,
                 34.375
                ],
                [
                 126.854,
                 34.392
                ],
                [
                 126.834,
                 34.443
                ]
               ]
              ],
              [
               [
                [
                 127.457,
                 34.476
                ],
                [
                 127.494,
                 34.431
                ],
                [
                 127.536,
                 34.449
                ],
                [
                 127.457,
                 34.476
                ]
               ]
              ],
              [
               [
                [
                 127.217,
                 34.495
                ],
                [
                 127.098,
                 34.466
                ],
                [
                 127.124,
                 34.432
                ],
                [
                 127.217,
                 34.436
                ],
                [
                 127.234,
                 34.483
                ],
                [
                 127.217,
                 34.495
                ]
               ]
              ],
              [
               [
                [
                 127.46,
                 34.545
                ],
                [
                 127.451,
                 34.483
                ],
                [
                 127.493,
                 34.484
                ],
                [
                 127.479,
                 34.537
                ],
                [
                 127.46,
                 34.545
                ]
               ]
              ],
              [
               [
                [
                 127.741,
                 34.553
                ],
                [
                 127.712,
                 34.538
                ],
                [
                 127.739,
                 34.503
                ],
                [
                 127.792,
                 34.501
                ],
                [
                 127.741,
                 34.553
                ]
               ]
              ],
              [
               [
                [
                 126.25,
                 34.588
                ],
                [
                 126.251,
                 34.561
                ],
                [
                 126.173,
                 34.485
                ],
                [
                 126.119,
                 34.459
                ],
                [
                 126.093,
                 34.428
                ],
                [
                 126.117,
                 34.38
                ],
                [
                 126.143,
                 34.385
                ],
                [
                 126.174,
                 34.352
                ],
                [
                 126.263,
                 34.379
                ],
                [
                 126.265,
                 34.397
                ],
                [
                 126.325,
                 34.408
                ],
                [
                 126.365,
                 34.443
                ],
                [
                 126.369,
                 34.515
                ],
                [
                 126.304,
                 34.571
                ],
                [
                 126.25,
                 34.588
                ]
               ]
              ],
              [
               [
                [
                 126.017,
                 34.635
                ],
                [
                 126.011,
                 34.606
                ],
                [
                 126.029,
                 34.566
                ],
                [
                 126.062,
                 34.591
                ],
                [
                 126.017,
                 34.635
                ]
               ]
              ],
              [
               [
                [
                 126.154,
                 34.672
                ],
                [
                 126.116,
                 34.653
                ],
                [
                 126.143,
                 34.619
                ],
                [
                 126.187,
                 34.65
                ],
                [
                 126.154,
                 34.672
                ]
               ]
              ],
              [
               [
                [
                 127.74,
                 34.734
                ],
                [
                 127.762,
                 34.685
                ],
                [
                 127.71,
                 34.623
                ],
                [
                 127.75,
                 34.593
                ],
                [
                 127.79,
                 34.585
                ],
                [
                 127.795,
                 34.667
                ],
                [
                 127.74,
                 34.734
                ]
               ]
              ],
              [
               [
                [
                 125.963,
                 34.737
                ],
                [
                 125.916,
                 34.711
                ],
                [
                 125.94,
                 34.665
                ],
                [
                 126.01,
                 34.688
                ],
                [
                 125.963,
                 34.737
                ]
               ]
              ],
              [
               [
                [
                 126.09,
                 34.774
                ],
                [
                 126.082,
                 34.72
                ],
                [
                 126.137,
                 34.729
                ],
                [
                 126.171,
                 34.749
                ],
                [
                 126.09,
                 34.774
                ]
               ]
              ],
              [
               [
                [
                 125.994,
                 34.805
                ],
                [
                 125.9,
                 34.769
                ],
                [
                 125.887,
                 34.739
                ],
                [
                 125.998,
                 34.762
                ],
                [
                 125.994,
                 34.805
                ]
               ]
              ],
              [
               [
                [
                 126.116,
                 34.882
                ],
                [
                 126.061,
                 34.844
                ],
                [
                 126.097,
                 34.806
                ],
                [
                 126.149,
                 34.84
                ],
                [
                 126.148,
                 34.873
                ],
                [
                 126.116,
                 34.882
                ]
               ]
              ],
              [
               [
                [
                 126.09,
                 34.903
                ],
                [
                 126.017,
                 34.91
                ],
                [
                 125.988,
                 34.875
                ],
                [
                 126.04,
                 34.847
                ],
                [
                 126.083,
                 34.866
                ],
                [
                 126.09,
                 34.903
                ]
               ]
              ],
              [
               [
                [
                 127.731,
                 34.952
                ],
                [
                 127.705,
                 34.913
                ],
                [
                 127.761,
                 34.909
                ],
                [
                 127.731,
                 34.952
                ]
               ]
              ],
              [
               [
                [
                 126.136,
                 35.025
                ],
                [
                 126.144,
                 34.969
                ],
                [
                 126.18,
                 34.994
                ],
                [
                 126.136,
                 35.025
                ]
               ]
              ],
              [
               [
                [
                 126.151,
                 35.146
                ],
                [
                 126.118,
                 35.14
                ],
                [
                 126.048,
                 35.081
                ],
                [
                 126.095,
                 35.052
                ],
                [
                 126.114,
                 35.064
                ],
                [
                 126.122,
                 35.131
                ],
                [
                 126.151,
                 35.146
                ]
               ]
              ]
             ],
             "type": "MultiPolygon"
            },
            "properties": {
             "CTPRVN_CD": "46",
             "CTP_ENG_NM": "Jellanam-do",
             "CTP_KOR_NM": "전라남도"
            },
            "type": "Feature"
           },
           {
            "geometry": {
             "coordinates": [
              [
               [
                [
                 129.579,
                 36.052
                ],
                [
                 129.54,
                 36.066
                ],
                [
                 129.45,
                 35.991
                ],
                [
                 129.396,
                 36.018
                ],
                [
                 129.377,
                 36.047
                ],
                [
                 129.432,
                 36.111
                ],
                [
                 129.395,
                 36.14
                ],
                [
                 129.374,
                 36.25
                ],
                [
                 129.379,
                 36.333
                ],
                [
                 129.429,
                 36.409
                ],
                [
                 129.446,
                 36.503
                ],
                [
                 129.44,
                 36.552
                ],
                [
                 129.41,
                 36.593
                ],
                [
                 129.438,
                 36.671
                ],
                [
                 129.476,
                 36.699
                ],
                [
                 129.477,
                 36.766
                ],
                [
                 129.421,
                 36.863
                ],
                [
                 129.41,
                 37.023
                ],
                [
                 129.427,
                 37.064
                ],
                [
                 129.376,
                 37.102
                ],
                [
                 129.364,
                 37.146
                ],
                [
                 129.325,
                 37.142
                ],
                [
                 129.271,
                 37.116
                ],
                [
                 129.195,
                 37.041
                ],
                [
                 129.096,
                 37.1
                ],
                [
                 129.064,
                 37.068
                ],
                [
                 128.923,
                 37.092
                ],
                [
                 128.91,
                 37.066
                ],
                [
                 128.847,
                 37.052
                ],
                [
                 128.829,
                 37.078
                ],
                [
                 128.774,
                 37.088
                ],
                [
                 128.753,
                 37.054
                ],
                [
                 128.7,
                 37.041
                ],
                [
                 128.646,
                 37.061
                ],
                [
                 128.633,
                 37.041
                ],
                [
                 128.582,
                 37.043
                ],
                [
                 128.57,
                 37.014
                ],
                [
                 128.515,
                 36.987
                ],
                [
                 128.442,
                 36.927
                ],
                [
                 128.424,
                 36.877
                ],
                [
                 128.449,
                 36.848
                ],
                [
                 128.42,
                 36.812
                ],
                [
                 128.321,
                 36.816
                ],
                [
                 128.282,
                 36.856
                ],
                [
                 128.242,
                 36.872
                ],
                [
                 128.216,
                 36.812
                ],
                [
                 128.151,
                 36.823
                ],
                [
                 128.093,
                 36.803
                ],
                [
                 128.06,
                 36.817
                ],
                [
                 128.032,
                 36.748
                ],
                [
                 128.05,
                 36.708
                ],
                [
                 127.957,
                 36.736
                ],
                [
                 127.929,
                 36.691
                ],
                [
                 127.931,
                 36.624
                ],
                [
                 127.848,
                 36.625
                ],
                [
                 127.798,
                 36.586
                ],
                [
                 127.87,
                 36.559
                ],
                [
                 127.896,
                 36.531
                ],
                [
                 127.88,
                 36.493
                ],
                [
                 127.864,
                 36.403
                ],
                [
                 127.883,
                 36.346
                ],
                [
                 127.842,
                 36.308
                ],
                [
                 127.852,
                 36.274
                ],
                [
                 127.892,
                 36.292
                ],
                [
                 127.968,
                 36.25
                ],
                [
                 128.011,
                 36.272
                ],
                [
                 128.056,
                 36.202
                ],
                [
                 128.01,
                 36.209
                ],
                [
                 127.975,
                 36.188
                ],
                [
                 127.989,
                 36.133
                ],
                [
                 127.965,
                 36.113
                ],
                [
                 127.961,
                 36.07
                ],
                [
                 127.883,
                 36.032
                ],
                [
                 127.909,
                 35.942
                ],
                [
                 127.883,
                 35.93
                ],
                [
                 127.893,
                 35.887
                ],
                [
                 128.012,
                 35.829
                ],
                [
                 128.07,
                 35.841
                ],
                [
                 128.124,
                 35.82
                ],
                [
                 128.136,
                 35.785
                ],
                [
                 128.189,
                 35.752
                ],
                [
                 128.205,
                 35.684
                ],
                [
                 128.201,
                 35.644
                ],
                [
                 128.262,
                 35.643
                ],
                [
                 128.306,
                 35.655
                ],
                [
                 128.4,
                 35.646
                ],
                [
                 128.357,
                 35.682
                ],
                [
                 128.412,
                 35.696
                ],
                [
                 128.432,
                 35.726
                ],
                [
                 128.383,
                 35.759
                ],
                [
                 128.421,
                 35.809
                ],
                [
                 128.47,
                 35.806
                ],
                [
                 128.473,
                 35.833
                ],
                [
                 128.473,
                 35.834
                ],
                [
                 128.436,
                 35.848
                ],
                [
                 128.384,
                 35.853
                ],
                [
                 128.398,
                 35.893
                ],
                [
                 128.431,
                 35.931
                ],
                [
                 128.476,
                 35.934
                ],
                [
                 128.475,
                 35.894
                ],
                [
                 128.529,
                 35.924
                ],
                [
                 128.546,
                 35.966
                ],
                [
                 128.617,
                 36.007
                ],
                [
                 128.696,
                 36.016
                ],
                [
                 128.746,
                 35.973
                ],
                [
                 128.738,
                 35.928
                ],
                [
                 128.76,
                 35.866
                ],
                [
                 128.709,
                 35.827
                ],
                [
                 128.683,
                 35.79
                ],
                [
                 128.695,
                 35.756
                ],
                [
                 128.683,
                 35.721
                ],
                [
                 128.624,
                 35.703
                ],
                [
                 128.581,
                 35.739
                ],
                [
                 128.528,
                 35.713
                ],
                [
                 128.537,
                 35.624
                ],
                [
                 128.6,
                 35.58
                ],
                [
                 128.658,
                 35.598
                ],
                [
                 128.758,
                 35.567
                ],
                [
                 128.854,
                 35.597
                ],
                [
                 128.915,
                 35.641
                ],
                [
                 128.983,
                 35.609
                ],
                [
                 129.047,
                 35.651
                ],
                [
                 129.102,
                 35.706
                ],
                [
                 129.205,
                 35.721
                ],
                [
                 129.262,
                 35.693
                ],
                [
                 129.26,
                 35.655
                ],
                [
                 129.296,
                 35.645
                ],
                [
                 129.354,
                 35.679
                ],
                [
                 129.45,
                 35.651
                ],
                [
                 129.465,
                 35.667
                ],
                [
                 129.496,
                 35.772
                ],
                [
                 129.491,
                 35.784
                ],
                [
                 129.532,
                 35.871
                ],
                [
                 129.518,
                 35.92
                ],
                [
                 129.575,
                 36.004
                ],
                [
                 129.579,
                 36.052
                ]
               ]
              ],
              [
               [
                [
                 130.906,
                 37.549
                ],
                [
                 130.794,
                 37.513
                ],
                [
                 130.812,
                 37.473
                ],
                [
                 130.875,
                 37.458
                ],
                [
                 130.914,
                 37.487
                ],
                [
                 130.906,
                 37.549
                ]
               ]
              ]
             ],
             "type": "MultiPolygon"
            },
            "properties": {
             "CTPRVN_CD": "47",
             "CTP_ENG_NM": "Gyeongsangbuk-do",
             "CTP_KOR_NM": "경상북도"
            },
            "type": "Feature"
           },
           {
            "geometry": {
             "coordinates": [
              [
               [
                [
                 128.351,
                 34.841
                ],
                [
                 128.407,
                 34.762
                ],
                [
                 128.44,
                 34.795
                ],
                [
                 128.44,
                 34.823
                ],
                [
                 128.351,
                 34.841
                ]
               ]
              ],
              [
               [
                [
                 128.031,
                 34.922
                ],
                [
                 127.996,
                 34.91
                ],
                [
                 127.962,
                 34.869
                ],
                [
                 127.971,
                 34.842
                ],
                [
                 128.045,
                 34.836
                ],
                [
                 128.061,
                 34.879
                ],
                [
                 128.031,
                 34.922
                ]
               ]
              ],
              [
               [
                [
                 127.891,
                 34.947
                ],
                [
                 127.81,
                 34.859
                ],
                [
                 127.813,
                 34.835
                ],
                [
                 127.852,
                 34.769
                ],
                [
                 127.853,
                 34.739
                ],
                [
                 127.885,
                 34.723
                ],
                [
                 127.903,
                 34.763
                ],
                [
                 127.949,
                 34.778
                ],
                [
                 127.959,
                 34.71
                ],
                [
                 128.027,
                 34.718
                ],
                [
                 128.056,
                 34.746
                ],
                [
                 128.049,
                 34.782
                ],
                [
                 128.064,
                 34.817
                ],
                [
                 127.991,
                 34.833
                ],
                [
                 127.944,
                 34.809
                ],
                [
                 127.897,
                 34.874
                ],
                [
                 127.929,
                 34.916
                ],
                [
                 127.891,
                 34.947
                ]
               ]
              ],
              [
               [
                [
                 128.467,
                 34.882
                ],
                [
                 128.429,
                 34.918
                ],
                [
                 128.42,
                 34.954
                ],
                [
                 128.501,
                 35.015
                ],
                [
                 128.46,
                 35.063
                ],
                [
                 128.374,
                 35.03
                ],
                [
                 128.373,
                 35.05
                ],
                [
                 128.471,
                 35.081
                ],
                [
                 128.539,
                 35.114
                ],
                [
                 128.607,
                 35.058
                ],
                [
                 128.597,
                 35.143
                ],
                [
                 128.564,
                 35.187
                ],
                [
                 128.632,
                 35.221
                ],
                [
                 128.589,
                 35.199
                ],
                [
                 128.61,
                 35.144
                ],
                [
                 128.696,
                 35.139
                ],
                [
                 128.695,
                 35.097
                ],
                [
                 128.812,
                 35.078
                ],
                [
                 128.842,
                 35.106
                ],
                [
                 128.843,
                 35.158
                ],
                [
                 128.881,
                 35.183
                ],
                [
                 128.886,
                 35.214
                ],
                [
                 128.999,
                 35.238
                ],
                [
                 129.017,
                 35.275
                ],
                [
                 129.045,
                 35.275
                ],
                [
                 129.112,
                 35.31
                ],
                [
                 129.149,
                 35.364
                ],
                [
                 129.178,
                 35.352
                ],
                [
                 129.219,
                 35.407
                ],
                [
                 129.197,
                 35.438
                ],
                [
                 129.14,
                 35.449
                ],
                [
                 129.107,
                 35.495
                ],
                [
                 129.011,
                 35.523
                ],
                [
                 128.978,
                 35.563
                ],
                [
                 129.019,
                 35.584
                ],
                [
                 128.915,
                 35.641
                ],
                [
                 128.854,
                 35.597
                ],
                [
                 128.758,
                 35.567
                ],
                [
                 128.658,
                 35.598
                ],
                [
                 128.6,
                 35.58
                ],
                [
                 128.506,
                 35.64
                ],
                [
                 128.446,
                 35.638
                ],
                [
                 128.431,
                 35.622
                ],
                [
                 128.365,
                 35.613
                ],
                [
                 128.349,
                 35.646
                ],
                [
                 128.306,
                 35.655
                ],
                [
                 128.262,
                 35.643
                ],
                [
                 128.201,
                 35.644
                ],
                [
                 128.205,
                 35.684
                ],
                [
                 128.189,
                 35.752
                ],
                [
                 128.136,
                 35.785
                ],
                [
                 128.124,
                 35.82
                ],
                [
                 128.07,
                 35.841
                ],
                [
                 128.012,
                 35.829
                ],
                [
                 127.933,
                 35.864
                ],
                [
                 127.919,
                 35.89
                ],
                [
                 127.854,
                 35.881
                ],
                [
                 127.739,
                 35.83
                ],
                [
                 127.719,
                 35.797
                ],
                [
                 127.662,
                 35.761
                ],
                [
                 127.661,
                 35.71
                ],
                [
                 127.62,
                 35.643
                ],
                [
                 127.61,
                 35.583
                ],
                [
                 127.587,
                 35.557
                ],
                [
                 127.625,
                 35.531
                ],
                [
                 127.674,
                 35.446
                ],
                [
                 127.66,
                 35.414
                ],
                [
                 127.61,
                 35.366
                ],
                [
                 127.621,
                 35.332
                ],
                [
                 127.576,
                 35.306
                ],
                [
                 127.619,
                 35.236
                ],
                [
                 127.618,
                 35.2
                ],
                [
                 127.648,
                 35.16
                ],
                [
                 127.694,
                 35.128
                ],
                [
                 127.695,
                 35.106
                ],
                [
                 127.785,
                 35.021
                ],
                [
                 127.763,
                 34.976
                ],
                [
                 127.782,
                 34.944
                ],
                [
                 127.872,
                 34.946
                ],
                [
                 127.91,
                 34.975
                ],
                [
                 127.927,
                 35.013
                ],
                [
                 127.968,
                 34.992
                ],
                [
                 128.02,
                 35.005
                ],
                [
                 128.05,
                 34.969
                ],
                [
                 128.055,
                 34.929
                ],
                [
                 128.2,
                 34.894
                ],
                [
                 128.199,
                 34.933
                ],
                [
                 128.256,
                 34.937
                ],
                [
                 128.28,
                 34.908
                ],
                [
                 128.329,
                 34.955
                ],
                [
                 128.356,
                 34.909
                ],
                [
                 128.311,
                 34.886
                ],
                [
                 128.387,
                 34.867
                ],
                [
                 128.397,
                 34.833
                ],
                [
                 128.452,
                 34.847
                ],
                [
                 128.467,
                 34.882
                ]
               ]
              ],
              [
               [
                [
                 128.659,
                 34.981
                ],
                [
                 128.587,
                 34.945
                ],
                [
                 128.608,
                 34.917
                ],
                [
                 128.565,
                 34.899
                ],
                [
                 128.535,
                 34.922
                ],
                [
                 128.473,
                 34.877
                ],
                [
                 128.482,
                 34.84
                ],
                [
                 128.519,
                 34.822
                ],
                [
                 128.589,
                 34.846
                ],
                [
                 128.587,
                 34.716
                ],
                [
                 128.656,
                 34.742
                ],
                [
                 128.672,
                 34.815
                ],
                [
                 128.743,
                 34.868
                ],
                [
                 128.715,
                 34.958
                ],
                [
                 128.697,
                 34.973
                ],
                [
                 128.712,
                 35.031
                ],
                [
                 128.677,
                 35.033
                ],
                [
                 128.659,
                 34.981
                ]
               ]
              ]
             ],
             "type": "MultiPolygon"
            },
            "properties": {
             "CTPRVN_CD": "48",
             "CTP_ENG_NM": "Gyeongsangnam-do",
             "CTP_KOR_NM": "경상남도"
            },
            "type": "Feature"
           },
           {
            "geometry": {
             "coordinates": [
              [
               [
                126.768,
                33.564
               ],
               [
                126.73,
                33.56
               ],
               [
                126.586,
                33.526
               ],
               [
                126.511,
                33.516
               ],
               [
                126.386,
                33.489
               ],
               [
                126.263,
                33.436
               ],
               [
                126.263,
                33.417
               ],
               [
                126.164,
                33.337
               ],
               [
                126.162,
                33.292
               ],
               [
                126.184,
                33.259
               ],
               [
                126.235,
                33.236
               ],
               [
                126.27,
                33.196
               ],
               [
                126.327,
                33.241
               ],
               [
                126.37,
                33.232
               ],
               [
                126.41,
                33.246
               ],
               [
                126.471,
                33.227
               ],
               [
                126.52,
                33.241
               ],
               [
                126.599,
                33.236
               ],
               [
                126.653,
                33.27
               ],
               [
                126.743,
                33.279
               ],
               [
                126.776,
                33.307
               ],
               [
                126.829,
                33.307
               ],
               [
                126.88,
                33.382
               ],
               [
                126.906,
                33.392
               ],
               [
                126.924,
                33.453
               ],
               [
                126.902,
                33.481
               ],
               [
                126.893,
                33.526
               ],
               [
                126.861,
                33.525
               ],
               [
                126.808,
                33.556
               ],
               [
                126.768,
                33.564
               ]
              ]
             ],
             "type": "Polygon"
            },
            "properties": {
             "CTPRVN_CD": "50",
             "CTP_ENG_NM": "Jeju-do",
             "CTP_KOR_NM": "제주특별자치도"
            },
            "type": "Feature"
           }
          ],
          "type": "FeatureCollection"
         },
         "hovertemplate": "geoName=%{location}<br>해운대=%{z}<extra></extra>",
         "locations": [
          "강원도",
          "경기도",
          "경상남도",
          "경상북도",
          "광주광역시",
          "대구광역시",
          "대전광역시",
          "부산광역시",
          "서울특별시",
          "울산광역시",
          "인천광역시",
          "전라남도",
          "전라북도",
          "제주특별자치도",
          "충청남도",
          "충청북도"
         ],
         "marker": {
          "opacity": 0.5
         },
         "name": "",
         "subplot": "mapbox",
         "type": "choroplethmapbox",
         "z": [
          100,
          72,
          74,
          72,
          63,
          67,
          72,
          68,
          75,
          76,
          68,
          75,
          72,
          100,
          72,
          76
         ]
        }
       ],
       "layout": {
        "coloraxis": {
         "cmax": 100,
         "cmin": 0,
         "colorbar": {
          "title": {
           "text": "해운대"
          }
         },
         "colorscale": [
          [
           0,
           "rgb(253, 237, 176)"
          ],
          [
           0.09090909090909091,
           "rgb(250, 205, 145)"
          ],
          [
           0.18181818181818182,
           "rgb(246, 173, 119)"
          ],
          [
           0.2727272727272727,
           "rgb(240, 142, 98)"
          ],
          [
           0.36363636363636365,
           "rgb(231, 109, 84)"
          ],
          [
           0.45454545454545453,
           "rgb(216, 80, 83)"
          ],
          [
           0.5454545454545454,
           "rgb(195, 56, 90)"
          ],
          [
           0.6363636363636364,
           "rgb(168, 40, 96)"
          ],
          [
           0.7272727272727273,
           "rgb(138, 29, 99)"
          ],
          [
           0.8181818181818182,
           "rgb(107, 24, 93)"
          ],
          [
           0.9090909090909091,
           "rgb(76, 21, 80)"
          ],
          [
           1,
           "rgb(47, 15, 61)"
          ]
         ]
        },
        "legend": {
         "tracegroupgap": 0
        },
        "mapbox": {
         "center": {
          "lat": 37.565,
          "lon": 126.986
         },
         "domain": {
          "x": [
           0,
           1
          ],
          "y": [
           0,
           1
          ]
         },
         "style": "carto-positron",
         "zoom": 5
        },
        "margin": {
         "b": 0,
         "l": 0,
         "r": 0,
         "t": 0
        },
        "template": {
         "data": {
          "bar": [
           {
            "error_x": {
             "color": "#2a3f5f"
            },
            "error_y": {
             "color": "#2a3f5f"
            },
            "marker": {
             "line": {
              "color": "#E5ECF6",
              "width": 0.5
             },
             "pattern": {
              "fillmode": "overlay",
              "size": 10,
              "solidity": 0.2
             }
            },
            "type": "bar"
           }
          ],
          "barpolar": [
           {
            "marker": {
             "line": {
              "color": "#E5ECF6",
              "width": 0.5
             },
             "pattern": {
              "fillmode": "overlay",
              "size": 10,
              "solidity": 0.2
             }
            },
            "type": "barpolar"
           }
          ],
          "carpet": [
           {
            "aaxis": {
             "endlinecolor": "#2a3f5f",
             "gridcolor": "white",
             "linecolor": "white",
             "minorgridcolor": "white",
             "startlinecolor": "#2a3f5f"
            },
            "baxis": {
             "endlinecolor": "#2a3f5f",
             "gridcolor": "white",
             "linecolor": "white",
             "minorgridcolor": "white",
             "startlinecolor": "#2a3f5f"
            },
            "type": "carpet"
           }
          ],
          "choropleth": [
           {
            "colorbar": {
             "outlinewidth": 0,
             "ticks": ""
            },
            "type": "choropleth"
           }
          ],
          "contour": [
           {
            "colorbar": {
             "outlinewidth": 0,
             "ticks": ""
            },
            "colorscale": [
             [
              0,
              "#0d0887"
             ],
             [
              0.1111111111111111,
              "#46039f"
             ],
             [
              0.2222222222222222,
              "#7201a8"
             ],
             [
              0.3333333333333333,
              "#9c179e"
             ],
             [
              0.4444444444444444,
              "#bd3786"
             ],
             [
              0.5555555555555556,
              "#d8576b"
             ],
             [
              0.6666666666666666,
              "#ed7953"
             ],
             [
              0.7777777777777778,
              "#fb9f3a"
             ],
             [
              0.8888888888888888,
              "#fdca26"
             ],
             [
              1,
              "#f0f921"
             ]
            ],
            "type": "contour"
           }
          ],
          "contourcarpet": [
           {
            "colorbar": {
             "outlinewidth": 0,
             "ticks": ""
            },
            "type": "contourcarpet"
           }
          ],
          "heatmap": [
           {
            "colorbar": {
             "outlinewidth": 0,
             "ticks": ""
            },
            "colorscale": [
             [
              0,
              "#0d0887"
             ],
             [
              0.1111111111111111,
              "#46039f"
             ],
             [
              0.2222222222222222,
              "#7201a8"
             ],
             [
              0.3333333333333333,
              "#9c179e"
             ],
             [
              0.4444444444444444,
              "#bd3786"
             ],
             [
              0.5555555555555556,
              "#d8576b"
             ],
             [
              0.6666666666666666,
              "#ed7953"
             ],
             [
              0.7777777777777778,
              "#fb9f3a"
             ],
             [
              0.8888888888888888,
              "#fdca26"
             ],
             [
              1,
              "#f0f921"
             ]
            ],
            "type": "heatmap"
           }
          ],
          "heatmapgl": [
           {
            "colorbar": {
             "outlinewidth": 0,
             "ticks": ""
            },
            "colorscale": [
             [
              0,
              "#0d0887"
             ],
             [
              0.1111111111111111,
              "#46039f"
             ],
             [
              0.2222222222222222,
              "#7201a8"
             ],
             [
              0.3333333333333333,
              "#9c179e"
             ],
             [
              0.4444444444444444,
              "#bd3786"
             ],
             [
              0.5555555555555556,
              "#d8576b"
             ],
             [
              0.6666666666666666,
              "#ed7953"
             ],
             [
              0.7777777777777778,
              "#fb9f3a"
             ],
             [
              0.8888888888888888,
              "#fdca26"
             ],
             [
              1,
              "#f0f921"
             ]
            ],
            "type": "heatmapgl"
           }
          ],
          "histogram": [
           {
            "marker": {
             "pattern": {
              "fillmode": "overlay",
              "size": 10,
              "solidity": 0.2
             }
            },
            "type": "histogram"
           }
          ],
          "histogram2d": [
           {
            "colorbar": {
             "outlinewidth": 0,
             "ticks": ""
            },
            "colorscale": [
             [
              0,
              "#0d0887"
             ],
             [
              0.1111111111111111,
              "#46039f"
             ],
             [
              0.2222222222222222,
              "#7201a8"
             ],
             [
              0.3333333333333333,
              "#9c179e"
             ],
             [
              0.4444444444444444,
              "#bd3786"
             ],
             [
              0.5555555555555556,
              "#d8576b"
             ],
             [
              0.6666666666666666,
              "#ed7953"
             ],
             [
              0.7777777777777778,
              "#fb9f3a"
             ],
             [
              0.8888888888888888,
              "#fdca26"
             ],
             [
              1,
              "#f0f921"
             ]
            ],
            "type": "histogram2d"
           }
          ],
          "histogram2dcontour": [
           {
            "colorbar": {
             "outlinewidth": 0,
             "ticks": ""
            },
            "colorscale": [
             [
              0,
              "#0d0887"
             ],
             [
              0.1111111111111111,
              "#46039f"
             ],
             [
              0.2222222222222222,
              "#7201a8"
             ],
             [
              0.3333333333333333,
              "#9c179e"
             ],
             [
              0.4444444444444444,
              "#bd3786"
             ],
             [
              0.5555555555555556,
              "#d8576b"
             ],
             [
              0.6666666666666666,
              "#ed7953"
             ],
             [
              0.7777777777777778,
              "#fb9f3a"
             ],
             [
              0.8888888888888888,
              "#fdca26"
             ],
             [
              1,
              "#f0f921"
             ]
            ],
            "type": "histogram2dcontour"
           }
          ],
          "mesh3d": [
           {
            "colorbar": {
             "outlinewidth": 0,
             "ticks": ""
            },
            "type": "mesh3d"
           }
          ],
          "parcoords": [
           {
            "line": {
             "colorbar": {
              "outlinewidth": 0,
              "ticks": ""
             }
            },
            "type": "parcoords"
           }
          ],
          "pie": [
           {
            "automargin": true,
            "type": "pie"
           }
          ],
          "scatter": [
           {
            "fillpattern": {
             "fillmode": "overlay",
             "size": 10,
             "solidity": 0.2
            },
            "type": "scatter"
           }
          ],
          "scatter3d": [
           {
            "line": {
             "colorbar": {
              "outlinewidth": 0,
              "ticks": ""
             }
            },
            "marker": {
             "colorbar": {
              "outlinewidth": 0,
              "ticks": ""
             }
            },
            "type": "scatter3d"
           }
          ],
          "scattercarpet": [
           {
            "marker": {
             "colorbar": {
              "outlinewidth": 0,
              "ticks": ""
             }
            },
            "type": "scattercarpet"
           }
          ],
          "scattergeo": [
           {
            "marker": {
             "colorbar": {
              "outlinewidth": 0,
              "ticks": ""
             }
            },
            "type": "scattergeo"
           }
          ],
          "scattergl": [
           {
            "marker": {
             "colorbar": {
              "outlinewidth": 0,
              "ticks": ""
             }
            },
            "type": "scattergl"
           }
          ],
          "scattermapbox": [
           {
            "marker": {
             "colorbar": {
              "outlinewidth": 0,
              "ticks": ""
             }
            },
            "type": "scattermapbox"
           }
          ],
          "scatterpolar": [
           {
            "marker": {
             "colorbar": {
              "outlinewidth": 0,
              "ticks": ""
             }
            },
            "type": "scatterpolar"
           }
          ],
          "scatterpolargl": [
           {
            "marker": {
             "colorbar": {
              "outlinewidth": 0,
              "ticks": ""
             }
            },
            "type": "scatterpolargl"
           }
          ],
          "scatterternary": [
           {
            "marker": {
             "colorbar": {
              "outlinewidth": 0,
              "ticks": ""
             }
            },
            "type": "scatterternary"
           }
          ],
          "surface": [
           {
            "colorbar": {
             "outlinewidth": 0,
             "ticks": ""
            },
            "colorscale": [
             [
              0,
              "#0d0887"
             ],
             [
              0.1111111111111111,
              "#46039f"
             ],
             [
              0.2222222222222222,
              "#7201a8"
             ],
             [
              0.3333333333333333,
              "#9c179e"
             ],
             [
              0.4444444444444444,
              "#bd3786"
             ],
             [
              0.5555555555555556,
              "#d8576b"
             ],
             [
              0.6666666666666666,
              "#ed7953"
             ],
             [
              0.7777777777777778,
              "#fb9f3a"
             ],
             [
              0.8888888888888888,
              "#fdca26"
             ],
             [
              1,
              "#f0f921"
             ]
            ],
            "type": "surface"
           }
          ],
          "table": [
           {
            "cells": {
             "fill": {
              "color": "#EBF0F8"
             },
             "line": {
              "color": "white"
             }
            },
            "header": {
             "fill": {
              "color": "#C8D4E3"
             },
             "line": {
              "color": "white"
             }
            },
            "type": "table"
           }
          ]
         },
         "layout": {
          "annotationdefaults": {
           "arrowcolor": "#2a3f5f",
           "arrowhead": 0,
           "arrowwidth": 1
          },
          "autotypenumbers": "strict",
          "coloraxis": {
           "colorbar": {
            "outlinewidth": 0,
            "ticks": ""
           }
          },
          "colorscale": {
           "diverging": [
            [
             0,
             "#8e0152"
            ],
            [
             0.1,
             "#c51b7d"
            ],
            [
             0.2,
             "#de77ae"
            ],
            [
             0.3,
             "#f1b6da"
            ],
            [
             0.4,
             "#fde0ef"
            ],
            [
             0.5,
             "#f7f7f7"
            ],
            [
             0.6,
             "#e6f5d0"
            ],
            [
             0.7,
             "#b8e186"
            ],
            [
             0.8,
             "#7fbc41"
            ],
            [
             0.9,
             "#4d9221"
            ],
            [
             1,
             "#276419"
            ]
           ],
           "sequential": [
            [
             0,
             "#0d0887"
            ],
            [
             0.1111111111111111,
             "#46039f"
            ],
            [
             0.2222222222222222,
             "#7201a8"
            ],
            [
             0.3333333333333333,
             "#9c179e"
            ],
            [
             0.4444444444444444,
             "#bd3786"
            ],
            [
             0.5555555555555556,
             "#d8576b"
            ],
            [
             0.6666666666666666,
             "#ed7953"
            ],
            [
             0.7777777777777778,
             "#fb9f3a"
            ],
            [
             0.8888888888888888,
             "#fdca26"
            ],
            [
             1,
             "#f0f921"
            ]
           ],
           "sequentialminus": [
            [
             0,
             "#0d0887"
            ],
            [
             0.1111111111111111,
             "#46039f"
            ],
            [
             0.2222222222222222,
             "#7201a8"
            ],
            [
             0.3333333333333333,
             "#9c179e"
            ],
            [
             0.4444444444444444,
             "#bd3786"
            ],
            [
             0.5555555555555556,
             "#d8576b"
            ],
            [
             0.6666666666666666,
             "#ed7953"
            ],
            [
             0.7777777777777778,
             "#fb9f3a"
            ],
            [
             0.8888888888888888,
             "#fdca26"
            ],
            [
             1,
             "#f0f921"
            ]
           ]
          },
          "colorway": [
           "#636efa",
           "#EF553B",
           "#00cc96",
           "#ab63fa",
           "#FFA15A",
           "#19d3f3",
           "#FF6692",
           "#B6E880",
           "#FF97FF",
           "#FECB52"
          ],
          "font": {
           "color": "#2a3f5f"
          },
          "geo": {
           "bgcolor": "white",
           "lakecolor": "white",
           "landcolor": "#E5ECF6",
           "showlakes": true,
           "showland": true,
           "subunitcolor": "white"
          },
          "hoverlabel": {
           "align": "left"
          },
          "hovermode": "closest",
          "mapbox": {
           "style": "light"
          },
          "paper_bgcolor": "white",
          "plot_bgcolor": "#E5ECF6",
          "polar": {
           "angularaxis": {
            "gridcolor": "white",
            "linecolor": "white",
            "ticks": ""
           },
           "bgcolor": "#E5ECF6",
           "radialaxis": {
            "gridcolor": "white",
            "linecolor": "white",
            "ticks": ""
           }
          },
          "scene": {
           "xaxis": {
            "backgroundcolor": "#E5ECF6",
            "gridcolor": "white",
            "gridwidth": 2,
            "linecolor": "white",
            "showbackground": true,
            "ticks": "",
            "zerolinecolor": "white"
           },
           "yaxis": {
            "backgroundcolor": "#E5ECF6",
            "gridcolor": "white",
            "gridwidth": 2,
            "linecolor": "white",
            "showbackground": true,
            "ticks": "",
            "zerolinecolor": "white"
           },
           "zaxis": {
            "backgroundcolor": "#E5ECF6",
            "gridcolor": "white",
            "gridwidth": 2,
            "linecolor": "white",
            "showbackground": true,
            "ticks": "",
            "zerolinecolor": "white"
           }
          },
          "shapedefaults": {
           "line": {
            "color": "#2a3f5f"
           }
          },
          "ternary": {
           "aaxis": {
            "gridcolor": "white",
            "linecolor": "white",
            "ticks": ""
           },
           "baxis": {
            "gridcolor": "white",
            "linecolor": "white",
            "ticks": ""
           },
           "bgcolor": "#E5ECF6",
           "caxis": {
            "gridcolor": "white",
            "linecolor": "white",
            "ticks": ""
           }
          },
          "title": {
           "x": 0.05
          },
          "xaxis": {
           "automargin": true,
           "gridcolor": "white",
           "linecolor": "white",
           "ticks": "",
           "title": {
            "standoff": 15
           },
           "zerolinecolor": "white",
           "zerolinewidth": 2
          },
          "yaxis": {
           "automargin": true,
           "gridcolor": "white",
           "linecolor": "white",
           "ticks": "",
           "title": {
            "standoff": 15
           },
           "zerolinecolor": "white",
           "zerolinewidth": 2
          }
         }
        }
       }
      }
     },
     "metadata": {},
     "output_type": "display_data"
    }
   ],
   "source": [
    "fig = px.choropleth_mapbox(\n",
    "    map_df,\n",
    "    geojson=region_json,\n",
    "    locations=\"geoName\",\n",
    "    color=keyword_list[1],\n",
    "    color_continuous_scale=\"matter\",\n",
    "    range_color=(0, 100),\n",
    "    mapbox_style=\"carto-positron\",\n",
    "    featureidkey=\"properties.CTP_KOR_NM\",\n",
    "    zoom=5,\n",
    "    center={\"lat\": 37.565, \"lon\": 126.986},\n",
    "    opacity=0.5,\n",
    ")\n",
    "fig.update_layout(margin={\"r\": 0, \"t\": 0, \"l\": 0, \"b\": 0})\n",
    "fig.show()"
   ]
  },
  {
   "cell_type": "code",
   "execution_count": 248,
   "metadata": {},
   "outputs": [
    {
     "data": {
      "text/html": [
       "<div>\n",
       "<style scoped>\n",
       "    .dataframe tbody tr th:only-of-type {\n",
       "        vertical-align: middle;\n",
       "    }\n",
       "\n",
       "    .dataframe tbody tr th {\n",
       "        vertical-align: top;\n",
       "    }\n",
       "\n",
       "    .dataframe thead th {\n",
       "        text-align: right;\n",
       "    }\n",
       "</style>\n",
       "<table border=\"1\" class=\"dataframe\">\n",
       "  <thead>\n",
       "    <tr style=\"text-align: right;\">\n",
       "      <th></th>\n",
       "      <th>광안리</th>\n",
       "    </tr>\n",
       "    <tr>\n",
       "      <th>geoName</th>\n",
       "      <th></th>\n",
       "    </tr>\n",
       "  </thead>\n",
       "  <tbody>\n",
       "    <tr>\n",
       "      <th>강원도</th>\n",
       "      <td>0</td>\n",
       "    </tr>\n",
       "    <tr>\n",
       "      <th>경기도</th>\n",
       "      <td>5</td>\n",
       "    </tr>\n",
       "    <tr>\n",
       "      <th>경상남도</th>\n",
       "      <td>18</td>\n",
       "    </tr>\n",
       "    <tr>\n",
       "      <th>경상북도</th>\n",
       "      <td>11</td>\n",
       "    </tr>\n",
       "    <tr>\n",
       "      <th>광주광역시</th>\n",
       "      <td>7</td>\n",
       "    </tr>\n",
       "    <tr>\n",
       "      <th>대구광역시</th>\n",
       "      <td>13</td>\n",
       "    </tr>\n",
       "    <tr>\n",
       "      <th>대전광역시</th>\n",
       "      <td>8</td>\n",
       "    </tr>\n",
       "    <tr>\n",
       "      <th>부산광역시</th>\n",
       "      <td>100</td>\n",
       "    </tr>\n",
       "    <tr>\n",
       "      <th>서울특별시</th>\n",
       "      <td>7</td>\n",
       "    </tr>\n",
       "    <tr>\n",
       "      <th>울산광역시</th>\n",
       "      <td>18</td>\n",
       "    </tr>\n",
       "    <tr>\n",
       "      <th>인천광역시</th>\n",
       "      <td>9</td>\n",
       "    </tr>\n",
       "    <tr>\n",
       "      <th>전라남도</th>\n",
       "      <td>6</td>\n",
       "    </tr>\n",
       "    <tr>\n",
       "      <th>전라북도</th>\n",
       "      <td>4</td>\n",
       "    </tr>\n",
       "    <tr>\n",
       "      <th>제주특별자치도</th>\n",
       "      <td>0</td>\n",
       "    </tr>\n",
       "    <tr>\n",
       "      <th>충청남도</th>\n",
       "      <td>6</td>\n",
       "    </tr>\n",
       "    <tr>\n",
       "      <th>충청북도</th>\n",
       "      <td>4</td>\n",
       "    </tr>\n",
       "  </tbody>\n",
       "</table>\n",
       "</div>"
      ],
      "text/plain": [
       "         광안리\n",
       "geoName     \n",
       "강원도        0\n",
       "경기도        5\n",
       "경상남도      18\n",
       "경상북도      11\n",
       "광주광역시      7\n",
       "대구광역시     13\n",
       "대전광역시      8\n",
       "부산광역시    100\n",
       "서울특별시      7\n",
       "울산광역시     18\n",
       "인천광역시      9\n",
       "전라남도       6\n",
       "전라북도       4\n",
       "제주특별자치도    0\n",
       "충청남도       6\n",
       "충청북도       4"
      ]
     },
     "execution_count": 248,
     "metadata": {},
     "output_type": "execute_result"
    }
   ],
   "source": [
    "# [Will use it] 지역 별 검색어 비율\n",
    "pytrends.interest_by_region()"
   ]
  },
  {
   "cell_type": "code",
   "execution_count": 249,
   "metadata": {},
   "outputs": [
    {
     "data": {
      "text/html": [
       "<div>\n",
       "<style scoped>\n",
       "    .dataframe tbody tr th:only-of-type {\n",
       "        vertical-align: middle;\n",
       "    }\n",
       "\n",
       "    .dataframe tbody tr th {\n",
       "        vertical-align: top;\n",
       "    }\n",
       "\n",
       "    .dataframe thead th {\n",
       "        text-align: right;\n",
       "    }\n",
       "</style>\n",
       "<table border=\"1\" class=\"dataframe\">\n",
       "  <thead>\n",
       "    <tr style=\"text-align: right;\">\n",
       "      <th></th>\n",
       "      <th>광안리</th>\n",
       "    </tr>\n",
       "    <tr>\n",
       "      <th>geoName</th>\n",
       "      <th></th>\n",
       "    </tr>\n",
       "  </thead>\n",
       "  <tbody>\n",
       "    <tr>\n",
       "      <th>강원도</th>\n",
       "      <td>0</td>\n",
       "    </tr>\n",
       "    <tr>\n",
       "      <th>경기도</th>\n",
       "      <td>6</td>\n",
       "    </tr>\n",
       "    <tr>\n",
       "      <th>경상남도</th>\n",
       "      <td>19</td>\n",
       "    </tr>\n",
       "    <tr>\n",
       "      <th>경상북도</th>\n",
       "      <td>11</td>\n",
       "    </tr>\n",
       "    <tr>\n",
       "      <th>광주광역시</th>\n",
       "      <td>7</td>\n",
       "    </tr>\n",
       "    <tr>\n",
       "      <th>대구광역시</th>\n",
       "      <td>14</td>\n",
       "    </tr>\n",
       "    <tr>\n",
       "      <th>대전광역시</th>\n",
       "      <td>8</td>\n",
       "    </tr>\n",
       "    <tr>\n",
       "      <th>부산광역시</th>\n",
       "      <td>100</td>\n",
       "    </tr>\n",
       "    <tr>\n",
       "      <th>서울특별시</th>\n",
       "      <td>7</td>\n",
       "    </tr>\n",
       "    <tr>\n",
       "      <th>울산광역시</th>\n",
       "      <td>19</td>\n",
       "    </tr>\n",
       "    <tr>\n",
       "      <th>인천광역시</th>\n",
       "      <td>10</td>\n",
       "    </tr>\n",
       "    <tr>\n",
       "      <th>전라남도</th>\n",
       "      <td>6</td>\n",
       "    </tr>\n",
       "    <tr>\n",
       "      <th>전라북도</th>\n",
       "      <td>5</td>\n",
       "    </tr>\n",
       "    <tr>\n",
       "      <th>제주특별자치도</th>\n",
       "      <td>0</td>\n",
       "    </tr>\n",
       "    <tr>\n",
       "      <th>충청남도</th>\n",
       "      <td>7</td>\n",
       "    </tr>\n",
       "    <tr>\n",
       "      <th>충청북도</th>\n",
       "      <td>5</td>\n",
       "    </tr>\n",
       "  </tbody>\n",
       "</table>\n",
       "</div>"
      ],
      "text/plain": [
       "         광안리\n",
       "geoName     \n",
       "강원도        0\n",
       "경기도        6\n",
       "경상남도      19\n",
       "경상북도      11\n",
       "광주광역시      7\n",
       "대구광역시     14\n",
       "대전광역시      8\n",
       "부산광역시    100\n",
       "서울특별시      7\n",
       "울산광역시     19\n",
       "인천광역시     10\n",
       "전라남도       6\n",
       "전라북도       5\n",
       "제주특별자치도    0\n",
       "충청남도       7\n",
       "충청북도       5"
      ]
     },
     "execution_count": 249,
     "metadata": {},
     "output_type": "execute_result"
    }
   ],
   "source": [
    "pytrends.interest_by_region(resolution=\"ko\", inc_low_vol=True, inc_geo_code=False)"
   ]
  },
  {
   "cell_type": "code",
   "execution_count": 61,
   "metadata": {},
   "outputs": [
    {
     "data": {
      "text/plain": [
       "{}"
      ]
     },
     "execution_count": 61,
     "metadata": {},
     "output_type": "execute_result"
    }
   ],
   "source": [
    "pytrends.related_topics()"
   ]
  },
  {
   "cell_type": "code",
   "execution_count": 77,
   "metadata": {},
   "outputs": [
    {
     "data": {
      "text/html": [
       "<div>\n",
       "<style scoped>\n",
       "    .dataframe tbody tr th:only-of-type {\n",
       "        vertical-align: middle;\n",
       "    }\n",
       "\n",
       "    .dataframe tbody tr th {\n",
       "        vertical-align: top;\n",
       "    }\n",
       "\n",
       "    .dataframe thead th {\n",
       "        text-align: right;\n",
       "    }\n",
       "</style>\n",
       "<table border=\"1\" class=\"dataframe\">\n",
       "  <thead>\n",
       "    <tr style=\"text-align: right;\">\n",
       "      <th></th>\n",
       "      <th>title</th>\n",
       "      <th>exploreQuery</th>\n",
       "    </tr>\n",
       "  </thead>\n",
       "  <tbody>\n",
       "    <tr>\n",
       "      <th>0</th>\n",
       "      <td>기후 변화</td>\n",
       "      <td>기후 변화</td>\n",
       "    </tr>\n",
       "    <tr>\n",
       "      <th>1</th>\n",
       "      <td>이상한 변호사 우영우</td>\n",
       "      <td>우 영우</td>\n",
       "    </tr>\n",
       "    <tr>\n",
       "      <th>2</th>\n",
       "      <td>초단기 강수 예측</td>\n",
       "      <td>초단기 강수 예측</td>\n",
       "    </tr>\n",
       "    <tr>\n",
       "      <th>3</th>\n",
       "      <td>2022 FIFA 카타르 월드컵</td>\n",
       "      <td>월드컵</td>\n",
       "    </tr>\n",
       "    <tr>\n",
       "      <th>4</th>\n",
       "      <td>이태원 사고</td>\n",
       "      <td>이태원 압사</td>\n",
       "    </tr>\n",
       "    <tr>\n",
       "      <th>5</th>\n",
       "      <td>토트넘 대 K-League XI</td>\n",
       "      <td>토트넘 대 k league xi</td>\n",
       "    </tr>\n",
       "    <tr>\n",
       "      <th>6</th>\n",
       "      <td>수리남</td>\n",
       "      <td>수리남</td>\n",
       "    </tr>\n",
       "    <tr>\n",
       "      <th>7</th>\n",
       "      <td>우크라이나</td>\n",
       "      <td>우크라이나</td>\n",
       "    </tr>\n",
       "    <tr>\n",
       "      <th>8</th>\n",
       "      <td>로스트아크</td>\n",
       "      <td>로스트 아크</td>\n",
       "    </tr>\n",
       "    <tr>\n",
       "      <th>9</th>\n",
       "      <td>스승의 날</td>\n",
       "      <td>스승 의 날</td>\n",
       "    </tr>\n",
       "  </tbody>\n",
       "</table>\n",
       "</div>"
      ],
      "text/plain": [
       "               title       exploreQuery\n",
       "0              기후 변화              기후 변화\n",
       "1        이상한 변호사 우영우               우 영우\n",
       "2          초단기 강수 예측          초단기 강수 예측\n",
       "3  2022 FIFA 카타르 월드컵                월드컵\n",
       "4             이태원 사고             이태원 압사\n",
       "5  토트넘 대 K-League XI  토트넘 대 k league xi\n",
       "6                수리남                수리남\n",
       "7              우크라이나              우크라이나\n",
       "8              로스트아크             로스트 아크\n",
       "9              스승의 날             스승 의 날"
      ]
     },
     "execution_count": 77,
     "metadata": {},
     "output_type": "execute_result"
    }
   ],
   "source": [
    "pytrends.top_charts(\"2022\", hl=\"ko\", tz=300, geo=\"KR\")"
   ]
  },
  {
   "cell_type": "code",
   "execution_count": 26,
   "metadata": {},
   "outputs": [
    {
     "data": {
      "text/plain": [
       "[{'mid': '/m/0nbf4fy', 'title': '전포동', 'type': '역'},\n",
       " {'mid': '/g/11hcw7d919', 'title': '전포카페거리', 'type': '대한민국 부산광역시의 관광 명소'},\n",
       " {'mid': '/g/11c1wspqfc', 'title': '전포동', 'type': '주제'},\n",
       " {'mid': '/g/1tmbs_nr', 'title': '전포', 'type': '주제'},\n",
       " {'mid': '/g/11cs121j51', 'title': '전포', 'type': '주제'}]"
      ]
     },
     "execution_count": 26,
     "metadata": {},
     "output_type": "execute_result"
    }
   ],
   "source": [
    "pytrends.suggestions(\"전포\")"
   ]
  },
  {
   "cell_type": "code",
   "execution_count": 80,
   "metadata": {},
   "outputs": [],
   "source": [
    "cat = pytrends.categories()"
   ]
  },
  {
   "cell_type": "code",
   "execution_count": 83,
   "metadata": {},
   "outputs": [
    {
     "data": {
      "text/plain": [
       "dict_keys(['children', 'name', 'id'])"
      ]
     },
     "execution_count": 83,
     "metadata": {},
     "output_type": "execute_result"
    }
   ],
   "source": [
    "cat.keys()"
   ]
  },
  {
   "cell_type": "code",
   "execution_count": 89,
   "metadata": {},
   "outputs": [
    {
     "data": {
      "text/plain": [
       "{'건강': 45,\n",
       " '게임': 8,\n",
       " '과학': 174,\n",
       " '금융': 7,\n",
       " '뉴스': 16,\n",
       " '도서 및 문학': 22,\n",
       " '미용 & 건강': 44,\n",
       " '부동산': 29,\n",
       " '비즈니스 및 산업': 12,\n",
       " '사법 & 정부 기관': 19,\n",
       " '쇼핑': 18,\n",
       " '스포츠': 20,\n",
       " '식음료': 71,\n",
       " '애완동물 및 동물': 66,\n",
       " '여행': 67,\n",
       " '예술, 엔터테인먼트': 3,\n",
       " '온라인 커뮤니티': 299,\n",
       " '인터넷, 통신': 13,\n",
       " '자동차': 47,\n",
       " '직업, 교육': 958,\n",
       " '집단, 사회': 14,\n",
       " '참고문헌': 533,\n",
       " '취미, 레저': 65,\n",
       " '컴퓨터 및 전자제품': 5,\n",
       " '홈 및 가든': 11}"
      ]
     },
     "execution_count": 89,
     "metadata": {},
     "output_type": "execute_result"
    }
   ],
   "source": [
    "# first level\n",
    "{c[\"name\"]: c[\"id\"] for c in cat[\"children\"]}"
   ]
  },
  {
   "cell_type": "code",
   "execution_count": 221,
   "metadata": {},
   "outputs": [],
   "source": [
    "req_json = pytrends._get_data(\n",
    "    url=pytrends.SUGGESTIONS_URL + \"광안리\",\n",
    "    params={\"hl\": pytrends.hl},\n",
    "    method=pytrends.GET_METHOD,\n",
    "    trim_chars=5,\n",
    ")  # [\"default\"][\"topics\"]"
   ]
  },
  {
   "cell_type": "code",
   "execution_count": 223,
   "metadata": {},
   "outputs": [
    {
     "name": "stdout",
     "output_type": "stream",
     "text": [
      "{'default': {'topics': [{'mid': '/m/03hp9yc',\n",
      "                         'title': '광안리해수욕장',\n",
      "                         'type': '대한민국 부산광역시의 해변'},\n",
      "                        {'mid': '/g/11cm_fsc39',\n",
      "                         'title': '켄트호텔 광안리 by 켄싱턴',\n",
      "                         'type': '주제'},\n",
      "                        {'mid': '/g/11f4wslllf',\n",
      "                         'title': '에이치에비뉴호텔 광안리점',\n",
      "                         'type': '대한민국 부산광역시의 호텔'},\n",
      "                        {'mid': '/g/113ftbkp8',\n",
      "                         'title': '광안리해수욕장공영주차장',\n",
      "                         'type': '주제'},\n",
      "                        {'mid': '/g/11bw5tv_48',\n",
      "                         'title': '썰스데이파티 광안리점',\n",
      "                         'type': '대한민국 부산광역시의 술집'}]}}\n"
     ]
    }
   ],
   "source": [
    "pprint(req_json)"
   ]
  },
  {
   "cell_type": "code",
   "execution_count": 27,
   "metadata": {},
   "outputs": [
    {
     "data": {
      "text/plain": [
       "[{'mid': '/m/03hp9yc', 'title': '광안리해수욕장', 'type': '대한민국 부산광역시의 해변'},\n",
       " {'mid': '/g/11cm_fsc39', 'title': '켄트호텔 광안리 by 켄싱턴', 'type': '주제'},\n",
       " {'mid': '/g/11f4wslllf', 'title': '에이치에비뉴호텔 광안리점', 'type': '대한민국 부산광역시의 호텔'},\n",
       " {'mid': '/g/113ftbkp8', 'title': '광안리해수욕장공영주차장', 'type': '주제'},\n",
       " {'mid': '/g/11bw5tv_48', 'title': '썰스데이파티 광안리점', 'type': '대한민국 부산광역시의 술집'}]"
      ]
     },
     "execution_count": 27,
     "metadata": {},
     "output_type": "execute_result"
    }
   ],
   "source": [
    "pytrends.suggestions(\"광안리\")"
   ]
  },
  {
   "cell_type": "code",
   "execution_count": 28,
   "metadata": {},
   "outputs": [
    {
     "data": {
      "text/plain": [
       "[{'mid': '/m/063_76h', 'title': '해운대', 'type': '영화'},\n",
       " {'mid': '/m/06vgs5', 'title': '해운대구', 'type': '주제'},\n",
       " {'mid': '/m/03bx6xl', 'title': '해운대해수욕장', 'type': '대한민국의 해변'},\n",
       " {'mid': '/g/120pnnfc', 'title': '해운대해수욕장', 'type': '대한민국의 해변'},\n",
       " {'mid': '/g/11hbblt2tb', 'title': '윤 해운대 갈비', 'type': '뉴욕의 한식 고기구이 레스토랑'}]"
      ]
     },
     "execution_count": 28,
     "metadata": {},
     "output_type": "execute_result"
    }
   ],
   "source": [
    "pytrends.suggestions(\"해운대\")"
   ]
  },
  {
   "cell_type": "code",
   "execution_count": 214,
   "metadata": {},
   "outputs": [],
   "source": [
    "from serpapi import GoogleSearch\n",
    "\n",
    "params = {\n",
    "    \"engine\": \"google_trends\",\n",
    "    \"q\": \"광안리\",\n",
    "    \"geo\": \"KR\",\n",
    "    \"hl\": \"ko\",\n",
    "    \"date\": \"now 1-d\",  # 1-d: 1 day ago, 7-d: 7 days ago, now 1-h: 1 hour ago, now 1-m: 1 minute ago, now 1-s: 1 second ago\n",
    "    \"data_type\": \"RELATED_QUERIES\",\n",
    "    \"api_key\": \"9a5e370570aecc4ad72d9d380cebd98a3e2080de36409e8e1906ab83fb928877\",\n",
    "}\n",
    "\n",
    "search = GoogleSearch(params)\n",
    "results = search.get_dict()\n",
    "related_queries = results[\"related_queries\"]"
   ]
  },
  {
   "cell_type": "code",
   "execution_count": 203,
   "metadata": {},
   "outputs": [],
   "source": [
    "params = {\n",
    "    \"engine\": \"google_trends\",\n",
    "    \"q\": \"광안리\",\n",
    "    \"geo\": \"KR\",\n",
    "    \"hl\": \"ko\",\n",
    "    \"data_type\": \"RELATED_TOPICS\",\n",
    "    \"api_key\": \"9a5e370570aecc4ad72d9d380cebd98a3e2080de36409e8e1906ab83fb928877\",\n",
    "}\n",
    "\n",
    "search = GoogleSearch(params)\n",
    "results = search.get_dict()\n",
    "related_topics = results[\"related_topics\"]"
   ]
  },
  {
   "cell_type": "code",
   "execution_count": 226,
   "metadata": {},
   "outputs": [
    {
     "data": {
      "text/plain": [
       "{'topic': {'value': '/m/03hp9yc', 'title': '광안리해수욕장', 'type': '대한민국 부산광역시의 해변'}, 'value': '100', 'extracted_value': 100, 'link': 'https://trends.google.com/trends/explore?q=/m/03hp9yc&date=today+12-m&geo=KR', 'serpapi_link': 'https://serpapi.com/search.json?data_type=RELATED_TOPICS&date=today+12-m&engine=google_trends&geo=KR&hl=ko&q=%2Fm%2F03hp9yc&tz=420'}"
      ]
     },
     "execution_count": 226,
     "metadata": {},
     "output_type": "execute_result"
    }
   ],
   "source": [
    "related_topics[\"top\"][0]"
   ]
  },
  {
   "cell_type": "code",
   "execution_count": 228,
   "metadata": {},
   "outputs": [
    {
     "data": {
      "text/html": [
       "<div>\n",
       "<style scoped>\n",
       "    .dataframe tbody tr th:only-of-type {\n",
       "        vertical-align: middle;\n",
       "    }\n",
       "\n",
       "    .dataframe tbody tr th {\n",
       "        vertical-align: top;\n",
       "    }\n",
       "\n",
       "    .dataframe thead th {\n",
       "        text-align: right;\n",
       "    }\n",
       "</style>\n",
       "<table border=\"1\" class=\"dataframe\">\n",
       "  <thead>\n",
       "    <tr style=\"text-align: right;\">\n",
       "      <th></th>\n",
       "      <th>title</th>\n",
       "      <th>type</th>\n",
       "      <th>value</th>\n",
       "    </tr>\n",
       "  </thead>\n",
       "  <tbody>\n",
       "    <tr>\n",
       "      <th>0</th>\n",
       "      <td>광안리해수욕장</td>\n",
       "      <td>대한민국 부산광역시의 해변</td>\n",
       "      <td>100</td>\n",
       "    </tr>\n",
       "    <tr>\n",
       "      <th>1</th>\n",
       "      <td>부산광역시</td>\n",
       "      <td>대한민국의 광역시</td>\n",
       "      <td>25</td>\n",
       "    </tr>\n",
       "    <tr>\n",
       "      <th>2</th>\n",
       "      <td>해운대구</td>\n",
       "      <td>주제</td>\n",
       "      <td>8</td>\n",
       "    </tr>\n",
       "    <tr>\n",
       "      <th>3</th>\n",
       "      <td>축제</td>\n",
       "      <td>학회 종류</td>\n",
       "      <td>7</td>\n",
       "    </tr>\n",
       "    <tr>\n",
       "      <th>4</th>\n",
       "      <td>커피집</td>\n",
       "      <td>주제</td>\n",
       "      <td>4</td>\n",
       "    </tr>\n",
       "    <tr>\n",
       "      <th>5</th>\n",
       "      <td>부산불꽃축제</td>\n",
       "      <td>대한민국 부산광역시의 축제</td>\n",
       "      <td>4</td>\n",
       "    </tr>\n",
       "    <tr>\n",
       "      <th>6</th>\n",
       "      <td>광안리 M 드론 라이트쇼 Gwangalli M (Marvelous) Drone Li...</td>\n",
       "      <td>대한민국의 관광 명소</td>\n",
       "      <td>4</td>\n",
       "    </tr>\n",
       "    <tr>\n",
       "      <th>7</th>\n",
       "      <td>숙박</td>\n",
       "      <td>숙박 시설 종류</td>\n",
       "      <td>3</td>\n",
       "    </tr>\n",
       "    <tr>\n",
       "      <th>8</th>\n",
       "      <td>서면역</td>\n",
       "      <td>대한민국 부산광역시의 전철역</td>\n",
       "      <td>2</td>\n",
       "    </tr>\n",
       "    <tr>\n",
       "      <th>9</th>\n",
       "      <td>맛집</td>\n",
       "      <td>대한민국 부산광역시의 한식당</td>\n",
       "      <td>2</td>\n",
       "    </tr>\n",
       "    <tr>\n",
       "      <th>10</th>\n",
       "      <td>수영구</td>\n",
       "      <td>주제</td>\n",
       "      <td>2</td>\n",
       "    </tr>\n",
       "    <tr>\n",
       "      <th>11</th>\n",
       "      <td>바</td>\n",
       "      <td>술집</td>\n",
       "      <td>2</td>\n",
       "    </tr>\n",
       "    <tr>\n",
       "      <th>12</th>\n",
       "      <td>해변</td>\n",
       "      <td>주제</td>\n",
       "      <td>2</td>\n",
       "    </tr>\n",
       "    <tr>\n",
       "      <th>13</th>\n",
       "      <td>국밥</td>\n",
       "      <td>요리</td>\n",
       "      <td>1</td>\n",
       "    </tr>\n",
       "    <tr>\n",
       "      <th>14</th>\n",
       "      <td>술집</td>\n",
       "      <td>주제</td>\n",
       "      <td>1</td>\n",
       "    </tr>\n",
       "    <tr>\n",
       "      <th>15</th>\n",
       "      <td>부산</td>\n",
       "      <td>철도역</td>\n",
       "      <td>1</td>\n",
       "    </tr>\n",
       "    <tr>\n",
       "      <th>16</th>\n",
       "      <td>불꽃</td>\n",
       "      <td>주제</td>\n",
       "      <td>1</td>\n",
       "    </tr>\n",
       "    <tr>\n",
       "      <th>17</th>\n",
       "      <td>부산불꽃축제</td>\n",
       "      <td>주제</td>\n",
       "      <td>1</td>\n",
       "    </tr>\n",
       "    <tr>\n",
       "      <th>18</th>\n",
       "      <td>톤쇼우 광안점</td>\n",
       "      <td>대한민국 부산광역시의 돈까스 전문식당</td>\n",
       "      <td>1</td>\n",
       "    </tr>\n",
       "    <tr>\n",
       "      <th>19</th>\n",
       "      <td>밀락더마켓 (MILLAC THE MARKET)</td>\n",
       "      <td>대한민국 부산광역시의 문화센터</td>\n",
       "      <td>1</td>\n",
       "    </tr>\n",
       "    <tr>\n",
       "      <th>20</th>\n",
       "      <td>이자카야</td>\n",
       "      <td>주제</td>\n",
       "      <td>1</td>\n",
       "    </tr>\n",
       "    <tr>\n",
       "      <th>21</th>\n",
       "      <td>광안리 끄티집</td>\n",
       "      <td>대한민국 부산광역시의 술집</td>\n",
       "      <td>1</td>\n",
       "    </tr>\n",
       "    <tr>\n",
       "      <th>22</th>\n",
       "      <td>맛집</td>\n",
       "      <td>주제</td>\n",
       "      <td>1</td>\n",
       "    </tr>\n",
       "    <tr>\n",
       "      <th>23</th>\n",
       "      <td>광안리 조개구이 해물 무한리필 연화리해물천국 가성비 맛집</td>\n",
       "      <td>대한민국 부산광역시의 음식점</td>\n",
       "      <td>1</td>\n",
       "    </tr>\n",
       "  </tbody>\n",
       "</table>\n",
       "</div>"
      ],
      "text/plain": [
       "                                                title                  type  \\\n",
       "0                                             광안리해수욕장        대한민국 부산광역시의 해변   \n",
       "1                                               부산광역시             대한민국의 광역시   \n",
       "2                                                해운대구                    주제   \n",
       "3                                                  축제                 학회 종류   \n",
       "4                                                 커피집                    주제   \n",
       "5                                              부산불꽃축제        대한민국 부산광역시의 축제   \n",
       "6   광안리 M 드론 라이트쇼 Gwangalli M (Marvelous) Drone Li...           대한민국의 관광 명소   \n",
       "7                                                  숙박              숙박 시설 종류   \n",
       "8                                                 서면역       대한민국 부산광역시의 전철역   \n",
       "9                                                  맛집       대한민국 부산광역시의 한식당   \n",
       "10                                                수영구                    주제   \n",
       "11                                                  바                    술집   \n",
       "12                                                 해변                    주제   \n",
       "13                                                 국밥                    요리   \n",
       "14                                                 술집                    주제   \n",
       "15                                                 부산                   철도역   \n",
       "16                                                 불꽃                    주제   \n",
       "17                                             부산불꽃축제                    주제   \n",
       "18                                            톤쇼우 광안점  대한민국 부산광역시의 돈까스 전문식당   \n",
       "19                          밀락더마켓 (MILLAC THE MARKET)      대한민국 부산광역시의 문화센터   \n",
       "20                                               이자카야                    주제   \n",
       "21                                            광안리 끄티집        대한민국 부산광역시의 술집   \n",
       "22                                                 맛집                    주제   \n",
       "23                    광안리 조개구이 해물 무한리필 연화리해물천국 가성비 맛집       대한민국 부산광역시의 음식점   \n",
       "\n",
       "   value  \n",
       "0    100  \n",
       "1     25  \n",
       "2      8  \n",
       "3      7  \n",
       "4      4  \n",
       "5      4  \n",
       "6      4  \n",
       "7      3  \n",
       "8      2  \n",
       "9      2  \n",
       "10     2  \n",
       "11     2  \n",
       "12     2  \n",
       "13     1  \n",
       "14     1  \n",
       "15     1  \n",
       "16     1  \n",
       "17     1  \n",
       "18     1  \n",
       "19     1  \n",
       "20     1  \n",
       "21     1  \n",
       "22     1  \n",
       "23     1  "
      ]
     },
     "execution_count": 228,
     "metadata": {},
     "output_type": "execute_result"
    }
   ],
   "source": [
    "pd.DataFrame(\n",
    "    [\n",
    "        {\n",
    "            \"title\": topic[\"topic\"][\"title\"],\n",
    "            \"type\": topic[\"topic\"][\"type\"],\n",
    "            \"value\": topic[\"value\"],\n",
    "        }\n",
    "        for topic in related_topics[\"top\"]\n",
    "    ]\n",
    ")"
   ]
  },
  {
   "cell_type": "code",
   "execution_count": 229,
   "metadata": {},
   "outputs": [
    {
     "data": {
      "text/html": [
       "<div>\n",
       "<style scoped>\n",
       "    .dataframe tbody tr th:only-of-type {\n",
       "        vertical-align: middle;\n",
       "    }\n",
       "\n",
       "    .dataframe tbody tr th {\n",
       "        vertical-align: top;\n",
       "    }\n",
       "\n",
       "    .dataframe thead th {\n",
       "        text-align: right;\n",
       "    }\n",
       "</style>\n",
       "<table border=\"1\" class=\"dataframe\">\n",
       "  <thead>\n",
       "    <tr style=\"text-align: right;\">\n",
       "      <th></th>\n",
       "      <th>title</th>\n",
       "      <th>type</th>\n",
       "      <th>value</th>\n",
       "    </tr>\n",
       "  </thead>\n",
       "  <tbody>\n",
       "    <tr>\n",
       "      <th>0</th>\n",
       "      <td>광안리 M 드론 라이트쇼 Gwangalli M (Marvelous) Drone Li...</td>\n",
       "      <td>대한민국의 관광 명소</td>\n",
       "      <td>급등</td>\n",
       "    </tr>\n",
       "    <tr>\n",
       "      <th>1</th>\n",
       "      <td>광안리 조개구이 해물 무한리필 연화리해물천국 가성비 맛집</td>\n",
       "      <td>대한민국 부산광역시의 음식점</td>\n",
       "      <td>급등</td>\n",
       "    </tr>\n",
       "    <tr>\n",
       "      <th>2</th>\n",
       "      <td>샤브20 광안리점</td>\n",
       "      <td>대한민국 부산광역시의 샤브샤브 전문점</td>\n",
       "      <td>급등</td>\n",
       "    </tr>\n",
       "    <tr>\n",
       "      <th>3</th>\n",
       "      <td>부산역</td>\n",
       "      <td>대한민국 부산광역시의 전철역</td>\n",
       "      <td>급등</td>\n",
       "    </tr>\n",
       "    <tr>\n",
       "      <th>4</th>\n",
       "      <td>야놀자</td>\n",
       "      <td>회사</td>\n",
       "      <td>급등</td>\n",
       "    </tr>\n",
       "    <tr>\n",
       "      <th>5</th>\n",
       "      <td>카운트다운</td>\n",
       "      <td>주제</td>\n",
       "      <td>급등</td>\n",
       "    </tr>\n",
       "    <tr>\n",
       "      <th>6</th>\n",
       "      <td>관광지</td>\n",
       "      <td>주제</td>\n",
       "      <td>+850%</td>\n",
       "    </tr>\n",
       "    <tr>\n",
       "      <th>7</th>\n",
       "      <td>광안리</td>\n",
       "      <td>대한민국 서울특별시의 해산물 요리 전문식당</td>\n",
       "      <td>+650%</td>\n",
       "    </tr>\n",
       "    <tr>\n",
       "      <th>8</th>\n",
       "      <td>광안리회타운</td>\n",
       "      <td>주제</td>\n",
       "      <td>+650%</td>\n",
       "    </tr>\n",
       "    <tr>\n",
       "      <th>9</th>\n",
       "      <td>몰래카메라</td>\n",
       "      <td>주제</td>\n",
       "      <td>+500%</td>\n",
       "    </tr>\n",
       "    <tr>\n",
       "      <th>10</th>\n",
       "      <td>광안돼지국밥</td>\n",
       "      <td>대한민국 부산광역시의 한식당</td>\n",
       "      <td>+450%</td>\n",
       "    </tr>\n",
       "    <tr>\n",
       "      <th>11</th>\n",
       "      <td>광안리에어비앤비(민박)</td>\n",
       "      <td>주제</td>\n",
       "      <td>+350%</td>\n",
       "    </tr>\n",
       "    <tr>\n",
       "      <th>12</th>\n",
       "      <td>광안리 끄티집</td>\n",
       "      <td>대한민국 부산광역시의 술집</td>\n",
       "      <td>+350%</td>\n",
       "    </tr>\n",
       "    <tr>\n",
       "      <th>13</th>\n",
       "      <td>맛집</td>\n",
       "      <td>주제</td>\n",
       "      <td>+350%</td>\n",
       "    </tr>\n",
       "    <tr>\n",
       "      <th>14</th>\n",
       "      <td>부산요트투어</td>\n",
       "      <td>주제</td>\n",
       "      <td>+250%</td>\n",
       "    </tr>\n",
       "    <tr>\n",
       "      <th>15</th>\n",
       "      <td>방어</td>\n",
       "      <td>물고기</td>\n",
       "      <td>+180%</td>\n",
       "    </tr>\n",
       "    <tr>\n",
       "      <th>16</th>\n",
       "      <td>밀락더마켓 (MILLAC THE MARKET)</td>\n",
       "      <td>대한민국 부산광역시의 문화센터</td>\n",
       "      <td>+160%</td>\n",
       "    </tr>\n",
       "    <tr>\n",
       "      <th>17</th>\n",
       "      <td>이자카야</td>\n",
       "      <td>주제</td>\n",
       "      <td>+150%</td>\n",
       "    </tr>\n",
       "    <tr>\n",
       "      <th>18</th>\n",
       "      <td>부산불꽃축제</td>\n",
       "      <td>주제</td>\n",
       "      <td>+80%</td>\n",
       "    </tr>\n",
       "    <tr>\n",
       "      <th>19</th>\n",
       "      <td>국밥</td>\n",
       "      <td>요리</td>\n",
       "      <td>+60%</td>\n",
       "    </tr>\n",
       "  </tbody>\n",
       "</table>\n",
       "</div>"
      ],
      "text/plain": [
       "                                                title  \\\n",
       "0   광안리 M 드론 라이트쇼 Gwangalli M (Marvelous) Drone Li...   \n",
       "1                     광안리 조개구이 해물 무한리필 연화리해물천국 가성비 맛집   \n",
       "2                                           샤브20 광안리점   \n",
       "3                                                 부산역   \n",
       "4                                                 야놀자   \n",
       "5                                               카운트다운   \n",
       "6                                                 관광지   \n",
       "7                                                 광안리   \n",
       "8                                              광안리회타운   \n",
       "9                                               몰래카메라   \n",
       "10                                             광안돼지국밥   \n",
       "11                                       광안리에어비앤비(민박)   \n",
       "12                                            광안리 끄티집   \n",
       "13                                                 맛집   \n",
       "14                                             부산요트투어   \n",
       "15                                                 방어   \n",
       "16                          밀락더마켓 (MILLAC THE MARKET)   \n",
       "17                                               이자카야   \n",
       "18                                             부산불꽃축제   \n",
       "19                                                 국밥   \n",
       "\n",
       "                       type  value  \n",
       "0               대한민국의 관광 명소     급등  \n",
       "1           대한민국 부산광역시의 음식점     급등  \n",
       "2      대한민국 부산광역시의 샤브샤브 전문점     급등  \n",
       "3           대한민국 부산광역시의 전철역     급등  \n",
       "4                        회사     급등  \n",
       "5                        주제     급등  \n",
       "6                        주제  +850%  \n",
       "7   대한민국 서울특별시의 해산물 요리 전문식당  +650%  \n",
       "8                        주제  +650%  \n",
       "9                        주제  +500%  \n",
       "10          대한민국 부산광역시의 한식당  +450%  \n",
       "11                       주제  +350%  \n",
       "12           대한민국 부산광역시의 술집  +350%  \n",
       "13                       주제  +350%  \n",
       "14                       주제  +250%  \n",
       "15                      물고기  +180%  \n",
       "16         대한민국 부산광역시의 문화센터  +160%  \n",
       "17                       주제  +150%  \n",
       "18                       주제   +80%  \n",
       "19                       요리   +60%  "
      ]
     },
     "execution_count": 229,
     "metadata": {},
     "output_type": "execute_result"
    }
   ],
   "source": [
    "pd.DataFrame(\n",
    "    [\n",
    "        {\n",
    "            \"title\": topic[\"topic\"][\"title\"],\n",
    "            \"type\": topic[\"topic\"][\"type\"],\n",
    "            \"value\": topic[\"value\"],\n",
    "        }\n",
    "        for topic in related_topics[\"rising\"]\n",
    "    ]\n",
    ")"
   ]
  },
  {
   "cell_type": "code",
   "execution_count": 212,
   "metadata": {},
   "outputs": [
    {
     "data": {
      "text/html": [
       "<div>\n",
       "<style scoped>\n",
       "    .dataframe tbody tr th:only-of-type {\n",
       "        vertical-align: middle;\n",
       "    }\n",
       "\n",
       "    .dataframe tbody tr th {\n",
       "        vertical-align: top;\n",
       "    }\n",
       "\n",
       "    .dataframe thead th {\n",
       "        text-align: right;\n",
       "    }\n",
       "</style>\n",
       "<table border=\"1\" class=\"dataframe\">\n",
       "  <thead>\n",
       "    <tr style=\"text-align: right;\">\n",
       "      <th></th>\n",
       "      <th>topic</th>\n",
       "      <th>value</th>\n",
       "      <th>extracted_value</th>\n",
       "      <th>link</th>\n",
       "      <th>serpapi_link</th>\n",
       "      <th>type</th>\n",
       "    </tr>\n",
       "  </thead>\n",
       "  <tbody>\n",
       "    <tr>\n",
       "      <th>0</th>\n",
       "      <td>광안리 M 드론 라이트쇼 Gwangalli M (Marvelous) Drone Li...</td>\n",
       "      <td>급등</td>\n",
       "      <td>294300</td>\n",
       "      <td>https://trends.google.com/trends/explore?q=/g/...</td>\n",
       "      <td>https://serpapi.com/search.json?data_type=RELA...</td>\n",
       "      <td>대한민국의 관광 명소</td>\n",
       "    </tr>\n",
       "    <tr>\n",
       "      <th>1</th>\n",
       "      <td>광안리 조개구이 해물 무한리필 연화리해물천국 가성비 맛집</td>\n",
       "      <td>급등</td>\n",
       "      <td>44300</td>\n",
       "      <td>https://trends.google.com/trends/explore?q=/g/...</td>\n",
       "      <td>https://serpapi.com/search.json?data_type=RELA...</td>\n",
       "      <td>대한민국 부산광역시의 음식점</td>\n",
       "    </tr>\n",
       "    <tr>\n",
       "      <th>2</th>\n",
       "      <td>샤브20 광안리점</td>\n",
       "      <td>급등</td>\n",
       "      <td>25750</td>\n",
       "      <td>https://trends.google.com/trends/explore?q=/g/...</td>\n",
       "      <td>https://serpapi.com/search.json?data_type=RELA...</td>\n",
       "      <td>대한민국 부산광역시의 샤브샤브 전문점</td>\n",
       "    </tr>\n",
       "    <tr>\n",
       "      <th>3</th>\n",
       "      <td>부산역</td>\n",
       "      <td>급등</td>\n",
       "      <td>21200</td>\n",
       "      <td>https://trends.google.com/trends/explore?q=/g/...</td>\n",
       "      <td>https://serpapi.com/search.json?data_type=RELA...</td>\n",
       "      <td>대한민국 부산광역시의 전철역</td>\n",
       "    </tr>\n",
       "    <tr>\n",
       "      <th>4</th>\n",
       "      <td>야놀자</td>\n",
       "      <td>급등</td>\n",
       "      <td>19450</td>\n",
       "      <td>https://trends.google.com/trends/explore?q=/g/...</td>\n",
       "      <td>https://serpapi.com/search.json?data_type=RELA...</td>\n",
       "      <td>회사</td>\n",
       "    </tr>\n",
       "    <tr>\n",
       "      <th>5</th>\n",
       "      <td>카운트다운</td>\n",
       "      <td>급등</td>\n",
       "      <td>13600</td>\n",
       "      <td>https://trends.google.com/trends/explore?q=/m/...</td>\n",
       "      <td>https://serpapi.com/search.json?data_type=RELA...</td>\n",
       "      <td>주제</td>\n",
       "    </tr>\n",
       "    <tr>\n",
       "      <th>6</th>\n",
       "      <td>관광지</td>\n",
       "      <td>+850%</td>\n",
       "      <td>850</td>\n",
       "      <td>https://trends.google.com/trends/explore?q=/g/...</td>\n",
       "      <td>https://serpapi.com/search.json?data_type=RELA...</td>\n",
       "      <td>주제</td>\n",
       "    </tr>\n",
       "    <tr>\n",
       "      <th>7</th>\n",
       "      <td>광안리</td>\n",
       "      <td>+650%</td>\n",
       "      <td>650</td>\n",
       "      <td>https://trends.google.com/trends/explore?q=/g/...</td>\n",
       "      <td>https://serpapi.com/search.json?data_type=RELA...</td>\n",
       "      <td>대한민국 서울특별시의 해산물 요리 전문식당</td>\n",
       "    </tr>\n",
       "    <tr>\n",
       "      <th>8</th>\n",
       "      <td>광안리회타운</td>\n",
       "      <td>+650%</td>\n",
       "      <td>650</td>\n",
       "      <td>https://trends.google.com/trends/explore?q=/g/...</td>\n",
       "      <td>https://serpapi.com/search.json?data_type=RELA...</td>\n",
       "      <td>주제</td>\n",
       "    </tr>\n",
       "    <tr>\n",
       "      <th>9</th>\n",
       "      <td>몰래카메라</td>\n",
       "      <td>+500%</td>\n",
       "      <td>500</td>\n",
       "      <td>https://trends.google.com/trends/explore?q=/m/...</td>\n",
       "      <td>https://serpapi.com/search.json?data_type=RELA...</td>\n",
       "      <td>주제</td>\n",
       "    </tr>\n",
       "    <tr>\n",
       "      <th>10</th>\n",
       "      <td>광안돼지국밥</td>\n",
       "      <td>+450%</td>\n",
       "      <td>450</td>\n",
       "      <td>https://trends.google.com/trends/explore?q=/g/...</td>\n",
       "      <td>https://serpapi.com/search.json?data_type=RELA...</td>\n",
       "      <td>대한민국 부산광역시의 한식당</td>\n",
       "    </tr>\n",
       "    <tr>\n",
       "      <th>11</th>\n",
       "      <td>광안리에어비앤비(민박)</td>\n",
       "      <td>+350%</td>\n",
       "      <td>350</td>\n",
       "      <td>https://trends.google.com/trends/explore?q=/g/...</td>\n",
       "      <td>https://serpapi.com/search.json?data_type=RELA...</td>\n",
       "      <td>주제</td>\n",
       "    </tr>\n",
       "    <tr>\n",
       "      <th>12</th>\n",
       "      <td>광안리 끄티집</td>\n",
       "      <td>+350%</td>\n",
       "      <td>350</td>\n",
       "      <td>https://trends.google.com/trends/explore?q=/g/...</td>\n",
       "      <td>https://serpapi.com/search.json?data_type=RELA...</td>\n",
       "      <td>대한민국 부산광역시의 술집</td>\n",
       "    </tr>\n",
       "    <tr>\n",
       "      <th>13</th>\n",
       "      <td>맛집</td>\n",
       "      <td>+350%</td>\n",
       "      <td>350</td>\n",
       "      <td>https://trends.google.com/trends/explore?q=/g/...</td>\n",
       "      <td>https://serpapi.com/search.json?data_type=RELA...</td>\n",
       "      <td>주제</td>\n",
       "    </tr>\n",
       "    <tr>\n",
       "      <th>14</th>\n",
       "      <td>부산요트투어</td>\n",
       "      <td>+250%</td>\n",
       "      <td>250</td>\n",
       "      <td>https://trends.google.com/trends/explore?q=/g/...</td>\n",
       "      <td>https://serpapi.com/search.json?data_type=RELA...</td>\n",
       "      <td>주제</td>\n",
       "    </tr>\n",
       "    <tr>\n",
       "      <th>15</th>\n",
       "      <td>방어</td>\n",
       "      <td>+180%</td>\n",
       "      <td>180</td>\n",
       "      <td>https://trends.google.com/trends/explore?q=/m/...</td>\n",
       "      <td>https://serpapi.com/search.json?data_type=RELA...</td>\n",
       "      <td>물고기</td>\n",
       "    </tr>\n",
       "    <tr>\n",
       "      <th>16</th>\n",
       "      <td>밀락더마켓 (MILLAC THE MARKET)</td>\n",
       "      <td>+160%</td>\n",
       "      <td>160</td>\n",
       "      <td>https://trends.google.com/trends/explore?q=/g/...</td>\n",
       "      <td>https://serpapi.com/search.json?data_type=RELA...</td>\n",
       "      <td>대한민국 부산광역시의 문화센터</td>\n",
       "    </tr>\n",
       "    <tr>\n",
       "      <th>17</th>\n",
       "      <td>이자카야</td>\n",
       "      <td>+150%</td>\n",
       "      <td>150</td>\n",
       "      <td>https://trends.google.com/trends/explore?q=/m/...</td>\n",
       "      <td>https://serpapi.com/search.json?data_type=RELA...</td>\n",
       "      <td>주제</td>\n",
       "    </tr>\n",
       "    <tr>\n",
       "      <th>18</th>\n",
       "      <td>부산불꽃축제</td>\n",
       "      <td>+80%</td>\n",
       "      <td>80</td>\n",
       "      <td>https://trends.google.com/trends/explore?q=/m/...</td>\n",
       "      <td>https://serpapi.com/search.json?data_type=RELA...</td>\n",
       "      <td>주제</td>\n",
       "    </tr>\n",
       "    <tr>\n",
       "      <th>19</th>\n",
       "      <td>국밥</td>\n",
       "      <td>+60%</td>\n",
       "      <td>60</td>\n",
       "      <td>https://trends.google.com/trends/explore?q=/g/...</td>\n",
       "      <td>https://serpapi.com/search.json?data_type=RELA...</td>\n",
       "      <td>요리</td>\n",
       "    </tr>\n",
       "  </tbody>\n",
       "</table>\n",
       "</div>"
      ],
      "text/plain": [
       "                                                topic  value  extracted_value  \\\n",
       "0   광안리 M 드론 라이트쇼 Gwangalli M (Marvelous) Drone Li...     급등           294300   \n",
       "1                     광안리 조개구이 해물 무한리필 연화리해물천국 가성비 맛집     급등            44300   \n",
       "2                                           샤브20 광안리점     급등            25750   \n",
       "3                                                 부산역     급등            21200   \n",
       "4                                                 야놀자     급등            19450   \n",
       "5                                               카운트다운     급등            13600   \n",
       "6                                                 관광지  +850%              850   \n",
       "7                                                 광안리  +650%              650   \n",
       "8                                              광안리회타운  +650%              650   \n",
       "9                                               몰래카메라  +500%              500   \n",
       "10                                             광안돼지국밥  +450%              450   \n",
       "11                                       광안리에어비앤비(민박)  +350%              350   \n",
       "12                                            광안리 끄티집  +350%              350   \n",
       "13                                                 맛집  +350%              350   \n",
       "14                                             부산요트투어  +250%              250   \n",
       "15                                                 방어  +180%              180   \n",
       "16                          밀락더마켓 (MILLAC THE MARKET)  +160%              160   \n",
       "17                                               이자카야  +150%              150   \n",
       "18                                             부산불꽃축제   +80%               80   \n",
       "19                                                 국밥   +60%               60   \n",
       "\n",
       "                                                 link  \\\n",
       "0   https://trends.google.com/trends/explore?q=/g/...   \n",
       "1   https://trends.google.com/trends/explore?q=/g/...   \n",
       "2   https://trends.google.com/trends/explore?q=/g/...   \n",
       "3   https://trends.google.com/trends/explore?q=/g/...   \n",
       "4   https://trends.google.com/trends/explore?q=/g/...   \n",
       "5   https://trends.google.com/trends/explore?q=/m/...   \n",
       "6   https://trends.google.com/trends/explore?q=/g/...   \n",
       "7   https://trends.google.com/trends/explore?q=/g/...   \n",
       "8   https://trends.google.com/trends/explore?q=/g/...   \n",
       "9   https://trends.google.com/trends/explore?q=/m/...   \n",
       "10  https://trends.google.com/trends/explore?q=/g/...   \n",
       "11  https://trends.google.com/trends/explore?q=/g/...   \n",
       "12  https://trends.google.com/trends/explore?q=/g/...   \n",
       "13  https://trends.google.com/trends/explore?q=/g/...   \n",
       "14  https://trends.google.com/trends/explore?q=/g/...   \n",
       "15  https://trends.google.com/trends/explore?q=/m/...   \n",
       "16  https://trends.google.com/trends/explore?q=/g/...   \n",
       "17  https://trends.google.com/trends/explore?q=/m/...   \n",
       "18  https://trends.google.com/trends/explore?q=/m/...   \n",
       "19  https://trends.google.com/trends/explore?q=/g/...   \n",
       "\n",
       "                                         serpapi_link                     type  \n",
       "0   https://serpapi.com/search.json?data_type=RELA...              대한민국의 관광 명소  \n",
       "1   https://serpapi.com/search.json?data_type=RELA...          대한민국 부산광역시의 음식점  \n",
       "2   https://serpapi.com/search.json?data_type=RELA...     대한민국 부산광역시의 샤브샤브 전문점  \n",
       "3   https://serpapi.com/search.json?data_type=RELA...          대한민국 부산광역시의 전철역  \n",
       "4   https://serpapi.com/search.json?data_type=RELA...                       회사  \n",
       "5   https://serpapi.com/search.json?data_type=RELA...                       주제  \n",
       "6   https://serpapi.com/search.json?data_type=RELA...                       주제  \n",
       "7   https://serpapi.com/search.json?data_type=RELA...  대한민국 서울특별시의 해산물 요리 전문식당  \n",
       "8   https://serpapi.com/search.json?data_type=RELA...                       주제  \n",
       "9   https://serpapi.com/search.json?data_type=RELA...                       주제  \n",
       "10  https://serpapi.com/search.json?data_type=RELA...          대한민국 부산광역시의 한식당  \n",
       "11  https://serpapi.com/search.json?data_type=RELA...                       주제  \n",
       "12  https://serpapi.com/search.json?data_type=RELA...           대한민국 부산광역시의 술집  \n",
       "13  https://serpapi.com/search.json?data_type=RELA...                       주제  \n",
       "14  https://serpapi.com/search.json?data_type=RELA...                       주제  \n",
       "15  https://serpapi.com/search.json?data_type=RELA...                      물고기  \n",
       "16  https://serpapi.com/search.json?data_type=RELA...         대한민국 부산광역시의 문화센터  \n",
       "17  https://serpapi.com/search.json?data_type=RELA...                       주제  \n",
       "18  https://serpapi.com/search.json?data_type=RELA...                       주제  \n",
       "19  https://serpapi.com/search.json?data_type=RELA...                       요리  "
      ]
     },
     "execution_count": 212,
     "metadata": {},
     "output_type": "execute_result"
    }
   ],
   "source": [
    "rising_topics_df = pd.DataFrame(related_topics[\"rising\"])\n",
    "rising_topics_df[\"type\"] = rising_topics_df[\"topic\"].apply(lambda x: x[\"type\"])\n",
    "rising_topics_df[\"topic\"] = rising_topics_df[\"topic\"].apply(lambda x: x[\"title\"])\n",
    "\n",
    "rising_topics_df"
   ]
  },
  {
   "cell_type": "code",
   "execution_count": 213,
   "metadata": {},
   "outputs": [
    {
     "data": {
      "text/html": [
       "<div>\n",
       "<style scoped>\n",
       "    .dataframe tbody tr th:only-of-type {\n",
       "        vertical-align: middle;\n",
       "    }\n",
       "\n",
       "    .dataframe tbody tr th {\n",
       "        vertical-align: top;\n",
       "    }\n",
       "\n",
       "    .dataframe thead th {\n",
       "        text-align: right;\n",
       "    }\n",
       "</style>\n",
       "<table border=\"1\" class=\"dataframe\">\n",
       "  <thead>\n",
       "    <tr style=\"text-align: right;\">\n",
       "      <th></th>\n",
       "      <th>topic</th>\n",
       "      <th>value</th>\n",
       "      <th>extracted_value</th>\n",
       "      <th>link</th>\n",
       "      <th>serpapi_link</th>\n",
       "      <th>type</th>\n",
       "    </tr>\n",
       "  </thead>\n",
       "  <tbody>\n",
       "    <tr>\n",
       "      <th>0</th>\n",
       "      <td>광안리해수욕장</td>\n",
       "      <td>100</td>\n",
       "      <td>100</td>\n",
       "      <td>https://trends.google.com/trends/explore?q=/m/...</td>\n",
       "      <td>https://serpapi.com/search.json?data_type=RELA...</td>\n",
       "      <td>대한민국 부산광역시의 해변</td>\n",
       "    </tr>\n",
       "    <tr>\n",
       "      <th>1</th>\n",
       "      <td>부산광역시</td>\n",
       "      <td>25</td>\n",
       "      <td>25</td>\n",
       "      <td>https://trends.google.com/trends/explore?q=/m/...</td>\n",
       "      <td>https://serpapi.com/search.json?data_type=RELA...</td>\n",
       "      <td>대한민국의 광역시</td>\n",
       "    </tr>\n",
       "    <tr>\n",
       "      <th>2</th>\n",
       "      <td>해운대구</td>\n",
       "      <td>8</td>\n",
       "      <td>8</td>\n",
       "      <td>https://trends.google.com/trends/explore?q=/m/...</td>\n",
       "      <td>https://serpapi.com/search.json?data_type=RELA...</td>\n",
       "      <td>주제</td>\n",
       "    </tr>\n",
       "    <tr>\n",
       "      <th>3</th>\n",
       "      <td>축제</td>\n",
       "      <td>7</td>\n",
       "      <td>7</td>\n",
       "      <td>https://trends.google.com/trends/explore?q=/m/...</td>\n",
       "      <td>https://serpapi.com/search.json?data_type=RELA...</td>\n",
       "      <td>학회 종류</td>\n",
       "    </tr>\n",
       "    <tr>\n",
       "      <th>4</th>\n",
       "      <td>커피집</td>\n",
       "      <td>4</td>\n",
       "      <td>4</td>\n",
       "      <td>https://trends.google.com/trends/explore?q=/m/...</td>\n",
       "      <td>https://serpapi.com/search.json?data_type=RELA...</td>\n",
       "      <td>주제</td>\n",
       "    </tr>\n",
       "    <tr>\n",
       "      <th>5</th>\n",
       "      <td>부산불꽃축제</td>\n",
       "      <td>4</td>\n",
       "      <td>4</td>\n",
       "      <td>https://trends.google.com/trends/explore?q=/g/...</td>\n",
       "      <td>https://serpapi.com/search.json?data_type=RELA...</td>\n",
       "      <td>대한민국 부산광역시의 축제</td>\n",
       "    </tr>\n",
       "    <tr>\n",
       "      <th>6</th>\n",
       "      <td>광안리 M 드론 라이트쇼 Gwangalli M (Marvelous) Drone Li...</td>\n",
       "      <td>4</td>\n",
       "      <td>4</td>\n",
       "      <td>https://trends.google.com/trends/explore?q=/g/...</td>\n",
       "      <td>https://serpapi.com/search.json?data_type=RELA...</td>\n",
       "      <td>대한민국의 관광 명소</td>\n",
       "    </tr>\n",
       "    <tr>\n",
       "      <th>7</th>\n",
       "      <td>숙박</td>\n",
       "      <td>3</td>\n",
       "      <td>3</td>\n",
       "      <td>https://trends.google.com/trends/explore?q=/m/...</td>\n",
       "      <td>https://serpapi.com/search.json?data_type=RELA...</td>\n",
       "      <td>숙박 시설 종류</td>\n",
       "    </tr>\n",
       "    <tr>\n",
       "      <th>8</th>\n",
       "      <td>서면역</td>\n",
       "      <td>2</td>\n",
       "      <td>2</td>\n",
       "      <td>https://trends.google.com/trends/explore?q=/m/...</td>\n",
       "      <td>https://serpapi.com/search.json?data_type=RELA...</td>\n",
       "      <td>대한민국 부산광역시의 전철역</td>\n",
       "    </tr>\n",
       "    <tr>\n",
       "      <th>9</th>\n",
       "      <td>맛집</td>\n",
       "      <td>2</td>\n",
       "      <td>2</td>\n",
       "      <td>https://trends.google.com/trends/explore?q=/g/...</td>\n",
       "      <td>https://serpapi.com/search.json?data_type=RELA...</td>\n",
       "      <td>대한민국 부산광역시의 한식당</td>\n",
       "    </tr>\n",
       "    <tr>\n",
       "      <th>10</th>\n",
       "      <td>수영구</td>\n",
       "      <td>2</td>\n",
       "      <td>2</td>\n",
       "      <td>https://trends.google.com/trends/explore?q=/m/...</td>\n",
       "      <td>https://serpapi.com/search.json?data_type=RELA...</td>\n",
       "      <td>주제</td>\n",
       "    </tr>\n",
       "    <tr>\n",
       "      <th>11</th>\n",
       "      <td>바</td>\n",
       "      <td>2</td>\n",
       "      <td>2</td>\n",
       "      <td>https://trends.google.com/trends/explore?q=/m/...</td>\n",
       "      <td>https://serpapi.com/search.json?data_type=RELA...</td>\n",
       "      <td>술집</td>\n",
       "    </tr>\n",
       "    <tr>\n",
       "      <th>12</th>\n",
       "      <td>해변</td>\n",
       "      <td>2</td>\n",
       "      <td>2</td>\n",
       "      <td>https://trends.google.com/trends/explore?q=/m/...</td>\n",
       "      <td>https://serpapi.com/search.json?data_type=RELA...</td>\n",
       "      <td>주제</td>\n",
       "    </tr>\n",
       "    <tr>\n",
       "      <th>13</th>\n",
       "      <td>국밥</td>\n",
       "      <td>1</td>\n",
       "      <td>1</td>\n",
       "      <td>https://trends.google.com/trends/explore?q=/g/...</td>\n",
       "      <td>https://serpapi.com/search.json?data_type=RELA...</td>\n",
       "      <td>요리</td>\n",
       "    </tr>\n",
       "    <tr>\n",
       "      <th>14</th>\n",
       "      <td>술집</td>\n",
       "      <td>1</td>\n",
       "      <td>1</td>\n",
       "      <td>https://trends.google.com/trends/explore?q=/m/...</td>\n",
       "      <td>https://serpapi.com/search.json?data_type=RELA...</td>\n",
       "      <td>주제</td>\n",
       "    </tr>\n",
       "    <tr>\n",
       "      <th>15</th>\n",
       "      <td>부산</td>\n",
       "      <td>1</td>\n",
       "      <td>1</td>\n",
       "      <td>https://trends.google.com/trends/explore?q=/m/...</td>\n",
       "      <td>https://serpapi.com/search.json?data_type=RELA...</td>\n",
       "      <td>철도역</td>\n",
       "    </tr>\n",
       "    <tr>\n",
       "      <th>16</th>\n",
       "      <td>불꽃</td>\n",
       "      <td>1</td>\n",
       "      <td>1</td>\n",
       "      <td>https://trends.google.com/trends/explore?q=/m/...</td>\n",
       "      <td>https://serpapi.com/search.json?data_type=RELA...</td>\n",
       "      <td>주제</td>\n",
       "    </tr>\n",
       "    <tr>\n",
       "      <th>17</th>\n",
       "      <td>부산불꽃축제</td>\n",
       "      <td>1</td>\n",
       "      <td>1</td>\n",
       "      <td>https://trends.google.com/trends/explore?q=/m/...</td>\n",
       "      <td>https://serpapi.com/search.json?data_type=RELA...</td>\n",
       "      <td>주제</td>\n",
       "    </tr>\n",
       "    <tr>\n",
       "      <th>18</th>\n",
       "      <td>톤쇼우 광안점</td>\n",
       "      <td>1</td>\n",
       "      <td>1</td>\n",
       "      <td>https://trends.google.com/trends/explore?q=/g/...</td>\n",
       "      <td>https://serpapi.com/search.json?data_type=RELA...</td>\n",
       "      <td>대한민국 부산광역시의 돈까스 전문식당</td>\n",
       "    </tr>\n",
       "    <tr>\n",
       "      <th>19</th>\n",
       "      <td>밀락더마켓 (MILLAC THE MARKET)</td>\n",
       "      <td>1</td>\n",
       "      <td>1</td>\n",
       "      <td>https://trends.google.com/trends/explore?q=/g/...</td>\n",
       "      <td>https://serpapi.com/search.json?data_type=RELA...</td>\n",
       "      <td>대한민국 부산광역시의 문화센터</td>\n",
       "    </tr>\n",
       "    <tr>\n",
       "      <th>20</th>\n",
       "      <td>이자카야</td>\n",
       "      <td>1</td>\n",
       "      <td>1</td>\n",
       "      <td>https://trends.google.com/trends/explore?q=/m/...</td>\n",
       "      <td>https://serpapi.com/search.json?data_type=RELA...</td>\n",
       "      <td>주제</td>\n",
       "    </tr>\n",
       "    <tr>\n",
       "      <th>21</th>\n",
       "      <td>광안리 끄티집</td>\n",
       "      <td>1</td>\n",
       "      <td>1</td>\n",
       "      <td>https://trends.google.com/trends/explore?q=/g/...</td>\n",
       "      <td>https://serpapi.com/search.json?data_type=RELA...</td>\n",
       "      <td>대한민국 부산광역시의 술집</td>\n",
       "    </tr>\n",
       "    <tr>\n",
       "      <th>22</th>\n",
       "      <td>맛집</td>\n",
       "      <td>1</td>\n",
       "      <td>1</td>\n",
       "      <td>https://trends.google.com/trends/explore?q=/g/...</td>\n",
       "      <td>https://serpapi.com/search.json?data_type=RELA...</td>\n",
       "      <td>주제</td>\n",
       "    </tr>\n",
       "    <tr>\n",
       "      <th>23</th>\n",
       "      <td>광안리 조개구이 해물 무한리필 연화리해물천국 가성비 맛집</td>\n",
       "      <td>1</td>\n",
       "      <td>1</td>\n",
       "      <td>https://trends.google.com/trends/explore?q=/g/...</td>\n",
       "      <td>https://serpapi.com/search.json?data_type=RELA...</td>\n",
       "      <td>대한민국 부산광역시의 음식점</td>\n",
       "    </tr>\n",
       "  </tbody>\n",
       "</table>\n",
       "</div>"
      ],
      "text/plain": [
       "                                                topic value  extracted_value  \\\n",
       "0                                             광안리해수욕장   100              100   \n",
       "1                                               부산광역시    25               25   \n",
       "2                                                해운대구     8                8   \n",
       "3                                                  축제     7                7   \n",
       "4                                                 커피집     4                4   \n",
       "5                                              부산불꽃축제     4                4   \n",
       "6   광안리 M 드론 라이트쇼 Gwangalli M (Marvelous) Drone Li...     4                4   \n",
       "7                                                  숙박     3                3   \n",
       "8                                                 서면역     2                2   \n",
       "9                                                  맛집     2                2   \n",
       "10                                                수영구     2                2   \n",
       "11                                                  바     2                2   \n",
       "12                                                 해변     2                2   \n",
       "13                                                 국밥     1                1   \n",
       "14                                                 술집     1                1   \n",
       "15                                                 부산     1                1   \n",
       "16                                                 불꽃     1                1   \n",
       "17                                             부산불꽃축제     1                1   \n",
       "18                                            톤쇼우 광안점     1                1   \n",
       "19                          밀락더마켓 (MILLAC THE MARKET)     1                1   \n",
       "20                                               이자카야     1                1   \n",
       "21                                            광안리 끄티집     1                1   \n",
       "22                                                 맛집     1                1   \n",
       "23                    광안리 조개구이 해물 무한리필 연화리해물천국 가성비 맛집     1                1   \n",
       "\n",
       "                                                 link  \\\n",
       "0   https://trends.google.com/trends/explore?q=/m/...   \n",
       "1   https://trends.google.com/trends/explore?q=/m/...   \n",
       "2   https://trends.google.com/trends/explore?q=/m/...   \n",
       "3   https://trends.google.com/trends/explore?q=/m/...   \n",
       "4   https://trends.google.com/trends/explore?q=/m/...   \n",
       "5   https://trends.google.com/trends/explore?q=/g/...   \n",
       "6   https://trends.google.com/trends/explore?q=/g/...   \n",
       "7   https://trends.google.com/trends/explore?q=/m/...   \n",
       "8   https://trends.google.com/trends/explore?q=/m/...   \n",
       "9   https://trends.google.com/trends/explore?q=/g/...   \n",
       "10  https://trends.google.com/trends/explore?q=/m/...   \n",
       "11  https://trends.google.com/trends/explore?q=/m/...   \n",
       "12  https://trends.google.com/trends/explore?q=/m/...   \n",
       "13  https://trends.google.com/trends/explore?q=/g/...   \n",
       "14  https://trends.google.com/trends/explore?q=/m/...   \n",
       "15  https://trends.google.com/trends/explore?q=/m/...   \n",
       "16  https://trends.google.com/trends/explore?q=/m/...   \n",
       "17  https://trends.google.com/trends/explore?q=/m/...   \n",
       "18  https://trends.google.com/trends/explore?q=/g/...   \n",
       "19  https://trends.google.com/trends/explore?q=/g/...   \n",
       "20  https://trends.google.com/trends/explore?q=/m/...   \n",
       "21  https://trends.google.com/trends/explore?q=/g/...   \n",
       "22  https://trends.google.com/trends/explore?q=/g/...   \n",
       "23  https://trends.google.com/trends/explore?q=/g/...   \n",
       "\n",
       "                                         serpapi_link                  type  \n",
       "0   https://serpapi.com/search.json?data_type=RELA...        대한민국 부산광역시의 해변  \n",
       "1   https://serpapi.com/search.json?data_type=RELA...             대한민국의 광역시  \n",
       "2   https://serpapi.com/search.json?data_type=RELA...                    주제  \n",
       "3   https://serpapi.com/search.json?data_type=RELA...                 학회 종류  \n",
       "4   https://serpapi.com/search.json?data_type=RELA...                    주제  \n",
       "5   https://serpapi.com/search.json?data_type=RELA...        대한민국 부산광역시의 축제  \n",
       "6   https://serpapi.com/search.json?data_type=RELA...           대한민국의 관광 명소  \n",
       "7   https://serpapi.com/search.json?data_type=RELA...              숙박 시설 종류  \n",
       "8   https://serpapi.com/search.json?data_type=RELA...       대한민국 부산광역시의 전철역  \n",
       "9   https://serpapi.com/search.json?data_type=RELA...       대한민국 부산광역시의 한식당  \n",
       "10  https://serpapi.com/search.json?data_type=RELA...                    주제  \n",
       "11  https://serpapi.com/search.json?data_type=RELA...                    술집  \n",
       "12  https://serpapi.com/search.json?data_type=RELA...                    주제  \n",
       "13  https://serpapi.com/search.json?data_type=RELA...                    요리  \n",
       "14  https://serpapi.com/search.json?data_type=RELA...                    주제  \n",
       "15  https://serpapi.com/search.json?data_type=RELA...                   철도역  \n",
       "16  https://serpapi.com/search.json?data_type=RELA...                    주제  \n",
       "17  https://serpapi.com/search.json?data_type=RELA...                    주제  \n",
       "18  https://serpapi.com/search.json?data_type=RELA...  대한민국 부산광역시의 돈까스 전문식당  \n",
       "19  https://serpapi.com/search.json?data_type=RELA...      대한민국 부산광역시의 문화센터  \n",
       "20  https://serpapi.com/search.json?data_type=RELA...                    주제  \n",
       "21  https://serpapi.com/search.json?data_type=RELA...        대한민국 부산광역시의 술집  \n",
       "22  https://serpapi.com/search.json?data_type=RELA...                    주제  \n",
       "23  https://serpapi.com/search.json?data_type=RELA...       대한민국 부산광역시의 음식점  "
      ]
     },
     "execution_count": 213,
     "metadata": {},
     "output_type": "execute_result"
    }
   ],
   "source": [
    "top_topics_df = pd.DataFrame(related_topics[\"top\"])\n",
    "top_topics_df[\"type\"] = top_topics_df[\"topic\"].apply(lambda x: x[\"type\"])\n",
    "top_topics_df[\"topic\"] = top_topics_df[\"topic\"].apply(lambda x: x[\"title\"])\n",
    "\n",
    "top_topics_df"
   ]
  },
  {
   "cell_type": "code",
   "execution_count": 200,
   "metadata": {},
   "outputs": [
    {
     "data": {
      "text/plain": [
       "{'rising': [{'query': '광안리 드론 쇼 취소', 'value': '급등', 'extracted_value': 22400, 'link': 'https://trends.google.com/trends/explore?q=%EA%B4%91%EC%95%88%EB%A6%AC+%EB%93%9C%EB%A1%A0+%EC%87%BC+%EC%B7%A8%EC%86%8C&date=today+12-m&geo=KR', 'serpapi_link': 'https://serpapi.com/search.json?data_type=RELATED_QUERIES&date=today+12-m&engine=google_trends&geo=KR&hl=ko&q=%EA%B4%91%EC%95%88%EB%A6%AC+%EB%93%9C%EB%A1%A0+%EC%87%BC+%EC%B7%A8%EC%86%8C&tz=420'}, {'query': '광안리 이자카야 몰카', 'value': '급등', 'extracted_value': 15500, 'link': 'https://trends.google.com/trends/explore?q=%EA%B4%91%EC%95%88%EB%A6%AC+%EC%9D%B4%EC%9E%90%EC%B9%B4%EC%95%BC+%EB%AA%B0%EC%B9%B4&date=today+12-m&geo=KR', 'serpapi_link': 'https://serpapi.com/search.json?data_type=RELATED_QUERIES&date=today+12-m&engine=google_trends&geo=KR&hl=ko&q=%EA%B4%91%EC%95%88%EB%A6%AC+%EC%9D%B4%EC%9E%90%EC%B9%B4%EC%95%BC+%EB%AA%B0%EC%B9%B4&tz=420'}, {'query': '광안리 이자카야 카도', 'value': '급등', 'extracted_value': 13700, 'link': 'https://trends.google.com/trends/explore?q=%EA%B4%91%EC%95%88%EB%A6%AC+%EC%9D%B4%EC%9E%90%EC%B9%B4%EC%95%BC+%EC%B9%B4%EB%8F%84&date=today+12-m&geo=KR', 'serpapi_link': 'https://serpapi.com/search.json?data_type=RELATED_QUERIES&date=today+12-m&engine=google_trends&geo=KR&hl=ko&q=%EA%B4%91%EC%95%88%EB%A6%AC+%EC%9D%B4%EC%9E%90%EC%B9%B4%EC%95%BC+%EC%B9%B4%EB%8F%84&tz=420'}, {'query': '광안리 카도 사장', 'value': '급등', 'extracted_value': 10450, 'link': 'https://trends.google.com/trends/explore?q=%EA%B4%91%EC%95%88%EB%A6%AC+%EC%B9%B4%EB%8F%84+%EC%82%AC%EC%9E%A5&date=today+12-m&geo=KR', 'serpapi_link': 'https://serpapi.com/search.json?data_type=RELATED_QUERIES&date=today+12-m&engine=google_trends&geo=KR&hl=ko&q=%EA%B4%91%EC%95%88%EB%A6%AC+%EC%B9%B4%EB%8F%84+%EC%82%AC%EC%9E%A5&tz=420'}, {'query': '부산 광안리 드론 쇼 취소', 'value': '급등', 'extracted_value': 6550, 'link': 'https://trends.google.com/trends/explore?q=%EB%B6%80%EC%82%B0+%EA%B4%91%EC%95%88%EB%A6%AC+%EB%93%9C%EB%A1%A0+%EC%87%BC+%EC%B7%A8%EC%86%8C&date=today+12-m&geo=KR', 'serpapi_link': 'https://serpapi.com/search.json?data_type=RELATED_QUERIES&date=today+12-m&engine=google_trends&geo=KR&hl=ko&q=%EB%B6%80%EC%82%B0+%EA%B4%91%EC%95%88%EB%A6%AC+%EB%93%9C%EB%A1%A0+%EC%87%BC+%EC%B7%A8%EC%86%8C&tz=420'}, {'query': '광안리 카도', 'value': '+1,750%', 'extracted_value': 1750, 'link': 'https://trends.google.com/trends/explore?q=%EA%B4%91%EC%95%88%EB%A6%AC+%EC%B9%B4%EB%8F%84&date=today+12-m&geo=KR', 'serpapi_link': 'https://serpapi.com/search.json?data_type=RELATED_QUERIES&date=today+12-m&engine=google_trends&geo=KR&hl=ko&q=%EA%B4%91%EC%95%88%EB%A6%AC+%EC%B9%B4%EB%8F%84&tz=420'}, {'query': '밀 락더 마켓', 'value': '+140%', 'extracted_value': 140, 'link': 'https://trends.google.com/trends/explore?q=%EB%B0%80+%EB%9D%BD%EB%8D%94+%EB%A7%88%EC%BC%93&date=today+12-m&geo=KR', 'serpapi_link': 'https://serpapi.com/search.json?data_type=RELATED_QUERIES&date=today+12-m&engine=google_trends&geo=KR&hl=ko&q=%EB%B0%80+%EB%9D%BD%EB%8D%94+%EB%A7%88%EC%BC%93&tz=420'}, {'query': '부산 광안리 드론 쇼', 'value': '+80%', 'extracted_value': 80, 'link': 'https://trends.google.com/trends/explore?q=%EB%B6%80%EC%82%B0+%EA%B4%91%EC%95%88%EB%A6%AC+%EB%93%9C%EB%A1%A0+%EC%87%BC&date=today+12-m&geo=KR', 'serpapi_link': 'https://serpapi.com/search.json?data_type=RELATED_QUERIES&date=today+12-m&engine=google_trends&geo=KR&hl=ko&q=%EB%B6%80%EC%82%B0+%EA%B4%91%EC%95%88%EB%A6%AC+%EB%93%9C%EB%A1%A0+%EC%87%BC&tz=420'}, {'query': '드론 쇼 광안리', 'value': '+60%', 'extracted_value': 60, 'link': 'https://trends.google.com/trends/explore?q=%EB%93%9C%EB%A1%A0+%EC%87%BC+%EA%B4%91%EC%95%88%EB%A6%AC&date=today+12-m&geo=KR', 'serpapi_link': 'https://serpapi.com/search.json?data_type=RELATED_QUERIES&date=today+12-m&engine=google_trends&geo=KR&hl=ko&q=%EB%93%9C%EB%A1%A0+%EC%87%BC+%EA%B4%91%EC%95%88%EB%A6%AC&tz=420'}, {'query': '드론 쇼', 'value': '+60%', 'extracted_value': 60, 'link': 'https://trends.google.com/trends/explore?q=%EB%93%9C%EB%A1%A0+%EC%87%BC&date=today+12-m&geo=KR', 'serpapi_link': 'https://serpapi.com/search.json?data_type=RELATED_QUERIES&date=today+12-m&engine=google_trends&geo=KR&hl=ko&q=%EB%93%9C%EB%A1%A0+%EC%87%BC&tz=420'}, {'query': '광안리 드론', 'value': '+60%', 'extracted_value': 60, 'link': 'https://trends.google.com/trends/explore?q=%EA%B4%91%EC%95%88%EB%A6%AC+%EB%93%9C%EB%A1%A0&date=today+12-m&geo=KR', 'serpapi_link': 'https://serpapi.com/search.json?data_type=RELATED_QUERIES&date=today+12-m&engine=google_trends&geo=KR&hl=ko&q=%EA%B4%91%EC%95%88%EB%A6%AC+%EB%93%9C%EB%A1%A0&tz=420'}], 'top': [{'query': '부산 광안리', 'value': '100', 'extracted_value': 100, 'link': 'https://trends.google.com/trends/explore?q=%EB%B6%80%EC%82%B0+%EA%B4%91%EC%95%88%EB%A6%AC&date=today+12-m&geo=KR', 'serpapi_link': 'https://serpapi.com/search.json?data_type=RELATED_QUERIES&date=today+12-m&engine=google_trends&geo=KR&hl=ko&q=%EB%B6%80%EC%82%B0+%EA%B4%91%EC%95%88%EB%A6%AC&tz=420'}, {'query': '부산', 'value': '100', 'extracted_value': 100, 'link': 'https://trends.google.com/trends/explore?q=%EB%B6%80%EC%82%B0&date=today+12-m&geo=KR', 'serpapi_link': 'https://serpapi.com/search.json?data_type=RELATED_QUERIES&date=today+12-m&engine=google_trends&geo=KR&hl=ko&q=%EB%B6%80%EC%82%B0&tz=420'}, {'query': '광안리 맛집', 'value': '49', 'extracted_value': 49, 'link': 'https://trends.google.com/trends/explore?q=%EA%B4%91%EC%95%88%EB%A6%AC+%EB%A7%9B%EC%A7%91&date=today+12-m&geo=KR', 'serpapi_link': 'https://serpapi.com/search.json?data_type=RELATED_QUERIES&date=today+12-m&engine=google_trends&geo=KR&hl=ko&q=%EA%B4%91%EC%95%88%EB%A6%AC+%EB%A7%9B%EC%A7%91&tz=420'}, {'query': '광안리 드론', 'value': '41', 'extracted_value': 41, 'link': 'https://trends.google.com/trends/explore?q=%EA%B4%91%EC%95%88%EB%A6%AC+%EB%93%9C%EB%A1%A0&date=today+12-m&geo=KR', 'serpapi_link': 'https://serpapi.com/search.json?data_type=RELATED_QUERIES&date=today+12-m&engine=google_trends&geo=KR&hl=ko&q=%EA%B4%91%EC%95%88%EB%A6%AC+%EB%93%9C%EB%A1%A0&tz=420'}, {'query': '드론 쇼 광안리', 'value': '38', 'extracted_value': 38, 'link': 'https://trends.google.com/trends/explore?q=%EB%93%9C%EB%A1%A0+%EC%87%BC+%EA%B4%91%EC%95%88%EB%A6%AC&date=today+12-m&geo=KR', 'serpapi_link': 'https://serpapi.com/search.json?data_type=RELATED_QUERIES&date=today+12-m&engine=google_trends&geo=KR&hl=ko&q=%EB%93%9C%EB%A1%A0+%EC%87%BC+%EA%B4%91%EC%95%88%EB%A6%AC&tz=420'}, {'query': '드론 쇼', 'value': '38', 'extracted_value': 38, 'link': 'https://trends.google.com/trends/explore?q=%EB%93%9C%EB%A1%A0+%EC%87%BC&date=today+12-m&geo=KR', 'serpapi_link': 'https://serpapi.com/search.json?data_type=RELATED_QUERIES&date=today+12-m&engine=google_trends&geo=KR&hl=ko&q=%EB%93%9C%EB%A1%A0+%EC%87%BC&tz=420'}, {'query': '해운대', 'value': '32', 'extracted_value': 32, 'link': 'https://trends.google.com/trends/explore?q=%ED%95%B4%EC%9A%B4%EB%8C%80&date=today+12-m&geo=KR', 'serpapi_link': 'https://serpapi.com/search.json?data_type=RELATED_QUERIES&date=today+12-m&engine=google_trends&geo=KR&hl=ko&q=%ED%95%B4%EC%9A%B4%EB%8C%80&tz=420'}, {'query': '광안리 호텔', 'value': '30', 'extracted_value': 30, 'link': 'https://trends.google.com/trends/explore?q=%EA%B4%91%EC%95%88%EB%A6%AC+%ED%98%B8%ED%85%94&date=today+12-m&geo=KR', 'serpapi_link': 'https://serpapi.com/search.json?data_type=RELATED_QUERIES&date=today+12-m&engine=google_trends&geo=KR&hl=ko&q=%EA%B4%91%EC%95%88%EB%A6%AC+%ED%98%B8%ED%85%94&tz=420'}, {'query': '광안리 축제', 'value': '29', 'extracted_value': 29, 'link': 'https://trends.google.com/trends/explore?q=%EA%B4%91%EC%95%88%EB%A6%AC+%EC%B6%95%EC%A0%9C&date=today+12-m&geo=KR', 'serpapi_link': 'https://serpapi.com/search.json?data_type=RELATED_QUERIES&date=today+12-m&engine=google_trends&geo=KR&hl=ko&q=%EA%B4%91%EC%95%88%EB%A6%AC+%EC%B6%95%EC%A0%9C&tz=420'}, {'query': '광안리 불꽃', 'value': '23', 'extracted_value': 23, 'link': 'https://trends.google.com/trends/explore?q=%EA%B4%91%EC%95%88%EB%A6%AC+%EB%B6%88%EA%BD%83&date=today+12-m&geo=KR', 'serpapi_link': 'https://serpapi.com/search.json?data_type=RELATED_QUERIES&date=today+12-m&engine=google_trends&geo=KR&hl=ko&q=%EA%B4%91%EC%95%88%EB%A6%AC+%EB%B6%88%EA%BD%83&tz=420'}, {'query': '광안리 해수욕장', 'value': '22', 'extracted_value': 22, 'link': 'https://trends.google.com/trends/explore?q=%EA%B4%91%EC%95%88%EB%A6%AC+%ED%95%B4%EC%88%98%EC%9A%95%EC%9E%A5&date=today+12-m&geo=KR', 'serpapi_link': 'https://serpapi.com/search.json?data_type=RELATED_QUERIES&date=today+12-m&engine=google_trends&geo=KR&hl=ko&q=%EA%B4%91%EC%95%88%EB%A6%AC+%ED%95%B4%EC%88%98%EC%9A%95%EC%9E%A5&tz=420'}, {'query': '광안리 불꽃 축제', 'value': '21', 'extracted_value': 21, 'link': 'https://trends.google.com/trends/explore?q=%EA%B4%91%EC%95%88%EB%A6%AC+%EB%B6%88%EA%BD%83+%EC%B6%95%EC%A0%9C&date=today+12-m&geo=KR', 'serpapi_link': 'https://serpapi.com/search.json?data_type=RELATED_QUERIES&date=today+12-m&engine=google_trends&geo=KR&hl=ko&q=%EA%B4%91%EC%95%88%EB%A6%AC+%EB%B6%88%EA%BD%83+%EC%B6%95%EC%A0%9C&tz=420'}, {'query': '광안리 카페', 'value': '19', 'extracted_value': 19, 'link': 'https://trends.google.com/trends/explore?q=%EA%B4%91%EC%95%88%EB%A6%AC+%EC%B9%B4%ED%8E%98&date=today+12-m&geo=KR', 'serpapi_link': 'https://serpapi.com/search.json?data_type=RELATED_QUERIES&date=today+12-m&engine=google_trends&geo=KR&hl=ko&q=%EA%B4%91%EC%95%88%EB%A6%AC+%EC%B9%B4%ED%8E%98&tz=420'}, {'query': '광안리 놀거리', 'value': '17', 'extracted_value': 17, 'link': 'https://trends.google.com/trends/explore?q=%EA%B4%91%EC%95%88%EB%A6%AC+%EB%86%80%EA%B1%B0%EB%A6%AC&date=today+12-m&geo=KR', 'serpapi_link': 'https://serpapi.com/search.json?data_type=RELATED_QUERIES&date=today+12-m&engine=google_trends&geo=KR&hl=ko&q=%EA%B4%91%EC%95%88%EB%A6%AC+%EB%86%80%EA%B1%B0%EB%A6%AC&tz=420'}, {'query': '부산 해운대', 'value': '16', 'extracted_value': 16, 'link': 'https://trends.google.com/trends/explore?q=%EB%B6%80%EC%82%B0+%ED%95%B4%EC%9A%B4%EB%8C%80&date=today+12-m&geo=KR', 'serpapi_link': 'https://serpapi.com/search.json?data_type=RELATED_QUERIES&date=today+12-m&engine=google_trends&geo=KR&hl=ko&q=%EB%B6%80%EC%82%B0+%ED%95%B4%EC%9A%B4%EB%8C%80&tz=420'}, {'query': '부산 광안리 맛집', 'value': '15', 'extracted_value': 15, 'link': 'https://trends.google.com/trends/explore?q=%EB%B6%80%EC%82%B0+%EA%B4%91%EC%95%88%EB%A6%AC+%EB%A7%9B%EC%A7%91&date=today+12-m&geo=KR', 'serpapi_link': 'https://serpapi.com/search.json?data_type=RELATED_QUERIES&date=today+12-m&engine=google_trends&geo=KR&hl=ko&q=%EB%B6%80%EC%82%B0+%EA%B4%91%EC%95%88%EB%A6%AC+%EB%A7%9B%EC%A7%91&tz=420'}, {'query': '부산 맛집', 'value': '15', 'extracted_value': 15, 'link': 'https://trends.google.com/trends/explore?q=%EB%B6%80%EC%82%B0+%EB%A7%9B%EC%A7%91&date=today+12-m&geo=KR', 'serpapi_link': 'https://serpapi.com/search.json?data_type=RELATED_QUERIES&date=today+12-m&engine=google_trends&geo=KR&hl=ko&q=%EB%B6%80%EC%82%B0+%EB%A7%9B%EC%A7%91&tz=420'}, {'query': '광안리 횟집', 'value': '14', 'extracted_value': 14, 'link': 'https://trends.google.com/trends/explore?q=%EA%B4%91%EC%95%88%EB%A6%AC+%ED%9A%9F%EC%A7%91&date=today+12-m&geo=KR', 'serpapi_link': 'https://serpapi.com/search.json?data_type=RELATED_QUERIES&date=today+12-m&engine=google_trends&geo=KR&hl=ko&q=%EA%B4%91%EC%95%88%EB%A6%AC+%ED%9A%9F%EC%A7%91&tz=420'}, {'query': '서면', 'value': '12', 'extracted_value': 12, 'link': 'https://trends.google.com/trends/explore?q=%EC%84%9C%EB%A9%B4&date=today+12-m&geo=KR', 'serpapi_link': 'https://serpapi.com/search.json?data_type=RELATED_QUERIES&date=today+12-m&engine=google_trends&geo=KR&hl=ko&q=%EC%84%9C%EB%A9%B4&tz=420'}, {'query': '광안리 숙소', 'value': '11', 'extracted_value': 11, 'link': 'https://trends.google.com/trends/explore?q=%EA%B4%91%EC%95%88%EB%A6%AC+%EC%88%99%EC%86%8C&date=today+12-m&geo=KR', 'serpapi_link': 'https://serpapi.com/search.json?data_type=RELATED_QUERIES&date=today+12-m&engine=google_trends&geo=KR&hl=ko&q=%EA%B4%91%EC%95%88%EB%A6%AC+%EC%88%99%EC%86%8C&tz=420'}, {'query': '부산 광안리 호텔', 'value': '9', 'extracted_value': 9, 'link': 'https://trends.google.com/trends/explore?q=%EB%B6%80%EC%82%B0+%EA%B4%91%EC%95%88%EB%A6%AC+%ED%98%B8%ED%85%94&date=today+12-m&geo=KR', 'serpapi_link': 'https://serpapi.com/search.json?data_type=RELATED_QUERIES&date=today+12-m&engine=google_trends&geo=KR&hl=ko&q=%EB%B6%80%EC%82%B0+%EA%B4%91%EC%95%88%EB%A6%AC+%ED%98%B8%ED%85%94&tz=420'}, {'query': '광안리 날씨', 'value': '9', 'extracted_value': 9, 'link': 'https://trends.google.com/trends/explore?q=%EA%B4%91%EC%95%88%EB%A6%AC+%EB%82%A0%EC%94%A8&date=today+12-m&geo=KR', 'serpapi_link': 'https://serpapi.com/search.json?data_type=RELATED_QUERIES&date=today+12-m&engine=google_trends&geo=KR&hl=ko&q=%EA%B4%91%EC%95%88%EB%A6%AC+%EB%82%A0%EC%94%A8&tz=420'}, {'query': '부산 호텔', 'value': '9', 'extracted_value': 9, 'link': 'https://trends.google.com/trends/explore?q=%EB%B6%80%EC%82%B0+%ED%98%B8%ED%85%94&date=today+12-m&geo=KR', 'serpapi_link': 'https://serpapi.com/search.json?data_type=RELATED_QUERIES&date=today+12-m&engine=google_trends&geo=KR&hl=ko&q=%EB%B6%80%EC%82%B0+%ED%98%B8%ED%85%94&tz=420'}, {'query': '부산 광안리 놀거리', 'value': '8', 'extracted_value': 8, 'link': 'https://trends.google.com/trends/explore?q=%EB%B6%80%EC%82%B0+%EA%B4%91%EC%95%88%EB%A6%AC+%EB%86%80%EA%B1%B0%EB%A6%AC&date=today+12-m&geo=KR', 'serpapi_link': 'https://serpapi.com/search.json?data_type=RELATED_QUERIES&date=today+12-m&engine=google_trends&geo=KR&hl=ko&q=%EB%B6%80%EC%82%B0+%EA%B4%91%EC%95%88%EB%A6%AC+%EB%86%80%EA%B1%B0%EB%A6%AC&tz=420'}, {'query': '부산 놀거리', 'value': '8', 'extracted_value': 8, 'link': 'https://trends.google.com/trends/explore?q=%EB%B6%80%EC%82%B0+%EB%86%80%EA%B1%B0%EB%A6%AC&date=today+12-m&geo=KR', 'serpapi_link': 'https://serpapi.com/search.json?data_type=RELATED_QUERIES&date=today+12-m&engine=google_trends&geo=KR&hl=ko&q=%EB%B6%80%EC%82%B0+%EB%86%80%EA%B1%B0%EB%A6%AC&tz=420'}]}"
      ]
     },
     "execution_count": 200,
     "metadata": {},
     "output_type": "execute_result"
    }
   ],
   "source": [
    "related_queries"
   ]
  },
  {
   "cell_type": "code",
   "execution_count": 232,
   "metadata": {},
   "outputs": [
    {
     "data": {
      "text/plain": [
       "{'query': '부산 광안리', 'value': '100', 'extracted_value': 100, 'link': 'https://trends.google.com/trends/explore?q=%EB%B6%80%EC%82%B0+%EA%B4%91%EC%95%88%EB%A6%AC&date=now+1-d&geo=KR', 'serpapi_link': 'https://serpapi.com/search.json?data_type=RELATED_QUERIES&date=now+1-d&engine=google_trends&geo=KR&hl=ko&q=%EB%B6%80%EC%82%B0+%EA%B4%91%EC%95%88%EB%A6%AC&tz=420'}"
      ]
     },
     "execution_count": 232,
     "metadata": {},
     "output_type": "execute_result"
    }
   ],
   "source": [
    "related_queries[\"top\"][0]"
   ]
  },
  {
   "cell_type": "code",
   "execution_count": 217,
   "metadata": {},
   "outputs": [
    {
     "data": {
      "text/html": [
       "<div>\n",
       "<style scoped>\n",
       "    .dataframe tbody tr th:only-of-type {\n",
       "        vertical-align: middle;\n",
       "    }\n",
       "\n",
       "    .dataframe tbody tr th {\n",
       "        vertical-align: top;\n",
       "    }\n",
       "\n",
       "    .dataframe thead th {\n",
       "        text-align: right;\n",
       "    }\n",
       "</style>\n",
       "<table border=\"1\" class=\"dataframe\">\n",
       "  <thead>\n",
       "    <tr style=\"text-align: right;\">\n",
       "      <th></th>\n",
       "      <th>query</th>\n",
       "      <th>value</th>\n",
       "      <th>extracted_value</th>\n",
       "      <th>link</th>\n",
       "      <th>serpapi_link</th>\n",
       "    </tr>\n",
       "  </thead>\n",
       "  <tbody>\n",
       "    <tr>\n",
       "      <th>0</th>\n",
       "      <td>부산 광안리</td>\n",
       "      <td>100</td>\n",
       "      <td>100</td>\n",
       "      <td>https://trends.google.com/trends/explore?q=%EB...</td>\n",
       "      <td>https://serpapi.com/search.json?data_type=RELA...</td>\n",
       "    </tr>\n",
       "    <tr>\n",
       "      <th>1</th>\n",
       "      <td>광안리 맛집</td>\n",
       "      <td>44</td>\n",
       "      <td>44</td>\n",
       "      <td>https://trends.google.com/trends/explore?q=%EA...</td>\n",
       "      <td>https://serpapi.com/search.json?data_type=RELA...</td>\n",
       "    </tr>\n",
       "    <tr>\n",
       "      <th>2</th>\n",
       "      <td>광안리 불꽃 축제</td>\n",
       "      <td>34</td>\n",
       "      <td>34</td>\n",
       "      <td>https://trends.google.com/trends/explore?q=%EA...</td>\n",
       "      <td>https://serpapi.com/search.json?data_type=RELA...</td>\n",
       "    </tr>\n",
       "    <tr>\n",
       "      <th>3</th>\n",
       "      <td>광안리 호텔</td>\n",
       "      <td>30</td>\n",
       "      <td>30</td>\n",
       "      <td>https://trends.google.com/trends/explore?q=%EA...</td>\n",
       "      <td>https://serpapi.com/search.json?data_type=RELA...</td>\n",
       "    </tr>\n",
       "    <tr>\n",
       "      <th>4</th>\n",
       "      <td>광안리 드론 쇼</td>\n",
       "      <td>20</td>\n",
       "      <td>20</td>\n",
       "      <td>https://trends.google.com/trends/explore?q=%EA...</td>\n",
       "      <td>https://serpapi.com/search.json?data_type=RELA...</td>\n",
       "    </tr>\n",
       "    <tr>\n",
       "      <th>5</th>\n",
       "      <td>광안리 카페</td>\n",
       "      <td>17</td>\n",
       "      <td>17</td>\n",
       "      <td>https://trends.google.com/trends/explore?q=%EA...</td>\n",
       "      <td>https://serpapi.com/search.json?data_type=RELA...</td>\n",
       "    </tr>\n",
       "    <tr>\n",
       "      <th>6</th>\n",
       "      <td>광안리 횟집</td>\n",
       "      <td>16</td>\n",
       "      <td>16</td>\n",
       "      <td>https://trends.google.com/trends/explore?q=%EA...</td>\n",
       "      <td>https://serpapi.com/search.json?data_type=RELA...</td>\n",
       "    </tr>\n",
       "    <tr>\n",
       "      <th>7</th>\n",
       "      <td>광안리 날씨</td>\n",
       "      <td>14</td>\n",
       "      <td>14</td>\n",
       "      <td>https://trends.google.com/trends/explore?q=%EA...</td>\n",
       "      <td>https://serpapi.com/search.json?data_type=RELA...</td>\n",
       "    </tr>\n",
       "    <tr>\n",
       "      <th>8</th>\n",
       "      <td>광안리 숙소</td>\n",
       "      <td>14</td>\n",
       "      <td>14</td>\n",
       "      <td>https://trends.google.com/trends/explore?q=%EA...</td>\n",
       "      <td>https://serpapi.com/search.json?data_type=RELA...</td>\n",
       "    </tr>\n",
       "    <tr>\n",
       "      <th>9</th>\n",
       "      <td>광안리 놀거리</td>\n",
       "      <td>12</td>\n",
       "      <td>12</td>\n",
       "      <td>https://trends.google.com/trends/explore?q=%EA...</td>\n",
       "      <td>https://serpapi.com/search.json?data_type=RELA...</td>\n",
       "    </tr>\n",
       "    <tr>\n",
       "      <th>10</th>\n",
       "      <td>광안리 출장</td>\n",
       "      <td>4</td>\n",
       "      <td>4</td>\n",
       "      <td>https://trends.google.com/trends/explore?q=%EA...</td>\n",
       "      <td>https://serpapi.com/search.json?data_type=RELA...</td>\n",
       "    </tr>\n",
       "  </tbody>\n",
       "</table>\n",
       "</div>"
      ],
      "text/plain": [
       "        query value  extracted_value  \\\n",
       "0      부산 광안리   100              100   \n",
       "1      광안리 맛집    44               44   \n",
       "2   광안리 불꽃 축제    34               34   \n",
       "3      광안리 호텔    30               30   \n",
       "4    광안리 드론 쇼    20               20   \n",
       "5      광안리 카페    17               17   \n",
       "6      광안리 횟집    16               16   \n",
       "7      광안리 날씨    14               14   \n",
       "8      광안리 숙소    14               14   \n",
       "9     광안리 놀거리    12               12   \n",
       "10     광안리 출장     4                4   \n",
       "\n",
       "                                                 link  \\\n",
       "0   https://trends.google.com/trends/explore?q=%EB...   \n",
       "1   https://trends.google.com/trends/explore?q=%EA...   \n",
       "2   https://trends.google.com/trends/explore?q=%EA...   \n",
       "3   https://trends.google.com/trends/explore?q=%EA...   \n",
       "4   https://trends.google.com/trends/explore?q=%EA...   \n",
       "5   https://trends.google.com/trends/explore?q=%EA...   \n",
       "6   https://trends.google.com/trends/explore?q=%EA...   \n",
       "7   https://trends.google.com/trends/explore?q=%EA...   \n",
       "8   https://trends.google.com/trends/explore?q=%EA...   \n",
       "9   https://trends.google.com/trends/explore?q=%EA...   \n",
       "10  https://trends.google.com/trends/explore?q=%EA...   \n",
       "\n",
       "                                         serpapi_link  \n",
       "0   https://serpapi.com/search.json?data_type=RELA...  \n",
       "1   https://serpapi.com/search.json?data_type=RELA...  \n",
       "2   https://serpapi.com/search.json?data_type=RELA...  \n",
       "3   https://serpapi.com/search.json?data_type=RELA...  \n",
       "4   https://serpapi.com/search.json?data_type=RELA...  \n",
       "5   https://serpapi.com/search.json?data_type=RELA...  \n",
       "6   https://serpapi.com/search.json?data_type=RELA...  \n",
       "7   https://serpapi.com/search.json?data_type=RELA...  \n",
       "8   https://serpapi.com/search.json?data_type=RELA...  \n",
       "9   https://serpapi.com/search.json?data_type=RELA...  \n",
       "10  https://serpapi.com/search.json?data_type=RELA...  "
      ]
     },
     "execution_count": 217,
     "metadata": {},
     "output_type": "execute_result"
    }
   ],
   "source": [
    "top_df = pd.DataFrame(related_queries[\"top\"])\n",
    "top_df"
   ]
  },
  {
   "cell_type": "code",
   "execution_count": 218,
   "metadata": {},
   "outputs": [
    {
     "data": {
      "text/html": [
       "<div>\n",
       "<style scoped>\n",
       "    .dataframe tbody tr th:only-of-type {\n",
       "        vertical-align: middle;\n",
       "    }\n",
       "\n",
       "    .dataframe tbody tr th {\n",
       "        vertical-align: top;\n",
       "    }\n",
       "\n",
       "    .dataframe thead th {\n",
       "        text-align: right;\n",
       "    }\n",
       "</style>\n",
       "<table border=\"1\" class=\"dataframe\">\n",
       "  <thead>\n",
       "    <tr style=\"text-align: right;\">\n",
       "      <th></th>\n",
       "      <th>query</th>\n",
       "      <th>value</th>\n",
       "      <th>extracted_value</th>\n",
       "      <th>link</th>\n",
       "      <th>serpapi_link</th>\n",
       "    </tr>\n",
       "  </thead>\n",
       "  <tbody>\n",
       "    <tr>\n",
       "      <th>0</th>\n",
       "      <td>광안리 출장</td>\n",
       "      <td>급등</td>\n",
       "      <td>84250</td>\n",
       "      <td>https://trends.google.com/trends/explore?q=%EA...</td>\n",
       "      <td>https://serpapi.com/search.json?data_type=RELA...</td>\n",
       "    </tr>\n",
       "    <tr>\n",
       "      <th>1</th>\n",
       "      <td>광안리 불꽃 축제</td>\n",
       "      <td>+200%</td>\n",
       "      <td>200</td>\n",
       "      <td>https://trends.google.com/trends/explore?q=%EA...</td>\n",
       "      <td>https://serpapi.com/search.json?data_type=RELA...</td>\n",
       "    </tr>\n",
       "    <tr>\n",
       "      <th>2</th>\n",
       "      <td>광안리 호텔</td>\n",
       "      <td>+40%</td>\n",
       "      <td>40</td>\n",
       "      <td>https://trends.google.com/trends/explore?q=%EA...</td>\n",
       "      <td>https://serpapi.com/search.json?data_type=RELA...</td>\n",
       "    </tr>\n",
       "    <tr>\n",
       "      <th>3</th>\n",
       "      <td>광안리 숙소</td>\n",
       "      <td>+40%</td>\n",
       "      <td>40</td>\n",
       "      <td>https://trends.google.com/trends/explore?q=%EA...</td>\n",
       "      <td>https://serpapi.com/search.json?data_type=RELA...</td>\n",
       "    </tr>\n",
       "  </tbody>\n",
       "</table>\n",
       "</div>"
      ],
      "text/plain": [
       "       query  value  extracted_value  \\\n",
       "0     광안리 출장     급등            84250   \n",
       "1  광안리 불꽃 축제  +200%              200   \n",
       "2     광안리 호텔   +40%               40   \n",
       "3     광안리 숙소   +40%               40   \n",
       "\n",
       "                                                link  \\\n",
       "0  https://trends.google.com/trends/explore?q=%EA...   \n",
       "1  https://trends.google.com/trends/explore?q=%EA...   \n",
       "2  https://trends.google.com/trends/explore?q=%EA...   \n",
       "3  https://trends.google.com/trends/explore?q=%EA...   \n",
       "\n",
       "                                        serpapi_link  \n",
       "0  https://serpapi.com/search.json?data_type=RELA...  \n",
       "1  https://serpapi.com/search.json?data_type=RELA...  \n",
       "2  https://serpapi.com/search.json?data_type=RELA...  \n",
       "3  https://serpapi.com/search.json?data_type=RELA...  "
      ]
     },
     "execution_count": 218,
     "metadata": {},
     "output_type": "execute_result"
    }
   ],
   "source": [
    "rising_df = pd.DataFrame(related_queries[\"rising\"])\n",
    "rising_df"
   ]
  },
  {
   "cell_type": "code",
   "execution_count": 167,
   "metadata": {},
   "outputs": [
    {
     "data": {
      "text/plain": [
       "'https://serpapi.com/search.json?data_type=RELATED_QUERIES&date=today+12-m&engine=google_trends&hl=en&q=the+coffee&tz=420'"
      ]
     },
     "execution_count": 167,
     "metadata": {},
     "output_type": "execute_result"
    }
   ],
   "source": [
    "top_df[\"serpapi_link\"][0]"
   ]
  },
  {
   "cell_type": "code",
   "execution_count": 168,
   "metadata": {},
   "outputs": [
    {
     "data": {
      "text/plain": [
       "'https://serpapi.com/search.json?data_type=RELATED_QUERIES&date=today+12-m&engine=google_trends&hl=en&q=coffee+shop&tz=420'"
      ]
     },
     "execution_count": 168,
     "metadata": {},
     "output_type": "execute_result"
    }
   ],
   "source": [
    "top_df[\"serpapi_link\"][1]"
   ]
  },
  {
   "cell_type": "code",
   "execution_count": 251,
   "metadata": {},
   "outputs": [
    {
     "data": {
      "text/html": [
       "<div>\n",
       "<style scoped>\n",
       "    .dataframe tbody tr th:only-of-type {\n",
       "        vertical-align: middle;\n",
       "    }\n",
       "\n",
       "    .dataframe tbody tr th {\n",
       "        vertical-align: top;\n",
       "    }\n",
       "\n",
       "    .dataframe thead th {\n",
       "        text-align: right;\n",
       "    }\n",
       "</style>\n",
       "<table border=\"1\" class=\"dataframe\">\n",
       "  <thead>\n",
       "    <tr style=\"text-align: right;\">\n",
       "      <th></th>\n",
       "      <th>query</th>\n",
       "      <th>value</th>\n",
       "      <th>extracted_value</th>\n",
       "      <th>link</th>\n",
       "      <th>serpapi_link</th>\n",
       "    </tr>\n",
       "  </thead>\n",
       "  <tbody>\n",
       "    <tr>\n",
       "      <th>0</th>\n",
       "      <td>부산 광안리</td>\n",
       "      <td>100</td>\n",
       "      <td>100</td>\n",
       "      <td>https://trends.google.com/trends/explore?q=%EB...</td>\n",
       "      <td>https://serpapi.com/search.json?data_type=RELA...</td>\n",
       "    </tr>\n",
       "    <tr>\n",
       "      <th>1</th>\n",
       "      <td>광안리 맛집</td>\n",
       "      <td>44</td>\n",
       "      <td>44</td>\n",
       "      <td>https://trends.google.com/trends/explore?q=%EA...</td>\n",
       "      <td>https://serpapi.com/search.json?data_type=RELA...</td>\n",
       "    </tr>\n",
       "    <tr>\n",
       "      <th>2</th>\n",
       "      <td>광안리 불꽃 축제</td>\n",
       "      <td>34</td>\n",
       "      <td>34</td>\n",
       "      <td>https://trends.google.com/trends/explore?q=%EA...</td>\n",
       "      <td>https://serpapi.com/search.json?data_type=RELA...</td>\n",
       "    </tr>\n",
       "    <tr>\n",
       "      <th>3</th>\n",
       "      <td>광안리 호텔</td>\n",
       "      <td>30</td>\n",
       "      <td>30</td>\n",
       "      <td>https://trends.google.com/trends/explore?q=%EA...</td>\n",
       "      <td>https://serpapi.com/search.json?data_type=RELA...</td>\n",
       "    </tr>\n",
       "    <tr>\n",
       "      <th>4</th>\n",
       "      <td>광안리 드론 쇼</td>\n",
       "      <td>20</td>\n",
       "      <td>20</td>\n",
       "      <td>https://trends.google.com/trends/explore?q=%EA...</td>\n",
       "      <td>https://serpapi.com/search.json?data_type=RELA...</td>\n",
       "    </tr>\n",
       "    <tr>\n",
       "      <th>5</th>\n",
       "      <td>광안리 카페</td>\n",
       "      <td>17</td>\n",
       "      <td>17</td>\n",
       "      <td>https://trends.google.com/trends/explore?q=%EA...</td>\n",
       "      <td>https://serpapi.com/search.json?data_type=RELA...</td>\n",
       "    </tr>\n",
       "    <tr>\n",
       "      <th>6</th>\n",
       "      <td>광안리 횟집</td>\n",
       "      <td>16</td>\n",
       "      <td>16</td>\n",
       "      <td>https://trends.google.com/trends/explore?q=%EA...</td>\n",
       "      <td>https://serpapi.com/search.json?data_type=RELA...</td>\n",
       "    </tr>\n",
       "    <tr>\n",
       "      <th>7</th>\n",
       "      <td>광안리 날씨</td>\n",
       "      <td>14</td>\n",
       "      <td>14</td>\n",
       "      <td>https://trends.google.com/trends/explore?q=%EA...</td>\n",
       "      <td>https://serpapi.com/search.json?data_type=RELA...</td>\n",
       "    </tr>\n",
       "    <tr>\n",
       "      <th>8</th>\n",
       "      <td>광안리 숙소</td>\n",
       "      <td>14</td>\n",
       "      <td>14</td>\n",
       "      <td>https://trends.google.com/trends/explore?q=%EA...</td>\n",
       "      <td>https://serpapi.com/search.json?data_type=RELA...</td>\n",
       "    </tr>\n",
       "    <tr>\n",
       "      <th>9</th>\n",
       "      <td>광안리 놀거리</td>\n",
       "      <td>12</td>\n",
       "      <td>12</td>\n",
       "      <td>https://trends.google.com/trends/explore?q=%EA...</td>\n",
       "      <td>https://serpapi.com/search.json?data_type=RELA...</td>\n",
       "    </tr>\n",
       "    <tr>\n",
       "      <th>10</th>\n",
       "      <td>광안리 출장</td>\n",
       "      <td>4</td>\n",
       "      <td>4</td>\n",
       "      <td>https://trends.google.com/trends/explore?q=%EA...</td>\n",
       "      <td>https://serpapi.com/search.json?data_type=RELA...</td>\n",
       "    </tr>\n",
       "  </tbody>\n",
       "</table>\n",
       "</div>"
      ],
      "text/plain": [
       "        query value  extracted_value  \\\n",
       "0      부산 광안리   100              100   \n",
       "1      광안리 맛집    44               44   \n",
       "2   광안리 불꽃 축제    34               34   \n",
       "3      광안리 호텔    30               30   \n",
       "4    광안리 드론 쇼    20               20   \n",
       "5      광안리 카페    17               17   \n",
       "6      광안리 횟집    16               16   \n",
       "7      광안리 날씨    14               14   \n",
       "8      광안리 숙소    14               14   \n",
       "9     광안리 놀거리    12               12   \n",
       "10     광안리 출장     4                4   \n",
       "\n",
       "                                                 link  \\\n",
       "0   https://trends.google.com/trends/explore?q=%EB...   \n",
       "1   https://trends.google.com/trends/explore?q=%EA...   \n",
       "2   https://trends.google.com/trends/explore?q=%EA...   \n",
       "3   https://trends.google.com/trends/explore?q=%EA...   \n",
       "4   https://trends.google.com/trends/explore?q=%EA...   \n",
       "5   https://trends.google.com/trends/explore?q=%EA...   \n",
       "6   https://trends.google.com/trends/explore?q=%EA...   \n",
       "7   https://trends.google.com/trends/explore?q=%EA...   \n",
       "8   https://trends.google.com/trends/explore?q=%EA...   \n",
       "9   https://trends.google.com/trends/explore?q=%EA...   \n",
       "10  https://trends.google.com/trends/explore?q=%EA...   \n",
       "\n",
       "                                         serpapi_link  \n",
       "0   https://serpapi.com/search.json?data_type=RELA...  \n",
       "1   https://serpapi.com/search.json?data_type=RELA...  \n",
       "2   https://serpapi.com/search.json?data_type=RELA...  \n",
       "3   https://serpapi.com/search.json?data_type=RELA...  \n",
       "4   https://serpapi.com/search.json?data_type=RELA...  \n",
       "5   https://serpapi.com/search.json?data_type=RELA...  \n",
       "6   https://serpapi.com/search.json?data_type=RELA...  \n",
       "7   https://serpapi.com/search.json?data_type=RELA...  \n",
       "8   https://serpapi.com/search.json?data_type=RELA...  \n",
       "9   https://serpapi.com/search.json?data_type=RELA...  \n",
       "10  https://serpapi.com/search.json?data_type=RELA...  "
      ]
     },
     "execution_count": 251,
     "metadata": {},
     "output_type": "execute_result"
    }
   ],
   "source": [
    "top_df"
   ]
  },
  {
   "cell_type": "code",
   "execution_count": 255,
   "metadata": {},
   "outputs": [
    {
     "data": {
      "application/vnd.plotly.v1+json": {
       "config": {
        "plotlyServerURL": "https://plot.ly"
       },
       "data": [
        {
         "alignmentgroup": "True",
         "hovertemplate": "query=%{x}<br>extracted_value=%{y}<extra></extra>",
         "legendgroup": "",
         "marker": {
          "color": "#636efa",
          "pattern": {
           "shape": ""
          }
         },
         "name": "",
         "offsetgroup": "",
         "orientation": "v",
         "showlegend": false,
         "textposition": "auto",
         "type": "bar",
         "x": [
          "부산 광안리",
          "광안리 맛집",
          "광안리 불꽃 축제",
          "광안리 호텔",
          "광안리 드론 쇼",
          "광안리 카페",
          "광안리 횟집",
          "광안리 날씨",
          "광안리 숙소",
          "광안리 놀거리",
          "광안리 출장"
         ],
         "xaxis": "x",
         "y": [
          100,
          44,
          34,
          30,
          20,
          17,
          16,
          14,
          14,
          12,
          4
         ],
         "yaxis": "y"
        }
       ],
       "layout": {
        "barmode": "relative",
        "legend": {
         "tracegroupgap": 0
        },
        "template": {
         "data": {
          "bar": [
           {
            "error_x": {
             "color": "#2a3f5f"
            },
            "error_y": {
             "color": "#2a3f5f"
            },
            "marker": {
             "line": {
              "color": "#E5ECF6",
              "width": 0.5
             },
             "pattern": {
              "fillmode": "overlay",
              "size": 10,
              "solidity": 0.2
             }
            },
            "type": "bar"
           }
          ],
          "barpolar": [
           {
            "marker": {
             "line": {
              "color": "#E5ECF6",
              "width": 0.5
             },
             "pattern": {
              "fillmode": "overlay",
              "size": 10,
              "solidity": 0.2
             }
            },
            "type": "barpolar"
           }
          ],
          "carpet": [
           {
            "aaxis": {
             "endlinecolor": "#2a3f5f",
             "gridcolor": "white",
             "linecolor": "white",
             "minorgridcolor": "white",
             "startlinecolor": "#2a3f5f"
            },
            "baxis": {
             "endlinecolor": "#2a3f5f",
             "gridcolor": "white",
             "linecolor": "white",
             "minorgridcolor": "white",
             "startlinecolor": "#2a3f5f"
            },
            "type": "carpet"
           }
          ],
          "choropleth": [
           {
            "colorbar": {
             "outlinewidth": 0,
             "ticks": ""
            },
            "type": "choropleth"
           }
          ],
          "contour": [
           {
            "colorbar": {
             "outlinewidth": 0,
             "ticks": ""
            },
            "colorscale": [
             [
              0,
              "#0d0887"
             ],
             [
              0.1111111111111111,
              "#46039f"
             ],
             [
              0.2222222222222222,
              "#7201a8"
             ],
             [
              0.3333333333333333,
              "#9c179e"
             ],
             [
              0.4444444444444444,
              "#bd3786"
             ],
             [
              0.5555555555555556,
              "#d8576b"
             ],
             [
              0.6666666666666666,
              "#ed7953"
             ],
             [
              0.7777777777777778,
              "#fb9f3a"
             ],
             [
              0.8888888888888888,
              "#fdca26"
             ],
             [
              1,
              "#f0f921"
             ]
            ],
            "type": "contour"
           }
          ],
          "contourcarpet": [
           {
            "colorbar": {
             "outlinewidth": 0,
             "ticks": ""
            },
            "type": "contourcarpet"
           }
          ],
          "heatmap": [
           {
            "colorbar": {
             "outlinewidth": 0,
             "ticks": ""
            },
            "colorscale": [
             [
              0,
              "#0d0887"
             ],
             [
              0.1111111111111111,
              "#46039f"
             ],
             [
              0.2222222222222222,
              "#7201a8"
             ],
             [
              0.3333333333333333,
              "#9c179e"
             ],
             [
              0.4444444444444444,
              "#bd3786"
             ],
             [
              0.5555555555555556,
              "#d8576b"
             ],
             [
              0.6666666666666666,
              "#ed7953"
             ],
             [
              0.7777777777777778,
              "#fb9f3a"
             ],
             [
              0.8888888888888888,
              "#fdca26"
             ],
             [
              1,
              "#f0f921"
             ]
            ],
            "type": "heatmap"
           }
          ],
          "heatmapgl": [
           {
            "colorbar": {
             "outlinewidth": 0,
             "ticks": ""
            },
            "colorscale": [
             [
              0,
              "#0d0887"
             ],
             [
              0.1111111111111111,
              "#46039f"
             ],
             [
              0.2222222222222222,
              "#7201a8"
             ],
             [
              0.3333333333333333,
              "#9c179e"
             ],
             [
              0.4444444444444444,
              "#bd3786"
             ],
             [
              0.5555555555555556,
              "#d8576b"
             ],
             [
              0.6666666666666666,
              "#ed7953"
             ],
             [
              0.7777777777777778,
              "#fb9f3a"
             ],
             [
              0.8888888888888888,
              "#fdca26"
             ],
             [
              1,
              "#f0f921"
             ]
            ],
            "type": "heatmapgl"
           }
          ],
          "histogram": [
           {
            "marker": {
             "pattern": {
              "fillmode": "overlay",
              "size": 10,
              "solidity": 0.2
             }
            },
            "type": "histogram"
           }
          ],
          "histogram2d": [
           {
            "colorbar": {
             "outlinewidth": 0,
             "ticks": ""
            },
            "colorscale": [
             [
              0,
              "#0d0887"
             ],
             [
              0.1111111111111111,
              "#46039f"
             ],
             [
              0.2222222222222222,
              "#7201a8"
             ],
             [
              0.3333333333333333,
              "#9c179e"
             ],
             [
              0.4444444444444444,
              "#bd3786"
             ],
             [
              0.5555555555555556,
              "#d8576b"
             ],
             [
              0.6666666666666666,
              "#ed7953"
             ],
             [
              0.7777777777777778,
              "#fb9f3a"
             ],
             [
              0.8888888888888888,
              "#fdca26"
             ],
             [
              1,
              "#f0f921"
             ]
            ],
            "type": "histogram2d"
           }
          ],
          "histogram2dcontour": [
           {
            "colorbar": {
             "outlinewidth": 0,
             "ticks": ""
            },
            "colorscale": [
             [
              0,
              "#0d0887"
             ],
             [
              0.1111111111111111,
              "#46039f"
             ],
             [
              0.2222222222222222,
              "#7201a8"
             ],
             [
              0.3333333333333333,
              "#9c179e"
             ],
             [
              0.4444444444444444,
              "#bd3786"
             ],
             [
              0.5555555555555556,
              "#d8576b"
             ],
             [
              0.6666666666666666,
              "#ed7953"
             ],
             [
              0.7777777777777778,
              "#fb9f3a"
             ],
             [
              0.8888888888888888,
              "#fdca26"
             ],
             [
              1,
              "#f0f921"
             ]
            ],
            "type": "histogram2dcontour"
           }
          ],
          "mesh3d": [
           {
            "colorbar": {
             "outlinewidth": 0,
             "ticks": ""
            },
            "type": "mesh3d"
           }
          ],
          "parcoords": [
           {
            "line": {
             "colorbar": {
              "outlinewidth": 0,
              "ticks": ""
             }
            },
            "type": "parcoords"
           }
          ],
          "pie": [
           {
            "automargin": true,
            "type": "pie"
           }
          ],
          "scatter": [
           {
            "fillpattern": {
             "fillmode": "overlay",
             "size": 10,
             "solidity": 0.2
            },
            "type": "scatter"
           }
          ],
          "scatter3d": [
           {
            "line": {
             "colorbar": {
              "outlinewidth": 0,
              "ticks": ""
             }
            },
            "marker": {
             "colorbar": {
              "outlinewidth": 0,
              "ticks": ""
             }
            },
            "type": "scatter3d"
           }
          ],
          "scattercarpet": [
           {
            "marker": {
             "colorbar": {
              "outlinewidth": 0,
              "ticks": ""
             }
            },
            "type": "scattercarpet"
           }
          ],
          "scattergeo": [
           {
            "marker": {
             "colorbar": {
              "outlinewidth": 0,
              "ticks": ""
             }
            },
            "type": "scattergeo"
           }
          ],
          "scattergl": [
           {
            "marker": {
             "colorbar": {
              "outlinewidth": 0,
              "ticks": ""
             }
            },
            "type": "scattergl"
           }
          ],
          "scattermapbox": [
           {
            "marker": {
             "colorbar": {
              "outlinewidth": 0,
              "ticks": ""
             }
            },
            "type": "scattermapbox"
           }
          ],
          "scatterpolar": [
           {
            "marker": {
             "colorbar": {
              "outlinewidth": 0,
              "ticks": ""
             }
            },
            "type": "scatterpolar"
           }
          ],
          "scatterpolargl": [
           {
            "marker": {
             "colorbar": {
              "outlinewidth": 0,
              "ticks": ""
             }
            },
            "type": "scatterpolargl"
           }
          ],
          "scatterternary": [
           {
            "marker": {
             "colorbar": {
              "outlinewidth": 0,
              "ticks": ""
             }
            },
            "type": "scatterternary"
           }
          ],
          "surface": [
           {
            "colorbar": {
             "outlinewidth": 0,
             "ticks": ""
            },
            "colorscale": [
             [
              0,
              "#0d0887"
             ],
             [
              0.1111111111111111,
              "#46039f"
             ],
             [
              0.2222222222222222,
              "#7201a8"
             ],
             [
              0.3333333333333333,
              "#9c179e"
             ],
             [
              0.4444444444444444,
              "#bd3786"
             ],
             [
              0.5555555555555556,
              "#d8576b"
             ],
             [
              0.6666666666666666,
              "#ed7953"
             ],
             [
              0.7777777777777778,
              "#fb9f3a"
             ],
             [
              0.8888888888888888,
              "#fdca26"
             ],
             [
              1,
              "#f0f921"
             ]
            ],
            "type": "surface"
           }
          ],
          "table": [
           {
            "cells": {
             "fill": {
              "color": "#EBF0F8"
             },
             "line": {
              "color": "white"
             }
            },
            "header": {
             "fill": {
              "color": "#C8D4E3"
             },
             "line": {
              "color": "white"
             }
            },
            "type": "table"
           }
          ]
         },
         "layout": {
          "annotationdefaults": {
           "arrowcolor": "#2a3f5f",
           "arrowhead": 0,
           "arrowwidth": 1
          },
          "autotypenumbers": "strict",
          "coloraxis": {
           "colorbar": {
            "outlinewidth": 0,
            "ticks": ""
           }
          },
          "colorscale": {
           "diverging": [
            [
             0,
             "#8e0152"
            ],
            [
             0.1,
             "#c51b7d"
            ],
            [
             0.2,
             "#de77ae"
            ],
            [
             0.3,
             "#f1b6da"
            ],
            [
             0.4,
             "#fde0ef"
            ],
            [
             0.5,
             "#f7f7f7"
            ],
            [
             0.6,
             "#e6f5d0"
            ],
            [
             0.7,
             "#b8e186"
            ],
            [
             0.8,
             "#7fbc41"
            ],
            [
             0.9,
             "#4d9221"
            ],
            [
             1,
             "#276419"
            ]
           ],
           "sequential": [
            [
             0,
             "#0d0887"
            ],
            [
             0.1111111111111111,
             "#46039f"
            ],
            [
             0.2222222222222222,
             "#7201a8"
            ],
            [
             0.3333333333333333,
             "#9c179e"
            ],
            [
             0.4444444444444444,
             "#bd3786"
            ],
            [
             0.5555555555555556,
             "#d8576b"
            ],
            [
             0.6666666666666666,
             "#ed7953"
            ],
            [
             0.7777777777777778,
             "#fb9f3a"
            ],
            [
             0.8888888888888888,
             "#fdca26"
            ],
            [
             1,
             "#f0f921"
            ]
           ],
           "sequentialminus": [
            [
             0,
             "#0d0887"
            ],
            [
             0.1111111111111111,
             "#46039f"
            ],
            [
             0.2222222222222222,
             "#7201a8"
            ],
            [
             0.3333333333333333,
             "#9c179e"
            ],
            [
             0.4444444444444444,
             "#bd3786"
            ],
            [
             0.5555555555555556,
             "#d8576b"
            ],
            [
             0.6666666666666666,
             "#ed7953"
            ],
            [
             0.7777777777777778,
             "#fb9f3a"
            ],
            [
             0.8888888888888888,
             "#fdca26"
            ],
            [
             1,
             "#f0f921"
            ]
           ]
          },
          "colorway": [
           "#636efa",
           "#EF553B",
           "#00cc96",
           "#ab63fa",
           "#FFA15A",
           "#19d3f3",
           "#FF6692",
           "#B6E880",
           "#FF97FF",
           "#FECB52"
          ],
          "font": {
           "color": "#2a3f5f"
          },
          "geo": {
           "bgcolor": "white",
           "lakecolor": "white",
           "landcolor": "#E5ECF6",
           "showlakes": true,
           "showland": true,
           "subunitcolor": "white"
          },
          "hoverlabel": {
           "align": "left"
          },
          "hovermode": "closest",
          "mapbox": {
           "style": "light"
          },
          "paper_bgcolor": "white",
          "plot_bgcolor": "#E5ECF6",
          "polar": {
           "angularaxis": {
            "gridcolor": "white",
            "linecolor": "white",
            "ticks": ""
           },
           "bgcolor": "#E5ECF6",
           "radialaxis": {
            "gridcolor": "white",
            "linecolor": "white",
            "ticks": ""
           }
          },
          "scene": {
           "xaxis": {
            "backgroundcolor": "#E5ECF6",
            "gridcolor": "white",
            "gridwidth": 2,
            "linecolor": "white",
            "showbackground": true,
            "ticks": "",
            "zerolinecolor": "white"
           },
           "yaxis": {
            "backgroundcolor": "#E5ECF6",
            "gridcolor": "white",
            "gridwidth": 2,
            "linecolor": "white",
            "showbackground": true,
            "ticks": "",
            "zerolinecolor": "white"
           },
           "zaxis": {
            "backgroundcolor": "#E5ECF6",
            "gridcolor": "white",
            "gridwidth": 2,
            "linecolor": "white",
            "showbackground": true,
            "ticks": "",
            "zerolinecolor": "white"
           }
          },
          "shapedefaults": {
           "line": {
            "color": "#2a3f5f"
           }
          },
          "ternary": {
           "aaxis": {
            "gridcolor": "white",
            "linecolor": "white",
            "ticks": ""
           },
           "baxis": {
            "gridcolor": "white",
            "linecolor": "white",
            "ticks": ""
           },
           "bgcolor": "#E5ECF6",
           "caxis": {
            "gridcolor": "white",
            "linecolor": "white",
            "ticks": ""
           }
          },
          "title": {
           "x": 0.05
          },
          "xaxis": {
           "automargin": true,
           "gridcolor": "white",
           "linecolor": "white",
           "ticks": "",
           "title": {
            "standoff": 15
           },
           "zerolinecolor": "white",
           "zerolinewidth": 2
          },
          "yaxis": {
           "automargin": true,
           "gridcolor": "white",
           "linecolor": "white",
           "ticks": "",
           "title": {
            "standoff": 15
           },
           "zerolinecolor": "white",
           "zerolinewidth": 2
          }
         }
        },
        "title": {
         "text": "Related Queries"
        },
        "xaxis": {
         "anchor": "y",
         "domain": [
          0,
          1
         ],
         "title": {
          "text": "query"
         }
        },
        "yaxis": {
         "anchor": "x",
         "domain": [
          0,
          1
         ],
         "title": {
          "text": "extracted_value"
         }
        }
       }
      }
     },
     "metadata": {},
     "output_type": "display_data"
    }
   ],
   "source": [
    "# plotly bar chart\n",
    "fig = px.bar(\n",
    "    top_df,\n",
    "    x=\"query\",\n",
    "    y=\"extracted_value\",\n",
    "    title=\"Related Queries\",\n",
    "    # labels={\"value\": \"Query\"},\n",
    ")\n",
    "fig.show()"
   ]
  },
  {
   "cell_type": "code",
   "execution_count": 173,
   "metadata": {},
   "outputs": [
    {
     "name": "stdout",
     "output_type": "stream",
     "text": [
      "       0\n",
      "0    아스날\n",
      "1     이란\n",
      "2   이스라엘\n",
      "3    CNN\n",
      "4  강철부대W\n"
     ]
    }
   ],
   "source": [
    "trending_searches_df = pytrends.trending_searches(pn=\"south_korea\")  # south_korea\n",
    "print(trending_searches_df.head())"
   ]
  },
  {
   "cell_type": "code",
   "execution_count": 174,
   "metadata": {},
   "outputs": [
    {
     "data": {
      "text/html": [
       "<div>\n",
       "<style scoped>\n",
       "    .dataframe tbody tr th:only-of-type {\n",
       "        vertical-align: middle;\n",
       "    }\n",
       "\n",
       "    .dataframe tbody tr th {\n",
       "        vertical-align: top;\n",
       "    }\n",
       "\n",
       "    .dataframe thead th {\n",
       "        text-align: right;\n",
       "    }\n",
       "</style>\n",
       "<table border=\"1\" class=\"dataframe\">\n",
       "  <thead>\n",
       "    <tr style=\"text-align: right;\">\n",
       "      <th></th>\n",
       "      <th>0</th>\n",
       "    </tr>\n",
       "  </thead>\n",
       "  <tbody>\n",
       "    <tr>\n",
       "      <th>0</th>\n",
       "      <td>아스날</td>\n",
       "    </tr>\n",
       "    <tr>\n",
       "      <th>1</th>\n",
       "      <td>이란</td>\n",
       "    </tr>\n",
       "    <tr>\n",
       "      <th>2</th>\n",
       "      <td>이스라엘</td>\n",
       "    </tr>\n",
       "    <tr>\n",
       "      <th>3</th>\n",
       "      <td>CNN</td>\n",
       "    </tr>\n",
       "    <tr>\n",
       "      <th>4</th>\n",
       "      <td>강철부대W</td>\n",
       "    </tr>\n",
       "    <tr>\n",
       "      <th>5</th>\n",
       "      <td>유승준</td>\n",
       "    </tr>\n",
       "    <tr>\n",
       "      <th>6</th>\n",
       "      <td>조커</td>\n",
       "    </tr>\n",
       "    <tr>\n",
       "      <th>7</th>\n",
       "      <td>포항 대 상하이 하이강</td>\n",
       "    </tr>\n",
       "    <tr>\n",
       "      <th>8</th>\n",
       "      <td>셀리</td>\n",
       "    </tr>\n",
       "    <tr>\n",
       "      <th>9</th>\n",
       "      <td>최동석</td>\n",
       "    </tr>\n",
       "    <tr>\n",
       "      <th>10</th>\n",
       "      <td>그리즈만</td>\n",
       "    </tr>\n",
       "    <tr>\n",
       "      <th>11</th>\n",
       "      <td>최정</td>\n",
       "    </tr>\n",
       "    <tr>\n",
       "      <th>12</th>\n",
       "      <td>박지아</td>\n",
       "    </tr>\n",
       "    <tr>\n",
       "      <th>13</th>\n",
       "      <td>국군의날 행사</td>\n",
       "    </tr>\n",
       "    <tr>\n",
       "      <th>14</th>\n",
       "      <td>박대성</td>\n",
       "    </tr>\n",
       "    <tr>\n",
       "      <th>15</th>\n",
       "      <td>국군의 날</td>\n",
       "    </tr>\n",
       "    <tr>\n",
       "      <th>16</th>\n",
       "      <td>태풍</td>\n",
       "    </tr>\n",
       "    <tr>\n",
       "      <th>17</th>\n",
       "      <td>10월 1일</td>\n",
       "    </tr>\n",
       "    <tr>\n",
       "      <th>18</th>\n",
       "      <td>이재명</td>\n",
       "    </tr>\n",
       "    <tr>\n",
       "      <th>19</th>\n",
       "      <td>국군의 날 공휴일</td>\n",
       "    </tr>\n",
       "  </tbody>\n",
       "</table>\n",
       "</div>"
      ],
      "text/plain": [
       "               0\n",
       "0            아스날\n",
       "1             이란\n",
       "2           이스라엘\n",
       "3            CNN\n",
       "4          강철부대W\n",
       "5            유승준\n",
       "6             조커\n",
       "7   포항 대 상하이 하이강\n",
       "8             셀리\n",
       "9            최동석\n",
       "10          그리즈만\n",
       "11            최정\n",
       "12           박지아\n",
       "13       국군의날 행사\n",
       "14           박대성\n",
       "15         국군의 날\n",
       "16            태풍\n",
       "17        10월 1일\n",
       "18           이재명\n",
       "19     국군의 날 공휴일"
      ]
     },
     "execution_count": 174,
     "metadata": {},
     "output_type": "execute_result"
    }
   ],
   "source": [
    "trending_searches_df"
   ]
  },
  {
   "cell_type": "code",
   "execution_count": 182,
   "metadata": {},
   "outputs": [],
   "source": [
    "today_searches_df = pytrends.today_searches(pn=\"KR\")"
   ]
  },
  {
   "cell_type": "code",
   "execution_count": 183,
   "metadata": {},
   "outputs": [
    {
     "data": {
      "text/plain": [
       "11"
      ]
     },
     "execution_count": 183,
     "metadata": {},
     "output_type": "execute_result"
    }
   ],
   "source": [
    "len(today_searches_df)"
   ]
  },
  {
   "cell_type": "code",
   "execution_count": 184,
   "metadata": {},
   "outputs": [
    {
     "data": {
      "text/plain": [
       "0           이란\n",
       "1          아스날\n",
       "2         이스라엘\n",
       "3          개천절\n",
       "4     대도시의+사랑법\n",
       "5        강철부대W\n",
       "6         레이예스\n",
       "7          변우석\n",
       "8          유승준\n",
       "9          김강민\n",
       "10       이니에스타\n",
       "Name: exploreLink, dtype: object"
      ]
     },
     "execution_count": 184,
     "metadata": {},
     "output_type": "execute_result"
    }
   ],
   "source": [
    "from urllib import parse\n",
    "\n",
    "# 한국어 decoding\n",
    "today_searches_df.apply(lambda x: parse.unquote(x.split(\"q=\")[1].split(\"&\")[0]))"
   ]
  },
  {
   "cell_type": "code",
   "execution_count": 148,
   "metadata": {},
   "outputs": [
    {
     "data": {
      "text/plain": [
       "'/trends/explore?q=%EC%9D%B4%EB%9E%80&date=now+7-d&geo=KR'"
      ]
     },
     "execution_count": 148,
     "metadata": {},
     "output_type": "execute_result"
    }
   ],
   "source": [
    "today_searches_df[0]"
   ]
  },
  {
   "cell_type": "code",
   "execution_count": 149,
   "metadata": {},
   "outputs": [
    {
     "data": {
      "text/plain": [
       "'/trends/explore?q=%EC%9D%B4%EC%8A%A4%EB%9D%BC%EC%97%98&date=now+7-d&geo=KR'"
      ]
     },
     "execution_count": 149,
     "metadata": {},
     "output_type": "execute_result"
    }
   ],
   "source": [
    "today_searches_df[1]"
   ]
  },
  {
   "cell_type": "code",
   "execution_count": 146,
   "metadata": {},
   "outputs": [
    {
     "data": {
      "text/plain": [
       "10"
      ]
     },
     "execution_count": 146,
     "metadata": {},
     "output_type": "execute_result"
    }
   ],
   "source": [
    "len(today_searches_df)"
   ]
  },
  {
   "cell_type": "code",
   "execution_count": 35,
   "metadata": {},
   "outputs": [
    {
     "name": "stdout",
     "output_type": "stream",
     "text": [
      "0      /trends/explore?q=John+Amos&date=now+7-d&geo=US\n",
      "1    /trends/explore?q=Frank+Fritz&date=now+7-d&geo=US\n",
      "2           /trends/explore?q=Iran&date=now+7-d&geo=US\n",
      "3         /trends/explore?q=Israel&date=now+7-d&geo=US\n",
      "4    /trends/explore?q=Champions+League&date=now+7-...\n",
      "Name: exploreLink, dtype: object\n"
     ]
    }
   ],
   "source": [
    "# Get Google Hot Trends data\n",
    "today_searches_df = pytrends.today_searches()"
   ]
  },
  {
   "cell_type": "code",
   "execution_count": 43,
   "metadata": {},
   "outputs": [
    {
     "name": "stdout",
     "output_type": "stream",
     "text": [
      "        title exploreQuery\n",
      "0       태풍 카눈             \n",
      "1         전청조         전 청조\n",
      "2        초전도체             \n",
      "3          문빈             \n",
      "4  신림역 칼부림 사건      신림역 칼부림\n"
     ]
    }
   ],
   "source": [
    "# Get Google Top Charts\n",
    "top_charts_df = pytrends.top_charts(2023, hl=\"ko\", tz=300, geo=\"KR\")\n",
    "print(top_charts_df.head())"
   ]
  },
  {
   "cell_type": "code",
   "execution_count": 54,
   "metadata": {},
   "outputs": [
    {
     "data": {
      "text/html": [
       "<div>\n",
       "<style scoped>\n",
       "    .dataframe tbody tr th:only-of-type {\n",
       "        vertical-align: middle;\n",
       "    }\n",
       "\n",
       "    .dataframe tbody tr th {\n",
       "        vertical-align: top;\n",
       "    }\n",
       "\n",
       "    .dataframe thead th {\n",
       "        text-align: right;\n",
       "    }\n",
       "</style>\n",
       "<table border=\"1\" class=\"dataframe\">\n",
       "  <thead>\n",
       "    <tr style=\"text-align: right;\">\n",
       "      <th></th>\n",
       "      <th>title</th>\n",
       "      <th>exploreQuery</th>\n",
       "    </tr>\n",
       "  </thead>\n",
       "  <tbody>\n",
       "    <tr>\n",
       "      <th>0</th>\n",
       "      <td>태풍 카눈</td>\n",
       "      <td></td>\n",
       "    </tr>\n",
       "    <tr>\n",
       "      <th>1</th>\n",
       "      <td>전청조</td>\n",
       "      <td>전 청조</td>\n",
       "    </tr>\n",
       "    <tr>\n",
       "      <th>2</th>\n",
       "      <td>초전도체</td>\n",
       "      <td></td>\n",
       "    </tr>\n",
       "    <tr>\n",
       "      <th>3</th>\n",
       "      <td>문빈</td>\n",
       "      <td></td>\n",
       "    </tr>\n",
       "    <tr>\n",
       "      <th>4</th>\n",
       "      <td>신림역 칼부림 사건</td>\n",
       "      <td>신림역 칼부림</td>\n",
       "    </tr>\n",
       "    <tr>\n",
       "      <th>5</th>\n",
       "      <td>이선균</td>\n",
       "      <td></td>\n",
       "    </tr>\n",
       "    <tr>\n",
       "      <th>6</th>\n",
       "      <td>제25회 세계스카우트잼버리</td>\n",
       "      <td>잼버리</td>\n",
       "    </tr>\n",
       "    <tr>\n",
       "      <th>7</th>\n",
       "      <td>이재명</td>\n",
       "      <td></td>\n",
       "    </tr>\n",
       "    <tr>\n",
       "      <th>8</th>\n",
       "      <td>주호민</td>\n",
       "      <td></td>\n",
       "    </tr>\n",
       "    <tr>\n",
       "      <th>9</th>\n",
       "      <td>서현역 칼부림 사건</td>\n",
       "      <td>서현역 칼부림</td>\n",
       "    </tr>\n",
       "  </tbody>\n",
       "</table>\n",
       "</div>"
      ],
      "text/plain": [
       "            title exploreQuery\n",
       "0           태풍 카눈             \n",
       "1             전청조         전 청조\n",
       "2            초전도체             \n",
       "3              문빈             \n",
       "4      신림역 칼부림 사건      신림역 칼부림\n",
       "5             이선균             \n",
       "6  제25회 세계스카우트잼버리          잼버리\n",
       "7             이재명             \n",
       "8             주호민             \n",
       "9      서현역 칼부림 사건      서현역 칼부림"
      ]
     },
     "execution_count": 54,
     "metadata": {},
     "output_type": "execute_result"
    }
   ],
   "source": [
    "top_charts_df"
   ]
  },
  {
   "cell_type": "code",
   "execution_count": 189,
   "metadata": {},
   "outputs": [
    {
     "name": "stdout",
     "output_type": "stream",
     "text": [
      "[{'mid': '/m/0nbf4fy', 'title': '전포동', 'type': '역'},\n",
      " {'mid': '/g/11hcw7d919', 'title': '전포카페거리', 'type': '대한민국 부산광역시의 관광 명소'},\n",
      " {'mid': '/g/11c1wspqfc', 'title': '전포동', 'type': '주제'},\n",
      " {'mid': '/g/1tmbs_nr', 'title': '전포', 'type': '주제'},\n",
      " {'mid': '/g/11cs121j51', 'title': '전포', 'type': '주제'}]\n"
     ]
    }
   ],
   "source": [
    "pprint(pytrends.suggestions(\"전포\"))"
   ]
  },
  {
   "cell_type": "code",
   "execution_count": null,
   "metadata": {},
   "outputs": [],
   "source": []
  }
 ],
 "metadata": {
  "kernelspec": {
   "display_name": ".myenv",
   "language": "python",
   "name": "python3"
  },
  "language_info": {
   "codemirror_mode": {
    "name": "ipython",
    "version": 3
   },
   "file_extension": ".py",
   "mimetype": "text/x-python",
   "name": "python",
   "nbconvert_exporter": "python",
   "pygments_lexer": "ipython3",
   "version": "3.10.13"
  }
 },
 "nbformat": 4,
 "nbformat_minor": 2
}
